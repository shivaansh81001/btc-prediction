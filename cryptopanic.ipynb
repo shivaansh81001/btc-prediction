{
  "nbformat": 4,
  "nbformat_minor": 0,
  "metadata": {
    "colab": {
      "provenance": [],
      "gpuType": "T4",
      "authorship_tag": "ABX9TyOt/7Z3UWciBAvMkrd2b57S",
      "include_colab_link": true
    },
    "kernelspec": {
      "name": "python3",
      "display_name": "Python 3"
    },
    "language_info": {
      "name": "python"
    },
    "accelerator": "GPU"
  },
  "cells": [
    {
      "cell_type": "markdown",
      "metadata": {
        "id": "view-in-github",
        "colab_type": "text"
      },
      "source": [
        "<a href=\"https://colab.research.google.com/github/shivaansh81001/btc-prediction/blob/main/cryptopanic.ipynb\" target=\"_parent\"><img src=\"https://colab.research.google.com/assets/colab-badge.svg\" alt=\"Open In Colab\"/></a>"
      ]
    },
    {
      "cell_type": "code",
      "execution_count": 44,
      "metadata": {
        "id": "3To3-C8Ss9tb"
      },
      "outputs": [],
      "source": [
        "import requests\n",
        "from datascience import *\n",
        "import numpy as np\n",
        "import matplotlib.pyplot as plt\n",
        "import pandas as pd\n",
        "from datetime import datetime\n",
        "\n",
        "from transformers import pipeline\n",
        "from textblob import TextBlob"
      ]
    },
    {
      "cell_type": "code",
      "source": [
        "sample=Table().read_table('sample_data/cryptopanic_news.csv')\n"
      ],
      "metadata": {
        "id": "90MnnEqEtG9M"
      },
      "execution_count": 45,
      "outputs": []
    },
    {
      "cell_type": "code",
      "source": [
        "sample.sort(\"newsDatetime\",descending=False)\n",
        "sample.show(10)"
      ],
      "metadata": {
        "colab": {
          "base_uri": "https://localhost:8080/",
          "height": 392
        },
        "id": "wqYIu_IMyazl",
        "outputId": "dbc09c17-fda8-4cec-93f6-2038b017ca6a"
      },
      "execution_count": 46,
      "outputs": [
        {
          "output_type": "display_data",
          "data": {
            "text/plain": [
              "<IPython.core.display.HTML object>"
            ],
            "text/html": [
              "<table border=\"1\" class=\"dataframe\">\n",
              "    <thead>\n",
              "        <tr>\n",
              "            <th>id</th> <th>title</th> <th>sourceId</th> <th>newsDatetime</th> <th>url</th> <th>negative</th> <th>positive</th> <th>important</th> <th>liked</th> <th>disliked</th> <th>lol</th> <th>toxic</th> <th>saved</th> <th>comments</th>\n",
              "        </tr>\n",
              "    </thead>\n",
              "    <tbody>\n",
              "        <tr>\n",
              "            <td>873 </td> <td>ApeCoin Community Votes to Stay on Ethereum                 </td> <td>2       </td> <td>6/9/2022 6:57</td> <td>https://cryptopanic.com/news/15444990/ApeCoin-Community- ...</td> <td>0       </td> <td>0       </td> <td>0        </td> <td>0    </td> <td>0       </td> <td>0   </td> <td>0    </td> <td>0    </td> <td>0       </td>\n",
              "        </tr>\n",
              "        <tr>\n",
              "            <td>875 </td> <td>Terraform Labs Co-Founder Denies Accusations of Fraud       </td> <td>2       </td> <td>6/9/2022 6:03</td> <td>https://cryptopanic.com/news/15443520/Terraform-Labs-Co- ...</td> <td>0       </td> <td>0       </td> <td>0        </td> <td>1    </td> <td>0       </td> <td>0   </td> <td>0    </td> <td>0    </td> <td>0       </td>\n",
              "        </tr>\n",
              "        <tr>\n",
              "            <td>876 </td> <td>Anchor dev claims he warned Do Kwon over unsustainable 2 ...</td> <td>7       </td> <td>6/9/2022 5:39</td> <td>https://cryptopanic.com/news/15442676/Anchor-dev-claims- ...</td> <td>1       </td> <td>0       </td> <td>1        </td> <td>0    </td> <td>0       </td> <td>0   </td> <td>0    </td> <td>0    </td> <td>0       </td>\n",
              "        </tr>\n",
              "        <tr>\n",
              "            <td>877 </td> <td>With 12 Key Measures of Prices, Truflation’s Revamped Da ...</td> <td>11      </td> <td>6/9/2022 5:32</td> <td>https://cryptopanic.com/news/15442724/With-12-Key-Measur ...</td> <td>0       </td> <td>0       </td> <td>0        </td> <td>0    </td> <td>0       </td> <td>0   </td> <td>0    </td> <td>0    </td> <td>0       </td>\n",
              "        </tr>\n",
              "        <tr>\n",
              "            <td>878 </td> <td>'Father' of the Metaverse Neal Stephenson launching Meta ...</td> <td>7       </td> <td>6/9/2022 5:28</td> <td>https://cryptopanic.com/news/15442350/Father-of-the-Meta ...</td> <td>0       </td> <td>1       </td> <td>0        </td> <td>2    </td> <td>0       </td> <td>0   </td> <td>0    </td> <td>0    </td> <td>0       </td>\n",
              "        </tr>\n",
              "        <tr>\n",
              "            <td>879 </td> <td>Solana launches $100M fund to attract crypto projects fr ...</td> <td>14      </td> <td>6/9/2022 5:20</td> <td>https://cryptopanic.com/news/15442294/Solana-launches-10 ...</td> <td>0       </td> <td>1       </td> <td>0        </td> <td>1    </td> <td>1       </td> <td>0   </td> <td>0    </td> <td>0    </td> <td>0       </td>\n",
              "        </tr>\n",
              "        <tr>\n",
              "            <td>880 </td> <td>Alibaba Cloud launches service to build NFT marketplaces    </td> <td>13      </td> <td>6/9/2022 5:01</td> <td>https://cryptopanic.com/news/15442278/Alibaba-Cloud-laun ...</td> <td>0       </td> <td>2       </td> <td>0        </td> <td>1    </td> <td>0       </td> <td>1   </td> <td>0    </td> <td>0    </td> <td>0       </td>\n",
              "        </tr>\n",
              "        <tr>\n",
              "            <td>881 </td> <td>Balderton, Animoca Brands back Request Finance in $5.5 m ...</td> <td>3       </td> <td>6/9/2022 4:45</td> <td>https://cryptopanic.com/news/15442253/Balderton-Animoca- ...</td> <td>0       </td> <td>0       </td> <td>0        </td> <td>0    </td> <td>0       </td> <td>0   </td> <td>0    </td> <td>0    </td> <td>0       </td>\n",
              "        </tr>\n",
              "        <tr>\n",
              "            <td>882 </td> <td>Optimism Foundation sends $20M to the wrong wallet – OP  ...</td> <td>14      </td> <td>6/9/2022 4:00</td> <td>https://cryptopanic.com/news/15442200/Optimism-Foundatio ...</td> <td>1       </td> <td>0       </td> <td>1        </td> <td>3    </td> <td>0       </td> <td>3   </td> <td>0    </td> <td>0    </td> <td>3       </td>\n",
              "        </tr>\n",
              "        <tr>\n",
              "            <td>883 </td> <td>Creating Utility for Tokenized Derivatives of Proof-of-S ...</td> <td>10      </td> <td>6/9/2022 3:40</td> <td>https://cryptopanic.com/news/15442162/Creating-Utility-f ...</td> <td>0       </td> <td>0       </td> <td>1        </td> <td>0    </td> <td>0       </td> <td>0   </td> <td>0    </td> <td>0    </td> <td>0       </td>\n",
              "        </tr>\n",
              "    </tbody>\n",
              "</table>\n",
              "<p>... (164991 rows omitted)</p>"
            ]
          },
          "metadata": {}
        }
      ]
    },
    {
      "cell_type": "code",
      "source": [
        "def format_date_time(dt):\n",
        "  temp = dt.split()\n",
        "  return '-'.join(temp[0].split('/')[::-1])+' '+temp[1]+':00'"
      ],
      "metadata": {
        "id": "7QBNesLbylUw"
      },
      "execution_count": 47,
      "outputs": []
    },
    {
      "cell_type": "code",
      "source": [
        "#test\n",
        "\n",
        "format_date_time('6/9/2022 5:20')"
      ],
      "metadata": {
        "colab": {
          "base_uri": "https://localhost:8080/",
          "height": 36
        },
        "id": "UL0AtJC3zwrT",
        "outputId": "d445a090-6d7e-4f56-b6c4-1b7016ed45f9"
      },
      "execution_count": 48,
      "outputs": [
        {
          "output_type": "execute_result",
          "data": {
            "text/plain": [
              "'2022-9-6 5:20:00'"
            ],
            "application/vnd.google.colaboratory.intrinsic+json": {
              "type": "string"
            }
          },
          "metadata": {},
          "execution_count": 48
        }
      ]
    },
    {
      "cell_type": "code",
      "source": [
        "new_date= sample.apply(format_date_time,\"newsDatetime\")\n",
        "sample= sample.with_column('newsDatetime',new_date)\n"
      ],
      "metadata": {
        "id": "rOWE2AzC0d7F"
      },
      "execution_count": 49,
      "outputs": []
    },
    {
      "cell_type": "code",
      "source": [
        "sample= sample.sort(\"newsDatetime\",descending=True)\n",
        "sample.show(10)"
      ],
      "metadata": {
        "colab": {
          "base_uri": "https://localhost:8080/",
          "height": 392
        },
        "id": "b1Pe8AXE17O6",
        "outputId": "8503eeee-6d2a-48cc-e232-72a09fd61633"
      },
      "execution_count": 50,
      "outputs": [
        {
          "output_type": "display_data",
          "data": {
            "text/plain": [
              "<IPython.core.display.HTML object>"
            ],
            "text/html": [
              "<table border=\"1\" class=\"dataframe\">\n",
              "    <thead>\n",
              "        <tr>\n",
              "            <th>id</th> <th>title</th> <th>sourceId</th> <th>newsDatetime</th> <th>url</th> <th>negative</th> <th>positive</th> <th>important</th> <th>liked</th> <th>disliked</th> <th>lol</th> <th>toxic</th> <th>saved</th> <th>comments</th>\n",
              "        </tr>\n",
              "    </thead>\n",
              "    <tbody>\n",
              "        <tr>\n",
              "            <td>169651</td> <td>Quant price is poised for a rally as on-chain data and p ...</td> <td>157     </td> <td>2024-9-9 9:55:00</td> <td>https://cryptopanic.com/news/19882813/Quant-price-is-poi ...</td> <td>0       </td> <td>0       </td> <td>0        </td> <td>0    </td> <td>0       </td> <td>0   </td> <td>0    </td> <td>0    </td> <td>0       </td>\n",
              "        </tr>\n",
              "        <tr>\n",
              "            <td>173505</td> <td>Top AI Cryptos To Buy This Week As Apple Pushes iPhone 1 ...</td> <td>144     </td> <td>2024-9-9 9:38:00</td> <td>https://cryptopanic.com/news/19882483/Top-AI-Cryptos-To- ...</td> <td>0       </td> <td>0       </td> <td>0        </td> <td>0    </td> <td>0       </td> <td>1   </td> <td>0    </td> <td>0    </td> <td>0       </td>\n",
              "        </tr>\n",
              "        <tr>\n",
              "            <td>169708</td> <td>Bitcoin Layer 2 Protocol Stacks Achieves New High in Sma ...</td> <td>24      </td> <td>2024-9-9 9:30:00</td> <td>https://cryptopanic.com/news/19882448/Bitcoin-Layer-2-Pr ...</td> <td>0       </td> <td>0       </td> <td>0        </td> <td>0    </td> <td>0       </td> <td>0   </td> <td>0    </td> <td>0    </td> <td>0       </td>\n",
              "        </tr>\n",
              "        <tr>\n",
              "            <td>170772</td> <td>Starknet minting vote will be gasless with new governanc ...</td> <td>7       </td> <td>2024-9-9 9:30:00</td> <td>https://cryptopanic.com/news/19882450/Starknet-minting-v ...</td> <td>0       </td> <td>0       </td> <td>0        </td> <td>0    </td> <td>0       </td> <td>0   </td> <td>0    </td> <td>0    </td> <td>0       </td>\n",
              "        </tr>\n",
              "        <tr>\n",
              "            <td>170773</td> <td>Snapshot, Popular DAO Voting Platform, Finally Moves On- ...</td> <td>30      </td> <td>2024-9-9 9:30:00</td> <td>https://cryptopanic.com/news/19882480/Snapshot-Popular-D ...</td> <td>0       </td> <td>0       </td> <td>0        </td> <td>0    </td> <td>0       </td> <td>0   </td> <td>0    </td> <td>0    </td> <td>0       </td>\n",
              "        </tr>\n",
              "        <tr>\n",
              "            <td>172324</td> <td>Snapshot X launches to enable gas-free onchain voting vi ...</td> <td>131     </td> <td>2024-9-9 9:30:00</td> <td>https://cryptopanic.com/news/19882434/Snapshot-X-launche ...</td> <td>0       </td> <td>0       </td> <td>0        </td> <td>0    </td> <td>0       </td> <td>0   </td> <td>0    </td> <td>0    </td> <td>0       </td>\n",
              "        </tr>\n",
              "        <tr>\n",
              "            <td>171134</td> <td>Terra Luna Classic To Burn 1 Billion USTC & 275 Billion  ...</td> <td>139     </td> <td>2024-9-9 9:25:00</td> <td>https://cryptopanic.com/news/19882427/Terra-Luna-Classic ...</td> <td>0       </td> <td>0       </td> <td>0        </td> <td>0    </td> <td>0       </td> <td>0   </td> <td>0    </td> <td>0    </td> <td>0       </td>\n",
              "        </tr>\n",
              "        <tr>\n",
              "            <td>172072</td> <td>WazirX Hacker Moves $11M Stolen Ether to Tornado Cash       </td> <td>30      </td> <td>2024-9-9 9:25:00</td> <td>https://cryptopanic.com/news/19882479/WazirX-Hacker-Move ...</td> <td>0       </td> <td>0       </td> <td>0        </td> <td>0    </td> <td>0       </td> <td>0   </td> <td>0    </td> <td>0    </td> <td>0       </td>\n",
              "        </tr>\n",
              "        <tr>\n",
              "            <td>172945</td> <td>Brett Price Prediction September: Brett & Pepe Plummets  ...</td> <td>5       </td> <td>2024-9-9 9:24:00</td> <td>https://cryptopanic.com/news/19882426/Brett-Price-Predic ...</td> <td>0       </td> <td>0       </td> <td>0        </td> <td>0    </td> <td>0       </td> <td>0   </td> <td>0    </td> <td>0    </td> <td>0       </td>\n",
              "        </tr>\n",
              "        <tr>\n",
              "            <td>168883</td> <td>HNT Rallies 16.63% Defying All Odds, Will it Catch Up Mp ...</td> <td>5       </td> <td>2024-9-9 9:18:00</td> <td>https://cryptopanic.com/news/19882408/HNT-Rallies-1663-D ...</td> <td>0       </td> <td>0       </td> <td>0        </td> <td>0    </td> <td>0       </td> <td>0   </td> <td>0    </td> <td>0    </td> <td>0       </td>\n",
              "        </tr>\n",
              "    </tbody>\n",
              "</table>\n",
              "<p>... (164991 rows omitted)</p>"
            ]
          },
          "metadata": {}
        }
      ]
    },
    {
      "cell_type": "code",
      "source": [
        "sample =sample.where(\"title\",are.containing(\"Bitcoin\")).select('title','newsDatetime')\n",
        "sample.show(10)"
      ],
      "metadata": {
        "colab": {
          "base_uri": "https://localhost:8080/",
          "height": 392
        },
        "id": "WewSV8M505MN",
        "outputId": "e025102c-2ab6-489e-d732-843eb545b600"
      },
      "execution_count": 51,
      "outputs": [
        {
          "output_type": "display_data",
          "data": {
            "text/plain": [
              "<IPython.core.display.HTML object>"
            ],
            "text/html": [
              "<table border=\"1\" class=\"dataframe\">\n",
              "    <thead>\n",
              "        <tr>\n",
              "            <th>title</th> <th>newsDatetime</th>\n",
              "        </tr>\n",
              "    </thead>\n",
              "    <tbody>\n",
              "        <tr>\n",
              "            <td>Bitcoin Layer 2 Protocol Stacks Achieves New High in Sma ...</td> <td>2024-9-9 9:30:00 </td>\n",
              "        </tr>\n",
              "        <tr>\n",
              "            <td>Bitcoin Investors Withdraw $728M                            </td> <td>2024-9-9 6:46:00 </td>\n",
              "        </tr>\n",
              "        <tr>\n",
              "            <td>Unisat-backed Fractal Bitcoin goes live on mainnet, taps ...</td> <td>2024-9-9 6:27:00 </td>\n",
              "        </tr>\n",
              "        <tr>\n",
              "            <td>Bitcoin Price Rebounds, But Could the Downtrend Return?     </td> <td>2024-9-9 2:44:00 </td>\n",
              "        </tr>\n",
              "        <tr>\n",
              "            <td>Trump Victory Could Boost Bitcoin to $90K — Harris Win M ...</td> <td>2024-9-9 23:30:00</td>\n",
              "        </tr>\n",
              "        <tr>\n",
              "            <td>Bitcoin Leveraged Positions Building Up: BTC To $50,000  ...</td> <td>2024-9-9 22:00:00</td>\n",
              "        </tr>\n",
              "        <tr>\n",
              "            <td>FTM, AAVE, TAO see double-digit gains as Bitcoin retests ...</td> <td>2024-9-9 20:35:00</td>\n",
              "        </tr>\n",
              "        <tr>\n",
              "            <td>Bitcoin To Break $100K By 2025? Experts Weigh In On Pote ...</td> <td>2024-9-9 20:30:00</td>\n",
              "        </tr>\n",
              "        <tr>\n",
              "            <td>Bitcoin, Ethereum, Dogecoin Resume Uptrend: 'BTC Needs T ...</td> <td>2024-9-9 20:00:00</td>\n",
              "        </tr>\n",
              "        <tr>\n",
              "            <td>Bitcoin Cash Up More Than 6% In 24 hours                    </td> <td>2024-9-9 19:00:00</td>\n",
              "        </tr>\n",
              "    </tbody>\n",
              "</table>\n",
              "<p>... (11015 rows omitted)</p>"
            ]
          },
          "metadata": {}
        }
      ]
    },
    {
      "cell_type": "code",
      "source": [
        "sentiment_analyzer = pipeline(\"sentiment-analysis\", model=\"ProsusAI/finbert\")"
      ],
      "metadata": {
        "colab": {
          "base_uri": "https://localhost:8080/"
        },
        "id": "0WcXv0ng4MWf",
        "outputId": "7f9eb6aa-79b9-4362-849c-556a2823e819"
      },
      "execution_count": 52,
      "outputs": [
        {
          "output_type": "stream",
          "name": "stderr",
          "text": [
            "Device set to use cuda:0\n"
          ]
        }
      ]
    },
    {
      "cell_type": "code",
      "source": [
        "sentiment_=[]\n",
        "polarity_=[]\n",
        "subjectivity_=[]"
      ],
      "metadata": {
        "id": "7QGst5M_5TPo"
      },
      "execution_count": 53,
      "outputs": []
    },
    {
      "cell_type": "code",
      "source": [
        "for news in sample.column(\"title\"):\n",
        "  result=sentiment_analyzer(news)[0]\n",
        "  ans =result['label']\n",
        "\n",
        "  if ans ==\"positive\":\n",
        "    sentiment_.append(1)\n",
        "  elif ans ==\"negative\":\n",
        "    sentiment_.append(-1)\n",
        "  elif ans ==\"neutral\":\n",
        "    sentiment_.append(0)\n",
        "  else:\n",
        "    print(ans)\n",
        "\n",
        "  blob=TextBlob(news)\n",
        "\n",
        "  polarity_.append(round(blob.sentiment.polarity,2))\n",
        "  subjectivity_.append(round(blob.sentiment.subjectivity,2))"
      ],
      "metadata": {
        "id": "p4XaR1wA42R5"
      },
      "execution_count": 54,
      "outputs": []
    },
    {
      "cell_type": "code",
      "source": [
        "print(len(sentiment_),len(polarity_),len(subjectivity_))"
      ],
      "metadata": {
        "colab": {
          "base_uri": "https://localhost:8080/"
        },
        "id": "n9DJdqhX9dZG",
        "outputId": "5cdec188-2f07-4708-fd22-1ef050d72727"
      },
      "execution_count": 55,
      "outputs": [
        {
          "output_type": "stream",
          "name": "stdout",
          "text": [
            "11025 11025 11025\n"
          ]
        }
      ]
    },
    {
      "cell_type": "code",
      "source": [
        "sample= sample.with_columns(\"sentiment\",np.array(sentiment_),\"polarity\",np.array(polarity_),\"subjectivity\",np.array(subjectivity_))\n",
        "sample.show(3)"
      ],
      "metadata": {
        "colab": {
          "base_uri": "https://localhost:8080/",
          "height": 173
        },
        "id": "0stVJRCn8U-o",
        "outputId": "bbd83b9a-2658-4de1-b87f-644143fc83d9"
      },
      "execution_count": 56,
      "outputs": [
        {
          "output_type": "display_data",
          "data": {
            "text/plain": [
              "<IPython.core.display.HTML object>"
            ],
            "text/html": [
              "<table border=\"1\" class=\"dataframe\">\n",
              "    <thead>\n",
              "        <tr>\n",
              "            <th>title</th> <th>newsDatetime</th> <th>sentiment</th> <th>polarity</th> <th>subjectivity</th>\n",
              "        </tr>\n",
              "    </thead>\n",
              "    <tbody>\n",
              "        <tr>\n",
              "            <td>Bitcoin Layer 2 Protocol Stacks Achieves New High in Sma ...</td> <td>2024-9-9 9:30:00</td> <td>1        </td> <td>0.17    </td> <td>0.55        </td>\n",
              "        </tr>\n",
              "        <tr>\n",
              "            <td>Bitcoin Investors Withdraw $728M                            </td> <td>2024-9-9 6:46:00</td> <td>-1       </td> <td>0       </td> <td>0           </td>\n",
              "        </tr>\n",
              "        <tr>\n",
              "            <td>Unisat-backed Fractal Bitcoin goes live on mainnet, taps ...</td> <td>2024-9-9 6:27:00</td> <td>0        </td> <td>0.14    </td> <td>0.5         </td>\n",
              "        </tr>\n",
              "    </tbody>\n",
              "</table>\n",
              "<p>... (11022 rows omitted)</p>"
            ]
          },
          "metadata": {}
        }
      ]
    }
  ]
}