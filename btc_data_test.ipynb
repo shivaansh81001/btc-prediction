{
  "nbformat": 4,
  "nbformat_minor": 0,
  "metadata": {
    "colab": {
      "provenance": [],
      "gpuType": "T4",
      "include_colab_link": true
    },
    "kernelspec": {
      "name": "python3",
      "display_name": "Python 3"
    },
    "language_info": {
      "name": "python"
    },
    "accelerator": "GPU"
  },
  "cells": [
    {
      "cell_type": "markdown",
      "metadata": {
        "id": "view-in-github",
        "colab_type": "text"
      },
      "source": [
        "<a href=\"https://colab.research.google.com/github/shivaansh81001/btc-prediction/blob/main/btc_data_test.ipynb\" target=\"_parent\"><img src=\"https://colab.research.google.com/assets/colab-badge.svg\" alt=\"Open In Colab\"/></a>"
      ]
    },
    {
      "cell_type": "code",
      "execution_count": 56,
      "metadata": {
        "id": "42fy9cdPu76b"
      },
      "outputs": [],
      "source": [
        "from datascience import *\n",
        "import numpy as np\n",
        "import matplotlib.pyplot as plt\n",
        "import pandas as pd\n",
        "from datetime import datetime"
      ]
    },
    {
      "cell_type": "code",
      "source": [
        "path='sample_data/'"
      ],
      "metadata": {
        "id": "1pZ9hm_k1PHB"
      },
      "execution_count": 57,
      "outputs": []
    },
    {
      "cell_type": "code",
      "source": [
        "TABLE_NAME='btcusd_1-min_data.csv'\n",
        "data=Table().read_table(path+TABLE_NAME)\n",
        "data.show(5)"
      ],
      "metadata": {
        "colab": {
          "base_uri": "https://localhost:8080/",
          "height": 235
        },
        "id": "4EUnoPwC0vl0",
        "outputId": "4d97a35c-f68c-4b09-a113-b3e5535579f0"
      },
      "execution_count": 58,
      "outputs": [
        {
          "output_type": "display_data",
          "data": {
            "text/plain": [
              "<IPython.core.display.HTML object>"
            ],
            "text/html": [
              "<table border=\"1\" class=\"dataframe\">\n",
              "    <thead>\n",
              "        <tr>\n",
              "            <th>Timestamp</th> <th>Open</th> <th>High</th> <th>Low</th> <th>Close</th> <th>Volume</th>\n",
              "        </tr>\n",
              "    </thead>\n",
              "    <tbody>\n",
              "        <tr>\n",
              "            <td>1.32541e+09</td> <td>4.58</td> <td>4.58</td> <td>4.58</td> <td>4.58 </td> <td>0     </td>\n",
              "        </tr>\n",
              "        <tr>\n",
              "            <td>1.32541e+09</td> <td>4.58</td> <td>4.58</td> <td>4.58</td> <td>4.58 </td> <td>0     </td>\n",
              "        </tr>\n",
              "        <tr>\n",
              "            <td>1.32541e+09</td> <td>4.58</td> <td>4.58</td> <td>4.58</td> <td>4.58 </td> <td>0     </td>\n",
              "        </tr>\n",
              "        <tr>\n",
              "            <td>1.32541e+09</td> <td>4.58</td> <td>4.58</td> <td>4.58</td> <td>4.58 </td> <td>0     </td>\n",
              "        </tr>\n",
              "        <tr>\n",
              "            <td>1.32541e+09</td> <td>4.58</td> <td>4.58</td> <td>4.58</td> <td>4.58 </td> <td>0     </td>\n",
              "        </tr>\n",
              "    </tbody>\n",
              "</table>\n",
              "<p>... (6738276 rows omitted)</p>"
            ]
          },
          "metadata": {}
        }
      ]
    },
    {
      "cell_type": "code",
      "source": [
        "data= data.where(\"Timestamp\",are.above_or_equal_to(1636520280))\n",
        "data.show(5)"
      ],
      "metadata": {
        "colab": {
          "base_uri": "https://localhost:8080/",
          "height": 235
        },
        "id": "uhBhEWdEJLGs",
        "outputId": "5dd82c8b-0df3-4232-9695-5c32be38af93"
      },
      "execution_count": 59,
      "outputs": [
        {
          "output_type": "display_data",
          "data": {
            "text/plain": [
              "<IPython.core.display.HTML object>"
            ],
            "text/html": [
              "<table border=\"1\" class=\"dataframe\">\n",
              "    <thead>\n",
              "        <tr>\n",
              "            <th>Timestamp</th> <th>Open</th> <th>High</th> <th>Low</th> <th>Close</th> <th>Volume</th>\n",
              "        </tr>\n",
              "    </thead>\n",
              "    <tbody>\n",
              "        <tr>\n",
              "            <td>1.63652e+09</td> <td>66991.5</td> <td>66991.5</td> <td>66935.9</td> <td>66935.9</td> <td>2.06704  </td>\n",
              "        </tr>\n",
              "        <tr>\n",
              "            <td>1.63652e+09</td> <td>66937.1</td> <td>66945.7</td> <td>66927.5</td> <td>66945.7</td> <td>0.130802 </td>\n",
              "        </tr>\n",
              "        <tr>\n",
              "            <td>1.63652e+09</td> <td>66928.4</td> <td>66988.9</td> <td>66928.4</td> <td>66972.1</td> <td>0.031246 </td>\n",
              "        </tr>\n",
              "        <tr>\n",
              "            <td>1.63652e+09</td> <td>66995.5</td> <td>67014.5</td> <td>66995.5</td> <td>67014.5</td> <td>0.0697985</td>\n",
              "        </tr>\n",
              "        <tr>\n",
              "            <td>1.63652e+09</td> <td>67018.2</td> <td>67123.4</td> <td>67007.5</td> <td>67123.4</td> <td>1.64906  </td>\n",
              "        </tr>\n",
              "    </tbody>\n",
              "</table>\n",
              "<p>... (1553738 rows omitted)</p>"
            ]
          },
          "metadata": {}
        }
      ]
    },
    {
      "cell_type": "code",
      "source": [
        "def format_price(price):\n",
        "  split_=price.split(',')\n",
        "  return float(split_[0]+split_[1])\n",
        "\n",
        "def format_vol(vol):\n",
        "  split_=float(vol[:-1])*1000\n",
        "  return split_\n",
        "\n",
        "def format_change(change):\n",
        "  return float(change[:-1])\n",
        "\n",
        "def format_time(time):\n",
        "  time=int(time)\n",
        "  return str(datetime.utcfromtimestamp(time).strftime('%Y-%m-%d %H:%M:%S'))"
      ],
      "metadata": {
        "id": "rbubMzwx1eEW"
      },
      "execution_count": 60,
      "outputs": []
    },
    {
      "cell_type": "code",
      "source": [
        "#test format_price\n",
        "print(format_price('95,284.5'))\n",
        "\n",
        "#test format_vol\n",
        "print(format_vol('61.62K'))\n",
        "\n",
        "#test format_time\n",
        "print(format_time(1734447660))"
      ],
      "metadata": {
        "colab": {
          "base_uri": "https://localhost:8080/"
        },
        "id": "ObyVDOgPCXrN",
        "outputId": "353b2297-b02e-4417-fe9d-4e4bc3297754"
      },
      "execution_count": 61,
      "outputs": [
        {
          "output_type": "stream",
          "name": "stdout",
          "text": [
            "95284.5\n",
            "61620.0\n",
            "2024-12-17 15:01:00\n"
          ]
        }
      ]
    },
    {
      "cell_type": "code",
      "source": [
        "formatted_time = data.apply(format_time,\"Timestamp\")\n",
        "data = data.with_column(\"Timestamp\",formatted_time)\n",
        "\n",
        "data.show(5)"
      ],
      "metadata": {
        "colab": {
          "base_uri": "https://localhost:8080/",
          "height": 235
        },
        "id": "PmaAOPXDCo9w",
        "outputId": "e3d57484-70ec-4286-b86e-305e1e8b9d87"
      },
      "execution_count": 62,
      "outputs": [
        {
          "output_type": "display_data",
          "data": {
            "text/plain": [
              "<IPython.core.display.HTML object>"
            ],
            "text/html": [
              "<table border=\"1\" class=\"dataframe\">\n",
              "    <thead>\n",
              "        <tr>\n",
              "            <th>Timestamp</th> <th>Open</th> <th>High</th> <th>Low</th> <th>Close</th> <th>Volume</th>\n",
              "        </tr>\n",
              "    </thead>\n",
              "    <tbody>\n",
              "        <tr>\n",
              "            <td>2021-11-10 04:58:00</td> <td>66991.5</td> <td>66991.5</td> <td>66935.9</td> <td>66935.9</td> <td>2.06704  </td>\n",
              "        </tr>\n",
              "        <tr>\n",
              "            <td>2021-11-10 04:59:00</td> <td>66937.1</td> <td>66945.7</td> <td>66927.5</td> <td>66945.7</td> <td>0.130802 </td>\n",
              "        </tr>\n",
              "        <tr>\n",
              "            <td>2021-11-10 05:00:00</td> <td>66928.4</td> <td>66988.9</td> <td>66928.4</td> <td>66972.1</td> <td>0.031246 </td>\n",
              "        </tr>\n",
              "        <tr>\n",
              "            <td>2021-11-10 05:01:00</td> <td>66995.5</td> <td>67014.5</td> <td>66995.5</td> <td>67014.5</td> <td>0.0697985</td>\n",
              "        </tr>\n",
              "        <tr>\n",
              "            <td>2021-11-10 05:02:00</td> <td>67018.2</td> <td>67123.4</td> <td>67007.5</td> <td>67123.4</td> <td>1.64906  </td>\n",
              "        </tr>\n",
              "    </tbody>\n",
              "</table>\n",
              "<p>... (1553738 rows omitted)</p>"
            ]
          },
          "metadata": {}
        }
      ]
    },
    {
      "cell_type": "code",
      "source": [
        "'''%matplotlib inline\n",
        "\n",
        "data.plot(\"Date\",\"Price\")\n",
        "\n",
        "data.plot(\"Date\",\"Change %\")\n",
        "\n",
        "data.scatter('Date',\"Price\")'''\n"
      ],
      "metadata": {
        "colab": {
          "base_uri": "https://localhost:8080/",
          "height": 36
        },
        "id": "BvI-WbX4MFph",
        "outputId": "9c2bf4f7-312d-4589-dc93-5796719cdb41"
      },
      "execution_count": 63,
      "outputs": [
        {
          "output_type": "execute_result",
          "data": {
            "text/plain": [
              "'%matplotlib inline\\n\\ndata.plot(\"Date\",\"Price\")\\n\\ndata.plot(\"Date\",\"Change %\")\\n\\ndata.scatter(\\'Date\\',\"Price\")'"
            ],
            "application/vnd.google.colaboratory.intrinsic+json": {
              "type": "string"
            }
          },
          "metadata": {},
          "execution_count": 63
        }
      ]
    },
    {
      "cell_type": "code",
      "source": [
        "news= Table.read_table(path+'cryptonews.csv').drop('url','source')\n",
        "news = news.where(\"subject\",are.equal_to(\"bitcoin\"))\n",
        "news.show(100)\n"
      ],
      "metadata": {
        "colab": {
          "base_uri": "https://localhost:8080/",
          "height": 1000
        },
        "id": "33L0l0CzS5kq",
        "outputId": "2efa4c18-89ca-496b-cf8b-9074550a9a67"
      },
      "execution_count": 64,
      "outputs": [
        {
          "output_type": "display_data",
          "data": {
            "text/plain": [
              "<IPython.core.display.HTML object>"
            ],
            "text/html": [
              "<table border=\"1\" class=\"dataframe\">\n",
              "    <thead>\n",
              "        <tr>\n",
              "            <th>date</th> <th>sentiment</th> <th>subject</th> <th>text</th> <th>title</th>\n",
              "        </tr>\n",
              "    </thead>\n",
              "    <tbody>\n",
              "        <tr>\n",
              "            <td>2023-12-19 05:25:00</td> <td>{'class': 'negative', 'polarity': -0.01, 'subjectivity': ...</td> <td>bitcoin</td> <td>Yonsei found that during BTC’s rally in early December,  ...</td> <td>Is This Why Bitcoin’s Price Rally Was Halted? (CryptoQuant) </td>\n",
              "        </tr>\n",
              "        <tr>\n",
              "            <td>2023-12-19 04:50:11</td> <td>{'class': 'positive', 'polarity': 0.3, 'subjectivity': 0.1} </td> <td>bitcoin</td> <td>Cathie Wood led ARK Invest fund sold around 809, 441 Gra ...</td> <td>Cathie Wood’s Ark Invest Sells $27.6 Million in GBTC Sha ...</td>\n",
              "        </tr>\n",
              "        <tr>\n",
              "            <td>2023-12-19 04:10:00</td> <td>{'class': 'neutral', 'polarity': 0.0, 'subjectivity': 0.0}  </td> <td>bitcoin</td> <td>Bitcoin's 150% surge pales in comparison to the staggeri ...</td> <td>Bitcoin Soared 150% in 2023 But These Companies Did Even ...</td>\n",
              "        </tr>\n",
              "        <tr>\n",
              "            <td>2023-12-19 02:59:59</td> <td>{'class': 'negative', 'polarity': -0.08, 'subjectivity': ...</td> <td>bitcoin</td> <td>The SEC has pushed back its decision on a roster of Ethe ...</td> <td>SEC delays several Ethereum ETFs, pushing final decision ...</td>\n",
              "        </tr>\n",
              "        <tr>\n",
              "            <td>2023-12-18 18:33:34</td> <td>{'class': 'negative', 'polarity': -0.27, 'subjectivity': ...</td> <td>bitcoin</td> <td>Bitcoin may remain under pressure for a few days, but a  ...</td> <td>Price analysis 12/18: SPX, DXY, BTC, ETH, BNB, XRP, SOL, ...</td>\n",
              "        </tr>\n",
              "        <tr>\n",
              "            <td>2023-12-18 18:15:45</td> <td>{'class': 'neutral', 'polarity': 0.0, 'subjectivity': 0.0}  </td> <td>bitcoin</td> <td>The ad spot came as the U.S. Securities and Exchange Com ...</td> <td>Bitwise launches crypto ETF media campaign with ‘The Mos ...</td>\n",
              "        </tr>\n",
              "        <tr>\n",
              "            <td>2023-12-18 18:11:43</td> <td>{'class': 'positive', 'polarity': 0.3, 'subjectivity': 0.45}</td> <td>bitcoin</td> <td>Bitcoin (BTC), the world's most valuable cryptocurrency, ...</td> <td>Bitcoin Price Prediction as VanEck’s CEO Says BTC Will H ...</td>\n",
              "        </tr>\n",
              "        <tr>\n",
              "            <td>2023-12-18 17:55:00</td> <td>{'class': 'positive', 'polarity': 0.2, 'subjectivity': 0.7} </td> <td>bitcoin</td> <td>Since the famous meme post to BitcoinTalk, Bitcoin (BTC) ...</td> <td>Bitcoiners Celebrate 10th Anniversary Of ‘HODL’ Meme        </td>\n",
              "        </tr>\n",
              "        <tr>\n",
              "            <td>2023-12-18 17:01:00</td> <td>{'class': 'positive', 'polarity': 0.05, 'subjectivity':  ...</td> <td>bitcoin</td> <td>CoinShares said the \"mixed regional flows\" are more indi ...</td> <td>Bitcoin Ends 11-Week Winning Streak With $33M Outflows W ...</td>\n",
              "        </tr>\n",
              "        <tr>\n",
              "            <td>2023-12-18 15:42:27</td> <td>{'class': 'negative', 'polarity': -0.1, 'subjectivity': 0.2}</td> <td>bitcoin</td> <td>Digital asset mining firm Hut 8 signed an interim agreem ...</td> <td>Bitcoin Miner Hut 8 to Build Out Mining Facility in Part ...</td>\n",
              "        </tr>\n",
              "        <tr>\n",
              "            <td>2023-12-18 15:27:00</td> <td>{'class': 'positive', 'polarity': 0.1, 'subjectivity': 0.1} </td> <td>bitcoin</td> <td>Dwindling Coinbase Premium Index is signaling a diminish ...</td> <td>Coinbase Premium Index Points to Waning Bullish Sentimen ...</td>\n",
              "        </tr>\n",
              "        <tr>\n",
              "            <td>2023-12-18 14:13:46</td> <td>{'class': 'positive', 'polarity': 0.03, 'subjectivity':  ...</td> <td>bitcoin</td> <td>The new crypto-mining equipment to be bought by Cipher i ...</td> <td>Bitcoin miner Cipher buys 37K Bitmain Antminers for $99.5M  </td>\n",
              "        </tr>\n",
              "        <tr>\n",
              "            <td>2023-12-18 14:08:46</td> <td>{'class': 'positive', 'polarity': 0.5, 'subjectivity': 1.0} </td> <td>bitcoin</td> <td>Prominent cryptocurrency companies and investors intend  ...</td> <td>Ripple, Coinbase, a16z invest $78M in pro-crypto PAC ahe ...</td>\n",
              "        </tr>\n",
              "        <tr>\n",
              "            <td>2023-12-18 11:54:53</td> <td>{'class': 'positive', 'polarity': 0.32, 'subjectivity':  ...</td> <td>bitcoin</td> <td>Hut 8’s new mining site in Cedarvale, Texas, will house  ...</td> <td>Hut 8 signs deal to develop new mining site to build equ ...</td>\n",
              "        </tr>\n",
              "        <tr>\n",
              "            <td>2023-12-18 11:20:15</td> <td>{'class': 'positive', 'polarity': 0.12, 'subjectivity':  ...</td> <td>bitcoin</td> <td>Bitcoin Ordinals-based development platform Tap Protocol ...</td> <td>Bitcoin Development Platform Tap Protocol Secures $4.2 M ...</td>\n",
              "        </tr>\n",
              "        <tr>\n",
              "            <td>2023-12-18 10:41:01</td> <td>{'class': 'negative', 'polarity': -0.12, 'subjectivity': ...</td> <td>bitcoin</td> <td>Spot Bitcoin ETFs could trigger unwanted consequences fo ...</td> <td>Spot Bitcoin ETF will be ‘bloodbath’ for crypto exchange ...</td>\n",
              "        </tr>\n",
              "        <tr>\n",
              "            <td>2023-12-18 10:16:17</td> <td>{'class': 'neutral', 'polarity': 0.0, 'subjectivity': 0.0}  </td> <td>bitcoin</td> <td>Blockstream CEO Adam Back believes 2024 could mark a per ...</td> <td>Blockstream CEO Adam Back: Bitcoin ETFs Could Propel Pri ...</td>\n",
              "        </tr>\n",
              "        <tr>\n",
              "            <td>2023-12-18 08:46:57</td> <td>{'class': 'positive', 'polarity': 0.1, 'subjectivity': 0.1} </td> <td>bitcoin</td> <td>BTC price action keeps traders nervous going into the ho ...</td> <td>'Inherently bearish' below $41.5K: 5 things to know in B ...</td>\n",
              "        </tr>\n",
              "        <tr>\n",
              "            <td>2023-12-18 07:39:29</td> <td>{'class': 'positive', 'polarity': 0.08, 'subjectivity':  ...</td> <td>bitcoin</td> <td>In the ever-shifting world of cryptocurrency, Bitcoin's  ...</td> <td>Bitcoin Price Prediction: VanEck CEO Optimism, Cathie Wo ...</td>\n",
              "        </tr>\n",
              "        <tr>\n",
              "            <td>2023-12-18 07:25:51</td> <td>{'class': 'positive', 'polarity': 0.16, 'subjectivity':  ...</td> <td>bitcoin</td> <td>VanEck CEO Jan van Eck expects Bitcoin price to reach al ...</td> <td>VanEck CEO Expects Bitcoin Price to See All-Time High in ...</td>\n",
              "        </tr>\n",
              "        <tr>\n",
              "            <td>2023-12-18 05:27:46</td> <td>{'class': 'neutral', 'polarity': 0.0, 'subjectivity': 1.0}  </td> <td>bitcoin</td> <td>Bitcoin is not the only network getting clogged up with  ...</td> <td>Daily gas spent on EVM inscriptions surges to record hig ...</td>\n",
              "        </tr>\n",
              "        <tr>\n",
              "            <td>2023-12-18 02:51:55</td> <td>{'class': 'negative', 'polarity': -0.4, 'subjectivity':  ...</td> <td>bitcoin</td> <td>“It’s impossible for me to imagine some other internet s ...</td> <td>Bitcoin won’t be beaten as digital store of value: VanEc ...</td>\n",
              "        </tr>\n",
              "        <tr>\n",
              "            <td>2023-12-17 15:52:57</td> <td>{'class': 'positive', 'polarity': 0.47, 'subjectivity':  ...</td> <td>bitcoin</td> <td>Bitcoin is set to break its eight-week winning streak, b ...</td> <td>Bitcoin's 8-week win streak is in danger, but ATOM, FIL, ...</td>\n",
              "        </tr>\n",
              "        <tr>\n",
              "            <td>2023-12-17 14:51:44</td> <td>{'class': 'positive', 'polarity': 0.04, 'subjectivity':  ...</td> <td>bitcoin</td> <td>As the crypto market enters another week of trading, Bit ...</td> <td>Bitcoin Price Prediction as $860 Million Moved to Exchan ...</td>\n",
              "        </tr>\n",
              "        <tr>\n",
              "            <td>2023-12-17 10:52:01</td> <td>{'class': 'positive', 'polarity': 0.12, 'subjectivity':  ...</td> <td>bitcoin</td> <td>Bitcoin miners are the main beneficiaries of current sky ...</td> <td>Bitcoin fees hit 20-month high as miner revenues match $ ...</td>\n",
              "        </tr>\n",
              "        <tr>\n",
              "            <td>2023-12-17 10:49:00</td> <td>{'class': 'neutral', 'polarity': 0.0, 'subjectivity': 0.0}  </td> <td>bitcoin</td> <td>Google search trends reveal a subdued level of retail en ...</td> <td>Bitcoin Retail Crowd Missing: Google Search Trends Show  ...</td>\n",
              "        </tr>\n",
              "        <tr>\n",
              "            <td>2023-12-17 08:09:00</td> <td>{'class': 'positive', 'polarity': 0.5, 'subjectivity': 0.67}</td> <td>bitcoin</td> <td>Although most altcoins have retraced on a weekly scale,  ...</td> <td>These Are This Week’s Top Gainers as Bitcoin Price Stall ...</td>\n",
              "        </tr>\n",
              "        <tr>\n",
              "            <td>2023-12-17 07:34:00</td> <td>{'class': 'negative', 'polarity': -0.05, 'subjectivity': ...</td> <td>bitcoin</td> <td>VanEck's CEO expects the US SEC will approve all spot BT ...</td> <td>Here’s When Bitcoin Will Break its $69K ATH, According t ...</td>\n",
              "        </tr>\n",
              "        <tr>\n",
              "            <td>2023-12-16 17:37:00</td> <td>{'class': 'negative', 'polarity': -0.1, 'subjectivity': 0.4}</td> <td>bitcoin</td> <td>While spot Bitcoin ETFs give direct exposure to BTC's pr ...</td> <td>More Crypto ETFs? This Firm Just Filed For a Bitcoin Buf ...</td>\n",
              "        </tr>\n",
              "        <tr>\n",
              "            <td>2023-12-16 14:45:00</td> <td>{'class': 'positive', 'polarity': 0.12, 'subjectivity':  ...</td> <td>bitcoin</td> <td>CryptoQuant says the bear market is in the past, and BTC ...</td> <td>Bitcoin in Correction Phase Following Rally to $44K: Cry ...</td>\n",
              "        </tr>\n",
              "        <tr>\n",
              "            <td>2023-12-16 10:05:54</td> <td>{'class': 'negative', 'polarity': -0.03, 'subjectivity': ...</td> <td>bitcoin</td> <td>XRP holder’s lawyer, John Deaton, stated that the SEC’s  ...</td> <td>SEC faces accusations of contradiction in Coinbase rulem ...</td>\n",
              "        </tr>\n",
              "        <tr>\n",
              "            <td>2023-12-16 09:55:00</td> <td>{'class': 'neutral', 'polarity': 0.0, 'subjectivity': 0.0}  </td> <td>bitcoin</td> <td>OSMO, WOO, and FIL follow ICP along with double digit ga ...</td> <td>Bitcoin (BTC) Price Slips to $42K, ICP Skyrockets 40% Da ...</td>\n",
              "        </tr>\n",
              "        <tr>\n",
              "            <td>2023-12-16 09:00:06</td> <td>{'class': 'neutral', 'polarity': 0.0, 'subjectivity': 0.55} </td> <td>bitcoin</td> <td>Bitcoin (BTC)has the potential to skyrocket to $1 millio ...</td> <td>Crypto Analyst: Bitcoin Could Hit $1 Million in Days to  ...</td>\n",
              "        </tr>\n",
              "        <tr>\n",
              "            <td>2023-12-16 05:18:20</td> <td>{'class': 'positive', 'polarity': 0.1, 'subjectivity': 0.36}</td> <td>bitcoin</td> <td>Bitcoin (BTC), the pioneering cryptocurrency, currently  ...</td> <td>Bitcoin Price Prediction as Bearish Trend Sends BTC Belo ...</td>\n",
              "        </tr>\n",
              "        <tr>\n",
              "            <td>2023-12-16 05:08:54</td> <td>{'class': 'negative', 'polarity': -0.2, 'subjectivity': 0.4}</td> <td>bitcoin</td> <td>The asset management firm declares that the Grayscale Bi ...</td> <td>Grayscale mulls over potential tax implications for spot ...</td>\n",
              "        </tr>\n",
              "        <tr>\n",
              "            <td>2023-12-15 23:40:24</td> <td>{'class': 'negative', 'polarity': -0.03, 'subjectivity': ...</td> <td>bitcoin</td> <td>Bitcoin (BTC) chart analysis suggests the price has form ...</td> <td>Bitcoin Volatility Incoming as BTC Price Forms This Key  ...</td>\n",
              "        </tr>\n",
              "        <tr>\n",
              "            <td>2023-12-15 21:19:00</td> <td>{'class': 'neutral', 'polarity': 0.0, 'subjectivity': 0.0}  </td> <td>bitcoin</td> <td>The influx of $19.7 billion could serve as a telling sig ...</td> <td>Bitcoin and Ethereum Draw Over $19.7 Billion Inflow, Ech ...</td>\n",
              "        </tr>\n",
              "        <tr>\n",
              "            <td>2023-12-15 21:11:42</td> <td>{'class': 'negative', 'polarity': -0.1, 'subjectivity': 0.6}</td> <td>bitcoin</td> <td>Officials from the US Securities and Exchange Commission ...</td> <td>memorandum released by the SEC                              </td>\n",
              "        </tr>\n",
              "        <tr>\n",
              "            <td>2023-12-15 20:42:00</td> <td>{'class': 'positive', 'polarity': 0.24, 'subjectivity':  ...</td> <td>bitcoin</td> <td>Bitcoin’s (BTC) price has surged impressively in the pas ...</td> <td>ChatGPT on Bitcoin & BTC ETF Prices Following Potential  ...</td>\n",
              "        </tr>\n",
              "        <tr>\n",
              "            <td>2023-12-15 20:30:11</td> <td>{'class': 'negative', 'polarity': -0.13, 'subjectivity': ...</td> <td>bitcoin</td> <td>Bitcoin spot ETF applicants will almost certainly be for ...</td> <td>Bitcoin ‘Cash Creates’ Model ETFs are a “Done Deal” Says ...</td>\n",
              "        </tr>\n",
              "        <tr>\n",
              "            <td>2023-12-15 20:25:47</td> <td>{'class': 'neutral', 'polarity': 0.0, 'subjectivity': 0.62} </td> <td>bitcoin</td> <td>The Ledger connector vulnerability put the entire DeFi e ...</td> <td>Ledger vulnerability put entire DApp ecosystem at risk:  ...</td>\n",
              "        </tr>\n",
              "        <tr>\n",
              "            <td>2023-12-15 19:03:10</td> <td>{'class': 'negative', 'polarity': -0.02, 'subjectivity': ...</td> <td>bitcoin</td> <td>In the dynamic landscape of cryptocurrency, Bitcoin, the ...</td> <td>Bitcoin Price Prediction as Gary Gensler Says SEC Taking ...</td>\n",
              "        </tr>\n",
              "        <tr>\n",
              "            <td>2023-12-15 18:45:41</td> <td>{'class': 'neutral', 'polarity': 0.0, 'subjectivity': 0.0}  </td> <td>bitcoin</td> <td>Bitcoin and select altcoins are witnessing profit-bookin ...</td> <td>Price analysis 12/15: BTC, ETH, BNB, XRP, SOL, ADA, DOGE ...</td>\n",
              "        </tr>\n",
              "        <tr>\n",
              "            <td>2023-12-15 18:35:41</td> <td>{'class': 'negative', 'polarity': -0.13, 'subjectivity': ...</td> <td>bitcoin</td> <td>Meetings between asset managers and the SEC intensified  ...</td> <td>SEC officials meet again with spot Bitcoin ETF filers       </td>\n",
              "        </tr>\n",
              "        <tr>\n",
              "            <td>2023-12-15 18:05:00</td> <td>{'class': 'neutral', 'polarity': 0.0, 'subjectivity': 0.0}  </td> <td>bitcoin</td> <td>Bitcoin is a revolutionary tool for both investor divers ...</td> <td>Every National Treasury Will Need To Hold Bitcoin: Frank ...</td>\n",
              "        </tr>\n",
              "        <tr>\n",
              "            <td>2023-12-15 17:30:17</td> <td>{'class': 'negative', 'polarity': -0.06, 'subjectivity': ...</td> <td>bitcoin</td> <td>Bitcoin is likely to reach $1 million quickly due to a ' ...</td> <td>Spot Bitcoin ETF approval to propel BTC to $1M in 'days  ...</td>\n",
              "        </tr>\n",
              "        <tr>\n",
              "            <td>2023-12-15 16:52:55</td> <td>{'class': 'positive', 'polarity': 0.05, 'subjectivity':  ...</td> <td>bitcoin</td> <td>Bitcoin bulls face a battle for support on multiple time ...</td> <td>Bitcoin whales aim to reclaim $42K after BTC price dives ...</td>\n",
              "        </tr>\n",
              "        <tr>\n",
              "            <td>2023-12-15 15:42:49</td> <td>{'class': 'neutral', 'polarity': 0.0, 'subjectivity': 0.3}  </td> <td>bitcoin</td> <td>The Bitcoin (BTC) price has come under pressure on Frida ...</td> <td>Bitcoin Price Pressured as Fed Official Says “Premature  ...</td>\n",
              "        </tr>\n",
              "        <tr>\n",
              "            <td>2023-12-15 13:49:51</td> <td>{'class': 'neutral', 'polarity': 0.0, 'subjectivity': 0.0}  </td> <td>bitcoin</td> <td>The surge in volatility that followed the US Federal Res ...</td> <td>Bitcoin’s Volatility Surge: $48 Million Liquidated in 24 ...</td>\n",
              "        </tr>\n",
              "        <tr>\n",
              "            <td>2023-12-15 13:32:48</td> <td>{'class': 'positive', 'polarity': 0.12, 'subjectivity':  ...</td> <td>bitcoin</td> <td>Iris Energy will receive mining hardware orders from Bit ...</td> <td>Iris Energy to double hash rate in 2024 with $22M Bitmai ...</td>\n",
              "        </tr>\n",
              "        <tr>\n",
              "            <td>2023-12-15 13:31:00</td> <td>{'class': 'negative', 'polarity': -0.05, 'subjectivity': ...</td> <td>bitcoin</td> <td>SEC Chair Gensler acknowledged that the sole factor prom ...</td> <td>Gary Gensler Takes a Fresh Look at Spot Bitcoin ETF Appr ...</td>\n",
              "        </tr>\n",
              "        <tr>\n",
              "            <td>2023-12-15 12:00:53</td> <td>{'class': 'neutral', 'polarity': 0.0, 'subjectivity': 0.25} </td> <td>bitcoin</td> <td>Resolving recent systemic failures in the cryptocurrency ...</td> <td>$100K BTC? Don’t undervalue Bitcoin ETF influence, says  ...</td>\n",
              "        </tr>\n",
              "        <tr>\n",
              "            <td>2023-12-15 12:00:16</td> <td>{'class': 'negative', 'polarity': -0.12, 'subjectivity': ...</td> <td>bitcoin</td> <td>Bitcoin miners’ revenue has reached all-time highs in pa ...</td> <td>Bitcoin ecosystem reinvigorated by memecoins, new protocols </td>\n",
              "        </tr>\n",
              "        <tr>\n",
              "            <td>2023-12-15 11:26:43</td> <td>{'class': 'positive', 'polarity': 0.07, 'subjectivity':  ...</td> <td>bitcoin</td> <td>Asset manager First Trust has filed with the SEC for a B ...</td> <td>First Trust files for Bitcoin ‘Buffer ETF’ with SEC         </td>\n",
              "        </tr>\n",
              "        <tr>\n",
              "            <td>2023-12-15 11:06:56</td> <td>{'class': 'positive', 'polarity': 0.2, 'subjectivity': 0.47}</td> <td>bitcoin</td> <td>The digital asset market recorded positive developments  ...</td> <td>Crypto Market Bolstered By 150% Assets Under Management  ...</td>\n",
              "        </tr>\n",
              "        <tr>\n",
              "            <td>2023-12-15 09:45:00</td> <td>{'class': 'positive', 'polarity': 1.0, 'subjectivity': 1.0} </td> <td>bitcoin</td> <td>It’s been an excellent month for Cardano (ADA) holders,  ...</td> <td>ChatGPT Says Cardano Will Rise Over 130% After 2024 Halv ...</td>\n",
              "        </tr>\n",
              "        <tr>\n",
              "            <td>2023-12-15 09:17:00</td> <td>{'class': 'positive', 'polarity': 0.25, 'subjectivity': 0.5}</td> <td>bitcoin</td> <td>The mania for BONK continues to pump Solana-related toke ...</td> <td>Bitcoin Settles Below $43K, Solana Explodes 8% on BONK H ...</td>\n",
              "        </tr>\n",
              "        <tr>\n",
              "            <td>2023-12-15 08:46:54</td> <td>{'class': 'positive', 'polarity': 0.05, 'subjectivity':  ...</td> <td>bitcoin</td> <td>Bitcoin stands to enjoy further relief if its standard r ...</td> <td>US dollar hits 4-month low as Bitcoin trader predicts 10 ...</td>\n",
              "        </tr>\n",
              "        <tr>\n",
              "            <td>2023-12-15 07:18:49</td> <td>{'class': 'negative', 'polarity': -0.05, 'subjectivity': ...</td> <td>bitcoin</td> <td>The U.S. SEC Chair Gary Gensler highlights the SEC's rev ...</td> <td>SEC Chair Gensler Discusses Impact of Court Rulings on R ...</td>\n",
              "        </tr>\n",
              "        <tr>\n",
              "            <td>2023-12-15 07:03:00</td> <td>{'class': 'negative', 'polarity': -0.02, 'subjectivity': ...</td> <td>bitcoin</td> <td>Everyone generally assumes that Bitcoin and crypto marke ...</td> <td>Analysts Weigh in on the Possibility of No Big Bitcoin B ...</td>\n",
              "        </tr>\n",
              "        <tr>\n",
              "            <td>2023-12-15 06:04:58</td> <td>{'class': 'positive', 'polarity': 0.17, 'subjectivity':  ...</td> <td>bitcoin</td> <td>In the ever-shifting landscape of cryptocurrency, Bitcoi ...</td> <td>Bitcoin Price Prediction: Struggles at $43,400 Amid Fed’ ...</td>\n",
              "        </tr>\n",
              "        <tr>\n",
              "            <td>2023-12-15 04:38:47</td> <td>{'class': 'negative', 'polarity': -0.05, 'subjectivity': ...</td> <td>bitcoin</td> <td>The SEC chair could be softening his stance on Bitcoin E ...</td> <td>Gensler hints Grayscale ruling forced SEC to take ‘new l ...</td>\n",
              "        </tr>\n",
              "        <tr>\n",
              "            <td>2023-12-14 23:30:00</td> <td>{'class': 'positive', 'polarity': 0.07, 'subjectivity':  ...</td> <td>bitcoin</td> <td>The SEC’s preferred model could adversely impact Graysca ...</td> <td>SEC Will Likely Force Cash-Create Bitcoin ETFs: Here’s W ...</td>\n",
              "        </tr>\n",
              "        <tr>\n",
              "            <td>2023-12-14 21:59:51</td> <td>{'class': 'neutral', 'polarity': 0.0, 'subjectivity': 0.0}  </td> <td>bitcoin</td> <td>Government policy and challenges getting projects online ...</td> <td>US energy NGO warns of overwhelming demand, as ERCOT con ...</td>\n",
              "        </tr>\n",
              "        <tr>\n",
              "            <td>2023-12-14 21:37:00</td> <td>{'class': 'neutral', 'polarity': 0.0, 'subjectivity': 0.0}  </td> <td>bitcoin</td> <td>Bitcoin ETFs and the halving are overrated, but protodan ...</td> <td>Ethereum Will Outperform Bitcoin In 2024, Says JPMorgan     </td>\n",
              "        </tr>\n",
              "        <tr>\n",
              "            <td>2023-12-14 19:27:07</td> <td>{'class': 'positive', 'polarity': 0.26, 'subjectivity':  ...</td> <td>bitcoin</td> <td>Bitcoin's recent price surge beyond $42,000 marks a sign ...</td> <td>Bitcoin Price Prediction as BTC Surpasses $42,000 Amidst ...</td>\n",
              "        </tr>\n",
              "        <tr>\n",
              "            <td>2023-12-14 19:25:00</td> <td>{'class': 'negative', 'polarity': -0.1, 'subjectivity': 0.6}</td> <td>bitcoin</td> <td>Anticipation grows as analysts forecasts 90% chance of S ...</td> <td>Bitwise Joins the Spot Bitcoin ETF Race with New DTCC Li ...</td>\n",
              "        </tr>\n",
              "        <tr>\n",
              "            <td>2023-12-14 19:18:39</td> <td>{'class': 'positive', 'polarity': 0.43, 'subjectivity':  ...</td> <td>bitcoin</td> <td>ADA, SOL and DOT are showing strong bullish momentum as  ...</td> <td>Cardano (ADA), Solana (SOL) and Polkadot (DOT) soar — Is ...</td>\n",
              "        </tr>\n",
              "        <tr>\n",
              "            <td>2023-12-14 18:14:13</td> <td>{'class': 'neutral', 'polarity': 0.0, 'subjectivity': 0.5}  </td> <td>bitcoin</td> <td>Stronger-than-expected US November Retail Sales data rel ...</td> <td>Bitcoin Bounces Back Above $43,000 After Strong US Retai ...</td>\n",
              "        </tr>\n",
              "        <tr>\n",
              "            <td>2023-12-14 17:16:00</td> <td>{'class': 'positive', 'polarity': 0.5, 'subjectivity': 0.5} </td> <td>bitcoin</td> <td>Ordinals are inviting more value, fees, and data into ev ...</td> <td>Ordinals and BRC-20 Are Not Displacing Normal BTC Transa ...</td>\n",
              "        </tr>\n",
              "        <tr>\n",
              "            <td>2023-12-14 15:35:42</td> <td>{'class': 'positive', 'polarity': 0.8, 'subjectivity': 0.75}</td> <td>bitcoin</td> <td>Bitcoin and altcoins are a sure-fire bet ahead of a 'gre ...</td> <td>'No excuse' not to long crypto: Arthur Hayes repeats $1M ...</td>\n",
              "        </tr>\n",
              "        <tr>\n",
              "            <td>2023-12-14 14:33:00</td> <td>{'class': 'negative', 'polarity': -0.11, 'subjectivity': ...</td> <td>bitcoin</td> <td>Crypto prices have turned green this week after a brief  ...</td> <td>Here’s Why Crypto Prices Are Pumping as Meme Kombat Sees ...</td>\n",
              "        </tr>\n",
              "        <tr>\n",
              "            <td>2023-12-14 14:02:00</td> <td>{'class': 'neutral', 'polarity': 0.0, 'subjectivity': 0.0}  </td> <td>bitcoin</td> <td>The price of bitcoin went on a rollercoaster amid the ne ...</td> <td>$60M Liquidated in Minutes Amid Ledger Vulnerability Fiasco </td>\n",
              "        </tr>\n",
              "        <tr>\n",
              "            <td>2023-12-14 14:01:47</td> <td>{'class': 'positive', 'polarity': 0.02, 'subjectivity': 0.4}</td> <td>bitcoin</td> <td>Blockstream CEO Adam Back says 2023 presented a unique i ...</td> <td>Blockstream targets continued Bitcoin miner surplus with ...</td>\n",
              "        </tr>\n",
              "        <tr>\n",
              "            <td>2023-12-14 14:01:11</td> <td>{'class': 'neutral', 'polarity': 0.0, 'subjectivity': 0.0}  </td> <td>bitcoin</td> <td>The rise in El Salvador’s bond prices “almost defies gra ...</td> <td>Is El Salvador’s Bitcoin gambit finally paying off?         </td>\n",
              "        </tr>\n",
              "        <tr>\n",
              "            <td>2023-12-14 14:00:21</td> <td>{'class': 'negative', 'polarity': -0.14, 'subjectivity': ...</td> <td>bitcoin</td> <td>According to on-chain analytics firm Chainalysis, romanc ...</td> <td>Crypto catfishers ditch fake exchanges for approval phis ...</td>\n",
              "        </tr>\n",
              "        <tr>\n",
              "            <td>2023-12-14 13:47:45</td> <td>{'class': 'positive', 'polarity': 0.14, 'subjectivity':  ...</td> <td>bitcoin</td> <td>Argentina's newly elected libertarian president, Javier  ...</td> <td>Argentina President Milei Devalues Peso, Receives IMF Pr ...</td>\n",
              "        </tr>\n",
              "        <tr>\n",
              "            <td>2023-12-14 13:11:48</td> <td>{'class': 'neutral', 'polarity': 0.0, 'subjectivity': 0.0}  </td> <td>bitcoin</td> <td>Toronto Stock Exchange owner TMX is finalizing the purch ...</td> <td>TMX buys 78% of ETF tool VettaFi for $848M, boosting sta ...</td>\n",
              "        </tr>\n",
              "        <tr>\n",
              "            <td>2023-12-14 12:25:50</td> <td>{'class': 'positive', 'polarity': 0.11, 'subjectivity':  ...</td> <td>bitcoin</td> <td>Some crypto-linked ETFs like the VanEck Digital Transfor ...</td> <td>Top five blockchain ETFs that returned over 100% in 2023 ...</td>\n",
              "        </tr>\n",
              "        <tr>\n",
              "            <td>2023-12-14 11:00:10</td> <td>{'class': 'neutral', 'polarity': 0.0, 'subjectivity': 0.0}  </td> <td>bitcoin</td> <td>Illiquid tangible goods are turning into traded and divi ...</td> <td>How can RWA tokenization democratize traditional bond ma ...</td>\n",
              "        </tr>\n",
              "        <tr>\n",
              "            <td>2023-12-14 09:20:54</td> <td>{'class': 'negative', 'polarity': -0.3, 'subjectivity': 0.5}</td> <td>bitcoin</td> <td>Bitcoin traders' cold feet subsides as BTC price strengt ...</td> <td>Bitcoin bulls eye BTC price comeback as cash inflows ech ...</td>\n",
              "        </tr>\n",
              "        <tr>\n",
              "            <td>2023-12-14 08:16:53</td> <td>{'class': 'positive', 'polarity': 0.22, 'subjectivity':  ...</td> <td>bitcoin</td> <td>The digital currency landscape is abuzz as Bitcoin's pri ...</td> <td>Bitcoin Price Prediction: FOMC Optimism & Spot ETF Buzz  ...</td>\n",
              "        </tr>\n",
              "        <tr>\n",
              "            <td>2023-12-14 07:34:00</td> <td>{'class': 'positive', 'polarity': 0.03, 'subjectivity':  ...</td> <td>bitcoin</td> <td>Crypto investment firm Bitwise has made a number of pred ...</td> <td>Bitwise Makes Big $80K Bitcoin Price Prediction for 2024    </td>\n",
              "        </tr>\n",
              "        <tr>\n",
              "            <td>2023-12-14 05:35:00</td> <td>{'class': 'positive', 'polarity': 0.05, 'subjectivity': 0.2}</td> <td>bitcoin</td> <td>It has been a wild ride for Dogecoin (DOGE) in 2023, wit ...</td> <td>Google Bard Gives Dogecoin Price Prediction for After 20 ...</td>\n",
              "        </tr>\n",
              "        <tr>\n",
              "            <td>2023-12-14 05:12:47</td> <td>{'class': 'positive', 'polarity': 0.11, 'subjectivity':  ...</td> <td>bitcoin</td> <td>With the expectation of further rate cuts heading into 2 ...</td> <td>Fed pause is a ‘green light’ for investors; here’s what  ...</td>\n",
              "        </tr>\n",
              "        <tr>\n",
              "            <td>2023-12-14 04:35:27</td> <td>{'class': 'positive', 'polarity': 0.1, 'subjectivity': 0.33}</td> <td>bitcoin</td> <td>Bitwise's senior research analyst, Ryan Rasmussen, predi ...</td> <td>Bitwise Analyst Predicts Bitcoin Price to Trade Above $8 ...</td>\n",
              "        </tr>\n",
              "        <tr>\n",
              "            <td>2023-12-14 04:30:23</td> <td>{'class': 'negative', 'polarity': -0.13, 'subjectivity': ...</td> <td>bitcoin</td> <td>The SEC is pushing Bitcoin ETF issuers down the cash cre ...</td> <td>Bitcoin ETF applicants will have to ‘bend the knee’ on c ...</td>\n",
              "        </tr>\n",
              "        <tr>\n",
              "            <td>2023-12-14 03:27:43</td> <td>{'class': 'positive', 'polarity': 0.5, 'subjectivity': 0.5} </td> <td>bitcoin</td> <td>The rules allow crypto-holding companies to now report t ...</td> <td>More firms set to add Bitcoin to balance sheets after ma ...</td>\n",
              "        </tr>\n",
              "        <tr>\n",
              "            <td>2023-12-14 01:54:48</td> <td>{'class': 'positive', 'polarity': 0.09, 'subjectivity':  ...</td> <td>bitcoin</td> <td>Bitwise isn’t alone in its bullishness on stablecoins wi ...</td> <td>Bitcoin to surge to $80K as stablecoins overtake Visa in ...</td>\n",
              "        </tr>\n",
              "        <tr>\n",
              "            <td>2023-12-14 00:06:00</td> <td>{'class': 'neutral', 'polarity': 0.0, 'subjectivity': 0.0}  </td> <td>bitcoin</td> <td>Though market corrections and leverage-driven wipeouts w ...</td> <td>Bitcoin Likely Trades “Significantly Higher” In Next 18  ...</td>\n",
              "        </tr>\n",
              "        <tr>\n",
              "            <td>2023-12-13 21:44:46</td> <td>{'class': 'positive', 'polarity': 0.15, 'subjectivity': 0.0}</td> <td>bitcoin</td> <td>Bitcoin proves its value as an inflation hedge and store ...</td> <td>Why has Bitcoin price hit new all-time highs in Turkey,  ...</td>\n",
              "        </tr>\n",
              "        <tr>\n",
              "            <td>2023-12-13 21:19:19</td> <td>{'class': 'positive', 'polarity': 0.23, 'subjectivity':  ...</td> <td>bitcoin</td> <td>Bitcoin, the pioneering and most prominent cryptocurrenc ...</td> <td>Bitcoin Price Prediction as BTC Falls 7% in 7 Days – Tim ...</td>\n",
              "        </tr>\n",
              "        <tr>\n",
              "            <td>2023-12-13 20:39:53</td> <td>{'class': 'positive', 'polarity': 0.08, 'subjectivity':  ...</td> <td>bitcoin</td> <td>The Bitcoin (BTC) price is pumping on Wednesday amid a d ...</td> <td>Bitcoin Price Pumps As Dovish Fed Signals Three Rate Cut ...</td>\n",
              "        </tr>\n",
              "        <tr>\n",
              "            <td>2023-12-13 18:24:44</td> <td>{'class': 'positive', 'polarity': 0.23, 'subjectivity':  ...</td> <td>bitcoin</td> <td>Bitcoin and altcoins are trying to find support at lower ...</td> <td>Price analysis 12/13: BTC, ETH, BNB, XRP, SOL, ADA, DOGE ...</td>\n",
              "        </tr>\n",
              "        <tr>\n",
              "            <td>2023-12-13 18:17:00</td> <td>{'class': 'positive', 'polarity': 0.22, 'subjectivity':  ...</td> <td>bitcoin</td> <td>Bitcoin's yearly high at $44.5k catalyzed the third most ...</td> <td>BTC Hits Near-Term Exhaustion After Strong Rally as Shor ...</td>\n",
              "        </tr>\n",
              "        <tr>\n",
              "            <td>2023-12-13 16:31:00</td> <td>{'class': 'neutral', 'polarity': 0.0, 'subjectivity': 0.0}  </td> <td>bitcoin</td> <td>The Coinbase launch enables institutional international  ...</td> <td>Coinbase Expands Global Presence, Offering Spot Crypto T ...</td>\n",
              "        </tr>\n",
              "        <tr>\n",
              "            <td>2023-12-13 16:13:11</td> <td>{'class': 'negative', 'polarity': -0.1, 'subjectivity': 0.4}</td> <td>bitcoin</td> <td>Wikipedia co-founder Jimmy Wales criticized Bitcoin (BTC ...</td> <td>“Banks Work, Bitcoin Doesn’t” Wikipedia Co-founder Fires ...</td>\n",
              "        </tr>\n",
              "        <tr>\n",
              "            <td>2023-12-13 14:19:56</td> <td>{'class': 'neutral', 'polarity': 0.0, 'subjectivity': 0.0}  </td> <td>bitcoin</td> <td>Bitcoin traders eye BTC price levels of interest as U.S. ...</td> <td>BTC price clears $41K as Bitcoin digests US macro data o ...</td>\n",
              "        </tr>\n",
              "        <tr>\n",
              "            <td>2023-12-13 14:10:41</td> <td>{'class': 'positive', 'polarity': 0.08, 'subjectivity':  ...</td> <td>bitcoin</td> <td>Despite Bitcoin trading below its 2023 high and struggli ...</td> <td>BTC Derivatives Show Resilience Amidst Fluctuations, Eye ...</td>\n",
              "        </tr>\n",
              "        <tr>\n",
              "            <td>2023-12-13 14:03:00</td> <td>{'class': 'positive', 'polarity': 0.25, 'subjectivity':  ...</td> <td>bitcoin</td> <td>The top 20 SATS holders collectively hold tokens valued  ...</td> <td>Binance BRC-20 Listing Boosts Bitcoin Ordinals Market: T ...</td>\n",
              "        </tr>\n",
              "    </tbody>\n",
              "</table>\n",
              "<p>... (9868 rows omitted)</p>"
            ]
          },
          "metadata": {}
        }
      ]
    },
    {
      "cell_type": "code",
      "source": [
        "#test cell for sentiment\n",
        "print(news.take(0).column(\"text\")[0])\n",
        "\n",
        "news.sort(\"date\",descending=False).show(3)"
      ],
      "metadata": {
        "colab": {
          "base_uri": "https://localhost:8080/",
          "height": 191
        },
        "id": "NHZ-1V1GgawS",
        "outputId": "159ca01d-8889-457e-d548-3a51584b2408"
      },
      "execution_count": 65,
      "outputs": [
        {
          "output_type": "stream",
          "name": "stdout",
          "text": [
            "Yonsei found that during BTC’s rally in early December, the Binary CDD was also active, signaling recent activity by short-term holders.\n"
          ]
        },
        {
          "output_type": "display_data",
          "data": {
            "text/plain": [
              "<IPython.core.display.HTML object>"
            ],
            "text/html": [
              "<table border=\"1\" class=\"dataframe\">\n",
              "    <thead>\n",
              "        <tr>\n",
              "            <th>date</th> <th>sentiment</th> <th>subject</th> <th>text</th> <th>title</th>\n",
              "        </tr>\n",
              "    </thead>\n",
              "    <tbody>\n",
              "        <tr>\n",
              "            <td>2021-11-10 04:58:00</td> <td>{'class': 'neutral', 'polarity': 0.0, 'subjectivity': 0.0}  </td> <td>bitcoin</td> <td>Bitcoin price is correcting gains below USD 67,000. Ethe ...</td> <td>Bitcoin and Ethereum Correct Gains, Major Altcoins Turn Red</td>\n",
              "        </tr>\n",
              "        <tr>\n",
              "            <td>2021-11-10 11:09:00</td> <td>{'class': 'negative', 'polarity': -0.02, 'subjectivity': ...</td> <td>bitcoin</td> <td>The much-awaited wallet is scheduled to be launched late ...</td> <td>Robinhood Crypto Wallet Waitlist Attracts 1.6M People      </td>\n",
              "        </tr>\n",
              "        <tr>\n",
              "            <td>2021-11-10 13:10:00</td> <td>{'class': 'neutral', 'polarity': 0.0, 'subjectivity': 0.0}  </td> <td>bitcoin</td> <td>Bitcoin price is struggling to gain momentum for a move  ...</td> <td>Bitcoin and Ethereum Prepare For Next Move                 </td>\n",
              "        </tr>\n",
              "    </tbody>\n",
              "</table>\n",
              "<p>... (9965 rows omitted)</p>"
            ]
          },
          "metadata": {}
        }
      ]
    },
    {
      "cell_type": "code",
      "source": [
        "print(type(news.column(\"date\").take(0)))"
      ],
      "metadata": {
        "colab": {
          "base_uri": "https://localhost:8080/"
        },
        "id": "Q7vHGh2r1GM8",
        "outputId": "02e7969e-39e0-48f9-8784-5c4c76b5b079"
      },
      "execution_count": 66,
      "outputs": [
        {
          "output_type": "stream",
          "name": "stdout",
          "text": [
            "<class 'numpy.str_'>\n"
          ]
        }
      ]
    },
    {
      "cell_type": "code",
      "source": [
        "def date_fix(date):\n",
        "  return date[:-2]+'00'"
      ],
      "metadata": {
        "id": "l0BN1h7Vzzv0"
      },
      "execution_count": 67,
      "outputs": []
    },
    {
      "cell_type": "code",
      "source": [
        "#test date_fix\n",
        "print(date_fix('2021-11-10 13:10:11'))"
      ],
      "metadata": {
        "colab": {
          "base_uri": "https://localhost:8080/"
        },
        "id": "Gl72WIQf3l_0",
        "outputId": "051e03bf-9953-4cf3-9b6f-9b203c2d1c72"
      },
      "execution_count": 68,
      "outputs": [
        {
          "output_type": "stream",
          "name": "stdout",
          "text": [
            "2021-11-10 13:10:00\n"
          ]
        }
      ]
    },
    {
      "cell_type": "code",
      "source": [
        "class_ = []\n",
        "polarity_ = []\n",
        "subjectivity_ = []\n",
        "\n",
        "for row in news.column(\"sentiment\"):\n",
        "  row=eval(row)\n",
        "  if row['class']=='neutral':\n",
        "    class_.append(0)\n",
        "  elif row['class']=='negative':\n",
        "    class_.append(-1)\n",
        "  elif row['class']=='positive':\n",
        "    class_.append(1)\n",
        "\n",
        "\n",
        "  polarity_.append(row['polarity'])\n",
        "  subjectivity_.append(row['subjectivity'])\n",
        "\n",
        "class_,polarity_,subjectivity_=map(np.array,(class_,polarity_,subjectivity_))\n",
        "print(class_,polarity_,subjectivity_)\n",
        "\n",
        "fixed_date = news.apply(date_fix,'date')\n",
        "\n",
        "\n",
        "news = news.with_columns(\"class\",class_,\"polarity\",polarity_,\"subjectivity\",subjectivity_,\"date\",fixed_date).drop('sentiment')\n",
        "\n",
        "news.sort(\"date\",descending=True).show(5)\n",
        "\n"
      ],
      "metadata": {
        "colab": {
          "base_uri": "https://localhost:8080/",
          "height": 254
        },
        "id": "2SCv3RFDitV1",
        "outputId": "ef2eaf3f-ec8d-46de-925c-2022183093a0"
      },
      "execution_count": 69,
      "outputs": [
        {
          "output_type": "stream",
          "name": "stdout",
          "text": [
            "[-1  1  0 ...,  0 -1  0] [-0.01  0.3   0.   ...,  0.   -0.02  0.  ] [ 0.38  0.1   0.   ...,  0.    0.47  0.  ]\n"
          ]
        },
        {
          "output_type": "display_data",
          "data": {
            "text/plain": [
              "<IPython.core.display.HTML object>"
            ],
            "text/html": [
              "<table border=\"1\" class=\"dataframe\">\n",
              "    <thead>\n",
              "        <tr>\n",
              "            <th>date</th> <th>subject</th> <th>text</th> <th>title</th> <th>class</th> <th>polarity</th> <th>subjectivity</th>\n",
              "        </tr>\n",
              "    </thead>\n",
              "    <tbody>\n",
              "        <tr>\n",
              "            <td>2023-12-19 05:25:00</td> <td>bitcoin</td> <td>Yonsei found that during BTC’s rally in early December,  ...</td> <td>Is This Why Bitcoin’s Price Rally Was Halted? (CryptoQuant) </td> <td>-1   </td> <td>-0.01   </td> <td>0.38        </td>\n",
              "        </tr>\n",
              "        <tr>\n",
              "            <td>2023-12-19 04:50:00</td> <td>bitcoin</td> <td>Cathie Wood led ARK Invest fund sold around 809, 441 Gra ...</td> <td>Cathie Wood’s Ark Invest Sells $27.6 Million in GBTC Sha ...</td> <td>1    </td> <td>0.3     </td> <td>0.1         </td>\n",
              "        </tr>\n",
              "        <tr>\n",
              "            <td>2023-12-19 04:10:00</td> <td>bitcoin</td> <td>Bitcoin's 150% surge pales in comparison to the staggeri ...</td> <td>Bitcoin Soared 150% in 2023 But These Companies Did Even ...</td> <td>0    </td> <td>0       </td> <td>0           </td>\n",
              "        </tr>\n",
              "        <tr>\n",
              "            <td>2023-12-19 02:59:00</td> <td>bitcoin</td> <td>The SEC has pushed back its decision on a roster of Ethe ...</td> <td>SEC delays several Ethereum ETFs, pushing final decision ...</td> <td>-1   </td> <td>-0.08   </td> <td>0.64        </td>\n",
              "        </tr>\n",
              "        <tr>\n",
              "            <td>2023-12-18 18:33:00</td> <td>bitcoin</td> <td>Bitcoin may remain under pressure for a few days, but a  ...</td> <td>Price analysis 12/18: SPX, DXY, BTC, ETH, BNB, XRP, SOL, ...</td> <td>-1   </td> <td>-0.27   </td> <td>0.33        </td>\n",
              "        </tr>\n",
              "    </tbody>\n",
              "</table>\n",
              "<p>... (9963 rows omitted)</p>"
            ]
          },
          "metadata": {}
        }
      ]
    },
    {
      "cell_type": "code",
      "source": [
        "merged_table = news.join(\"date\",data,\"Timestamp\")\n",
        "merged_table.show(5)"
      ],
      "metadata": {
        "colab": {
          "base_uri": "https://localhost:8080/",
          "height": 235
        },
        "id": "rrwvGkCI4OQ2",
        "outputId": "d114b306-cdc1-419d-9c02-20b513b9edec"
      },
      "execution_count": 70,
      "outputs": [
        {
          "output_type": "display_data",
          "data": {
            "text/plain": [
              "<IPython.core.display.HTML object>"
            ],
            "text/html": [
              "<table border=\"1\" class=\"dataframe\">\n",
              "    <thead>\n",
              "        <tr>\n",
              "            <th>date</th> <th>subject</th> <th>text</th> <th>title</th> <th>class</th> <th>polarity</th> <th>subjectivity</th> <th>Open</th> <th>High</th> <th>Low</th> <th>Close</th> <th>Volume</th>\n",
              "        </tr>\n",
              "    </thead>\n",
              "    <tbody>\n",
              "        <tr>\n",
              "            <td>2021-11-10 04:58:00</td> <td>bitcoin</td> <td>Bitcoin price is correcting gains below USD 67,000. Ethe ...</td> <td>Bitcoin and Ethereum Correct Gains, Major Altcoins Turn Red </td> <td>0    </td> <td>0       </td> <td>0           </td> <td>66991.5</td> <td>66991.5</td> <td>66935.9</td> <td>66935.9</td> <td>2.06704 </td>\n",
              "        </tr>\n",
              "        <tr>\n",
              "            <td>2021-11-10 11:09:00</td> <td>bitcoin</td> <td>The much-awaited wallet is scheduled to be launched late ...</td> <td>Robinhood Crypto Wallet Waitlist Attracts 1.6M People       </td> <td>-1   </td> <td>-0.02   </td> <td>0.47        </td> <td>66540.2</td> <td>66540.2</td> <td>66540.2</td> <td>66540.2</td> <td>0.00301 </td>\n",
              "        </tr>\n",
              "        <tr>\n",
              "            <td>2021-11-10 13:10:00</td> <td>bitcoin</td> <td>Bitcoin price is struggling to gain momentum for a move  ...</td> <td>Bitcoin and Ethereum Prepare For Next Move                  </td> <td>0    </td> <td>0       </td> <td>0           </td> <td>66496.7</td> <td>66517.3</td> <td>66496.7</td> <td>66517.3</td> <td>0.192173</td>\n",
              "        </tr>\n",
              "        <tr>\n",
              "            <td>2021-11-10 15:37:00</td> <td>bitcoin</td> <td>Bitcoin (BTC) hit yet another all-time high on Wednesday    </td> <td>Bitcoin Hits All-Time High on Record US Inflation Figures   </td> <td>1    </td> <td>0.16    </td> <td>0.54        </td> <td>66840.1</td> <td>66852.4</td> <td>66832.9</td> <td>66836.5</td> <td>0.43763 </td>\n",
              "        </tr>\n",
              "        <tr>\n",
              "            <td>2021-11-11 09:07:00</td> <td>bitcoin</td> <td>The latest announcement appears part of a coordinated an ...</td> <td>Twitter Launches Twitter Crypto: Here's How the Company  ...</td> <td>1    </td> <td>0.38    </td> <td>0.57        </td> <td>64708.8</td> <td>64825.7</td> <td>64708.8</td> <td>64825.7</td> <td>2.24765 </td>\n",
              "        </tr>\n",
              "    </tbody>\n",
              "</table>\n",
              "<p>... (9944 rows omitted)</p>"
            ]
          },
          "metadata": {}
        }
      ]
    },
    {
      "cell_type": "code",
      "source": [
        "merged_table = merged_table.drop('bitcoin','text','title','subject')\n"
      ],
      "metadata": {
        "id": "HFpi6ujv5ZHb"
      },
      "execution_count": 71,
      "outputs": []
    },
    {
      "cell_type": "code",
      "source": [
        "%matplotlib inline\n",
        "import seaborn as sns\n",
        "\n",
        "df= merged_table.to_df()\n",
        "sns.boxplot(x='class', y='Close', data=df)\n",
        "plt.title('Close Price Distribution by Sentiment Class')\n",
        "plt.show()"
      ],
      "metadata": {
        "colab": {
          "base_uri": "https://localhost:8080/",
          "height": 472
        },
        "id": "A3xSKQE38y5y",
        "outputId": "6b4ab70b-92b7-4ca3-a255-fbe3b466c6dc"
      },
      "execution_count": 72,
      "outputs": [
        {
          "output_type": "display_data",
          "data": {
            "text/plain": [
              "<Figure size 640x480 with 1 Axes>"
            ],
            "image/png": "[encoded data removed]"
          },
          "metadata": {}
        }
      ]
    },
    {
      "cell_type": "code",
      "source": [
        "downsample_rate = 50\n",
        "date=df['date'][::downsample_rate]\n",
        "polarity=df['polarity'][::downsample_rate]\n",
        "close=df['Close'][::downsample_rate]"
      ],
      "metadata": {
        "id": "uq0Wfb7DDH-n"
      },
      "execution_count": 73,
      "outputs": []
    },
    {
      "cell_type": "code",
      "source": [
        "plt.figure()\n",
        "plt.plot(date,close,'k',label = 'Bitcoin price (USD)')\n",
        "plt.plot(date,7000*polarity,'r',label = 'polarity')\n",
        "plt.plot(date,np.zeros(len(date)))\n",
        "plt.ylabel('USD')\n",
        "plt.xticks(date[::100],rotation='vertical')\n",
        "plt.legend()\n",
        "plt.show"
      ],
      "metadata": {
        "colab": {
          "base_uri": "https://localhost:8080/",
          "height": 736
        },
        "id": "YGUf3jbVFPN2",
        "outputId": "8ca36efa-403e-4fbf-a051-0f622f166902"
      },
      "execution_count": 74,
      "outputs": [
        {
          "output_type": "execute_result",
          "data": {
            "text/plain": [
              "<function matplotlib.pyplot.show(close=None, block=None)>"
            ],
            "text/html": [
              "<div style=\"max-width:800px; border: 1px solid var(--colab-border-color);\"><style>\n",
              "      pre.function-repr-contents {\n",
              "        overflow-x: auto;\n",
              "        padding: 8px 12px;\n",
              "        max-height: 500px;\n",
              "      }\n",
              "\n",
              "      pre.function-repr-contents.function-repr-contents-collapsed {\n",
              "        cursor: pointer;\n",
              "        max-height: 100px;\n",
              "      }\n",
              "    </style>\n",
              "    <pre style=\"white-space: initial; background:\n",
              "         var(--colab-secondary-surface-color); padding: 8px 12px;\n",
              "         border-bottom: 1px solid var(--colab-border-color);\"><b>matplotlib.pyplot.show</b><br/>def show(*args, **kwargs)</pre><pre class=\"function-repr-contents function-repr-contents-collapsed\" style=\"\"><a class=\"filepath\" style=\"display:none\" href=\"#\">/usr/local/lib/python3.10/dist-packages/matplotlib/pyplot.py</a>Display all open figures.\n",
              "\n",
              "Parameters\n",
              "----------\n",
              "block : bool, optional\n",
              "    Whether to wait for all figures to be closed before returning.\n",
              "\n",
              "    If `True` block and run the GUI main loop until all figure windows\n",
              "    are closed.\n",
              "\n",
              "    If `False` ensure that all figure windows are displayed and return\n",
              "    immediately.  In this case, you are responsible for ensuring\n",
              "    that the event loop is running to have responsive figures.\n",
              "\n",
              "    Defaults to True in non-interactive mode and to False in interactive\n",
              "    mode (see `.pyplot.isinteractive`).\n",
              "\n",
              "See Also\n",
              "--------\n",
              "ion : Enable interactive mode, which shows / updates the figure after\n",
              "      every plotting command, so that calling ``show()`` is not necessary.\n",
              "ioff : Disable interactive mode.\n",
              "savefig : Save the figure to an image file instead of showing it on screen.\n",
              "\n",
              "Notes\n",
              "-----\n",
              "**Saving figures to file and showing a window at the same time**\n",
              "\n",
              "If you want an image file as well as a user interface window, use\n",
              "`.pyplot.savefig` before `.pyplot.show`. At the end of (a blocking)\n",
              "``show()`` the figure is closed and thus unregistered from pyplot. Calling\n",
              "`.pyplot.savefig` afterwards would save a new and thus empty figure. This\n",
              "limitation of command order does not apply if the show is non-blocking or\n",
              "if you keep a reference to the figure and use `.Figure.savefig`.\n",
              "\n",
              "**Auto-show in jupyter notebooks**\n",
              "\n",
              "The jupyter backends (activated via ``%matplotlib inline``,\n",
              "``%matplotlib notebook``, or ``%matplotlib widget``), call ``show()`` at\n",
              "the end of every cell by default. Thus, you usually don&#x27;t have to call it\n",
              "explicitly there.</pre>\n",
              "      <script>\n",
              "      if (google.colab.kernel.accessAllowed && google.colab.files && google.colab.files.view) {\n",
              "        for (const element of document.querySelectorAll('.filepath')) {\n",
              "          element.style.display = 'block'\n",
              "          element.onclick = (event) => {\n",
              "            event.preventDefault();\n",
              "            event.stopPropagation();\n",
              "            google.colab.files.view(element.textContent, 482);\n",
              "          };\n",
              "        }\n",
              "      }\n",
              "      for (const element of document.querySelectorAll('.function-repr-contents')) {\n",
              "        element.onclick = (event) => {\n",
              "          event.preventDefault();\n",
              "          event.stopPropagation();\n",
              "          element.classList.toggle('function-repr-contents-collapsed');\n",
              "        };\n",
              "      }\n",
              "      </script>\n",
              "      </div>"
            ]
          },
          "metadata": {},
          "execution_count": 74
        },
        {
          "output_type": "display_data",
          "data": {
            "text/plain": [
              "<Figure size 640x480 with 1 Axes>"
            ],
            "image/png": "[encoded data removed]"
          },
          "metadata": {}
        }
      ]
    },
    {
      "cell_type": "code",
      "source": [],
      "metadata": {
        "id": "zqx5b_obDbHo"
      },
      "execution_count": 74,
      "outputs": []
    },
    {
      "cell_type": "code",
      "source": [
        "from scipy.stats import f_oneway\n",
        "\n",
        "negative = df[df['class'] == -1]['Close']\n",
        "neutral = df[df['class'] == 0]['Close']\n",
        "positive = df[df['class'] == 1]['Close']\n",
        "\n",
        "stat, p_value = f_oneway(negative, neutral, positive)\n",
        "\n",
        "print(f\"ANOVA Statistic: {stat}, p-value: {p_value}\")\n",
        "if p_value < 0.05:\n",
        "    print(\"Significant difference in Close Price across sentiment classes.\")\n",
        "else:\n",
        "    print(\"No significant difference in Close Price across sentiment classes.\")"
      ],
      "metadata": {
        "colab": {
          "base_uri": "https://localhost:8080/"
        },
        "id": "zNf_tjhQ-jAh",
        "outputId": "75ab5383-a42e-496c-b635-595f2e1737ba"
      },
      "execution_count": 75,
      "outputs": [
        {
          "output_type": "stream",
          "name": "stdout",
          "text": [
            "ANOVA Statistic: 12.87223102616396, p-value: 2.6114620415262533e-06\n",
            "Significant difference in Close Price across sentiment classes.\n"
          ]
        }
      ]
    }
  ]
}