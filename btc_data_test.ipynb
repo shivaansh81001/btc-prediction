{
  "nbformat": 4,
  "nbformat_minor": 0,
  "metadata": {
    "colab": {
      "provenance": [],
      "include_colab_link": true
    },
    "kernelspec": {
      "name": "python3",
      "display_name": "Python 3"
    },
    "language_info": {
      "name": "python"
    }
  },
  "cells": [
    {
      "cell_type": "markdown",
      "metadata": {
        "id": "view-in-github",
        "colab_type": "text"
      },
      "source": [
        "<a href=\"https://colab.research.google.com/github/shivaansh81001/btc-prediction/blob/main/btc_data_test.ipynb\" target=\"_parent\"><img src=\"https://colab.research.google.com/assets/colab-badge.svg\" alt=\"Open In Colab\"/></a>"
      ]
    },
    {
      "cell_type": "code",
      "execution_count": 1,
      "metadata": {
        "id": "42fy9cdPu76b"
      },
      "outputs": [],
      "source": [
        "from datascience import *\n",
        "import numpy as np\n",
        "import matplotlib.pyplot as plt\n",
        "import pandas as pd\n",
        "from datetime import datetime"
      ]
    },
    {
      "cell_type": "code",
      "source": [
        "from google.colab import drive\n",
        "drive.mount('/content/drive')"
      ],
      "metadata": {
        "colab": {
          "base_uri": "https://localhost:8080/"
        },
        "id": "300acEozXm5x",
        "outputId": "fd49733a-5620-40a2-e2c4-f07d85c7c069"
      },
      "execution_count": 2,
      "outputs": [
        {
          "output_type": "stream",
          "name": "stdout",
          "text": [
            "Mounted at /content/drive\n"
          ]
        }
      ]
    },
    {
      "cell_type": "code",
      "source": [
        "path='/content/drive/MyDrive/btc predict/'"
      ],
      "metadata": {
        "id": "1pZ9hm_k1PHB"
      },
      "execution_count": 3,
      "outputs": []
    },
    {
      "cell_type": "code",
      "source": [
        "TABLE_NAME='btcusd_1-min_data.csv'\n",
        "data=Table().read_table(path+TABLE_NAME)\n",
        "data.show(5)"
      ],
      "metadata": {
        "colab": {
          "base_uri": "https://localhost:8080/",
          "height": 236
        },
        "id": "4EUnoPwC0vl0",
        "outputId": "4035aa7b-1844-43e6-ef04-5112db468dc1"
      },
      "execution_count": 4,
      "outputs": [
        {
          "output_type": "display_data",
          "data": {
            "text/plain": [
              "<IPython.core.display.HTML object>"
            ],
            "text/html": [
              "<table border=\"1\" class=\"dataframe\">\n",
              "    <thead>\n",
              "        <tr>\n",
              "            <th>Timestamp</th> <th>Open</th> <th>High</th> <th>Low</th> <th>Close</th> <th>Volume</th>\n",
              "        </tr>\n",
              "    </thead>\n",
              "    <tbody>\n",
              "        <tr>\n",
              "            <td>1.32541e+09</td> <td>4.58</td> <td>4.58</td> <td>4.58</td> <td>4.58 </td> <td>0     </td>\n",
              "        </tr>\n",
              "        <tr>\n",
              "            <td>1.32541e+09</td> <td>4.58</td> <td>4.58</td> <td>4.58</td> <td>4.58 </td> <td>0     </td>\n",
              "        </tr>\n",
              "        <tr>\n",
              "            <td>1.32541e+09</td> <td>4.58</td> <td>4.58</td> <td>4.58</td> <td>4.58 </td> <td>0     </td>\n",
              "        </tr>\n",
              "        <tr>\n",
              "            <td>1.32541e+09</td> <td>4.58</td> <td>4.58</td> <td>4.58</td> <td>4.58 </td> <td>0     </td>\n",
              "        </tr>\n",
              "        <tr>\n",
              "            <td>1.32541e+09</td> <td>4.58</td> <td>4.58</td> <td>4.58</td> <td>4.58 </td> <td>0     </td>\n",
              "        </tr>\n",
              "    </tbody>\n",
              "</table>\n",
              "<p>... (6741276 rows omitted)</p>"
            ]
          },
          "metadata": {}
        }
      ]
    },
    {
      "cell_type": "code",
      "source": [
        "def format_price(price):\n",
        "  split_=price.split(',')\n",
        "  return float(split_[0]+split_[1])\n",
        "\n",
        "def format_vol(vol):\n",
        "  split_=float(vol[:-1])*1000\n",
        "  return split_\n",
        "\n",
        "def format_change(change):\n",
        "  return float(change[:-1])\n",
        "\n",
        "def format_time(time):\n",
        "  time=int(time)\n",
        "  return str(datetime.utcfromtimestamp(time).strftime('%Y-%m-%d %H:%M:%S'))\n",
        "\n",
        "def sum_volume_1h(vol):\n",
        "  return [sum(vol[i:i+60]) for i in range(2, len(vol), 60)]\n",
        "\n",
        "def calc_rsi(data ,period=14):\n",
        "  delta= data.diff(1)\n",
        "  gain= (delta.where(delta>0,0)).rolling(window=period).mean()\n",
        "  loss= (-delta.where(delta<0,0)).rolling(window=period).mean()\n",
        "  rs= gain/loss\n",
        "  return 100- (100/(1+rs))\n",
        "\n",
        "def calc_rsi_condition(rsi):\n",
        "  condition=[]\n",
        "  for i in rsi:\n",
        "    if i>=70:\n",
        "      condition.append(1)\n",
        "    elif i<30:\n",
        "      condition.append(-1)\n",
        "    elif i>=30 and i<70:\n",
        "      condition.append(0)\n",
        "  return np.array(condition)"
      ],
      "metadata": {
        "id": "rbubMzwx1eEW"
      },
      "execution_count": 5,
      "outputs": []
    },
    {
      "cell_type": "code",
      "source": [
        "volsum_1h= sum_volume_1h(list(data.column(\"Volume\")))"
      ],
      "metadata": {
        "id": "ulkO5oAvrLoi"
      },
      "execution_count": 6,
      "outputs": []
    },
    {
      "cell_type": "code",
      "source": [
        "#volsum len\n",
        "print(len(volsum_1h))"
      ],
      "metadata": {
        "id": "BnzkDgdOtEe2",
        "outputId": "591dc25e-a44b-4404-a622-dfd8d8449b9f",
        "colab": {
          "base_uri": "https://localhost:8080/"
        }
      },
      "execution_count": 7,
      "outputs": [
        {
          "output_type": "stream",
          "name": "stdout",
          "text": [
            "112355\n"
          ]
        }
      ]
    },
    {
      "cell_type": "code",
      "source": [
        "#test format_price\n",
        "print(format_price('95,284.5'))\n",
        "\n",
        "#test format_vol\n",
        "print(format_vol('61.62K'))\n",
        "\n",
        "#test format_time\n",
        "print(format_time(1734447660))\n",
        "\n",
        "#vol sum\n",
        "print(sum_volume_1h([x for x in range(1,361)]))"
      ],
      "metadata": {
        "colab": {
          "base_uri": "https://localhost:8080/"
        },
        "id": "ObyVDOgPCXrN",
        "outputId": "d0ec8176-ec8e-41b6-8930-f648baf634b9"
      },
      "execution_count": 8,
      "outputs": [
        {
          "output_type": "stream",
          "name": "stdout",
          "text": [
            "95284.5\n",
            "61620.0\n",
            "2024-12-17 15:01:00\n",
            "[1950, 5550, 9150, 12750, 16350, 19227]\n"
          ]
        }
      ]
    },
    {
      "cell_type": "code",
      "source": [
        "data= data.to_df()\n",
        "data= data.dropna(inplace=False)\n",
        "data= Table().from_df(data)\n"
      ],
      "metadata": {
        "id": "GxKsm_mMeJ2y"
      },
      "execution_count": 10,
      "outputs": []
    },
    {
      "cell_type": "code",
      "source": [
        "formatted_time = data.apply(format_time,\"Timestamp\")\n",
        "data = data.with_column(\"Timestamp\",formatted_time)\n",
        "\n",
        "data.show(5)"
      ],
      "metadata": {
        "colab": {
          "base_uri": "https://localhost:8080/",
          "height": 236
        },
        "id": "PmaAOPXDCo9w",
        "outputId": "116e567e-3fc7-4051-f3c4-6c4145577aee"
      },
      "execution_count": 11,
      "outputs": [
        {
          "output_type": "display_data",
          "data": {
            "text/plain": [
              "<IPython.core.display.HTML object>"
            ],
            "text/html": [
              "<table border=\"1\" class=\"dataframe\">\n",
              "    <thead>\n",
              "        <tr>\n",
              "            <th>Timestamp</th> <th>Open</th> <th>High</th> <th>Low</th> <th>Close</th> <th>Volume</th>\n",
              "        </tr>\n",
              "    </thead>\n",
              "    <tbody>\n",
              "        <tr>\n",
              "            <td>2012-01-01 10:01:00</td> <td>4.58</td> <td>4.58</td> <td>4.58</td> <td>4.58 </td> <td>0     </td>\n",
              "        </tr>\n",
              "        <tr>\n",
              "            <td>2012-01-01 10:02:00</td> <td>4.58</td> <td>4.58</td> <td>4.58</td> <td>4.58 </td> <td>0     </td>\n",
              "        </tr>\n",
              "        <tr>\n",
              "            <td>2012-01-01 10:03:00</td> <td>4.58</td> <td>4.58</td> <td>4.58</td> <td>4.58 </td> <td>0     </td>\n",
              "        </tr>\n",
              "        <tr>\n",
              "            <td>2012-01-01 10:04:00</td> <td>4.58</td> <td>4.58</td> <td>4.58</td> <td>4.58 </td> <td>0     </td>\n",
              "        </tr>\n",
              "        <tr>\n",
              "            <td>2012-01-01 10:05:00</td> <td>4.58</td> <td>4.58</td> <td>4.58</td> <td>4.58 </td> <td>0     </td>\n",
              "        </tr>\n",
              "    </tbody>\n",
              "</table>\n",
              "<p>... (6741275 rows omitted)</p>"
            ]
          },
          "metadata": {}
        }
      ]
    },
    {
      "cell_type": "code",
      "source": [],
      "metadata": {
        "id": "r8SKuZrEltIt"
      },
      "execution_count": 11,
      "outputs": []
    },
    {
      "cell_type": "code",
      "source": [
        "data= data.take(np.arange(2,data.num_rows,60))\n",
        "data.show(5)"
      ],
      "metadata": {
        "id": "73UBlD-2k1pk",
        "outputId": "aeee09ca-b459-4dd8-ff00-a258befbbc51",
        "colab": {
          "base_uri": "https://localhost:8080/",
          "height": 236
        }
      },
      "execution_count": 12,
      "outputs": [
        {
          "output_type": "display_data",
          "data": {
            "text/plain": [
              "<IPython.core.display.HTML object>"
            ],
            "text/html": [
              "<table border=\"1\" class=\"dataframe\">\n",
              "    <thead>\n",
              "        <tr>\n",
              "            <th>Timestamp</th> <th>Open</th> <th>High</th> <th>Low</th> <th>Close</th> <th>Volume</th>\n",
              "        </tr>\n",
              "    </thead>\n",
              "    <tbody>\n",
              "        <tr>\n",
              "            <td>2012-01-01 10:03:00</td> <td>4.58</td> <td>4.58</td> <td>4.58</td> <td>4.58 </td> <td>0     </td>\n",
              "        </tr>\n",
              "        <tr>\n",
              "            <td>2012-01-01 11:03:00</td> <td>4.58</td> <td>4.58</td> <td>4.58</td> <td>4.58 </td> <td>0     </td>\n",
              "        </tr>\n",
              "        <tr>\n",
              "            <td>2012-01-01 12:03:00</td> <td>4.58</td> <td>4.58</td> <td>4.58</td> <td>4.58 </td> <td>0     </td>\n",
              "        </tr>\n",
              "        <tr>\n",
              "            <td>2012-01-01 13:03:00</td> <td>4.58</td> <td>4.58</td> <td>4.58</td> <td>4.58 </td> <td>0     </td>\n",
              "        </tr>\n",
              "        <tr>\n",
              "            <td>2012-01-01 14:03:00</td> <td>4.58</td> <td>4.58</td> <td>4.58</td> <td>4.58 </td> <td>0     </td>\n",
              "        </tr>\n",
              "    </tbody>\n",
              "</table>\n",
              "<p>... (112350 rows omitted)</p>"
            ]
          },
          "metadata": {}
        }
      ]
    },
    {
      "cell_type": "code",
      "source": [
        "data = data.with_column(\"vol traded\", np.array(volsum_1h))"
      ],
      "metadata": {
        "id": "SNGW0OIOtMoA"
      },
      "execution_count": 13,
      "outputs": []
    },
    {
      "cell_type": "code",
      "source": [
        "data.show(5)"
      ],
      "metadata": {
        "id": "U8Mux1Fot1ax",
        "outputId": "2c27e44a-3327-4af4-ecd5-1799784abfef",
        "colab": {
          "base_uri": "https://localhost:8080/",
          "height": 236
        }
      },
      "execution_count": 14,
      "outputs": [
        {
          "output_type": "display_data",
          "data": {
            "text/plain": [
              "<IPython.core.display.HTML object>"
            ],
            "text/html": [
              "<table border=\"1\" class=\"dataframe\">\n",
              "    <thead>\n",
              "        <tr>\n",
              "            <th>Timestamp</th> <th>Open</th> <th>High</th> <th>Low</th> <th>Close</th> <th>Volume</th> <th>vol traded</th>\n",
              "        </tr>\n",
              "    </thead>\n",
              "    <tbody>\n",
              "        <tr>\n",
              "            <td>2012-01-01 10:03:00</td> <td>4.58</td> <td>4.58</td> <td>4.58</td> <td>4.58 </td> <td>0     </td> <td>0         </td>\n",
              "        </tr>\n",
              "        <tr>\n",
              "            <td>2012-01-01 11:03:00</td> <td>4.58</td> <td>4.58</td> <td>4.58</td> <td>4.58 </td> <td>0     </td> <td>0         </td>\n",
              "        </tr>\n",
              "        <tr>\n",
              "            <td>2012-01-01 12:03:00</td> <td>4.58</td> <td>4.58</td> <td>4.58</td> <td>4.58 </td> <td>0     </td> <td>0         </td>\n",
              "        </tr>\n",
              "        <tr>\n",
              "            <td>2012-01-01 13:03:00</td> <td>4.58</td> <td>4.58</td> <td>4.58</td> <td>4.58 </td> <td>0     </td> <td>0         </td>\n",
              "        </tr>\n",
              "        <tr>\n",
              "            <td>2012-01-01 14:03:00</td> <td>4.58</td> <td>4.58</td> <td>4.58</td> <td>4.58 </td> <td>0     </td> <td>0         </td>\n",
              "        </tr>\n",
              "    </tbody>\n",
              "</table>\n",
              "<p>... (112350 rows omitted)</p>"
            ]
          },
          "metadata": {}
        }
      ]
    },
    {
      "cell_type": "code",
      "source": [
        "price_change_hourly= ((data.column(\"Close\") - data.column(\"Open\")) / data.column(\"Open\")) *100\n",
        "data = data.with_column(\"price_change_hourly\",price_change_hourly)"
      ],
      "metadata": {
        "id": "zZ0YcKgwuddZ"
      },
      "execution_count": 15,
      "outputs": []
    },
    {
      "cell_type": "code",
      "source": [
        "data.sort(\"Timestamp\",descending=True).show(5)"
      ],
      "metadata": {
        "id": "CxvShUnzw6GE",
        "outputId": "302504c8-f067-4846-dae9-1bdc0cb67be6",
        "colab": {
          "base_uri": "https://localhost:8080/",
          "height": 236
        }
      },
      "execution_count": 16,
      "outputs": [
        {
          "output_type": "display_data",
          "data": {
            "text/plain": [
              "<IPython.core.display.HTML object>"
            ],
            "text/html": [
              "<table border=\"1\" class=\"dataframe\">\n",
              "    <thead>\n",
              "        <tr>\n",
              "            <th>Timestamp</th> <th>Open</th> <th>High</th> <th>Low</th> <th>Close</th> <th>Volume</th> <th>vol traded</th> <th>price_change_hourly</th>\n",
              "        </tr>\n",
              "    </thead>\n",
              "    <tbody>\n",
              "        <tr>\n",
              "            <td>2025-01-08 23:23:00</td> <td>94928</td> <td>95006</td> <td>94928</td> <td>95005</td> <td>0.205711</td> <td>6.42043   </td> <td>0.0811141          </td>\n",
              "        </tr>\n",
              "        <tr>\n",
              "            <td>2025-01-08 22:23:00</td> <td>94776</td> <td>94777</td> <td>94776</td> <td>94776</td> <td>0.158584</td> <td>20.7602   </td> <td>0                  </td>\n",
              "        </tr>\n",
              "        <tr>\n",
              "            <td>2025-01-08 21:23:00</td> <td>94020</td> <td>94085</td> <td>94020</td> <td>94074</td> <td>0.119053</td> <td>47.299    </td> <td>0.0574346          </td>\n",
              "        </tr>\n",
              "        <tr>\n",
              "            <td>2025-01-08 20:23:00</td> <td>93952</td> <td>94002</td> <td>93944</td> <td>93982</td> <td>0.606844</td> <td>67.7491   </td> <td>0.0319312          </td>\n",
              "        </tr>\n",
              "        <tr>\n",
              "            <td>2025-01-08 19:23:00</td> <td>94552</td> <td>94634</td> <td>94548</td> <td>94634</td> <td>0.29006 </td> <td>59.263    </td> <td>0.0867248          </td>\n",
              "        </tr>\n",
              "    </tbody>\n",
              "</table>\n",
              "<p>... (112350 rows omitted)</p>"
            ]
          },
          "metadata": {}
        }
      ]
    },
    {
      "cell_type": "code",
      "source": [
        "volume_change_hourly = data.to_df()['vol traded'].pct_change()*100\n",
        "data = data.with_column(\"volume_change_hourly\",volume_change_hourly)\n"
      ],
      "metadata": {
        "id": "-UNSj6Juxd6Y"
      },
      "execution_count": 17,
      "outputs": []
    },
    {
      "cell_type": "code",
      "source": [
        "data.show(5)"
      ],
      "metadata": {
        "id": "vUIs4Fj63JK7",
        "outputId": "e3c6fb9e-a72b-413a-9bc1-c306118731c6",
        "colab": {
          "base_uri": "https://localhost:8080/",
          "height": 236
        }
      },
      "execution_count": 18,
      "outputs": [
        {
          "output_type": "display_data",
          "data": {
            "text/plain": [
              "<IPython.core.display.HTML object>"
            ],
            "text/html": [
              "<table border=\"1\" class=\"dataframe\">\n",
              "    <thead>\n",
              "        <tr>\n",
              "            <th>Timestamp</th> <th>Open</th> <th>High</th> <th>Low</th> <th>Close</th> <th>Volume</th> <th>vol traded</th> <th>price_change_hourly</th> <th>volume_change_hourly</th>\n",
              "        </tr>\n",
              "    </thead>\n",
              "    <tbody>\n",
              "        <tr>\n",
              "            <td>2012-01-01 10:03:00</td> <td>4.58</td> <td>4.58</td> <td>4.58</td> <td>4.58 </td> <td>0     </td> <td>0         </td> <td>0                  </td> <td>nan                 </td>\n",
              "        </tr>\n",
              "        <tr>\n",
              "            <td>2012-01-01 11:03:00</td> <td>4.58</td> <td>4.58</td> <td>4.58</td> <td>4.58 </td> <td>0     </td> <td>0         </td> <td>0                  </td> <td>nan                 </td>\n",
              "        </tr>\n",
              "        <tr>\n",
              "            <td>2012-01-01 12:03:00</td> <td>4.58</td> <td>4.58</td> <td>4.58</td> <td>4.58 </td> <td>0     </td> <td>0         </td> <td>0                  </td> <td>nan                 </td>\n",
              "        </tr>\n",
              "        <tr>\n",
              "            <td>2012-01-01 13:03:00</td> <td>4.58</td> <td>4.58</td> <td>4.58</td> <td>4.58 </td> <td>0     </td> <td>0         </td> <td>0                  </td> <td>nan                 </td>\n",
              "        </tr>\n",
              "        <tr>\n",
              "            <td>2012-01-01 14:03:00</td> <td>4.58</td> <td>4.58</td> <td>4.58</td> <td>4.58 </td> <td>0     </td> <td>0         </td> <td>0                  </td> <td>nan                 </td>\n",
              "        </tr>\n",
              "    </tbody>\n",
              "</table>\n",
              "<p>... (112350 rows omitted)</p>"
            ]
          },
          "metadata": {}
        }
      ]
    },
    {
      "cell_type": "code",
      "source": [
        "data= data.exclude(0)\n",
        "data.show(5)"
      ],
      "metadata": {
        "id": "7yTsCwU94iEw",
        "outputId": "d9797396-3050-4361-bbe0-e24f9f3bf6a1",
        "colab": {
          "base_uri": "https://localhost:8080/",
          "height": 236
        }
      },
      "execution_count": 19,
      "outputs": [
        {
          "output_type": "display_data",
          "data": {
            "text/plain": [
              "<IPython.core.display.HTML object>"
            ],
            "text/html": [
              "<table border=\"1\" class=\"dataframe\">\n",
              "    <thead>\n",
              "        <tr>\n",
              "            <th>Timestamp</th> <th>Open</th> <th>High</th> <th>Low</th> <th>Close</th> <th>Volume</th> <th>vol traded</th> <th>price_change_hourly</th> <th>volume_change_hourly</th>\n",
              "        </tr>\n",
              "    </thead>\n",
              "    <tbody>\n",
              "        <tr>\n",
              "            <td>2012-01-01 11:03:00</td> <td>4.58</td> <td>4.58</td> <td>4.58</td> <td>4.58 </td> <td>0     </td> <td>0         </td> <td>0                  </td> <td>nan                 </td>\n",
              "        </tr>\n",
              "        <tr>\n",
              "            <td>2012-01-01 12:03:00</td> <td>4.58</td> <td>4.58</td> <td>4.58</td> <td>4.58 </td> <td>0     </td> <td>0         </td> <td>0                  </td> <td>nan                 </td>\n",
              "        </tr>\n",
              "        <tr>\n",
              "            <td>2012-01-01 13:03:00</td> <td>4.58</td> <td>4.58</td> <td>4.58</td> <td>4.58 </td> <td>0     </td> <td>0         </td> <td>0                  </td> <td>nan                 </td>\n",
              "        </tr>\n",
              "        <tr>\n",
              "            <td>2012-01-01 14:03:00</td> <td>4.58</td> <td>4.58</td> <td>4.58</td> <td>4.58 </td> <td>0     </td> <td>0         </td> <td>0                  </td> <td>nan                 </td>\n",
              "        </tr>\n",
              "        <tr>\n",
              "            <td>2012-01-01 15:03:00</td> <td>4.58</td> <td>4.58</td> <td>4.58</td> <td>4.58 </td> <td>0     </td> <td>0         </td> <td>0                  </td> <td>nan                 </td>\n",
              "        </tr>\n",
              "    </tbody>\n",
              "</table>\n",
              "<p>... (112349 rows omitted)</p>"
            ]
          },
          "metadata": {}
        }
      ]
    },
    {
      "cell_type": "code",
      "source": [
        "data = data.to_df()"
      ],
      "metadata": {
        "id": "XN0KYyfiIuXx"
      },
      "execution_count": 20,
      "outputs": []
    },
    {
      "cell_type": "code",
      "source": [
        "data['EMA_12h']= data['Close'].ewm(span=12,adjust=False).mean()\n",
        "data['EMA_48h']= data['Close'].ewm(span=48,adjust=False).mean()\n",
        "data.dropna(inplace=True)\n",
        "\n",
        "data= data.iloc[47:]\n",
        "\n"
      ],
      "metadata": {
        "id": "godiprMsI2FV"
      },
      "execution_count": 21,
      "outputs": []
    },
    {
      "cell_type": "code",
      "source": [
        "data['rsi_14']=calc_rsi(data['Close'])\n",
        "data= data.dropna()\n",
        "data['rsi_14'].fillna(0,inplace=True)\n"
      ],
      "metadata": {
        "id": "hfNgWcG1Oxkv",
        "outputId": "81515ce0-1eee-4a27-f6d7-4bea3088079a",
        "colab": {
          "base_uri": "https://localhost:8080/"
        }
      },
      "execution_count": 22,
      "outputs": [
        {
          "output_type": "stream",
          "name": "stderr",
          "text": [
            "<ipython-input-22-6b027e2b6d62>:3: FutureWarning: A value is trying to be set on a copy of a DataFrame or Series through chained assignment using an inplace method.\n",
            "The behavior will change in pandas 3.0. This inplace method will never work because the intermediate object on which we are setting values always behaves as a copy.\n",
            "\n",
            "For example, when doing 'df[col].method(value, inplace=True)', try using 'df.method({col: value}, inplace=True)' or df[col] = df[col].method(value) instead, to perform the operation inplace on the original object.\n",
            "\n",
            "\n",
            "  data['rsi_14'].fillna(0,inplace=True)\n"
          ]
        }
      ]
    },
    {
      "cell_type": "code",
      "source": [
        "data= Table().from_df(data)"
      ],
      "metadata": {
        "id": "P5o12OkgOyGu"
      },
      "execution_count": 23,
      "outputs": []
    },
    {
      "cell_type": "code",
      "source": [
        "data.show(5)"
      ],
      "metadata": {
        "id": "ZGTc-kblTJui",
        "outputId": "30a4eddf-fedf-4097-9d38-241460d89470",
        "colab": {
          "base_uri": "https://localhost:8080/",
          "height": 236
        }
      },
      "execution_count": 24,
      "outputs": [
        {
          "output_type": "display_data",
          "data": {
            "text/plain": [
              "<IPython.core.display.HTML object>"
            ],
            "text/html": [
              "<table border=\"1\" class=\"dataframe\">\n",
              "    <thead>\n",
              "        <tr>\n",
              "            <th>Timestamp</th> <th>Open</th> <th>High</th> <th>Low</th> <th>Close</th> <th>Volume</th> <th>vol traded</th> <th>price_change_hourly</th> <th>volume_change_hourly</th> <th>EMA_12h</th> <th>EMA_48h</th> <th>rsi_14</th>\n",
              "        </tr>\n",
              "    </thead>\n",
              "    <tbody>\n",
              "        <tr>\n",
              "            <td>2012-01-09 19:03:00</td> <td>6.5 </td> <td>6.5 </td> <td>6.5 </td> <td>6.5  </td> <td>0       </td> <td>1.51515   </td> <td>0                  </td> <td>-67.0825            </td> <td>6.79472</td> <td>6.73479</td> <td>52.6316</td>\n",
              "        </tr>\n",
              "        <tr>\n",
              "            <td>2012-01-09 20:03:00</td> <td>6.6 </td> <td>6.6 </td> <td>6.6 </td> <td>6.6  </td> <td>0       </td> <td>10.6084   </td> <td>0                  </td> <td>600.152             </td> <td>6.76477</td> <td>6.72929</td> <td>55     </td>\n",
              "        </tr>\n",
              "        <tr>\n",
              "            <td>2012-01-09 21:03:00</td> <td>6.6 </td> <td>6.6 </td> <td>6.6 </td> <td>6.6  </td> <td>1.51515 </td> <td>4.54545   </td> <td>0                  </td> <td>-57.1521            </td> <td>6.73942</td> <td>6.72401</td> <td>55     </td>\n",
              "        </tr>\n",
              "        <tr>\n",
              "            <td>2012-01-09 22:03:00</td> <td>6.6 </td> <td>6.6 </td> <td>6.6 </td> <td>6.6  </td> <td>0       </td> <td>0.872459  </td> <td>0                  </td> <td>-80.8059            </td> <td>6.71797</td> <td>6.71895</td> <td>68.75  </td>\n",
              "        </tr>\n",
              "        <tr>\n",
              "            <td>2012-01-09 23:03:00</td> <td>6.49</td> <td>6.49</td> <td>6.49</td> <td>6.49 </td> <td>0.560863</td> <td>1.56086   </td> <td>0                  </td> <td>78.9038             </td> <td>6.6829 </td> <td>6.70961</td> <td>64.3275</td>\n",
              "        </tr>\n",
              "    </tbody>\n",
              "</table>\n",
              "<p>... (110068 rows omitted)</p>"
            ]
          },
          "metadata": {}
        }
      ]
    },
    {
      "cell_type": "code",
      "source": [
        "rsi_condition=calc_rsi_condition(data.column('rsi_14'))\n",
        "print(rsi_condition)\n",
        "print(not(any(rsi_condition)))\n",
        "print(len(rsi_condition))\n",
        "data=data.with_column(\"rsi_condition\",rsi_condition)"
      ],
      "metadata": {
        "id": "jOse1hDbS3JE",
        "outputId": "4c4467bb-0d90-42bc-d04d-36cf04fd3e03",
        "colab": {
          "base_uri": "https://localhost:8080/"
        }
      },
      "execution_count": 25,
      "outputs": [
        {
          "output_type": "stream",
          "name": "stdout",
          "text": [
            "[0 0 0 ..., 0 0 0]\n",
            "False\n",
            "110073\n"
          ]
        }
      ]
    },
    {
      "cell_type": "code",
      "source": [
        "data.show(10)"
      ],
      "metadata": {
        "id": "Mp3OzjDLJ2ca",
        "outputId": "9d26f2f2-9ac0-4b45-94d1-e9f93afef1ed",
        "colab": {
          "base_uri": "https://localhost:8080/",
          "height": 392
        }
      },
      "execution_count": 26,
      "outputs": [
        {
          "output_type": "display_data",
          "data": {
            "text/plain": [
              "<IPython.core.display.HTML object>"
            ],
            "text/html": [
              "<table border=\"1\" class=\"dataframe\">\n",
              "    <thead>\n",
              "        <tr>\n",
              "            <th>Timestamp</th> <th>Open</th> <th>High</th> <th>Low</th> <th>Close</th> <th>Volume</th> <th>vol traded</th> <th>price_change_hourly</th> <th>volume_change_hourly</th> <th>EMA_12h</th> <th>EMA_48h</th> <th>rsi_14</th> <th>rsi_condition</th>\n",
              "        </tr>\n",
              "    </thead>\n",
              "    <tbody>\n",
              "        <tr>\n",
              "            <td>2012-01-09 19:03:00</td> <td>6.5 </td> <td>6.5 </td> <td>6.5 </td> <td>6.5  </td> <td>0       </td> <td>1.51515   </td> <td>0                  </td> <td>-67.0825            </td> <td>6.79472</td> <td>6.73479</td> <td>52.6316</td> <td>0            </td>\n",
              "        </tr>\n",
              "        <tr>\n",
              "            <td>2012-01-09 20:03:00</td> <td>6.6 </td> <td>6.6 </td> <td>6.6 </td> <td>6.6  </td> <td>0       </td> <td>10.6084   </td> <td>0                  </td> <td>600.152             </td> <td>6.76477</td> <td>6.72929</td> <td>55     </td> <td>0            </td>\n",
              "        </tr>\n",
              "        <tr>\n",
              "            <td>2012-01-09 21:03:00</td> <td>6.6 </td> <td>6.6 </td> <td>6.6 </td> <td>6.6  </td> <td>1.51515 </td> <td>4.54545   </td> <td>0                  </td> <td>-57.1521            </td> <td>6.73942</td> <td>6.72401</td> <td>55     </td> <td>0            </td>\n",
              "        </tr>\n",
              "        <tr>\n",
              "            <td>2012-01-09 22:03:00</td> <td>6.6 </td> <td>6.6 </td> <td>6.6 </td> <td>6.6  </td> <td>0       </td> <td>0.872459  </td> <td>0                  </td> <td>-80.8059            </td> <td>6.71797</td> <td>6.71895</td> <td>68.75  </td> <td>0            </td>\n",
              "        </tr>\n",
              "        <tr>\n",
              "            <td>2012-01-09 23:03:00</td> <td>6.49</td> <td>6.49</td> <td>6.49</td> <td>6.49 </td> <td>0.560863</td> <td>1.56086   </td> <td>0                  </td> <td>78.9038             </td> <td>6.6829 </td> <td>6.70961</td> <td>64.3275</td> <td>0            </td>\n",
              "        </tr>\n",
              "        <tr>\n",
              "            <td>2012-01-10 00:03:00</td> <td>6.48</td> <td>6.48</td> <td>6.48</td> <td>6.48 </td> <td>0       </td> <td>2         </td> <td>0                  </td> <td>28.1343             </td> <td>6.65168</td> <td>6.70024</td> <td>32.6087</td> <td>0            </td>\n",
              "        </tr>\n",
              "        <tr>\n",
              "            <td>2012-01-10 01:03:00</td> <td>6.23</td> <td>6.23</td> <td>6.23</td> <td>6.23 </td> <td>0       </td> <td>0         </td> <td>0                  </td> <td>-100                </td> <td>6.58681</td> <td>6.68104</td> <td>25.641 </td> <td>-1           </td>\n",
              "        </tr>\n",
              "        <tr>\n",
              "            <td>2012-01-10 03:03:00</td> <td>6.23</td> <td>6.23</td> <td>6.23</td> <td>6.23 </td> <td>0       </td> <td>1         </td> <td>0                  </td> <td>inf                 </td> <td>6.48547</td> <td>6.64497</td> <td>18.6916</td> <td>-1           </td>\n",
              "        </tr>\n",
              "        <tr>\n",
              "            <td>2012-01-10 04:03:00</td> <td>6.3 </td> <td>6.3 </td> <td>6.3 </td> <td>6.3  </td> <td>0       </td> <td>0         </td> <td>0                  </td> <td>-100                </td> <td>6.45693</td> <td>6.63089</td> <td>23.6842</td> <td>-1           </td>\n",
              "        </tr>\n",
              "        <tr>\n",
              "            <td>2012-01-10 14:03:00</td> <td>6.3 </td> <td>6.3 </td> <td>6.3 </td> <td>6.3  </td> <td>0       </td> <td>9.25      </td> <td>0                  </td> <td>inf                 </td> <td>6.32953</td> <td>6.51813</td> <td>16.3462</td> <td>-1           </td>\n",
              "        </tr>\n",
              "    </tbody>\n",
              "</table>\n",
              "<p>... (110063 rows omitted)</p>"
            ]
          },
          "metadata": {}
        }
      ]
    },
    {
      "cell_type": "code",
      "source": [],
      "metadata": {
        "id": "DYyqqVMRM5yR"
      },
      "execution_count": 26,
      "outputs": []
    },
    {
      "cell_type": "code",
      "source": [
        "'''%matplotlib inline\n",
        "\n",
        "data.plot(\"Date\",\"Price\")\n",
        "\n",
        "data.plot(\"Date\",\"Change %\")\n",
        "\n",
        "data.scatter('Date',\"Price\")'''\n"
      ],
      "metadata": {
        "colab": {
          "base_uri": "https://localhost:8080/",
          "height": 35
        },
        "id": "BvI-WbX4MFph",
        "outputId": "8f4bce62-cf3a-413e-ce7a-89b3578557b8"
      },
      "execution_count": 27,
      "outputs": [
        {
          "output_type": "execute_result",
          "data": {
            "text/plain": [
              "'%matplotlib inline\\n\\ndata.plot(\"Date\",\"Price\")\\n\\ndata.plot(\"Date\",\"Change %\")\\n\\ndata.scatter(\\'Date\\',\"Price\")'"
            ],
            "application/vnd.google.colaboratory.intrinsic+json": {
              "type": "string"
            }
          },
          "metadata": {},
          "execution_count": 27
        }
      ]
    },
    {
      "cell_type": "markdown",
      "source": [
        "### linear regression test ###"
      ],
      "metadata": {
        "id": "v1Tz1YRUfR_d"
      }
    },
    {
      "cell_type": "code",
      "source": [
        "data= data.to_df()"
      ],
      "metadata": {
        "id": "BoSMtNp7fh5c"
      },
      "execution_count": 28,
      "outputs": []
    },
    {
      "cell_type": "code",
      "source": [
        "data['Price_Change'] = (data['Close'].shift(-1) - data['Close']) / data['Close'] * 100\n",
        "data.dropna(inplace=False)\n",
        "\n",
        "upper_threshold = 1\n",
        "lower_threshold = -1\n",
        "\n",
        "def classify_change(change):\n",
        "    if change > upper_threshold:\n",
        "        return 1\n",
        "    elif change < lower_threshold:\n",
        "        return -1\n",
        "    else:\n",
        "        return 0\n",
        "\n",
        "data['Target'] = data['Price_Change'].apply(classify_change)\n"
      ],
      "metadata": {
        "id": "sJ3iuClxlirh"
      },
      "execution_count": 29,
      "outputs": []
    },
    {
      "cell_type": "code",
      "source": [
        "data['Timestamp'] = pd.to_datetime(data['Timestamp'])\n",
        "data['Hour'] = data['Timestamp'].dt.hour\n",
        "data['Day'] = data['Timestamp'].dt.day\n",
        "data['Month'] = data['Timestamp'].dt.month\n",
        "data['Year'] = data['Timestamp'].dt.year\n",
        "data['Day_of_Week'] = data['Timestamp'].dt.dayofweek\n",
        "data['Is_Weekend'] = (data['Day_of_Week'] >= 5).astype(int)\n"
      ],
      "metadata": {
        "id": "5eESRTaC7KQz"
      },
      "execution_count": 30,
      "outputs": []
    },
    {
      "cell_type": "code",
      "source": [
        "data = data.drop(columns=['Timestamp'])"
      ],
      "metadata": {
        "id": "j2rhbQQi7jui"
      },
      "execution_count": 31,
      "outputs": []
    },
    {
      "cell_type": "code",
      "source": [
        "data = Table().from_df(data)"
      ],
      "metadata": {
        "id": "0suE52n0jffK"
      },
      "execution_count": 32,
      "outputs": []
    },
    {
      "cell_type": "code",
      "source": [
        "data.show(5)"
      ],
      "metadata": {
        "colab": {
          "base_uri": "https://localhost:8080/",
          "height": 236
        },
        "id": "O3VXOVnZmtg1",
        "outputId": "1c8e7f73-2a16-48ea-bcb8-09bb33fe9956"
      },
      "execution_count": 33,
      "outputs": [
        {
          "output_type": "display_data",
          "data": {
            "text/plain": [
              "<IPython.core.display.HTML object>"
            ],
            "text/html": [
              "<table border=\"1\" class=\"dataframe\">\n",
              "    <thead>\n",
              "        <tr>\n",
              "            <th>Open</th> <th>High</th> <th>Low</th> <th>Close</th> <th>Volume</th> <th>vol traded</th> <th>price_change_hourly</th> <th>volume_change_hourly</th> <th>EMA_12h</th> <th>EMA_48h</th> <th>rsi_14</th> <th>rsi_condition</th> <th>Price_Change</th> <th>Target</th> <th>Hour</th> <th>Day</th> <th>Month</th> <th>Year</th> <th>Day_of_Week</th> <th>Is_Weekend</th>\n",
              "        </tr>\n",
              "    </thead>\n",
              "    <tbody>\n",
              "        <tr>\n",
              "            <td>6.5 </td> <td>6.5 </td> <td>6.5 </td> <td>6.5  </td> <td>0       </td> <td>1.51515   </td> <td>0                  </td> <td>-67.0825            </td> <td>6.79472</td> <td>6.73479</td> <td>52.6316</td> <td>0            </td> <td>1.53846     </td> <td>1     </td> <td>19  </td> <td>9   </td> <td>1    </td> <td>2012</td> <td>0          </td> <td>0         </td>\n",
              "        </tr>\n",
              "        <tr>\n",
              "            <td>6.6 </td> <td>6.6 </td> <td>6.6 </td> <td>6.6  </td> <td>0       </td> <td>10.6084   </td> <td>0                  </td> <td>600.152             </td> <td>6.76477</td> <td>6.72929</td> <td>55     </td> <td>0            </td> <td>0           </td> <td>0     </td> <td>20  </td> <td>9   </td> <td>1    </td> <td>2012</td> <td>0          </td> <td>0         </td>\n",
              "        </tr>\n",
              "        <tr>\n",
              "            <td>6.6 </td> <td>6.6 </td> <td>6.6 </td> <td>6.6  </td> <td>1.51515 </td> <td>4.54545   </td> <td>0                  </td> <td>-57.1521            </td> <td>6.73942</td> <td>6.72401</td> <td>55     </td> <td>0            </td> <td>0           </td> <td>0     </td> <td>21  </td> <td>9   </td> <td>1    </td> <td>2012</td> <td>0          </td> <td>0         </td>\n",
              "        </tr>\n",
              "        <tr>\n",
              "            <td>6.6 </td> <td>6.6 </td> <td>6.6 </td> <td>6.6  </td> <td>0       </td> <td>0.872459  </td> <td>0                  </td> <td>-80.8059            </td> <td>6.71797</td> <td>6.71895</td> <td>68.75  </td> <td>0            </td> <td>-1.66667    </td> <td>-1    </td> <td>22  </td> <td>9   </td> <td>1    </td> <td>2012</td> <td>0          </td> <td>0         </td>\n",
              "        </tr>\n",
              "        <tr>\n",
              "            <td>6.49</td> <td>6.49</td> <td>6.49</td> <td>6.49 </td> <td>0.560863</td> <td>1.56086   </td> <td>0                  </td> <td>78.9038             </td> <td>6.6829 </td> <td>6.70961</td> <td>64.3275</td> <td>0            </td> <td>-0.154083   </td> <td>0     </td> <td>23  </td> <td>9   </td> <td>1    </td> <td>2012</td> <td>0          </td> <td>0         </td>\n",
              "        </tr>\n",
              "    </tbody>\n",
              "</table>\n",
              "<p>... (110068 rows omitted)</p>"
            ]
          },
          "metadata": {}
        }
      ]
    },
    {
      "cell_type": "code",
      "source": [
        "data.where('Target',are.equal_to(-1))"
      ],
      "metadata": {
        "colab": {
          "base_uri": "https://localhost:8080/",
          "height": 392
        },
        "id": "3ZnUKG0-mwEl",
        "outputId": "e4dbbe04-fc99-457d-a0cc-edf64b440e13"
      },
      "execution_count": 34,
      "outputs": [
        {
          "output_type": "execute_result",
          "data": {
            "text/plain": [
              "Open | High | Low  | Close | Volume | vol traded | price_change_hourly | volume_change_hourly | EMA_12h | EMA_48h | rsi_14  | rsi_condition | Price_Change | Target | Hour | Day  | Month | Year | Day_of_Week | Is_Weekend\n",
              "6.6  | 6.6  | 6.6  | 6.6   | 0      | 0.872459   | 0                   | -80.8059             | 6.71797 | 6.71895 | 68.75   | 0             | -1.66667     | -1     | 22   | 9    | 1     | 2012 | 0           | 0\n",
              "6.48 | 6.48 | 6.48 | 6.48  | 0      | 2          | 0                   | 28.1343              | 6.65168 | 6.70024 | 32.6087 | 0             | -3.85802     | -1     | 0    | 10   | 1     | 2012 | 1           | 0\n",
              "7.14 | 7.14 | 7.14 | 7.14  | 0      | 11         | 0                   | -48.7437             | 7.07184 | 6.78387 | 93.75   | 1             | -12.465      | -1     | 13   | 11   | 1     | 2012 | 2           | 0\n",
              "7.21 | 7.21 | 7.21 | 7.21  | 0      | 13.923     | 0                   | 215.967              | 7.03466 | 6.82323 | 63.6735 | 0             | -4.29958     | -1     | 19   | 11   | 1     | 2012 | 2           | 0\n",
              "7.38 | 7.38 | 7.38 | 7.38  | 0      | 6.99728    | 0                   | -86.6569             | 7.13975 | 6.96693 | 67.2727 | 0             | -7.85908     | -1     | 19   | 12   | 1     | 2012 | 3           | 0\n",
              "6.8  | 6.8  | 6.8  | 6.8   | 0      | 2          | 0                   | -71.4175             | 7.08748 | 6.96011 | 36.4865 | 0             | -2.94118     | -1     | 20   | 12   | 1     | 2012 | 3           | 0\n",
              "7.35 | 7.35 | 7.35 | 7.35  | 0      | 0.98       | 0                   | -9.51005             | 7.01072 | 6.9484  | 60.6635 | 0             | -11.4286     | -1     | 23   | 12   | 1     | 2012 | 3           | 0\n",
              "6.8  | 6.8  | 6.8  | 6.8   | 0      | 1          | 0                   | inf                  | 6.71852 | 6.83308 | 46.8153 | 0             | -1.47059     | -1     | 9    | 13   | 1     | 2012 | 4           | 0\n",
              "7    | 7    | 7    | 7     | 1.51   | 15.424     | 0                   | 239.333              | 6.74964 | 6.79997 | 45.2229 | 0             | -1.42857     | -1     | 19   | 13   | 1     | 2012 | 4           | 0\n",
              "6.9  | 6.9  | 6.9  | 6.9   | 0      | 1          | 0                   | inf                  | 6.83478 | 6.81878 | 56.3025 | 0             | -2.89855     | -1     | 0    | 14   | 1     | 2012 | 5           | 1\n",
              "... (7145 rows omitted)"
            ],
            "text/html": [
              "<table border=\"1\" class=\"dataframe\">\n",
              "    <thead>\n",
              "        <tr>\n",
              "            <th>Open</th> <th>High</th> <th>Low</th> <th>Close</th> <th>Volume</th> <th>vol traded</th> <th>price_change_hourly</th> <th>volume_change_hourly</th> <th>EMA_12h</th> <th>EMA_48h</th> <th>rsi_14</th> <th>rsi_condition</th> <th>Price_Change</th> <th>Target</th> <th>Hour</th> <th>Day</th> <th>Month</th> <th>Year</th> <th>Day_of_Week</th> <th>Is_Weekend</th>\n",
              "        </tr>\n",
              "    </thead>\n",
              "    <tbody>\n",
              "        <tr>\n",
              "            <td>6.6 </td> <td>6.6 </td> <td>6.6 </td> <td>6.6  </td> <td>0     </td> <td>0.872459  </td> <td>0                  </td> <td>-80.8059            </td> <td>6.71797</td> <td>6.71895</td> <td>68.75  </td> <td>0            </td> <td>-1.66667    </td> <td>-1    </td> <td>22  </td> <td>9   </td> <td>1    </td> <td>2012</td> <td>0          </td> <td>0         </td>\n",
              "        </tr>\n",
              "        <tr>\n",
              "            <td>6.48</td> <td>6.48</td> <td>6.48</td> <td>6.48 </td> <td>0     </td> <td>2         </td> <td>0                  </td> <td>28.1343             </td> <td>6.65168</td> <td>6.70024</td> <td>32.6087</td> <td>0            </td> <td>-3.85802    </td> <td>-1    </td> <td>0   </td> <td>10  </td> <td>1    </td> <td>2012</td> <td>1          </td> <td>0         </td>\n",
              "        </tr>\n",
              "        <tr>\n",
              "            <td>7.14</td> <td>7.14</td> <td>7.14</td> <td>7.14 </td> <td>0     </td> <td>11        </td> <td>0                  </td> <td>-48.7437            </td> <td>7.07184</td> <td>6.78387</td> <td>93.75  </td> <td>1            </td> <td>-12.465     </td> <td>-1    </td> <td>13  </td> <td>11  </td> <td>1    </td> <td>2012</td> <td>2          </td> <td>0         </td>\n",
              "        </tr>\n",
              "        <tr>\n",
              "            <td>7.21</td> <td>7.21</td> <td>7.21</td> <td>7.21 </td> <td>0     </td> <td>13.923    </td> <td>0                  </td> <td>215.967             </td> <td>7.03466</td> <td>6.82323</td> <td>63.6735</td> <td>0            </td> <td>-4.29958    </td> <td>-1    </td> <td>19  </td> <td>11  </td> <td>1    </td> <td>2012</td> <td>2          </td> <td>0         </td>\n",
              "        </tr>\n",
              "        <tr>\n",
              "            <td>7.38</td> <td>7.38</td> <td>7.38</td> <td>7.38 </td> <td>0     </td> <td>6.99728   </td> <td>0                  </td> <td>-86.6569            </td> <td>7.13975</td> <td>6.96693</td> <td>67.2727</td> <td>0            </td> <td>-7.85908    </td> <td>-1    </td> <td>19  </td> <td>12  </td> <td>1    </td> <td>2012</td> <td>3          </td> <td>0         </td>\n",
              "        </tr>\n",
              "        <tr>\n",
              "            <td>6.8 </td> <td>6.8 </td> <td>6.8 </td> <td>6.8  </td> <td>0     </td> <td>2         </td> <td>0                  </td> <td>-71.4175            </td> <td>7.08748</td> <td>6.96011</td> <td>36.4865</td> <td>0            </td> <td>-2.94118    </td> <td>-1    </td> <td>20  </td> <td>12  </td> <td>1    </td> <td>2012</td> <td>3          </td> <td>0         </td>\n",
              "        </tr>\n",
              "        <tr>\n",
              "            <td>7.35</td> <td>7.35</td> <td>7.35</td> <td>7.35 </td> <td>0     </td> <td>0.98      </td> <td>0                  </td> <td>-9.51005            </td> <td>7.01072</td> <td>6.9484 </td> <td>60.6635</td> <td>0            </td> <td>-11.4286    </td> <td>-1    </td> <td>23  </td> <td>12  </td> <td>1    </td> <td>2012</td> <td>3          </td> <td>0         </td>\n",
              "        </tr>\n",
              "        <tr>\n",
              "            <td>6.8 </td> <td>6.8 </td> <td>6.8 </td> <td>6.8  </td> <td>0     </td> <td>1         </td> <td>0                  </td> <td>inf                 </td> <td>6.71852</td> <td>6.83308</td> <td>46.8153</td> <td>0            </td> <td>-1.47059    </td> <td>-1    </td> <td>9   </td> <td>13  </td> <td>1    </td> <td>2012</td> <td>4          </td> <td>0         </td>\n",
              "        </tr>\n",
              "        <tr>\n",
              "            <td>7   </td> <td>7   </td> <td>7   </td> <td>7    </td> <td>1.51  </td> <td>15.424    </td> <td>0                  </td> <td>239.333             </td> <td>6.74964</td> <td>6.79997</td> <td>45.2229</td> <td>0            </td> <td>-1.42857    </td> <td>-1    </td> <td>19  </td> <td>13  </td> <td>1    </td> <td>2012</td> <td>4          </td> <td>0         </td>\n",
              "        </tr>\n",
              "        <tr>\n",
              "            <td>6.9 </td> <td>6.9 </td> <td>6.9 </td> <td>6.9  </td> <td>0     </td> <td>1         </td> <td>0                  </td> <td>inf                 </td> <td>6.83478</td> <td>6.81878</td> <td>56.3025</td> <td>0            </td> <td>-2.89855    </td> <td>-1    </td> <td>0   </td> <td>14  </td> <td>1    </td> <td>2012</td> <td>5          </td> <td>1         </td>\n",
              "        </tr>\n",
              "    </tbody>\n",
              "</table>\n",
              "<p>... (7145 rows omitted)</p>"
            ]
          },
          "metadata": {},
          "execution_count": 34
        }
      ]
    },
    {
      "cell_type": "markdown",
      "source": [
        "#### data split ####"
      ],
      "metadata": {
        "id": "XPWYI2QX2Lun"
      }
    },
    {
      "cell_type": "code",
      "source": [
        "from sklearn.model_selection import GridSearchCV\n",
        "from sklearn.neural_network import MLPClassifier"
      ],
      "metadata": {
        "id": "6ILBZsmnDKD1"
      },
      "execution_count": 35,
      "outputs": []
    },
    {
      "cell_type": "code",
      "source": [
        "from sklearn.model_selection import train_test_split\n",
        "from sklearn.metrics import accuracy_score, precision_score, recall_score, f1_score\n",
        "from sklearn.linear_model import LinearRegression\n",
        "\n",
        "RANDOM_SEED= 420\n",
        "TRAIN_PERC=0.6\n",
        "\n",
        "np.random.seed(RANDOM_SEED)"
      ],
      "metadata": {
        "id": "QjWbdF402Oce"
      },
      "execution_count": 36,
      "outputs": []
    },
    {
      "cell_type": "code",
      "source": [
        "data = data.to_df()"
      ],
      "metadata": {
        "id": "ZRWk9KHcFA9G"
      },
      "execution_count": 37,
      "outputs": []
    },
    {
      "cell_type": "code",
      "source": [
        "valid_rows= np.isfinite(data).all(axis=1)\n",
        "data= data[valid_rows]\n",
        "data= data.dropna(inplace=False)\n",
        "data= Table().from_df(data)"
      ],
      "metadata": {
        "id": "qInFACF2FKg4"
      },
      "execution_count": 38,
      "outputs": []
    },
    {
      "cell_type": "code",
      "source": [
        "target = data.column(\"Target\")\n",
        "X = data.drop(\"Target\").to_df()\n",
        "\n"
      ],
      "metadata": {
        "id": "jrmKMkrr3UFq"
      },
      "execution_count": 39,
      "outputs": []
    },
    {
      "cell_type": "code",
      "source": [
        "X_train, X_temp, t_train, t_temp = train_test_split(X, target, test_size=(1 - TRAIN_PERC), random_state=RANDOM_SEED,stratify=target)\n",
        "X_val, X_test, t_val, t_test = train_test_split(X_temp, t_temp, test_size=0.5, random_state=RANDOM_SEED, stratify=t_temp)\n",
        "\n",
        "valid_rows = np.isfinite(X_train).all(axis=1)\n",
        "X_train = X_train[valid_rows]\n",
        "t_train = t_train[valid_rows]"
      ],
      "metadata": {
        "id": "iH__mmg23r9a"
      },
      "execution_count": 40,
      "outputs": []
    },
    {
      "cell_type": "markdown",
      "source": [
        "#### train model ####"
      ],
      "metadata": {
        "id": "vKJNP0XH4E4V"
      }
    },
    {
      "cell_type": "code",
      "source": [
        "def sigmoid(z):\n",
        "    return 1 / (1 + np.exp(-np.clip(z, -400, 400)))\n",
        "\n",
        "def train_logistic_regression(X, t):\n",
        "    m,n=X.shape\n",
        "    w=np.zeros(n)\n",
        "    b=0\n",
        "\n",
        "    for i in range(1000):\n",
        "        z=np.dot(X,w)+b\n",
        "        t_hat=sigmoid(z)\n",
        "        dw=(1/m)*np.dot(X.T,(t_hat-t))\n",
        "        db=(1/m)*np.sum(t_hat-t)\n",
        "        w-=0.1*dw\n",
        "        b-=0.1*db\n",
        "    #print(w,b)\n",
        "\n",
        "    return w, b\n",
        "\n",
        "def predict_logistic_regression(X, w, b):\n",
        "    temp=1/(1+np.exp(-(X@w+b)))\n",
        "    t=(temp>=0.5).astype(int)\n",
        "    return t"
      ],
      "metadata": {
        "id": "71Cwenpy4JZD"
      },
      "execution_count": 41,
      "outputs": []
    },
    {
      "cell_type": "code",
      "source": [
        "def get_accuracy(t, t_hat):\n",
        "    \"\"\"\n",
        "    Calculate accuracy,\n",
        "    \"\"\"\n",
        "    #print(t,t_hat)\n",
        "    acc=np.mean(t==t_hat)*100\n",
        "    #print(\"accuracy\",acc)\n",
        "    return acc\n",
        "\n",
        "def generate_report(t_true,t_pred):\n",
        "  return {\n",
        "        'Accuracy': accuracy_score(t_true, t_pred),\n",
        "        'Precision': precision_score(t_true, t_pred),\n",
        "        'Recall': recall_score(t_true, t_pred),\n",
        "        'F1-Score': f1_score(t_true, t_pred)\n",
        "    }"
      ],
      "metadata": {
        "id": "r6aPiJ4q56cv"
      },
      "execution_count": 42,
      "outputs": []
    },
    {
      "cell_type": "code",
      "source": [
        "def train_MLP(X_train,t_train):\n",
        "  mlp=MLPClassifier(hidden_layer_sizes=(64,32),activation='relu', max_iter=1000, random_state=42)\n",
        "  mlp.fit(X_train,t_train)\n",
        "  return mlp\n",
        "\n",
        "def predict_MLP(mlp,X_val):\n",
        "  t_hat=mlp.predict(X_val)\n",
        "  return t_hat"
      ],
      "metadata": {
        "id": "DnkSE4M5DNB5"
      },
      "execution_count": 43,
      "outputs": []
    },
    {
      "cell_type": "code",
      "source": [
        "w_log, b_log = train_logistic_regression(X_train, t_train)\n",
        "\n",
        "t_hat_train_log=predict_logistic_regression(X_train, w_log, b_log)\n",
        "t_hat_val_log = predict_logistic_regression(X_val, w_log, b_log)\n",
        "t_hat_test_log = predict_logistic_regression(X_test, w_log, b_log)\n",
        "\n",
        "print(\"Overall Accuracy of logistic regression on validation set: \", get_accuracy(t_hat_val_log, t_val))\n",
        "print(\"Overall Accuracy of logistic regression on test set: \", get_accuracy(t_hat_test_log, t_test))\n"
      ],
      "metadata": {
        "colab": {
          "base_uri": "https://localhost:8080/"
        },
        "id": "K6r0yOlT5Smg",
        "outputId": "56c10af0-8882-453f-a022-416eccd21e9c"
      },
      "execution_count": 44,
      "outputs": [
        {
          "output_type": "stream",
          "name": "stdout",
          "text": [
            "Overall Accuracy of logistic regression on validation set:  86.8398069409\n",
            "Overall Accuracy of logistic regression on test set:  86.8260170076\n"
          ]
        },
        {
          "output_type": "stream",
          "name": "stderr",
          "text": [
            "/usr/local/lib/python3.10/dist-packages/pandas/core/arraylike.py:399: RuntimeWarning: overflow encountered in exp\n",
            "  result = getattr(ufunc, method)(*inputs, **kwargs)\n",
            "/usr/local/lib/python3.10/dist-packages/pandas/core/arraylike.py:399: RuntimeWarning: overflow encountered in exp\n",
            "  result = getattr(ufunc, method)(*inputs, **kwargs)\n",
            "/usr/local/lib/python3.10/dist-packages/pandas/core/arraylike.py:399: RuntimeWarning: overflow encountered in exp\n",
            "  result = getattr(ufunc, method)(*inputs, **kwargs)\n"
          ]
        }
      ]
    },
    {
      "cell_type": "code",
      "source": [
        "from xgboost import XGBClassifier\n",
        "from sklearn.metrics import accuracy_score\n",
        "\n",
        "sample_dict= {-1:0,0:1,1:2}\n",
        "t_train_012= np.array(list(map(sample_dict.get,list(t_train))))\n",
        "t_test_012= np.array(list(map(sample_dict.get,list(t_test))))\n",
        "\n",
        "model=XGBClassifier(Objective='multi:softmax',num_class=3)\n",
        "model.fit(X_train,t_train_012)\n",
        "\n",
        "t_pred=model.predict(X_test)\n",
        "\n",
        "accuracy= accuracy_score(t_test_012,t_pred)\n",
        "print(f'{accuracy*100:.2f}')\n",
        "\n"
      ],
      "metadata": {
        "id": "vprbRVWG20a7",
        "outputId": "a811e8ea-aacb-4c1a-9f57-286ae7882afd",
        "colab": {
          "base_uri": "https://localhost:8080/"
        }
      },
      "execution_count": 45,
      "outputs": [
        {
          "output_type": "stream",
          "name": "stderr",
          "text": [
            "/usr/local/lib/python3.10/dist-packages/xgboost/core.py:158: UserWarning: [04:31:51] WARNING: /workspace/src/learner.cc:740: \n",
            "Parameters: { \"Objective\" } are not used.\n",
            "\n",
            "  warnings.warn(smsg, UserWarning)\n"
          ]
        },
        {
          "output_type": "stream",
          "name": "stdout",
          "text": [
            "99.70\n"
          ]
        }
      ]
    },
    {
      "cell_type": "code",
      "source": [
        "X_2025= X_train.iloc[-1]\n",
        "X_2025['Open']"
      ],
      "metadata": {
        "id": "8bJ3plByG-nB",
        "outputId": "7d61454e-ca1a-478e-af14-83fd691334c1",
        "colab": {
          "base_uri": "https://localhost:8080/"
        }
      },
      "execution_count": 46,
      "outputs": [
        {
          "output_type": "execute_result",
          "data": {
            "text/plain": [
              "9090.6499999999996"
            ]
          },
          "metadata": {},
          "execution_count": 46
        }
      ]
    },
    {
      "cell_type": "code",
      "source": [
        "mlp= train_MLP(X_train,t_train)\n",
        "\n",
        "t_hat_mlp_train=predict_MLP(mlp,X_train)\n",
        "t_hat_mlp_val=predict_MLP(mlp,X_val)\n",
        "t_hat_mlp_test= predict_MLP(mlp,X_test)\n",
        "\n",
        "print(\"Overall Accuracy of MLP on validation set: \", get_accuracy(t_hat_mlp_val, t_val))\n",
        "print(\"Overall Accuracy of MLP on test set: \", get_accuracy(t_hat_mlp_test, t_test))"
      ],
      "metadata": {
        "id": "_kwMW75QC8Bz",
        "outputId": "707fcf63-9444-424f-efdd-285afbd36f87",
        "colab": {
          "base_uri": "https://localhost:8080/"
        }
      },
      "execution_count": 47,
      "outputs": [
        {
          "output_type": "stream",
          "name": "stdout",
          "text": [
            "Overall Accuracy of MLP on validation set:  93.2705125259\n",
            "Overall Accuracy of MLP on test set:  93.3670420593\n"
          ]
        }
      ]
    },
    {
      "cell_type": "code",
      "source": [
        "from sklearn.linear_model import LogisticRegression\n",
        "\n",
        "softmax_model = LogisticRegression(multi_class='multinomial', solver='lbfgs')\n",
        "softmax_model.fit(X_train, t_train)\n",
        "\n",
        "\n",
        "y_pred = softmax_model.predict(X_test)\n",
        "y_pred_prob = softmax_model.predict_proba(X_test)\n",
        "\n",
        "# Evaluate accuracy\n",
        "accuracy = accuracy_score(t_test, y_pred)\n",
        "\n",
        "# Print results\n",
        "print(\"Predicted Class Labels:\", y_pred)\n",
        "print(\"Predicted Probabilities:\")\n",
        "print(y_pred_prob)\n",
        "print(f\"Model Accuracy: {accuracy * 100:.2f}%\")"
      ],
      "metadata": {
        "id": "Yvu3BqpT-3gL",
        "outputId": "8e916b4f-c514-46ed-d8d2-92a69d27df8c",
        "colab": {
          "base_uri": "https://localhost:8080/"
        }
      },
      "execution_count": 48,
      "outputs": [
        {
          "output_type": "stream",
          "name": "stderr",
          "text": [
            "/usr/local/lib/python3.10/dist-packages/sklearn/linear_model/_logistic.py:1247: FutureWarning: 'multi_class' was deprecated in version 1.5 and will be removed in 1.7. From then on, it will always use 'multinomial'. Leave it to its default value to avoid this warning.\n",
            "  warnings.warn(\n"
          ]
        },
        {
          "output_type": "stream",
          "name": "stdout",
          "text": [
            "Predicted Class Labels: [0 0 0 ..., 0 0 0]\n",
            "Predicted Probabilities:\n",
            "[[ 0.03345822  0.92853127  0.03801051]\n",
            " [ 0.04833673  0.90045302  0.05121025]\n",
            " [ 0.24388178  0.50371406  0.25240416]\n",
            " ..., \n",
            " [ 0.02670192  0.94245744  0.03084064]\n",
            " [ 0.0368802   0.92361942  0.03950038]\n",
            " [ 0.03125186  0.93328724  0.03546091]]\n",
            "Model Accuracy: 87.01%\n"
          ]
        },
        {
          "output_type": "stream",
          "name": "stderr",
          "text": [
            "/usr/local/lib/python3.10/dist-packages/sklearn/linear_model/_logistic.py:465: ConvergenceWarning: lbfgs failed to converge (status=1):\n",
            "STOP: TOTAL NO. of ITERATIONS REACHED LIMIT.\n",
            "\n",
            "Increase the number of iterations (max_iter) or scale the data as shown in:\n",
            "    https://scikit-learn.org/stable/modules/preprocessing.html\n",
            "Please also refer to the documentation for alternative solver options:\n",
            "    https://scikit-learn.org/stable/modules/linear_model.html#logistic-regression\n",
            "  n_iter_i = _check_optimize_result(\n"
          ]
        }
      ]
    },
    {
      "cell_type": "markdown",
      "source": [
        "# new source #"
      ],
      "metadata": {
        "id": "7pwxpksMcS1s"
      }
    },
    {
      "cell_type": "code",
      "source": [
        "news= Table.read_table(path+'cryptonews.csv').drop('url','source','title')\n",
        "news = news.where(\"subject\",are.equal_to(\"bitcoin\"))\n",
        "news.show(10)\n"
      ],
      "metadata": {
        "colab": {
          "base_uri": "https://localhost:8080/",
          "height": 392
        },
        "id": "33L0l0CzS5kq",
        "outputId": "a3a94475-c081-465f-d7eb-0d9ee4291de5"
      },
      "execution_count": 49,
      "outputs": [
        {
          "output_type": "display_data",
          "data": {
            "text/plain": [
              "<IPython.core.display.HTML object>"
            ],
            "text/html": [
              "<table border=\"1\" class=\"dataframe\">\n",
              "    <thead>\n",
              "        <tr>\n",
              "            <th>date</th> <th>sentiment</th> <th>subject</th> <th>text</th>\n",
              "        </tr>\n",
              "    </thead>\n",
              "    <tbody>\n",
              "        <tr>\n",
              "            <td>2023-12-19 05:25:00</td> <td>{'class': 'negative', 'polarity': -0.01, 'subjectivity': ...</td> <td>bitcoin</td> <td>Yonsei found that during BTC’s rally in early December,  ...</td>\n",
              "        </tr>\n",
              "        <tr>\n",
              "            <td>2023-12-19 04:50:11</td> <td>{'class': 'positive', 'polarity': 0.3, 'subjectivity': 0.1} </td> <td>bitcoin</td> <td>Cathie Wood led ARK Invest fund sold around 809, 441 Gra ...</td>\n",
              "        </tr>\n",
              "        <tr>\n",
              "            <td>2023-12-19 04:10:00</td> <td>{'class': 'neutral', 'polarity': 0.0, 'subjectivity': 0.0}  </td> <td>bitcoin</td> <td>Bitcoin's 150% surge pales in comparison to the staggeri ...</td>\n",
              "        </tr>\n",
              "        <tr>\n",
              "            <td>2023-12-19 02:59:59</td> <td>{'class': 'negative', 'polarity': -0.08, 'subjectivity': ...</td> <td>bitcoin</td> <td>The SEC has pushed back its decision on a roster of Ethe ...</td>\n",
              "        </tr>\n",
              "        <tr>\n",
              "            <td>2023-12-18 18:33:34</td> <td>{'class': 'negative', 'polarity': -0.27, 'subjectivity': ...</td> <td>bitcoin</td> <td>Bitcoin may remain under pressure for a few days, but a  ...</td>\n",
              "        </tr>\n",
              "        <tr>\n",
              "            <td>2023-12-18 18:15:45</td> <td>{'class': 'neutral', 'polarity': 0.0, 'subjectivity': 0.0}  </td> <td>bitcoin</td> <td>The ad spot came as the U.S. Securities and Exchange Com ...</td>\n",
              "        </tr>\n",
              "        <tr>\n",
              "            <td>2023-12-18 18:11:43</td> <td>{'class': 'positive', 'polarity': 0.3, 'subjectivity': 0.45}</td> <td>bitcoin</td> <td>Bitcoin (BTC), the world's most valuable cryptocurrency, ...</td>\n",
              "        </tr>\n",
              "        <tr>\n",
              "            <td>2023-12-18 17:55:00</td> <td>{'class': 'positive', 'polarity': 0.2, 'subjectivity': 0.7} </td> <td>bitcoin</td> <td>Since the famous meme post to BitcoinTalk, Bitcoin (BTC) ...</td>\n",
              "        </tr>\n",
              "        <tr>\n",
              "            <td>2023-12-18 17:01:00</td> <td>{'class': 'positive', 'polarity': 0.05, 'subjectivity':  ...</td> <td>bitcoin</td> <td>CoinShares said the \"mixed regional flows\" are more indi ...</td>\n",
              "        </tr>\n",
              "        <tr>\n",
              "            <td>2023-12-18 15:42:27</td> <td>{'class': 'negative', 'polarity': -0.1, 'subjectivity': 0.2}</td> <td>bitcoin</td> <td>Digital asset mining firm Hut 8 signed an interim agreem ...</td>\n",
              "        </tr>\n",
              "    </tbody>\n",
              "</table>\n",
              "<p>... (9958 rows omitted)</p>"
            ]
          },
          "metadata": {}
        }
      ]
    },
    {
      "cell_type": "code",
      "source": [
        "#test cell for sentiment\n",
        "print(news.take(0).column(\"text\")[0])\n",
        "\n",
        "news.sort(\"date\",descending=False).show(3)"
      ],
      "metadata": {
        "colab": {
          "base_uri": "https://localhost:8080/",
          "height": 190
        },
        "id": "NHZ-1V1GgawS",
        "outputId": "d95b7735-6de9-451b-cfa9-831791a7ad4e"
      },
      "execution_count": 50,
      "outputs": [
        {
          "output_type": "stream",
          "name": "stdout",
          "text": [
            "Yonsei found that during BTC’s rally in early December, the Binary CDD was also active, signaling recent activity by short-term holders.\n"
          ]
        },
        {
          "output_type": "display_data",
          "data": {
            "text/plain": [
              "<IPython.core.display.HTML object>"
            ],
            "text/html": [
              "<table border=\"1\" class=\"dataframe\">\n",
              "    <thead>\n",
              "        <tr>\n",
              "            <th>date</th> <th>sentiment</th> <th>subject</th> <th>text</th>\n",
              "        </tr>\n",
              "    </thead>\n",
              "    <tbody>\n",
              "        <tr>\n",
              "            <td>2021-11-10 04:58:00</td> <td>{'class': 'neutral', 'polarity': 0.0, 'subjectivity': 0.0}  </td> <td>bitcoin</td> <td>Bitcoin price is correcting gains below USD 67,000. Ethe ...</td>\n",
              "        </tr>\n",
              "        <tr>\n",
              "            <td>2021-11-10 11:09:00</td> <td>{'class': 'negative', 'polarity': -0.02, 'subjectivity': ...</td> <td>bitcoin</td> <td>The much-awaited wallet is scheduled to be launched late ...</td>\n",
              "        </tr>\n",
              "        <tr>\n",
              "            <td>2021-11-10 13:10:00</td> <td>{'class': 'neutral', 'polarity': 0.0, 'subjectivity': 0.0}  </td> <td>bitcoin</td> <td>Bitcoin price is struggling to gain momentum for a move  ...</td>\n",
              "        </tr>\n",
              "    </tbody>\n",
              "</table>\n",
              "<p>... (9965 rows omitted)</p>"
            ]
          },
          "metadata": {}
        }
      ]
    },
    {
      "cell_type": "code",
      "source": [
        "print(type(news.column(\"date\").take(0)))"
      ],
      "metadata": {
        "colab": {
          "base_uri": "https://localhost:8080/"
        },
        "id": "Q7vHGh2r1GM8",
        "outputId": "a072c83d-e03c-4d0f-efaa-02fbdf776a10"
      },
      "execution_count": 51,
      "outputs": [
        {
          "output_type": "stream",
          "name": "stdout",
          "text": [
            "<class 'numpy.str_'>\n"
          ]
        }
      ]
    },
    {
      "cell_type": "code",
      "source": [
        "def date_fix(date):\n",
        "  return date[:-2]+'00'"
      ],
      "metadata": {
        "id": "l0BN1h7Vzzv0"
      },
      "execution_count": 52,
      "outputs": []
    },
    {
      "cell_type": "code",
      "source": [
        "#test date_fix\n",
        "print(date_fix('2021-11-10 13:10:11'))"
      ],
      "metadata": {
        "colab": {
          "base_uri": "https://localhost:8080/"
        },
        "id": "Gl72WIQf3l_0",
        "outputId": "e7fa36bf-03c7-4361-9388-4aee86e6d5da"
      },
      "execution_count": 53,
      "outputs": [
        {
          "output_type": "stream",
          "name": "stdout",
          "text": [
            "2021-11-10 13:10:00\n"
          ]
        }
      ]
    },
    {
      "cell_type": "code",
      "source": [
        "class_ = []\n",
        "polarity_ = []\n",
        "subjectivity_ = []\n",
        "\n",
        "for row in news.column(\"sentiment\"):\n",
        "  row=eval(row)\n",
        "  if row['class']=='neutral':\n",
        "    class_.append(0)\n",
        "  elif row['class']=='negative':\n",
        "    class_.append(-1)\n",
        "  elif row['class']=='positive':\n",
        "    class_.append(1)\n",
        "\n",
        "\n",
        "  polarity_.append(row['polarity'])\n",
        "  subjectivity_.append(row['subjectivity'])\n",
        "\n",
        "class_,polarity_,subjectivity_=map(np.array,(class_,polarity_,subjectivity_))\n",
        "print(class_,polarity_,subjectivity_)\n",
        "\n",
        "fixed_date = news.apply(date_fix,'date')\n",
        "\n",
        "\n",
        "news = news.with_columns(\"class\",class_,\"polarity\",polarity_,\"subjectivity\",subjectivity_,\"date\",fixed_date).drop('sentiment')\n",
        "\n",
        "news.sort(\"date\",descending=True).show(5)\n",
        "\n"
      ],
      "metadata": {
        "colab": {
          "base_uri": "https://localhost:8080/",
          "height": 253
        },
        "id": "2SCv3RFDitV1",
        "outputId": "f7530e06-181a-4717-9301-87a6d20aa0c9"
      },
      "execution_count": 54,
      "outputs": [
        {
          "output_type": "stream",
          "name": "stdout",
          "text": [
            "[-1  1  0 ...,  0 -1  0] [-0.01  0.3   0.   ...,  0.   -0.02  0.  ] [ 0.38  0.1   0.   ...,  0.    0.47  0.  ]\n"
          ]
        },
        {
          "output_type": "display_data",
          "data": {
            "text/plain": [
              "<IPython.core.display.HTML object>"
            ],
            "text/html": [
              "<table border=\"1\" class=\"dataframe\">\n",
              "    <thead>\n",
              "        <tr>\n",
              "            <th>date</th> <th>subject</th> <th>text</th> <th>class</th> <th>polarity</th> <th>subjectivity</th>\n",
              "        </tr>\n",
              "    </thead>\n",
              "    <tbody>\n",
              "        <tr>\n",
              "            <td>2023-12-19 05:25:00</td> <td>bitcoin</td> <td>Yonsei found that during BTC’s rally in early December,  ...</td> <td>-1   </td> <td>-0.01   </td> <td>0.38        </td>\n",
              "        </tr>\n",
              "        <tr>\n",
              "            <td>2023-12-19 04:50:00</td> <td>bitcoin</td> <td>Cathie Wood led ARK Invest fund sold around 809, 441 Gra ...</td> <td>1    </td> <td>0.3     </td> <td>0.1         </td>\n",
              "        </tr>\n",
              "        <tr>\n",
              "            <td>2023-12-19 04:10:00</td> <td>bitcoin</td> <td>Bitcoin's 150% surge pales in comparison to the staggeri ...</td> <td>0    </td> <td>0       </td> <td>0           </td>\n",
              "        </tr>\n",
              "        <tr>\n",
              "            <td>2023-12-19 02:59:00</td> <td>bitcoin</td> <td>The SEC has pushed back its decision on a roster of Ethe ...</td> <td>-1   </td> <td>-0.08   </td> <td>0.64        </td>\n",
              "        </tr>\n",
              "        <tr>\n",
              "            <td>2023-12-18 18:33:00</td> <td>bitcoin</td> <td>Bitcoin may remain under pressure for a few days, but a  ...</td> <td>-1   </td> <td>-0.27   </td> <td>0.33        </td>\n",
              "        </tr>\n",
              "    </tbody>\n",
              "</table>\n",
              "<p>... (9963 rows omitted)</p>"
            ]
          },
          "metadata": {}
        }
      ]
    },
    {
      "cell_type": "code",
      "source": [
        "news= news.to_df()"
      ],
      "metadata": {
        "id": "v7wsgCel8mQw"
      },
      "execution_count": 55,
      "outputs": []
    },
    {
      "cell_type": "code",
      "source": [
        "news['date'] = pd.to_datetime(news['date'])\n",
        "news['Hour'] = news['date'].dt.hour\n",
        "news['Day'] = news['date'].dt.day\n",
        "news['Month'] = news['date'].dt.month\n",
        "news['Year'] = news['date'].dt.year\n",
        "news['Day_of_Week'] = news['date'].dt.dayofweek\n",
        "news['Is_Weekend'] = (news['Day_of_Week'] >= 5).astype(int)\n"
      ],
      "metadata": {
        "id": "5ObFpTGR8qpv"
      },
      "execution_count": 56,
      "outputs": []
    },
    {
      "cell_type": "code",
      "source": [
        "news= Table().from_df(news)\n",
        "news = news.drop(\"date\")"
      ],
      "metadata": {
        "id": "FjT6E-GR8yUa"
      },
      "execution_count": 57,
      "outputs": []
    },
    {
      "cell_type": "code",
      "source": [
        "news=news.drop(\"subject\")"
      ],
      "metadata": {
        "id": "S-Y_3mlBbTD9"
      },
      "execution_count": 58,
      "outputs": []
    },
    {
      "cell_type": "markdown",
      "source": [
        "# Dataset created (news) #\n"
      ],
      "metadata": {
        "id": "YamDLziWaHZP"
      }
    },
    {
      "cell_type": "code",
      "source": [
        "created_sentiment= Table().read_table(path+'news_sent_analysis.csv')\n",
        "created_sentiment.show(1)"
      ],
      "metadata": {
        "colab": {
          "base_uri": "https://localhost:8080/",
          "height": 110
        },
        "id": "62tHAYwYaOH7",
        "outputId": "fd07168f-3137-409c-e68f-c6e7e0ea97a7"
      },
      "execution_count": 59,
      "outputs": [
        {
          "output_type": "display_data",
          "data": {
            "text/plain": [
              "<IPython.core.display.HTML object>"
            ],
            "text/html": [
              "<table border=\"1\" class=\"dataframe\">\n",
              "    <thead>\n",
              "        <tr>\n",
              "            <th>title</th> <th>newsDatetime</th> <th>sentiment</th> <th>polarity</th> <th>subjectivity</th>\n",
              "        </tr>\n",
              "    </thead>\n",
              "    <tbody>\n",
              "        <tr>\n",
              "            <td>Bitcoin Gold Defies Gravity, But Price Rally Looks Weak</td> <td>2017-11-12 15:00:00</td> <td>1        </td> <td>-0.38   </td> <td>0.62        </td>\n",
              "        </tr>\n",
              "    </tbody>\n",
              "</table>\n",
              "<p>... (11024 rows omitted)</p>"
            ]
          },
          "metadata": {}
        }
      ]
    },
    {
      "cell_type": "code",
      "source": [
        "created_sentiment= created_sentiment.relabel(\"title\",\"text\")\n",
        "created_sentiment= created_sentiment.relabel(\"newsDatetime\",\"date\")\n",
        "created_sentiment= created_sentiment.relabel(\"sentiment\",\"class\")\n",
        "created_sentiment= created_sentiment.move_to_start(\"date\")\n",
        "created_sentiment.show(1)"
      ],
      "metadata": {
        "colab": {
          "base_uri": "https://localhost:8080/",
          "height": 110
        },
        "id": "i3XlyrmSavgb",
        "outputId": "67686dbb-d24d-4b95-c8a4-90b511d17478"
      },
      "execution_count": 60,
      "outputs": [
        {
          "output_type": "display_data",
          "data": {
            "text/plain": [
              "<IPython.core.display.HTML object>"
            ],
            "text/html": [
              "<table border=\"1\" class=\"dataframe\">\n",
              "    <thead>\n",
              "        <tr>\n",
              "            <th>date</th> <th>text</th> <th>class</th> <th>polarity</th> <th>subjectivity</th>\n",
              "        </tr>\n",
              "    </thead>\n",
              "    <tbody>\n",
              "        <tr>\n",
              "            <td>2017-11-12 15:00:00</td> <td>Bitcoin Gold Defies Gravity, But Price Rally Looks Weak</td> <td>1    </td> <td>-0.38   </td> <td>0.62        </td>\n",
              "        </tr>\n",
              "    </tbody>\n",
              "</table>\n",
              "<p>... (11024 rows omitted)</p>"
            ]
          },
          "metadata": {}
        }
      ]
    },
    {
      "cell_type": "code",
      "source": [
        "created_sentiment= created_sentiment.to_df()"
      ],
      "metadata": {
        "id": "6oN4W_7y-D_8"
      },
      "execution_count": 61,
      "outputs": []
    },
    {
      "cell_type": "code",
      "source": [
        "created_sentiment['date'] = pd.to_datetime(created_sentiment['date'],format='%Y-%d-%m %H:%M:%S')\n",
        "created_sentiment['Hour'] = created_sentiment['date'].dt.hour\n",
        "created_sentiment['Day'] = created_sentiment['date'].dt.day\n",
        "created_sentiment['Month'] = created_sentiment['date'].dt.month\n",
        "created_sentiment['Year'] = created_sentiment['date'].dt.year\n",
        "created_sentiment['Day_of_Week'] = created_sentiment['date'].dt.dayofweek\n",
        "created_sentiment['Is_Weekend'] = (created_sentiment['Day_of_Week'] >= 5).astype(int)\n"
      ],
      "metadata": {
        "id": "BFXbgkwA97jm"
      },
      "execution_count": 62,
      "outputs": []
    },
    {
      "cell_type": "code",
      "source": [
        "created_sentiment= Table().from_df(created_sentiment)\n",
        "created_sentiment = created_sentiment.drop(\"date\")"
      ],
      "metadata": {
        "id": "1uitY_Ho-KWD"
      },
      "execution_count": 63,
      "outputs": []
    },
    {
      "cell_type": "markdown",
      "source": [
        "# append news #"
      ],
      "metadata": {
        "id": "N7vFru3xcbyE"
      }
    },
    {
      "cell_type": "code",
      "source": [
        "news= news.append(created_sentiment)\n",
        "news.show(5)"
      ],
      "metadata": {
        "colab": {
          "base_uri": "https://localhost:8080/",
          "height": 236
        },
        "id": "5MOGnbhhceld",
        "outputId": "df4f7344-a77a-4a66-834b-2437e1925945"
      },
      "execution_count": 64,
      "outputs": [
        {
          "output_type": "display_data",
          "data": {
            "text/plain": [
              "<IPython.core.display.HTML object>"
            ],
            "text/html": [
              "<table border=\"1\" class=\"dataframe\">\n",
              "    <thead>\n",
              "        <tr>\n",
              "            <th>text</th> <th>class</th> <th>polarity</th> <th>subjectivity</th> <th>Hour</th> <th>Day</th> <th>Month</th> <th>Year</th> <th>Day_of_Week</th> <th>Is_Weekend</th>\n",
              "        </tr>\n",
              "    </thead>\n",
              "    <tbody>\n",
              "        <tr>\n",
              "            <td>Yonsei found that during BTC’s rally in early December,  ...</td> <td>-1   </td> <td>-0.01   </td> <td>0.38        </td> <td>5   </td> <td>19  </td> <td>12   </td> <td>2023</td> <td>1          </td> <td>0         </td>\n",
              "        </tr>\n",
              "        <tr>\n",
              "            <td>Cathie Wood led ARK Invest fund sold around 809, 441 Gra ...</td> <td>1    </td> <td>0.3     </td> <td>0.1         </td> <td>4   </td> <td>19  </td> <td>12   </td> <td>2023</td> <td>1          </td> <td>0         </td>\n",
              "        </tr>\n",
              "        <tr>\n",
              "            <td>Bitcoin's 150% surge pales in comparison to the staggeri ...</td> <td>0    </td> <td>0       </td> <td>0           </td> <td>4   </td> <td>19  </td> <td>12   </td> <td>2023</td> <td>1          </td> <td>0         </td>\n",
              "        </tr>\n",
              "        <tr>\n",
              "            <td>The SEC has pushed back its decision on a roster of Ethe ...</td> <td>-1   </td> <td>-0.08   </td> <td>0.64        </td> <td>2   </td> <td>19  </td> <td>12   </td> <td>2023</td> <td>1          </td> <td>0         </td>\n",
              "        </tr>\n",
              "        <tr>\n",
              "            <td>Bitcoin may remain under pressure for a few days, but a  ...</td> <td>-1   </td> <td>-0.27   </td> <td>0.33        </td> <td>18  </td> <td>18  </td> <td>12   </td> <td>2023</td> <td>0          </td> <td>0         </td>\n",
              "        </tr>\n",
              "    </tbody>\n",
              "</table>\n",
              "<p>... (20988 rows omitted)</p>"
            ]
          },
          "metadata": {}
        }
      ]
    },
    {
      "cell_type": "code",
      "source": [
        "#group test\n",
        "\n",
        "news.group(\"text\").sort(\"count\",descending=True)"
      ],
      "metadata": {
        "colab": {
          "base_uri": "https://localhost:8080/",
          "height": 392
        },
        "id": "4O_OKjDwcwP6",
        "outputId": "f3be56d0-65c3-40b2-97d5-82f55265c30a"
      },
      "execution_count": 65,
      "outputs": [
        {
          "output_type": "execute_result",
          "data": {
            "text/plain": [
              "text                                                         | count\n",
              "Get your daily, bite-sized digest of cryptoasset and blo ... | 165\n",
              "Your daily, bite-sized digest of cryptoasset and blockch ... | 3\n",
              "A tale of two types of Bitcoin investor emerges, as BTC  ... | 2\n",
              "According to a crypto-focused entrepreneur, bitcoin coul ... | 2\n",
              "BTC price dips to six-week lows, but worse could be to c ... | 2\n",
              "BTC price support is yet to reappear, with Bitcoin bulls ... | 2\n",
              "Bitcoin (BTC) and Ethereum (ETH) are now slightly less v ... | 2\n",
              "Bitcoin exchanges see the largest one-day exchange BTC i ... | 2\n",
              "Bitcoin is giving plenty of longtime market participants ... | 2\n",
              "Founded during the major market slump of 2018, 21Shares  ... | 2\n",
              "... (20804 rows omitted)"
            ],
            "text/html": [
              "<table border=\"1\" class=\"dataframe\">\n",
              "    <thead>\n",
              "        <tr>\n",
              "            <th>text</th> <th>count</th>\n",
              "        </tr>\n",
              "    </thead>\n",
              "    <tbody>\n",
              "        <tr>\n",
              "            <td>Get your daily, bite-sized digest of cryptoasset and blo ...</td> <td>165  </td>\n",
              "        </tr>\n",
              "        <tr>\n",
              "            <td>Your daily, bite-sized digest of cryptoasset and blockch ...</td> <td>3    </td>\n",
              "        </tr>\n",
              "        <tr>\n",
              "            <td>A tale of two types of Bitcoin investor emerges, as BTC  ...</td> <td>2    </td>\n",
              "        </tr>\n",
              "        <tr>\n",
              "            <td>According to a crypto-focused entrepreneur, bitcoin coul ...</td> <td>2    </td>\n",
              "        </tr>\n",
              "        <tr>\n",
              "            <td>BTC price dips to six-week lows, but worse could be to c ...</td> <td>2    </td>\n",
              "        </tr>\n",
              "        <tr>\n",
              "            <td>BTC price support is yet to reappear, with Bitcoin bulls ...</td> <td>2    </td>\n",
              "        </tr>\n",
              "        <tr>\n",
              "            <td>Bitcoin (BTC) and Ethereum (ETH) are now slightly less v ...</td> <td>2    </td>\n",
              "        </tr>\n",
              "        <tr>\n",
              "            <td>Bitcoin exchanges see the largest one-day exchange BTC i ...</td> <td>2    </td>\n",
              "        </tr>\n",
              "        <tr>\n",
              "            <td>Bitcoin is giving plenty of longtime market participants ...</td> <td>2    </td>\n",
              "        </tr>\n",
              "        <tr>\n",
              "            <td>Founded during the major market slump of 2018, 21Shares  ...</td> <td>2    </td>\n",
              "        </tr>\n",
              "    </tbody>\n",
              "</table>\n",
              "<p>... (20804 rows omitted)</p>"
            ]
          },
          "metadata": {},
          "execution_count": 65
        }
      ]
    },
    {
      "cell_type": "code",
      "source": [
        "news=news.where(\"text\",are.not_containing(\"Get your daily, bite-sized digest of cryptoasset and blo\"))\n",
        "news.group(\"text\").sort(\"count\",descending=True)"
      ],
      "metadata": {
        "colab": {
          "base_uri": "https://localhost:8080/",
          "height": 392
        },
        "id": "QLAarKrRdXLH",
        "outputId": "2214453d-1695-4c59-a182-192b235c28ac"
      },
      "execution_count": 66,
      "outputs": [
        {
          "output_type": "execute_result",
          "data": {
            "text/plain": [
              "text                                                         | count\n",
              "Your daily, bite-sized digest of cryptoasset and blockch ... | 3\n",
              "A tale of two types of Bitcoin investor emerges, as BTC  ... | 2\n",
              "According to a crypto-focused entrepreneur, bitcoin coul ... | 2\n",
              "BTC price dips to six-week lows, but worse could be to c ... | 2\n",
              "BTC price support is yet to reappear, with Bitcoin bulls ... | 2\n",
              "Bitcoin (BTC) and Ethereum (ETH) are now slightly less v ... | 2\n",
              "Bitcoin exchanges see the largest one-day exchange BTC i ... | 2\n",
              "Bitcoin is giving plenty of longtime market participants ... | 2\n",
              "Founded during the major market slump of 2018, 21Shares  ... | 2\n",
              "Since Jerome Powell's last appearance, the economic outl ... | 2\n",
              "... (20798 rows omitted)"
            ],
            "text/html": [
              "<table border=\"1\" class=\"dataframe\">\n",
              "    <thead>\n",
              "        <tr>\n",
              "            <th>text</th> <th>count</th>\n",
              "        </tr>\n",
              "    </thead>\n",
              "    <tbody>\n",
              "        <tr>\n",
              "            <td>Your daily, bite-sized digest of cryptoasset and blockch ...</td> <td>3    </td>\n",
              "        </tr>\n",
              "        <tr>\n",
              "            <td>A tale of two types of Bitcoin investor emerges, as BTC  ...</td> <td>2    </td>\n",
              "        </tr>\n",
              "        <tr>\n",
              "            <td>According to a crypto-focused entrepreneur, bitcoin coul ...</td> <td>2    </td>\n",
              "        </tr>\n",
              "        <tr>\n",
              "            <td>BTC price dips to six-week lows, but worse could be to c ...</td> <td>2    </td>\n",
              "        </tr>\n",
              "        <tr>\n",
              "            <td>BTC price support is yet to reappear, with Bitcoin bulls ...</td> <td>2    </td>\n",
              "        </tr>\n",
              "        <tr>\n",
              "            <td>Bitcoin (BTC) and Ethereum (ETH) are now slightly less v ...</td> <td>2    </td>\n",
              "        </tr>\n",
              "        <tr>\n",
              "            <td>Bitcoin exchanges see the largest one-day exchange BTC i ...</td> <td>2    </td>\n",
              "        </tr>\n",
              "        <tr>\n",
              "            <td>Bitcoin is giving plenty of longtime market participants ...</td> <td>2    </td>\n",
              "        </tr>\n",
              "        <tr>\n",
              "            <td>Founded during the major market slump of 2018, 21Shares  ...</td> <td>2    </td>\n",
              "        </tr>\n",
              "        <tr>\n",
              "            <td>Since Jerome Powell's last appearance, the economic outl ...</td> <td>2    </td>\n",
              "        </tr>\n",
              "    </tbody>\n",
              "</table>\n",
              "<p>... (20798 rows omitted)</p>"
            ]
          },
          "metadata": {},
          "execution_count": 66
        }
      ]
    },
    {
      "cell_type": "code",
      "source": [
        "temp_news = news.to_df()\n",
        "temp_news = temp_news.drop_duplicates(subset=['text'])\n",
        "news= Table().from_df(temp_news)\n",
        "\n",
        "news.group(\"text\").sort(\"count\",descending=True)"
      ],
      "metadata": {
        "colab": {
          "base_uri": "https://localhost:8080/",
          "height": 392
        },
        "id": "-4BpjobJd9D3",
        "outputId": "1e3f4e19-1676-45e1-d8c6-2520ae1963bb"
      },
      "execution_count": 67,
      "outputs": [
        {
          "output_type": "execute_result",
          "data": {
            "text/plain": [
              "text                                                         | count\n",
              "\n",
              "\n",
              "An automated, on-chain arbitrage strategy for Wrapped  ... | 1\n",
              " #BTC4ALL drops next month!\n",
              "\n",
              " Read up on #MXC's game-cha ... | 1\n",
              " #BTCB - #τBitcoin Vault: Stake $BTCB, Earn τBitcoin.\n",
              "\n",
              "⏳ ... | 1\n",
              " #Bitcoin Cash @Utoday_en $BCH\n",
              "   Potential to be legal  ... | 1\n",
              " #Bitcoin Liquidations Lead $400M in Futures Losses Afte ... | 1\n",
              " #Bitcoin Transactions Surpass Visa according to new ana ... | 1\n",
              " #Bitcoin swaps are available in Klever Wallet \n",
              "\n",
              " Swap # ... | 1\n",
              " #CounosBit (#Cbits) is a new #hard_fork of the #Bitcoin ... | 1\n",
              " #CryptoTwitter\n",
              "\n",
              "What’s your #Bitcoin story?                 | 1\n",
              " #Flux is at its heart about decentralization, it’s buil ... | 1\n",
              "... (20798 rows omitted)"
            ],
            "text/html": [
              "<table border=\"1\" class=\"dataframe\">\n",
              "    <thead>\n",
              "        <tr>\n",
              "            <th>text</th> <th>count</th>\n",
              "        </tr>\n",
              "    </thead>\n",
              "    <tbody>\n",
              "        <tr>\n",
              "            <td>\n",
              "\n",
              "An automated, on-chain arbitrage strategy for Wrapped  ...</td> <td>1    </td>\n",
              "        </tr>\n",
              "        <tr>\n",
              "            <td> #BTC4ALL drops next month!\n",
              "\n",
              " Read up on #MXC's game-cha ...</td> <td>1    </td>\n",
              "        </tr>\n",
              "        <tr>\n",
              "            <td> #BTCB - #τBitcoin Vault: Stake $BTCB, Earn τBitcoin.\n",
              "\n",
              "⏳ ...</td> <td>1    </td>\n",
              "        </tr>\n",
              "        <tr>\n",
              "            <td> #Bitcoin Cash @Utoday_en $BCH\n",
              "   Potential to be legal  ...</td> <td>1    </td>\n",
              "        </tr>\n",
              "        <tr>\n",
              "            <td> #Bitcoin Liquidations Lead $400M in Futures Losses Afte ...</td> <td>1    </td>\n",
              "        </tr>\n",
              "        <tr>\n",
              "            <td> #Bitcoin Transactions Surpass Visa according to new ana ...</td> <td>1    </td>\n",
              "        </tr>\n",
              "        <tr>\n",
              "            <td> #Bitcoin swaps are available in Klever Wallet \n",
              "\n",
              " Swap # ...</td> <td>1    </td>\n",
              "        </tr>\n",
              "        <tr>\n",
              "            <td> #CounosBit (#Cbits) is a new #hard_fork of the #Bitcoin ...</td> <td>1    </td>\n",
              "        </tr>\n",
              "        <tr>\n",
              "            <td> #CryptoTwitter\n",
              "\n",
              "What’s your #Bitcoin story?                </td> <td>1    </td>\n",
              "        </tr>\n",
              "        <tr>\n",
              "            <td> #Flux is at its heart about decentralization, it’s buil ...</td> <td>1    </td>\n",
              "        </tr>\n",
              "    </tbody>\n",
              "</table>\n",
              "<p>... (20798 rows omitted)</p>"
            ]
          },
          "metadata": {},
          "execution_count": 67
        }
      ]
    },
    {
      "cell_type": "code",
      "source": [
        "news.show(3)"
      ],
      "metadata": {
        "colab": {
          "base_uri": "https://localhost:8080/",
          "height": 173
        },
        "id": "16fjxKI1evRR",
        "outputId": "d1033cfa-d1aa-4f7e-d28a-0f1cdd404be3"
      },
      "execution_count": 68,
      "outputs": [
        {
          "output_type": "display_data",
          "data": {
            "text/plain": [
              "<IPython.core.display.HTML object>"
            ],
            "text/html": [
              "<table border=\"1\" class=\"dataframe\">\n",
              "    <thead>\n",
              "        <tr>\n",
              "            <th>text</th> <th>class</th> <th>polarity</th> <th>subjectivity</th> <th>Hour</th> <th>Day</th> <th>Month</th> <th>Year</th> <th>Day_of_Week</th> <th>Is_Weekend</th>\n",
              "        </tr>\n",
              "    </thead>\n",
              "    <tbody>\n",
              "        <tr>\n",
              "            <td>Yonsei found that during BTC’s rally in early December,  ...</td> <td>-1   </td> <td>-0.01   </td> <td>0.38        </td> <td>5   </td> <td>19  </td> <td>12   </td> <td>2023</td> <td>1          </td> <td>0         </td>\n",
              "        </tr>\n",
              "        <tr>\n",
              "            <td>Cathie Wood led ARK Invest fund sold around 809, 441 Gra ...</td> <td>1    </td> <td>0.3     </td> <td>0.1         </td> <td>4   </td> <td>19  </td> <td>12   </td> <td>2023</td> <td>1          </td> <td>0         </td>\n",
              "        </tr>\n",
              "        <tr>\n",
              "            <td>Bitcoin's 150% surge pales in comparison to the staggeri ...</td> <td>0    </td> <td>0       </td> <td>0           </td> <td>4   </td> <td>19  </td> <td>12   </td> <td>2023</td> <td>1          </td> <td>0         </td>\n",
              "        </tr>\n",
              "    </tbody>\n",
              "</table>\n",
              "<p>... (20805 rows omitted)</p>"
            ]
          },
          "metadata": {}
        }
      ]
    },
    {
      "cell_type": "markdown",
      "source": [
        "# merge #"
      ],
      "metadata": {
        "id": "BekWiNYBbGj2"
      }
    },
    {
      "cell_type": "code",
      "source": [
        "merged_table = news.join(['Hour','Day','Month','Year','Day_of_Week','Is_Weekend'],data,['Hour','Day','Month','Year','Day_of_Week','Is_Weekend'])\n",
        "merged_table.show(5)"
      ],
      "metadata": {
        "colab": {
          "base_uri": "https://localhost:8080/",
          "height": 655
        },
        "id": "rrwvGkCI4OQ2",
        "outputId": "a94e053f-0499-4aa5-9541-fb181b9b6d3e"
      },
      "execution_count": 69,
      "outputs": [
        {
          "output_type": "display_data",
          "data": {
            "text/plain": [
              "<IPython.core.display.HTML object>"
            ],
            "text/html": [
              "<table border=\"1\" class=\"dataframe\">\n",
              "    <thead>\n",
              "        <tr>\n",
              "            <th>Hour</th> <th>Day</th> <th>Month</th> <th>Year</th> <th>Day_of_Week</th> <th>Is_Weekend</th> <th>text</th> <th>class</th> <th>polarity</th> <th>subjectivity</th> <th>Open</th> <th>High</th> <th>Low</th> <th>Close</th> <th>Volume</th> <th>vol traded</th> <th>price_change_hourly</th> <th>volume_change_hourly</th> <th>EMA_12h</th> <th>EMA_48h</th> <th>rsi_14</th> <th>rsi_condition</th> <th>Price_Change</th> <th>Target</th>\n",
              "        </tr>\n",
              "    </thead>\n",
              "    <tbody>\n",
              "        <tr>\n",
              "            <td>0   </td> <td>1   </td> <td>3    </td> <td>2024</td> <td>4          </td> <td>0         </td> <td>Bitcoin Volatility Induces $700 Million Carnage In Crypt ...</td> <td>0    </td> <td>0       </td> <td>0           </td> <td>60703</td> <td>60744  </td> <td>60631  </td> <td>60632  </td> <td>0.0884637</td> <td>174.603   </td> <td>-0.116963          </td> <td>-26.4723            </td> <td>62001.6</td> <td>60388.6</td> <td>29.5375</td> <td>-1           </td> <td>1.53054     </td> <td>1     </td>\n",
              "        </tr>\n",
              "        <tr>\n",
              "            <td>0   </td> <td>1   </td> <td>4    </td> <td>2022</td> <td>4          </td> <td>0         </td> <td>Woori Fund Service will team up with the domestic crypto ...</td> <td>0    </td> <td>0       </td> <td>0.1         </td> <td>45649</td> <td>45649  </td> <td>45543.7</td> <td>45545.2</td> <td>8.86637  </td> <td>70.1363   </td> <td>-0.227365          </td> <td>-25.0341            </td> <td>46371.6</td> <td>46920.9</td> <td>26.6969</td> <td>-1           </td> <td>0.429331    </td> <td>0     </td>\n",
              "        </tr>\n",
              "        <tr>\n",
              "            <td>0   </td> <td>1   </td> <td>6    </td> <td>2023</td> <td>3          </td> <td>0         </td> <td>The Federal Reserve might “skip” a rate hike this June a ...</td> <td>0    </td> <td>0       </td> <td>0           </td> <td>27032</td> <td>27032  </td> <td>27026  </td> <td>27028  </td> <td>0.0419755</td> <td>105.28    </td> <td>-0.0147973         </td> <td>64.9979             </td> <td>27089.2</td> <td>27394.4</td> <td>43.686 </td> <td>0            </td> <td>0.344088    </td> <td>0     </td>\n",
              "        </tr>\n",
              "        <tr>\n",
              "            <td>0   </td> <td>1   </td> <td>7    </td> <td>2022</td> <td>4          </td> <td>0         </td> <td>South Korean courts have created a \\x9cworking rule\\x9d  ...</td> <td>-1   </td> <td>-0.5    </td> <td>0.9         </td> <td>18877</td> <td>18882.3</td> <td>18866.8</td> <td>18866.8</td> <td>0.29045  </td> <td>294.717   </td> <td>-0.0542988         </td> <td>103.659             </td> <td>19139  </td> <td>19760.9</td> <td>21.5649</td> <td>-1           </td> <td>-0.565439   </td> <td>0     </td>\n",
              "        </tr>\n",
              "        <tr>\n",
              "            <td>0   </td> <td>1   </td> <td>7    </td> <td>2023</td> <td>5          </td> <td>1         </td> <td>RT @PatrickXDai: Qtum AAL design can enable Qtum become  ...</td> <td>0    </td> <td>0.21    </td> <td>0.64        </td> <td>30397</td> <td>30397  </td> <td>30397  </td> <td>30397  </td> <td>0.30588  </td> <td>46.0688   </td> <td>0                  </td> <td>0.113657            </td> <td>30451  </td> <td>30478.3</td> <td>42.1004</td> <td>0            </td> <td>-0.016449   </td> <td>0     </td>\n",
              "        </tr>\n",
              "    </tbody>\n",
              "</table>\n",
              "<p>... (20553 rows omitted)</p>"
            ]
          },
          "metadata": {}
        }
      ]
    },
    {
      "cell_type": "code",
      "source": [
        "merged_table = merged_table.drop('bitcoin','text','title','subject')\n"
      ],
      "metadata": {
        "id": "HFpi6ujv5ZHb"
      },
      "execution_count": 70,
      "outputs": []
    },
    {
      "cell_type": "code",
      "source": [
        "merged_table.show(5)"
      ],
      "metadata": {
        "colab": {
          "base_uri": "https://localhost:8080/",
          "height": 273
        },
        "id": "HpsDAsI4Z50q",
        "outputId": "27bca641-e1e0-431b-ba68-4bb0fc37426e"
      },
      "execution_count": 71,
      "outputs": [
        {
          "output_type": "display_data",
          "data": {
            "text/plain": [
              "<IPython.core.display.HTML object>"
            ],
            "text/html": [
              "<table border=\"1\" class=\"dataframe\">\n",
              "    <thead>\n",
              "        <tr>\n",
              "            <th>Hour</th> <th>Day</th> <th>Month</th> <th>Year</th> <th>Day_of_Week</th> <th>Is_Weekend</th> <th>class</th> <th>polarity</th> <th>subjectivity</th> <th>Open</th> <th>High</th> <th>Low</th> <th>Close</th> <th>Volume</th> <th>vol traded</th> <th>price_change_hourly</th> <th>volume_change_hourly</th> <th>EMA_12h</th> <th>EMA_48h</th> <th>rsi_14</th> <th>rsi_condition</th> <th>Price_Change</th> <th>Target</th>\n",
              "        </tr>\n",
              "    </thead>\n",
              "    <tbody>\n",
              "        <tr>\n",
              "            <td>0   </td> <td>1   </td> <td>3    </td> <td>2024</td> <td>4          </td> <td>0         </td> <td>0    </td> <td>0       </td> <td>0           </td> <td>60703</td> <td>60744  </td> <td>60631  </td> <td>60632  </td> <td>0.0884637</td> <td>174.603   </td> <td>-0.116963          </td> <td>-26.4723            </td> <td>62001.6</td> <td>60388.6</td> <td>29.5375</td> <td>-1           </td> <td>1.53054     </td> <td>1     </td>\n",
              "        </tr>\n",
              "        <tr>\n",
              "            <td>0   </td> <td>1   </td> <td>4    </td> <td>2022</td> <td>4          </td> <td>0         </td> <td>0    </td> <td>0       </td> <td>0.1         </td> <td>45649</td> <td>45649  </td> <td>45543.7</td> <td>45545.2</td> <td>8.86637  </td> <td>70.1363   </td> <td>-0.227365          </td> <td>-25.0341            </td> <td>46371.6</td> <td>46920.9</td> <td>26.6969</td> <td>-1           </td> <td>0.429331    </td> <td>0     </td>\n",
              "        </tr>\n",
              "        <tr>\n",
              "            <td>0   </td> <td>1   </td> <td>6    </td> <td>2023</td> <td>3          </td> <td>0         </td> <td>0    </td> <td>0       </td> <td>0           </td> <td>27032</td> <td>27032  </td> <td>27026  </td> <td>27028  </td> <td>0.0419755</td> <td>105.28    </td> <td>-0.0147973         </td> <td>64.9979             </td> <td>27089.2</td> <td>27394.4</td> <td>43.686 </td> <td>0            </td> <td>0.344088    </td> <td>0     </td>\n",
              "        </tr>\n",
              "        <tr>\n",
              "            <td>0   </td> <td>1   </td> <td>7    </td> <td>2022</td> <td>4          </td> <td>0         </td> <td>-1   </td> <td>-0.5    </td> <td>0.9         </td> <td>18877</td> <td>18882.3</td> <td>18866.8</td> <td>18866.8</td> <td>0.29045  </td> <td>294.717   </td> <td>-0.0542988         </td> <td>103.659             </td> <td>19139  </td> <td>19760.9</td> <td>21.5649</td> <td>-1           </td> <td>-0.565439   </td> <td>0     </td>\n",
              "        </tr>\n",
              "        <tr>\n",
              "            <td>0   </td> <td>1   </td> <td>7    </td> <td>2023</td> <td>5          </td> <td>1         </td> <td>0    </td> <td>0.21    </td> <td>0.64        </td> <td>30397</td> <td>30397  </td> <td>30397  </td> <td>30397  </td> <td>0.30588  </td> <td>46.0688   </td> <td>0                  </td> <td>0.113657            </td> <td>30451  </td> <td>30478.3</td> <td>42.1004</td> <td>0            </td> <td>-0.016449   </td> <td>0     </td>\n",
              "        </tr>\n",
              "    </tbody>\n",
              "</table>\n",
              "<p>... (20553 rows omitted)</p>"
            ]
          },
          "metadata": {}
        }
      ]
    },
    {
      "cell_type": "markdown",
      "source": [
        "#### model fit ####"
      ],
      "metadata": {
        "id": "yL8nNKPTBX6A"
      }
    },
    {
      "cell_type": "code",
      "source": [
        "target_new= merged_table.column(\"Target\")\n",
        "X_new = merged_table.drop(\"Target\").to_df()"
      ],
      "metadata": {
        "id": "3HY74goxB_4Y"
      },
      "execution_count": 72,
      "outputs": []
    },
    {
      "cell_type": "code",
      "source": [
        "X_train_new , X_temp_new , t_train_new , t_temp_new = train_test_split(X_new, target_new, test_size=(1 - TRAIN_PERC), random_state=RANDOM_SEED,stratify=target_new)\n",
        "X_val_new, X_test_new, t_val_new, t_test_new = train_test_split(X_temp_new , t_temp_new , test_size=0.5, random_state=RANDOM_SEED, stratify=t_temp_new )"
      ],
      "metadata": {
        "id": "VdJ42EZYBXAs"
      },
      "execution_count": 73,
      "outputs": []
    },
    {
      "cell_type": "code",
      "source": [
        "w_log_new, b_log_new = train_logistic_regression(X_train_new, t_train_new)\n",
        "\n",
        "t_hat_train_log_new=predict_logistic_regression(X_train_new, w_log_new, b_log_new)\n",
        "t_hat_val_log_new = predict_logistic_regression(X_val_new, w_log_new, b_log_new)\n",
        "t_hat_test_log_new = predict_logistic_regression(X_test_new, w_log_new, b_log_new)\n",
        "\n",
        "print(\"Overall Accuracy of logistic regression on validation set: \", get_accuracy(t_hat_val_log_new, t_val_new))\n",
        "print(\"Overall Accuracy of logistic regression on test set: \", get_accuracy(t_hat_test_log_new, t_test_new))\n"
      ],
      "metadata": {
        "id": "crIDjkL6CfPQ",
        "outputId": "35e768be-6911-4763-bc34-1c5f6e97f736",
        "colab": {
          "base_uri": "https://localhost:8080/"
        }
      },
      "execution_count": 74,
      "outputs": [
        {
          "output_type": "stream",
          "name": "stdout",
          "text": [
            "Overall Accuracy of logistic regression on validation set:  91.1721789883\n",
            "Overall Accuracy of logistic regression on test set:  91.1721789883\n"
          ]
        },
        {
          "output_type": "stream",
          "name": "stderr",
          "text": [
            "/usr/local/lib/python3.10/dist-packages/pandas/core/arraylike.py:399: RuntimeWarning: overflow encountered in exp\n",
            "  result = getattr(ufunc, method)(*inputs, **kwargs)\n",
            "/usr/local/lib/python3.10/dist-packages/pandas/core/arraylike.py:399: RuntimeWarning: overflow encountered in exp\n",
            "  result = getattr(ufunc, method)(*inputs, **kwargs)\n",
            "/usr/local/lib/python3.10/dist-packages/pandas/core/arraylike.py:399: RuntimeWarning: overflow encountered in exp\n",
            "  result = getattr(ufunc, method)(*inputs, **kwargs)\n"
          ]
        }
      ]
    },
    {
      "cell_type": "code",
      "source": [
        "mlp= train_MLP(X_train_new,t_train_new)\n",
        "\n",
        "t_hat_mlp_train_new=predict_MLP(mlp,X_train_new)\n",
        "t_hat_mlp_val_new=predict_MLP(mlp,X_val_new)\n",
        "t_hat_mlp_test_new= predict_MLP(mlp,X_test_new)\n",
        "\n",
        "print(\"Overall Accuracy of MLP on validation set: \", get_accuracy(t_hat_mlp_val_new, t_val_new))\n",
        "print(\"Overall Accuracy of MLP on test set: \", get_accuracy(t_hat_mlp_test_new, t_test_new))"
      ],
      "metadata": {
        "id": "Ru00GV0xGCNW",
        "outputId": "e5ae2205-8fb2-4cb0-99af-1ac8eebe17d6",
        "colab": {
          "base_uri": "https://localhost:8080/"
        }
      },
      "execution_count": 75,
      "outputs": [
        {
          "output_type": "stream",
          "name": "stdout",
          "text": [
            "Overall Accuracy of MLP on validation set:  84.1682879377\n",
            "Overall Accuracy of MLP on test set:  83.7305447471\n"
          ]
        }
      ]
    },
    {
      "cell_type": "code",
      "source": [
        "from xgboost import XGBClassifier\n",
        "from sklearn.metrics import accuracy_score\n",
        "\n",
        "sample_dict= {-1:0,0:1,1:2}\n",
        "t_train_new_012= np.array(list(map(sample_dict.get,list(t_train_new))))\n",
        "t_test_new_012= np.array(list(map(sample_dict.get,list(t_test_new))))\n",
        "\n",
        "model=XGBClassifier(Objective='multi:softmax',num_class=3)\n",
        "model.fit(X_train_new,t_train_new_012)\n",
        "\n",
        "t_pred_new =model.predict(X_test_new)\n",
        "\n",
        "accuracy= accuracy_score(t_test_new_012,t_pred_new)\n",
        "print(f'{accuracy*100:.2f}')"
      ],
      "metadata": {
        "id": "URpYdWC_913a",
        "outputId": "f33d940b-2a35-493f-f9e9-b77e1d1bdae9",
        "colab": {
          "base_uri": "https://localhost:8080/"
        }
      },
      "execution_count": 76,
      "outputs": [
        {
          "output_type": "stream",
          "name": "stderr",
          "text": [
            "/usr/local/lib/python3.10/dist-packages/xgboost/core.py:158: UserWarning: [04:33:12] WARNING: /workspace/src/learner.cc:740: \n",
            "Parameters: { \"Objective\" } are not used.\n",
            "\n",
            "  warnings.warn(smsg, UserWarning)\n"
          ]
        },
        {
          "output_type": "stream",
          "name": "stdout",
          "text": [
            "99.83\n"
          ]
        }
      ]
    },
    {
      "cell_type": "markdown",
      "source": [
        "# Stats #"
      ],
      "metadata": {
        "id": "NowBc9mdajb_"
      }
    },
    {
      "cell_type": "code",
      "source": [
        "%matplotlib inline\n",
        "import seaborn as sns\n",
        "\n",
        "df= merged_table.to_df()\n",
        "sns.boxplot(x='class', y='Close', data=df)\n",
        "plt.title('Close Price Distribution by Sentiment Class')\n",
        "plt.show()"
      ],
      "metadata": {
        "colab": {
          "base_uri": "https://localhost:8080/",
          "height": 472
        },
        "id": "A3xSKQE38y5y",
        "outputId": "18c07090-5313-446d-ba55-433ac28e9c22"
      },
      "execution_count": 77,
      "outputs": [
        {
          "output_type": "display_data",
          "data": {
            "text/plain": [
              "<Figure size 640x480 with 1 Axes>"
            ],
            "image/png": "[encoded data removed]"
          },
          "metadata": {}
        }
      ]
    },
    {
      "cell_type": "code",
      "source": [
        "downsample_rate = 50\n",
        "date=df['date'][::downsample_rate]\n",
        "polarity=df['polarity'][::downsample_rate]\n",
        "close=df['Close'][::downsample_rate]"
      ],
      "metadata": {
        "id": "uq0Wfb7DDH-n",
        "colab": {
          "base_uri": "https://localhost:8080/",
          "height": 547
        },
        "outputId": "72c8bab3-61aa-4e3e-8ff0-1d544f970ddd"
      },
      "execution_count": 78,
      "outputs": [
        {
          "output_type": "error",
          "ename": "KeyError",
          "evalue": "'date'",
          "traceback": [
            "\u001b[0;31m---------------------------------------------------------------------------\u001b[0m",
            "\u001b[0;31mKeyError\u001b[0m                                  Traceback (most recent call last)",
            "\u001b[0;32m/usr/local/lib/python3.10/dist-packages/pandas/core/indexes/base.py\u001b[0m in \u001b[0;36mget_loc\u001b[0;34m(self, key)\u001b[0m\n\u001b[1;32m   3804\u001b[0m         \u001b[0;32mtry\u001b[0m\u001b[0;34m:\u001b[0m\u001b[0;34m\u001b[0m\u001b[0;34m\u001b[0m\u001b[0m\n\u001b[0;32m-> 3805\u001b[0;31m             \u001b[0;32mreturn\u001b[0m \u001b[0mself\u001b[0m\u001b[0;34m.\u001b[0m\u001b[0m_engine\u001b[0m\u001b[0;34m.\u001b[0m\u001b[0mget_loc\u001b[0m\u001b[0;34m(\u001b[0m\u001b[0mcasted_key\u001b[0m\u001b[0;34m)\u001b[0m\u001b[0;34m\u001b[0m\u001b[0;34m\u001b[0m\u001b[0m\n\u001b[0m\u001b[1;32m   3806\u001b[0m         \u001b[0;32mexcept\u001b[0m \u001b[0mKeyError\u001b[0m \u001b[0;32mas\u001b[0m \u001b[0merr\u001b[0m\u001b[0;34m:\u001b[0m\u001b[0;34m\u001b[0m\u001b[0;34m\u001b[0m\u001b[0m\n",
            "\u001b[0;32mindex.pyx\u001b[0m in \u001b[0;36mpandas._libs.index.IndexEngine.get_loc\u001b[0;34m()\u001b[0m\n",
            "\u001b[0;32mindex.pyx\u001b[0m in \u001b[0;36mpandas._libs.index.IndexEngine.get_loc\u001b[0;34m()\u001b[0m\n",
            "\u001b[0;32mpandas/_libs/hashtable_class_helper.pxi\u001b[0m in \u001b[0;36mpandas._libs.hashtable.PyObjectHashTable.get_item\u001b[0;34m()\u001b[0m\n",
            "\u001b[0;32mpandas/_libs/hashtable_class_helper.pxi\u001b[0m in \u001b[0;36mpandas._libs.hashtable.PyObjectHashTable.get_item\u001b[0;34m()\u001b[0m\n",
            "\u001b[0;31mKeyError\u001b[0m: 'date'",
            "\nThe above exception was the direct cause of the following exception:\n",
            "\u001b[0;31mKeyError\u001b[0m                                  Traceback (most recent call last)",
            "\u001b[0;32m<ipython-input-78-6a104315a264>\u001b[0m in \u001b[0;36m<cell line: 2>\u001b[0;34m()\u001b[0m\n\u001b[1;32m      1\u001b[0m \u001b[0mdownsample_rate\u001b[0m \u001b[0;34m=\u001b[0m \u001b[0;36m50\u001b[0m\u001b[0;34m\u001b[0m\u001b[0;34m\u001b[0m\u001b[0m\n\u001b[0;32m----> 2\u001b[0;31m \u001b[0mdate\u001b[0m\u001b[0;34m=\u001b[0m\u001b[0mdf\u001b[0m\u001b[0;34m[\u001b[0m\u001b[0;34m'date'\u001b[0m\u001b[0;34m]\u001b[0m\u001b[0;34m[\u001b[0m\u001b[0;34m:\u001b[0m\u001b[0;34m:\u001b[0m\u001b[0mdownsample_rate\u001b[0m\u001b[0;34m]\u001b[0m\u001b[0;34m\u001b[0m\u001b[0;34m\u001b[0m\u001b[0m\n\u001b[0m\u001b[1;32m      3\u001b[0m \u001b[0mpolarity\u001b[0m\u001b[0;34m=\u001b[0m\u001b[0mdf\u001b[0m\u001b[0;34m[\u001b[0m\u001b[0;34m'polarity'\u001b[0m\u001b[0;34m]\u001b[0m\u001b[0;34m[\u001b[0m\u001b[0;34m:\u001b[0m\u001b[0;34m:\u001b[0m\u001b[0mdownsample_rate\u001b[0m\u001b[0;34m]\u001b[0m\u001b[0;34m\u001b[0m\u001b[0;34m\u001b[0m\u001b[0m\n\u001b[1;32m      4\u001b[0m \u001b[0mclose\u001b[0m\u001b[0;34m=\u001b[0m\u001b[0mdf\u001b[0m\u001b[0;34m[\u001b[0m\u001b[0;34m'Close'\u001b[0m\u001b[0;34m]\u001b[0m\u001b[0;34m[\u001b[0m\u001b[0;34m:\u001b[0m\u001b[0;34m:\u001b[0m\u001b[0mdownsample_rate\u001b[0m\u001b[0;34m]\u001b[0m\u001b[0;34m\u001b[0m\u001b[0;34m\u001b[0m\u001b[0m\n",
            "\u001b[0;32m/usr/local/lib/python3.10/dist-packages/pandas/core/frame.py\u001b[0m in \u001b[0;36m__getitem__\u001b[0;34m(self, key)\u001b[0m\n\u001b[1;32m   4100\u001b[0m             \u001b[0;32mif\u001b[0m \u001b[0mself\u001b[0m\u001b[0;34m.\u001b[0m\u001b[0mcolumns\u001b[0m\u001b[0;34m.\u001b[0m\u001b[0mnlevels\u001b[0m \u001b[0;34m>\u001b[0m \u001b[0;36m1\u001b[0m\u001b[0;34m:\u001b[0m\u001b[0;34m\u001b[0m\u001b[0;34m\u001b[0m\u001b[0m\n\u001b[1;32m   4101\u001b[0m                 \u001b[0;32mreturn\u001b[0m \u001b[0mself\u001b[0m\u001b[0;34m.\u001b[0m\u001b[0m_getitem_multilevel\u001b[0m\u001b[0;34m(\u001b[0m\u001b[0mkey\u001b[0m\u001b[0;34m)\u001b[0m\u001b[0;34m\u001b[0m\u001b[0;34m\u001b[0m\u001b[0m\n\u001b[0;32m-> 4102\u001b[0;31m             \u001b[0mindexer\u001b[0m \u001b[0;34m=\u001b[0m \u001b[0mself\u001b[0m\u001b[0;34m.\u001b[0m\u001b[0mcolumns\u001b[0m\u001b[0;34m.\u001b[0m\u001b[0mget_loc\u001b[0m\u001b[0;34m(\u001b[0m\u001b[0mkey\u001b[0m\u001b[0;34m)\u001b[0m\u001b[0;34m\u001b[0m\u001b[0;34m\u001b[0m\u001b[0m\n\u001b[0m\u001b[1;32m   4103\u001b[0m             \u001b[0;32mif\u001b[0m \u001b[0mis_integer\u001b[0m\u001b[0;34m(\u001b[0m\u001b[0mindexer\u001b[0m\u001b[0;34m)\u001b[0m\u001b[0;34m:\u001b[0m\u001b[0;34m\u001b[0m\u001b[0;34m\u001b[0m\u001b[0m\n\u001b[1;32m   4104\u001b[0m                 \u001b[0mindexer\u001b[0m \u001b[0;34m=\u001b[0m \u001b[0;34m[\u001b[0m\u001b[0mindexer\u001b[0m\u001b[0;34m]\u001b[0m\u001b[0;34m\u001b[0m\u001b[0;34m\u001b[0m\u001b[0m\n",
            "\u001b[0;32m/usr/local/lib/python3.10/dist-packages/pandas/core/indexes/base.py\u001b[0m in \u001b[0;36mget_loc\u001b[0;34m(self, key)\u001b[0m\n\u001b[1;32m   3810\u001b[0m             ):\n\u001b[1;32m   3811\u001b[0m                 \u001b[0;32mraise\u001b[0m \u001b[0mInvalidIndexError\u001b[0m\u001b[0;34m(\u001b[0m\u001b[0mkey\u001b[0m\u001b[0;34m)\u001b[0m\u001b[0;34m\u001b[0m\u001b[0;34m\u001b[0m\u001b[0m\n\u001b[0;32m-> 3812\u001b[0;31m             \u001b[0;32mraise\u001b[0m \u001b[0mKeyError\u001b[0m\u001b[0;34m(\u001b[0m\u001b[0mkey\u001b[0m\u001b[0;34m)\u001b[0m \u001b[0;32mfrom\u001b[0m \u001b[0merr\u001b[0m\u001b[0;34m\u001b[0m\u001b[0;34m\u001b[0m\u001b[0m\n\u001b[0m\u001b[1;32m   3813\u001b[0m         \u001b[0;32mexcept\u001b[0m \u001b[0mTypeError\u001b[0m\u001b[0;34m:\u001b[0m\u001b[0;34m\u001b[0m\u001b[0;34m\u001b[0m\u001b[0m\n\u001b[1;32m   3814\u001b[0m             \u001b[0;31m# If we have a listlike key, _check_indexing_error will raise\u001b[0m\u001b[0;34m\u001b[0m\u001b[0;34m\u001b[0m\u001b[0m\n",
            "\u001b[0;31mKeyError\u001b[0m: 'date'"
          ]
        }
      ]
    },
    {
      "cell_type": "code",
      "source": [
        "plt.figure()\n",
        "plt.plot(date,close,'k',label = 'Bitcoin price (USD)')\n",
        "plt.plot(date,7000*polarity,'r',label = 'polarity')\n",
        "plt.plot(date,np.zeros(len(date)))\n",
        "plt.ylabel('USD')\n",
        "plt.xticks(date[::100],rotation='vertical')\n",
        "plt.legend()\n",
        "plt.show"
      ],
      "metadata": {
        "id": "YGUf3jbVFPN2"
      },
      "execution_count": null,
      "outputs": []
    },
    {
      "cell_type": "code",
      "source": [],
      "metadata": {
        "id": "zqx5b_obDbHo"
      },
      "execution_count": null,
      "outputs": []
    },
    {
      "cell_type": "code",
      "source": [
        "from scipy.stats import f_oneway\n",
        "\n",
        "negative = df[df['class'] == -1]['Close']\n",
        "neutral = df[df['class'] == 0]['Close']\n",
        "positive = df[df['class'] == 1]['Close']\n",
        "\n",
        "stat, p_value = f_oneway(negative, neutral, positive)\n",
        "\n",
        "print(f\"ANOVA Statistic: {stat}, p-value: {p_value}\")\n",
        "if p_value < 0.05:\n",
        "    print(\"Significant difference in Close Price across sentiment classes.\")\n",
        "else:\n",
        "    print(\"No significant difference in Close Price across sentiment classes.\")"
      ],
      "metadata": {
        "id": "zNf_tjhQ-jAh"
      },
      "execution_count": null,
      "outputs": []
    }
  ]
}