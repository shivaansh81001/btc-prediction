{
  "nbformat": 4,
  "nbformat_minor": 0,
  "metadata": {
    "colab": {
      "provenance": [],
      "authorship_tag": "ABX9TyN/bPgJKSt9t5gV2IpUDLHX",
      "include_colab_link": true
    },
    "kernelspec": {
      "name": "python3",
      "display_name": "Python 3"
    },
    "language_info": {
      "name": "python"
    }
  },
  "cells": [
    {
      "cell_type": "markdown",
      "metadata": {
        "id": "view-in-github",
        "colab_type": "text"
      },
      "source": [
        "<a href=\"https://colab.research.google.com/github/shivaansh81001/btc-prediction/blob/main/btc_data_test.ipynb\" target=\"_parent\"><img src=\"https://colab.research.google.com/assets/colab-badge.svg\" alt=\"Open In Colab\"/></a>"
      ]
    },
    {
      "cell_type": "code",
      "execution_count": 124,
      "metadata": {
        "id": "42fy9cdPu76b"
      },
      "outputs": [],
      "source": [
        "from datascience import *\n",
        "import numpy as np\n",
        "import matplotlib.pyplot as plt\n",
        "import pandas as pd\n",
        "from datetime import datetime"
      ]
    },
    {
      "cell_type": "code",
      "source": [
        "path='sample_data/'"
      ],
      "metadata": {
        "id": "1pZ9hm_k1PHB"
      },
      "execution_count": 125,
      "outputs": []
    },
    {
      "cell_type": "code",
      "source": [
        "TABLE_NAME='btcusd_1-min_data.csv'\n",
        "data=Table().read_table(path+TABLE_NAME)\n",
        "data= data.where(\"Timestamp\",are.above_or_equal_to(1636520280))\n",
        "data.show(5)"
      ],
      "metadata": {
        "colab": {
          "base_uri": "https://localhost:8080/",
          "height": 235
        },
        "id": "4EUnoPwC0vl0",
        "outputId": "eccf4ded-9387-4415-a3bd-cb5ae43590a8"
      },
      "execution_count": 126,
      "outputs": [
        {
          "output_type": "display_data",
          "data": {
            "text/plain": [
              "<IPython.core.display.HTML object>"
            ],
            "text/html": [
              "<table border=\"1\" class=\"dataframe\">\n",
              "    <thead>\n",
              "        <tr>\n",
              "            <th>Timestamp</th> <th>Open</th> <th>High</th> <th>Low</th> <th>Close</th> <th>Volume</th>\n",
              "        </tr>\n",
              "    </thead>\n",
              "    <tbody>\n",
              "        <tr>\n",
              "            <td>1.63652e+09</td> <td>66991.5</td> <td>66991.5</td> <td>66935.9</td> <td>66935.9</td> <td>2.06704  </td>\n",
              "        </tr>\n",
              "        <tr>\n",
              "            <td>1.63652e+09</td> <td>66937.1</td> <td>66945.7</td> <td>66927.5</td> <td>66945.7</td> <td>0.130802 </td>\n",
              "        </tr>\n",
              "        <tr>\n",
              "            <td>1.63652e+09</td> <td>66928.4</td> <td>66988.9</td> <td>66928.4</td> <td>66972.1</td> <td>0.031246 </td>\n",
              "        </tr>\n",
              "        <tr>\n",
              "            <td>1.63652e+09</td> <td>66995.5</td> <td>67014.5</td> <td>66995.5</td> <td>67014.5</td> <td>0.0697985</td>\n",
              "        </tr>\n",
              "        <tr>\n",
              "            <td>1.63652e+09</td> <td>67018.2</td> <td>67123.4</td> <td>67007.5</td> <td>67123.4</td> <td>1.64906  </td>\n",
              "        </tr>\n",
              "    </tbody>\n",
              "</table>\n",
              "<p>... (1553738 rows omitted)</p>"
            ]
          },
          "metadata": {}
        }
      ]
    },
    {
      "cell_type": "code",
      "source": [
        "def format_price(price):\n",
        "  split_=price.split(',')\n",
        "  return float(split_[0]+split_[1])\n",
        "\n",
        "def format_vol(vol):\n",
        "  split_=float(vol[:-1])*1000\n",
        "  return split_\n",
        "\n",
        "def format_change(change):\n",
        "  return float(change[:-1])\n",
        "\n",
        "def format_time(time):\n",
        "  time=int(time)\n",
        "  return str(datetime.utcfromtimestamp(time).strftime('%Y-%m-%d %H:%M:%S'))"
      ],
      "metadata": {
        "id": "rbubMzwx1eEW"
      },
      "execution_count": 127,
      "outputs": []
    },
    {
      "cell_type": "code",
      "source": [
        "#test format_price\n",
        "print(format_price('95,284.5'))\n",
        "\n",
        "#test format_vol\n",
        "print(format_vol('61.62K'))\n",
        "\n",
        "#test format_time\n",
        "print(format_time(1734447660))"
      ],
      "metadata": {
        "colab": {
          "base_uri": "https://localhost:8080/"
        },
        "id": "ObyVDOgPCXrN",
        "outputId": "dd8eddc2-dac7-48c4-8ce5-168bad14491f"
      },
      "execution_count": 128,
      "outputs": [
        {
          "output_type": "stream",
          "name": "stdout",
          "text": [
            "95284.5\n",
            "61620.0\n",
            "2024-12-17 15:01:00\n"
          ]
        }
      ]
    },
    {
      "cell_type": "code",
      "source": [
        "formatted_time = data.apply(format_time,\"Timestamp\")\n",
        "data = data.with_column(\"Timestamp\",formatted_time)\n",
        "\n",
        "data.show(5)"
      ],
      "metadata": {
        "colab": {
          "base_uri": "https://localhost:8080/",
          "height": 235
        },
        "id": "PmaAOPXDCo9w",
        "outputId": "5a4e3ef7-cd00-466b-e08c-ff51774f71b2"
      },
      "execution_count": 129,
      "outputs": [
        {
          "output_type": "display_data",
          "data": {
            "text/plain": [
              "<IPython.core.display.HTML object>"
            ],
            "text/html": [
              "<table border=\"1\" class=\"dataframe\">\n",
              "    <thead>\n",
              "        <tr>\n",
              "            <th>Timestamp</th> <th>Open</th> <th>High</th> <th>Low</th> <th>Close</th> <th>Volume</th>\n",
              "        </tr>\n",
              "    </thead>\n",
              "    <tbody>\n",
              "        <tr>\n",
              "            <td>2021-11-10 04:58:00</td> <td>66991.5</td> <td>66991.5</td> <td>66935.9</td> <td>66935.9</td> <td>2.06704  </td>\n",
              "        </tr>\n",
              "        <tr>\n",
              "            <td>2021-11-10 04:59:00</td> <td>66937.1</td> <td>66945.7</td> <td>66927.5</td> <td>66945.7</td> <td>0.130802 </td>\n",
              "        </tr>\n",
              "        <tr>\n",
              "            <td>2021-11-10 05:00:00</td> <td>66928.4</td> <td>66988.9</td> <td>66928.4</td> <td>66972.1</td> <td>0.031246 </td>\n",
              "        </tr>\n",
              "        <tr>\n",
              "            <td>2021-11-10 05:01:00</td> <td>66995.5</td> <td>67014.5</td> <td>66995.5</td> <td>67014.5</td> <td>0.0697985</td>\n",
              "        </tr>\n",
              "        <tr>\n",
              "            <td>2021-11-10 05:02:00</td> <td>67018.2</td> <td>67123.4</td> <td>67007.5</td> <td>67123.4</td> <td>1.64906  </td>\n",
              "        </tr>\n",
              "    </tbody>\n",
              "</table>\n",
              "<p>... (1553738 rows omitted)</p>"
            ]
          },
          "metadata": {}
        }
      ]
    },
    {
      "cell_type": "code",
      "source": [
        "'''%matplotlib inline\n",
        "\n",
        "data.plot(\"Date\",\"Price\")\n",
        "\n",
        "data.plot(\"Date\",\"Change %\")\n",
        "\n",
        "data.scatter('Date',\"Price\")'''\n"
      ],
      "metadata": {
        "colab": {
          "base_uri": "https://localhost:8080/",
          "height": 36
        },
        "id": "BvI-WbX4MFph",
        "outputId": "10a41eef-88cb-4855-e516-72b2b901f67e"
      },
      "execution_count": 131,
      "outputs": [
        {
          "output_type": "execute_result",
          "data": {
            "text/plain": [
              "'%matplotlib inline\\n\\ndata.plot(\"Date\",\"Price\")\\n\\ndata.plot(\"Date\",\"Change %\")\\n\\ndata.scatter(\\'Date\\',\"Price\")'"
            ],
            "application/vnd.google.colaboratory.intrinsic+json": {
              "type": "string"
            }
          },
          "metadata": {},
          "execution_count": 131
        }
      ]
    },
    {
      "cell_type": "code",
      "source": [
        "news= Table.read_table(path+'cryptonews.csv').drop('url','source')\n",
        "news = news.where(\"subject\",are.equal_to(\"bitcoin\"))\n",
        "news.show(10)\n"
      ],
      "metadata": {
        "colab": {
          "base_uri": "https://localhost:8080/",
          "height": 392
        },
        "id": "33L0l0CzS5kq",
        "outputId": "7839e3c6-0eec-4624-d32e-b0988c65d8aa"
      },
      "execution_count": 141,
      "outputs": [
        {
          "output_type": "display_data",
          "data": {
            "text/plain": [
              "<IPython.core.display.HTML object>"
            ],
            "text/html": [
              "<table border=\"1\" class=\"dataframe\">\n",
              "    <thead>\n",
              "        <tr>\n",
              "            <th>date</th> <th>sentiment</th> <th>subject</th> <th>text</th> <th>title</th>\n",
              "        </tr>\n",
              "    </thead>\n",
              "    <tbody>\n",
              "        <tr>\n",
              "            <td>2023-12-19 05:25:00</td> <td>{'class': 'negative', 'polarity': -0.01, 'subjectivity': ...</td> <td>bitcoin</td> <td>Yonsei found that during BTC’s rally in early December,  ...</td> <td>Is This Why Bitcoin’s Price Rally Was Halted? (CryptoQuant) </td>\n",
              "        </tr>\n",
              "        <tr>\n",
              "            <td>2023-12-19 04:50:11</td> <td>{'class': 'positive', 'polarity': 0.3, 'subjectivity': 0.1} </td> <td>bitcoin</td> <td>Cathie Wood led ARK Invest fund sold around 809, 441 Gra ...</td> <td>Cathie Wood’s Ark Invest Sells $27.6 Million in GBTC Sha ...</td>\n",
              "        </tr>\n",
              "        <tr>\n",
              "            <td>2023-12-19 04:10:00</td> <td>{'class': 'neutral', 'polarity': 0.0, 'subjectivity': 0.0}  </td> <td>bitcoin</td> <td>Bitcoin's 150% surge pales in comparison to the staggeri ...</td> <td>Bitcoin Soared 150% in 2023 But These Companies Did Even ...</td>\n",
              "        </tr>\n",
              "        <tr>\n",
              "            <td>2023-12-19 02:59:59</td> <td>{'class': 'negative', 'polarity': -0.08, 'subjectivity': ...</td> <td>bitcoin</td> <td>The SEC has pushed back its decision on a roster of Ethe ...</td> <td>SEC delays several Ethereum ETFs, pushing final decision ...</td>\n",
              "        </tr>\n",
              "        <tr>\n",
              "            <td>2023-12-18 18:33:34</td> <td>{'class': 'negative', 'polarity': -0.27, 'subjectivity': ...</td> <td>bitcoin</td> <td>Bitcoin may remain under pressure for a few days, but a  ...</td> <td>Price analysis 12/18: SPX, DXY, BTC, ETH, BNB, XRP, SOL, ...</td>\n",
              "        </tr>\n",
              "        <tr>\n",
              "            <td>2023-12-18 18:15:45</td> <td>{'class': 'neutral', 'polarity': 0.0, 'subjectivity': 0.0}  </td> <td>bitcoin</td> <td>The ad spot came as the U.S. Securities and Exchange Com ...</td> <td>Bitwise launches crypto ETF media campaign with ‘The Mos ...</td>\n",
              "        </tr>\n",
              "        <tr>\n",
              "            <td>2023-12-18 18:11:43</td> <td>{'class': 'positive', 'polarity': 0.3, 'subjectivity': 0.45}</td> <td>bitcoin</td> <td>Bitcoin (BTC), the world's most valuable cryptocurrency, ...</td> <td>Bitcoin Price Prediction as VanEck’s CEO Says BTC Will H ...</td>\n",
              "        </tr>\n",
              "        <tr>\n",
              "            <td>2023-12-18 17:55:00</td> <td>{'class': 'positive', 'polarity': 0.2, 'subjectivity': 0.7} </td> <td>bitcoin</td> <td>Since the famous meme post to BitcoinTalk, Bitcoin (BTC) ...</td> <td>Bitcoiners Celebrate 10th Anniversary Of ‘HODL’ Meme        </td>\n",
              "        </tr>\n",
              "        <tr>\n",
              "            <td>2023-12-18 17:01:00</td> <td>{'class': 'positive', 'polarity': 0.05, 'subjectivity':  ...</td> <td>bitcoin</td> <td>CoinShares said the \"mixed regional flows\" are more indi ...</td> <td>Bitcoin Ends 11-Week Winning Streak With $33M Outflows W ...</td>\n",
              "        </tr>\n",
              "        <tr>\n",
              "            <td>2023-12-18 15:42:27</td> <td>{'class': 'negative', 'polarity': -0.1, 'subjectivity': 0.2}</td> <td>bitcoin</td> <td>Digital asset mining firm Hut 8 signed an interim agreem ...</td> <td>Bitcoin Miner Hut 8 to Build Out Mining Facility in Part ...</td>\n",
              "        </tr>\n",
              "    </tbody>\n",
              "</table>\n",
              "<p>... (9958 rows omitted)</p>"
            ]
          },
          "metadata": {}
        }
      ]
    },
    {
      "cell_type": "code",
      "source": [
        "#test cell for sentiment\n",
        "print(news.take(0).column(\"text\")[0])\n",
        "\n",
        "news.sort(\"date\",descending=False).show(3)"
      ],
      "metadata": {
        "colab": {
          "base_uri": "https://localhost:8080/",
          "height": 191
        },
        "id": "NHZ-1V1GgawS",
        "outputId": "99a33ddb-05b6-4f7d-9ded-c00d44ec5dd5"
      },
      "execution_count": 142,
      "outputs": [
        {
          "output_type": "stream",
          "name": "stdout",
          "text": [
            "Yonsei found that during BTC’s rally in early December, the Binary CDD was also active, signaling recent activity by short-term holders.\n"
          ]
        },
        {
          "output_type": "display_data",
          "data": {
            "text/plain": [
              "<IPython.core.display.HTML object>"
            ],
            "text/html": [
              "<table border=\"1\" class=\"dataframe\">\n",
              "    <thead>\n",
              "        <tr>\n",
              "            <th>date</th> <th>sentiment</th> <th>subject</th> <th>text</th> <th>title</th>\n",
              "        </tr>\n",
              "    </thead>\n",
              "    <tbody>\n",
              "        <tr>\n",
              "            <td>2021-11-10 04:58:00</td> <td>{'class': 'neutral', 'polarity': 0.0, 'subjectivity': 0.0}  </td> <td>bitcoin</td> <td>Bitcoin price is correcting gains below USD 67,000. Ethe ...</td> <td>Bitcoin and Ethereum Correct Gains, Major Altcoins Turn Red</td>\n",
              "        </tr>\n",
              "        <tr>\n",
              "            <td>2021-11-10 11:09:00</td> <td>{'class': 'negative', 'polarity': -0.02, 'subjectivity': ...</td> <td>bitcoin</td> <td>The much-awaited wallet is scheduled to be launched late ...</td> <td>Robinhood Crypto Wallet Waitlist Attracts 1.6M People      </td>\n",
              "        </tr>\n",
              "        <tr>\n",
              "            <td>2021-11-10 13:10:00</td> <td>{'class': 'neutral', 'polarity': 0.0, 'subjectivity': 0.0}  </td> <td>bitcoin</td> <td>Bitcoin price is struggling to gain momentum for a move  ...</td> <td>Bitcoin and Ethereum Prepare For Next Move                 </td>\n",
              "        </tr>\n",
              "    </tbody>\n",
              "</table>\n",
              "<p>... (9965 rows omitted)</p>"
            ]
          },
          "metadata": {}
        }
      ]
    },
    {
      "cell_type": "code",
      "source": [
        "print(type(news.column(\"date\").take(0)))"
      ],
      "metadata": {
        "colab": {
          "base_uri": "https://localhost:8080/"
        },
        "id": "Q7vHGh2r1GM8",
        "outputId": "078b7583-663f-4894-b8ff-ada92741280a"
      },
      "execution_count": 143,
      "outputs": [
        {
          "output_type": "stream",
          "name": "stdout",
          "text": [
            "<class 'numpy.str_'>\n"
          ]
        }
      ]
    },
    {
      "cell_type": "code",
      "source": [
        "def date_fix(date):\n",
        "  return date[:-2]+'00'"
      ],
      "metadata": {
        "id": "l0BN1h7Vzzv0"
      },
      "execution_count": 144,
      "outputs": []
    },
    {
      "cell_type": "code",
      "source": [
        "#test date_fix\n",
        "print(date_fix('2021-11-10 13:10:11'))"
      ],
      "metadata": {
        "colab": {
          "base_uri": "https://localhost:8080/"
        },
        "id": "Gl72WIQf3l_0",
        "outputId": "0b463bb2-751f-4ece-bb2c-20aa08e3bf19"
      },
      "execution_count": 145,
      "outputs": [
        {
          "output_type": "stream",
          "name": "stdout",
          "text": [
            "2021-11-10 13:10:00\n"
          ]
        }
      ]
    },
    {
      "cell_type": "code",
      "source": [
        "class_ = []\n",
        "polarity_ = []\n",
        "subjectivity_ = []\n",
        "\n",
        "for row in news.column(\"sentiment\"):\n",
        "  row=eval(row)\n",
        "  if row['class']=='neutral':\n",
        "    class_.append(0)\n",
        "  elif row['class']=='negative':\n",
        "    class_.append(-1)\n",
        "  elif row['class']=='positive':\n",
        "    class_.append(1)\n",
        "\n",
        "\n",
        "  polarity_.append(row['polarity'])\n",
        "  subjectivity_.append(row['subjectivity'])\n",
        "\n",
        "class_,polarity_,subjectivity_=map(np.array,(class_,polarity_,subjectivity_))\n",
        "print(class_,polarity_,subjectivity_)\n",
        "\n",
        "fixed_date = news.apply(date_fix,'date')\n",
        "\n",
        "\n",
        "news = news.with_columns(\"class\",class_,\"polarity\",polarity_,\"subjectivity\",subjectivity_,\"date\",fixed_date).drop('sentiment')\n",
        "\n",
        "news.sort(\"date\",descending=False).show(5)\n",
        "\n"
      ],
      "metadata": {
        "colab": {
          "base_uri": "https://localhost:8080/",
          "height": 254
        },
        "id": "2SCv3RFDitV1",
        "outputId": "23d8a06e-7be4-4175-e434-fa121ffebc66"
      },
      "execution_count": 146,
      "outputs": [
        {
          "output_type": "stream",
          "name": "stdout",
          "text": [
            "[-1  1  0 ...,  0 -1  0] [-0.01  0.3   0.   ...,  0.   -0.02  0.  ] [ 0.38  0.1   0.   ...,  0.    0.47  0.  ]\n"
          ]
        },
        {
          "output_type": "display_data",
          "data": {
            "text/plain": [
              "<IPython.core.display.HTML object>"
            ],
            "text/html": [
              "<table border=\"1\" class=\"dataframe\">\n",
              "    <thead>\n",
              "        <tr>\n",
              "            <th>date</th> <th>subject</th> <th>text</th> <th>title</th> <th>class</th> <th>polarity</th> <th>subjectivity</th>\n",
              "        </tr>\n",
              "    </thead>\n",
              "    <tbody>\n",
              "        <tr>\n",
              "            <td>2021-11-10 04:58:00</td> <td>bitcoin</td> <td>Bitcoin price is correcting gains below USD 67,000. Ethe ...</td> <td>Bitcoin and Ethereum Correct Gains, Major Altcoins Turn Red </td> <td>0    </td> <td>0       </td> <td>0           </td>\n",
              "        </tr>\n",
              "        <tr>\n",
              "            <td>2021-11-10 11:09:00</td> <td>bitcoin</td> <td>The much-awaited wallet is scheduled to be launched late ...</td> <td>Robinhood Crypto Wallet Waitlist Attracts 1.6M People       </td> <td>-1   </td> <td>-0.02   </td> <td>0.47        </td>\n",
              "        </tr>\n",
              "        <tr>\n",
              "            <td>2021-11-10 13:10:00</td> <td>bitcoin</td> <td>Bitcoin price is struggling to gain momentum for a move  ...</td> <td>Bitcoin and Ethereum Prepare For Next Move                  </td> <td>0    </td> <td>0       </td> <td>0           </td>\n",
              "        </tr>\n",
              "        <tr>\n",
              "            <td>2021-11-10 15:37:00</td> <td>bitcoin</td> <td>Bitcoin (BTC) hit yet another all-time high on Wednesday    </td> <td>Bitcoin Hits All-Time High on Record US Inflation Figures   </td> <td>1    </td> <td>0.16    </td> <td>0.54        </td>\n",
              "        </tr>\n",
              "        <tr>\n",
              "            <td>2021-11-11 09:07:00</td> <td>bitcoin</td> <td>The latest announcement appears part of a coordinated an ...</td> <td>Twitter Launches Twitter Crypto: Here's How the Company  ...</td> <td>1    </td> <td>0.38    </td> <td>0.57        </td>\n",
              "        </tr>\n",
              "    </tbody>\n",
              "</table>\n",
              "<p>... (9963 rows omitted)</p>"
            ]
          },
          "metadata": {}
        }
      ]
    },
    {
      "cell_type": "code",
      "source": [
        "merged_table = news.join(\"date\",data,\"Timestamp\")\n",
        "merged_table.show(5)"
      ],
      "metadata": {
        "colab": {
          "base_uri": "https://localhost:8080/",
          "height": 235
        },
        "id": "rrwvGkCI4OQ2",
        "outputId": "e2b057b6-d612-416c-aa84-1410d943c08c"
      },
      "execution_count": 147,
      "outputs": [
        {
          "output_type": "display_data",
          "data": {
            "text/plain": [
              "<IPython.core.display.HTML object>"
            ],
            "text/html": [
              "<table border=\"1\" class=\"dataframe\">\n",
              "    <thead>\n",
              "        <tr>\n",
              "            <th>date</th> <th>subject</th> <th>text</th> <th>title</th> <th>class</th> <th>polarity</th> <th>subjectivity</th> <th>Open</th> <th>High</th> <th>Low</th> <th>Close</th> <th>Volume</th>\n",
              "        </tr>\n",
              "    </thead>\n",
              "    <tbody>\n",
              "        <tr>\n",
              "            <td>2021-11-10 04:58:00</td> <td>bitcoin</td> <td>Bitcoin price is correcting gains below USD 67,000. Ethe ...</td> <td>Bitcoin and Ethereum Correct Gains, Major Altcoins Turn Red </td> <td>0    </td> <td>0       </td> <td>0           </td> <td>66991.5</td> <td>66991.5</td> <td>66935.9</td> <td>66935.9</td> <td>2.06704 </td>\n",
              "        </tr>\n",
              "        <tr>\n",
              "            <td>2021-11-10 11:09:00</td> <td>bitcoin</td> <td>The much-awaited wallet is scheduled to be launched late ...</td> <td>Robinhood Crypto Wallet Waitlist Attracts 1.6M People       </td> <td>-1   </td> <td>-0.02   </td> <td>0.47        </td> <td>66540.2</td> <td>66540.2</td> <td>66540.2</td> <td>66540.2</td> <td>0.00301 </td>\n",
              "        </tr>\n",
              "        <tr>\n",
              "            <td>2021-11-10 13:10:00</td> <td>bitcoin</td> <td>Bitcoin price is struggling to gain momentum for a move  ...</td> <td>Bitcoin and Ethereum Prepare For Next Move                  </td> <td>0    </td> <td>0       </td> <td>0           </td> <td>66496.7</td> <td>66517.3</td> <td>66496.7</td> <td>66517.3</td> <td>0.192173</td>\n",
              "        </tr>\n",
              "        <tr>\n",
              "            <td>2021-11-10 15:37:00</td> <td>bitcoin</td> <td>Bitcoin (BTC) hit yet another all-time high on Wednesday    </td> <td>Bitcoin Hits All-Time High on Record US Inflation Figures   </td> <td>1    </td> <td>0.16    </td> <td>0.54        </td> <td>66840.1</td> <td>66852.4</td> <td>66832.9</td> <td>66836.5</td> <td>0.43763 </td>\n",
              "        </tr>\n",
              "        <tr>\n",
              "            <td>2021-11-11 09:07:00</td> <td>bitcoin</td> <td>The latest announcement appears part of a coordinated an ...</td> <td>Twitter Launches Twitter Crypto: Here's How the Company  ...</td> <td>1    </td> <td>0.38    </td> <td>0.57        </td> <td>64708.8</td> <td>64825.7</td> <td>64708.8</td> <td>64825.7</td> <td>2.24765 </td>\n",
              "        </tr>\n",
              "    </tbody>\n",
              "</table>\n",
              "<p>... (9944 rows omitted)</p>"
            ]
          },
          "metadata": {}
        }
      ]
    },
    {
      "cell_type": "code",
      "source": [
        "merged_table = merged_table.drop('bitcoin','text','title','subject')\n"
      ],
      "metadata": {
        "id": "HFpi6ujv5ZHb"
      },
      "execution_count": 174,
      "outputs": []
    },
    {
      "cell_type": "code",
      "source": [
        "%matplotlib inline\n",
        "import seaborn as sns\n",
        "\n",
        "df= merged_table.to_df()\n",
        "sns.boxplot(x='class', y='Close', data=df)\n",
        "plt.title('Close Price Distribution by Sentiment Class')\n",
        "plt.show()"
      ],
      "metadata": {
        "colab": {
          "base_uri": "https://localhost:8080/",
          "height": 472
        },
        "id": "A3xSKQE38y5y",
        "outputId": "8eb4887a-99ca-415d-f5cc-640def874a19"
      },
      "execution_count": 175,
      "outputs": [
        {
          "output_type": "display_data",
          "data": {
            "text/plain": [
              "<Figure size 640x480 with 1 Axes>"
            ],
            "image/png": "[encoded data removed]"
          },
          "metadata": {}
        }
      ]
    },
    {
      "cell_type": "code",
      "source": [
        "downsample_rate = 10\n",
        "date=df['date'][::downsample_rate]\n",
        "polarity=df['polarity'][::downsample_rate]\n",
        "close=df['Close'][::downsample_rate]"
      ],
      "metadata": {
        "id": "uq0Wfb7DDH-n"
      },
      "execution_count": 191,
      "outputs": []
    },
    {
      "cell_type": "code",
      "source": [
        "plt.figure()\n",
        "plt.plot(date,close,'k',label = 'Bitcoin price (USD)')\n",
        "plt.plot(date,10000*polarity,'r',label = 'polarity')\n",
        "plt.plot(date,np.zeros(len(date)))\n",
        "plt.ylabel('USD')\n",
        "plt.xticks(date[::100],rotation='vertical')\n",
        "plt.legend()\n",
        "plt.show"
      ],
      "metadata": {
        "colab": {
          "base_uri": "https://localhost:8080/",
          "height": 735
        },
        "id": "YGUf3jbVFPN2",
        "outputId": "1a071bab-2e88-481d-bf77-19bd79db2b6d"
      },
      "execution_count": 194,
      "outputs": [
        {
          "output_type": "execute_result",
          "data": {
            "text/plain": [
              "<function matplotlib.pyplot.show(close=None, block=None)>"
            ],
            "text/html": [
              "<div style=\"max-width:800px; border: 1px solid var(--colab-border-color);\"><style>\n",
              "      pre.function-repr-contents {\n",
              "        overflow-x: auto;\n",
              "        padding: 8px 12px;\n",
              "        max-height: 500px;\n",
              "      }\n",
              "\n",
              "      pre.function-repr-contents.function-repr-contents-collapsed {\n",
              "        cursor: pointer;\n",
              "        max-height: 100px;\n",
              "      }\n",
              "    </style>\n",
              "    <pre style=\"white-space: initial; background:\n",
              "         var(--colab-secondary-surface-color); padding: 8px 12px;\n",
              "         border-bottom: 1px solid var(--colab-border-color);\"><b>matplotlib.pyplot.show</b><br/>def show(*args, **kwargs)</pre><pre class=\"function-repr-contents function-repr-contents-collapsed\" style=\"\"><a class=\"filepath\" style=\"display:none\" href=\"#\">/usr/local/lib/python3.10/dist-packages/matplotlib/pyplot.py</a>Display all open figures.\n",
              "\n",
              "Parameters\n",
              "----------\n",
              "block : bool, optional\n",
              "    Whether to wait for all figures to be closed before returning.\n",
              "\n",
              "    If `True` block and run the GUI main loop until all figure windows\n",
              "    are closed.\n",
              "\n",
              "    If `False` ensure that all figure windows are displayed and return\n",
              "    immediately.  In this case, you are responsible for ensuring\n",
              "    that the event loop is running to have responsive figures.\n",
              "\n",
              "    Defaults to True in non-interactive mode and to False in interactive\n",
              "    mode (see `.pyplot.isinteractive`).\n",
              "\n",
              "See Also\n",
              "--------\n",
              "ion : Enable interactive mode, which shows / updates the figure after\n",
              "      every plotting command, so that calling ``show()`` is not necessary.\n",
              "ioff : Disable interactive mode.\n",
              "savefig : Save the figure to an image file instead of showing it on screen.\n",
              "\n",
              "Notes\n",
              "-----\n",
              "**Saving figures to file and showing a window at the same time**\n",
              "\n",
              "If you want an image file as well as a user interface window, use\n",
              "`.pyplot.savefig` before `.pyplot.show`. At the end of (a blocking)\n",
              "``show()`` the figure is closed and thus unregistered from pyplot. Calling\n",
              "`.pyplot.savefig` afterwards would save a new and thus empty figure. This\n",
              "limitation of command order does not apply if the show is non-blocking or\n",
              "if you keep a reference to the figure and use `.Figure.savefig`.\n",
              "\n",
              "**Auto-show in jupyter notebooks**\n",
              "\n",
              "The jupyter backends (activated via ``%matplotlib inline``,\n",
              "``%matplotlib notebook``, or ``%matplotlib widget``), call ``show()`` at\n",
              "the end of every cell by default. Thus, you usually don&#x27;t have to call it\n",
              "explicitly there.</pre>\n",
              "      <script>\n",
              "      if (google.colab.kernel.accessAllowed && google.colab.files && google.colab.files.view) {\n",
              "        for (const element of document.querySelectorAll('.filepath')) {\n",
              "          element.style.display = 'block'\n",
              "          element.onclick = (event) => {\n",
              "            event.preventDefault();\n",
              "            event.stopPropagation();\n",
              "            google.colab.files.view(element.textContent, 482);\n",
              "          };\n",
              "        }\n",
              "      }\n",
              "      for (const element of document.querySelectorAll('.function-repr-contents')) {\n",
              "        element.onclick = (event) => {\n",
              "          event.preventDefault();\n",
              "          event.stopPropagation();\n",
              "          element.classList.toggle('function-repr-contents-collapsed');\n",
              "        };\n",
              "      }\n",
              "      </script>\n",
              "      </div>"
            ]
          },
          "metadata": {},
          "execution_count": 194
        },
        {
          "output_type": "display_data",
          "data": {
            "text/plain": [
              "<Figure size 640x480 with 1 Axes>"
            ],
            "image/png": "[encoded data removed]"
          },
          "metadata": {}
        }
      ]
    },
    {
      "cell_type": "code",
      "source": [],
      "metadata": {
        "colab": {
          "base_uri": "https://localhost:8080/",
          "height": 203
        },
        "id": "zqx5b_obDbHo",
        "outputId": "cffb9ef8-c5e6-4d18-e8b1-a48ba771339e"
      },
      "execution_count": 171,
      "outputs": [
        {
          "output_type": "error",
          "ename": "NameError",
          "evalue": "name 'date' is not defined",
          "traceback": [
            "\u001b[0;31m---------------------------------------------------------------------------\u001b[0m",
            "\u001b[0;31mNameError\u001b[0m                                 Traceback (most recent call last)",
            "\u001b[0;32m<ipython-input-171-d7f0a1b344cc>\u001b[0m in \u001b[0;36m<cell line: 2>\u001b[0;34m()\u001b[0m\n\u001b[1;32m      1\u001b[0m \u001b[0mdownsample_rate\u001b[0m \u001b[0;34m=\u001b[0m \u001b[0;36m50\u001b[0m\u001b[0;34m\u001b[0m\u001b[0;34m\u001b[0m\u001b[0m\n\u001b[0;32m----> 2\u001b[0;31m \u001b[0mplt\u001b[0m\u001b[0;34m.\u001b[0m\u001b[0mplot\u001b[0m\u001b[0;34m(\u001b[0m\u001b[0mdate\u001b[0m\u001b[0;34m[\u001b[0m\u001b[0;34m:\u001b[0m\u001b[0;34m:\u001b[0m\u001b[0mdownsample_rate\u001b[0m\u001b[0;34m]\u001b[0m\u001b[0;34m,\u001b[0m \u001b[0mpolarity\u001b[0m\u001b[0;34m[\u001b[0m\u001b[0;34m:\u001b[0m\u001b[0;34m:\u001b[0m\u001b[0mdownsample_rate\u001b[0m\u001b[0;34m]\u001b[0m\u001b[0;34m)\u001b[0m\u001b[0;34m\u001b[0m\u001b[0;34m\u001b[0m\u001b[0m\n\u001b[0m\u001b[1;32m      3\u001b[0m \u001b[0mplt\u001b[0m\u001b[0;34m.\u001b[0m\u001b[0mtitle\u001b[0m\u001b[0;34m(\u001b[0m\u001b[0;34m'Downsampled Line Graph'\u001b[0m\u001b[0;34m)\u001b[0m\u001b[0;34m\u001b[0m\u001b[0;34m\u001b[0m\u001b[0m\n\u001b[1;32m      4\u001b[0m \u001b[0mplt\u001b[0m\u001b[0;34m.\u001b[0m\u001b[0mshow\u001b[0m\u001b[0;34m(\u001b[0m\u001b[0;34m)\u001b[0m\u001b[0;34m\u001b[0m\u001b[0;34m\u001b[0m\u001b[0m\n",
            "\u001b[0;31mNameError\u001b[0m: name 'date' is not defined"
          ]
        }
      ]
    },
    {
      "cell_type": "code",
      "source": [
        "from scipy.stats import f_oneway\n",
        "\n",
        "negative = df[df['class'] == -1]['Close']\n",
        "neutral = df[df['class'] == 0]['Close']\n",
        "positive = df[df['class'] == 1]['Close']\n",
        "\n",
        "stat, p_value = f_oneway(negative, neutral, positive)\n",
        "\n",
        "print(f\"ANOVA Statistic: {stat}, p-value: {p_value}\")\n",
        "if p_value < 0.05:\n",
        "    print(\"Significant difference in Close Price across sentiment classes.\")\n",
        "else:\n",
        "    print(\"No significant difference in Close Price across sentiment classes.\")"
      ],
      "metadata": {
        "colab": {
          "base_uri": "https://localhost:8080/"
        },
        "id": "zNf_tjhQ-jAh",
        "outputId": "9314d4f8-6cd7-44cf-fe0c-183abf4ed9b0"
      },
      "execution_count": 168,
      "outputs": [
        {
          "output_type": "stream",
          "name": "stdout",
          "text": [
            "ANOVA Statistic: 12.87223102616396, p-value: 2.6114620415262533e-06\n",
            "Significant difference in Close Price across sentiment classes.\n"
          ]
        }
      ]
    }
  ]
}