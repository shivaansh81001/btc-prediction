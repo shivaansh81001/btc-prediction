{
  "nbformat": 4,
  "nbformat_minor": 0,
  "metadata": {
    "colab": {
      "provenance": [],
      "include_colab_link": true
    },
    "kernelspec": {
      "name": "python3",
      "display_name": "Python 3"
    },
    "language_info": {
      "name": "python"
    }
  },
  "cells": [
    {
      "cell_type": "markdown",
      "metadata": {
        "id": "view-in-github",
        "colab_type": "text"
      },
      "source": [
        "<a href=\"https://colab.research.google.com/github/shivaansh81001/btc-prediction/blob/main/btc_data_test.ipynb\" target=\"_parent\"><img src=\"https://colab.research.google.com/assets/colab-badge.svg\" alt=\"Open In Colab\"/></a>"
      ]
    },
    {
      "cell_type": "code",
      "execution_count": 417,
      "metadata": {
        "id": "42fy9cdPu76b"
      },
      "outputs": [],
      "source": [
        "from datascience import *\n",
        "import numpy as np\n",
        "import matplotlib.pyplot as plt\n",
        "import pandas as pd\n",
        "from datetime import datetime"
      ]
    },
    {
      "cell_type": "code",
      "source": [
        "from google.colab import drive\n",
        "drive.mount('/content/drive')"
      ],
      "metadata": {
        "colab": {
          "base_uri": "https://localhost:8080/"
        },
        "id": "300acEozXm5x",
        "outputId": "5639cad4-68d3-4d7d-fbe6-38a8dee6ae2c"
      },
      "execution_count": 418,
      "outputs": [
        {
          "output_type": "stream",
          "name": "stdout",
          "text": [
            "Drive already mounted at /content/drive; to attempt to forcibly remount, call drive.mount(\"/content/drive\", force_remount=True).\n"
          ]
        }
      ]
    },
    {
      "cell_type": "code",
      "source": [
        "path='/content/drive/MyDrive/btc predict/'"
      ],
      "metadata": {
        "id": "1pZ9hm_k1PHB"
      },
      "execution_count": 419,
      "outputs": []
    },
    {
      "cell_type": "code",
      "source": [
        "TABLE_NAME='btcusd_1-min_data.csv'\n",
        "data=Table().read_table(path+TABLE_NAME)\n",
        "data.show(5)"
      ],
      "metadata": {
        "colab": {
          "base_uri": "https://localhost:8080/",
          "height": 235
        },
        "id": "4EUnoPwC0vl0",
        "outputId": "3dfde90c-1ee8-4a93-9fb2-c97cff1acb38"
      },
      "execution_count": 420,
      "outputs": [
        {
          "output_type": "display_data",
          "data": {
            "text/plain": [
              "<IPython.core.display.HTML object>"
            ],
            "text/html": [
              "<table border=\"1\" class=\"dataframe\">\n",
              "    <thead>\n",
              "        <tr>\n",
              "            <th>Timestamp</th> <th>Open</th> <th>High</th> <th>Low</th> <th>Close</th> <th>Volume</th>\n",
              "        </tr>\n",
              "    </thead>\n",
              "    <tbody>\n",
              "        <tr>\n",
              "            <td>1.32541e+09</td> <td>4.58</td> <td>4.58</td> <td>4.58</td> <td>4.58 </td> <td>0     </td>\n",
              "        </tr>\n",
              "        <tr>\n",
              "            <td>1.32541e+09</td> <td>4.58</td> <td>4.58</td> <td>4.58</td> <td>4.58 </td> <td>0     </td>\n",
              "        </tr>\n",
              "        <tr>\n",
              "            <td>1.32541e+09</td> <td>4.58</td> <td>4.58</td> <td>4.58</td> <td>4.58 </td> <td>0     </td>\n",
              "        </tr>\n",
              "        <tr>\n",
              "            <td>1.32541e+09</td> <td>4.58</td> <td>4.58</td> <td>4.58</td> <td>4.58 </td> <td>0     </td>\n",
              "        </tr>\n",
              "        <tr>\n",
              "            <td>1.32541e+09</td> <td>4.58</td> <td>4.58</td> <td>4.58</td> <td>4.58 </td> <td>0     </td>\n",
              "        </tr>\n",
              "    </tbody>\n",
              "</table>\n",
              "<p>... (6738276 rows omitted)</p>"
            ]
          },
          "metadata": {}
        }
      ]
    },
    {
      "cell_type": "code",
      "source": [
        "data= data.where(\"Timestamp\",are.above_or_equal_to(1636520280))\n",
        "data.show(5)"
      ],
      "metadata": {
        "colab": {
          "base_uri": "https://localhost:8080/",
          "height": 235
        },
        "id": "uhBhEWdEJLGs",
        "outputId": "4e4a8a79-aa7b-450e-d609-c0bfe5b635e2"
      },
      "execution_count": 421,
      "outputs": [
        {
          "output_type": "display_data",
          "data": {
            "text/plain": [
              "<IPython.core.display.HTML object>"
            ],
            "text/html": [
              "<table border=\"1\" class=\"dataframe\">\n",
              "    <thead>\n",
              "        <tr>\n",
              "            <th>Timestamp</th> <th>Open</th> <th>High</th> <th>Low</th> <th>Close</th> <th>Volume</th>\n",
              "        </tr>\n",
              "    </thead>\n",
              "    <tbody>\n",
              "        <tr>\n",
              "            <td>1.63652e+09</td> <td>66991.5</td> <td>66991.5</td> <td>66935.9</td> <td>66935.9</td> <td>2.06704  </td>\n",
              "        </tr>\n",
              "        <tr>\n",
              "            <td>1.63652e+09</td> <td>66937.1</td> <td>66945.7</td> <td>66927.5</td> <td>66945.7</td> <td>0.130802 </td>\n",
              "        </tr>\n",
              "        <tr>\n",
              "            <td>1.63652e+09</td> <td>66928.4</td> <td>66988.9</td> <td>66928.4</td> <td>66972.1</td> <td>0.031246 </td>\n",
              "        </tr>\n",
              "        <tr>\n",
              "            <td>1.63652e+09</td> <td>66995.5</td> <td>67014.5</td> <td>66995.5</td> <td>67014.5</td> <td>0.0697985</td>\n",
              "        </tr>\n",
              "        <tr>\n",
              "            <td>1.63652e+09</td> <td>67018.2</td> <td>67123.4</td> <td>67007.5</td> <td>67123.4</td> <td>1.64906  </td>\n",
              "        </tr>\n",
              "    </tbody>\n",
              "</table>\n",
              "<p>... (1553738 rows omitted)</p>"
            ]
          },
          "metadata": {}
        }
      ]
    },
    {
      "cell_type": "code",
      "source": [
        "def format_price(price):\n",
        "  split_=price.split(',')\n",
        "  return float(split_[0]+split_[1])\n",
        "\n",
        "def format_vol(vol):\n",
        "  split_=float(vol[:-1])*1000\n",
        "  return split_\n",
        "\n",
        "def format_change(change):\n",
        "  return float(change[:-1])\n",
        "\n",
        "def format_time(time):\n",
        "  time=int(time)\n",
        "  return str(datetime.utcfromtimestamp(time).strftime('%Y-%m-%d %H:%M:%S'))\n",
        "\n",
        "def sum_volume_1h(vol):\n",
        "  return [sum(vol[i:i+60]) for i in range(2, len(vol), 60)]\n",
        "\n",
        "def calc_rsi(data ,period=14):\n",
        "  delta= data.diff(1)\n",
        "  gain= (delta.where(delta>0,0)).rolling(window=period).mean()\n",
        "  loss= (-delta.where(delta<0,0)).rolling(window=period).mean()\n",
        "  rs= gain/loss\n",
        "  return 100- (100/(1+rs))\n",
        "\n",
        "def calc_rsi_condition(rsi):\n",
        "  condition=[]\n",
        "  for i in rsi:\n",
        "    if i>=70:\n",
        "      condition.append(1)\n",
        "    elif i<30:\n",
        "      condition.append(-1)\n",
        "    elif i>=30 and i<70:\n",
        "      condition.append(0)\n",
        "  return np.array(condition)"
      ],
      "metadata": {
        "id": "rbubMzwx1eEW"
      },
      "execution_count": 422,
      "outputs": []
    },
    {
      "cell_type": "code",
      "source": [
        "volsum_1h= sum_volume_1h(list(data.column(\"Volume\")))"
      ],
      "metadata": {
        "id": "ulkO5oAvrLoi"
      },
      "execution_count": 423,
      "outputs": []
    },
    {
      "cell_type": "code",
      "source": [
        "#volsum len\n",
        "print(len(volsum_1h))"
      ],
      "metadata": {
        "id": "BnzkDgdOtEe2",
        "outputId": "f4345dfe-f450-4b65-9e6b-886ab848c032",
        "colab": {
          "base_uri": "https://localhost:8080/"
        }
      },
      "execution_count": 424,
      "outputs": [
        {
          "output_type": "stream",
          "name": "stdout",
          "text": [
            "25896\n"
          ]
        }
      ]
    },
    {
      "cell_type": "code",
      "source": [
        "#test format_price\n",
        "print(format_price('95,284.5'))\n",
        "\n",
        "#test format_vol\n",
        "print(format_vol('61.62K'))\n",
        "\n",
        "#test format_time\n",
        "print(format_time(1734447660))\n",
        "\n",
        "#vol sum\n",
        "print(sum_volume_1h([x for x in range(1,361)]))"
      ],
      "metadata": {
        "colab": {
          "base_uri": "https://localhost:8080/"
        },
        "id": "ObyVDOgPCXrN",
        "outputId": "1d52861a-03ab-4608-8af1-a98a10eaf3e7"
      },
      "execution_count": 425,
      "outputs": [
        {
          "output_type": "stream",
          "name": "stdout",
          "text": [
            "95284.5\n",
            "61620.0\n",
            "2024-12-17 15:01:00\n",
            "[1950, 5550, 9150, 12750, 16350, 19227]\n"
          ]
        }
      ]
    },
    {
      "cell_type": "code",
      "source": [
        "formatted_time = data.apply(format_time,\"Timestamp\")\n",
        "data = data.with_column(\"Timestamp\",formatted_time)\n",
        "\n",
        "data.show(5)"
      ],
      "metadata": {
        "colab": {
          "base_uri": "https://localhost:8080/",
          "height": 235
        },
        "id": "PmaAOPXDCo9w",
        "outputId": "48b4c655-27a1-424a-b3f7-f8fe82baab30"
      },
      "execution_count": 426,
      "outputs": [
        {
          "output_type": "display_data",
          "data": {
            "text/plain": [
              "<IPython.core.display.HTML object>"
            ],
            "text/html": [
              "<table border=\"1\" class=\"dataframe\">\n",
              "    <thead>\n",
              "        <tr>\n",
              "            <th>Timestamp</th> <th>Open</th> <th>High</th> <th>Low</th> <th>Close</th> <th>Volume</th>\n",
              "        </tr>\n",
              "    </thead>\n",
              "    <tbody>\n",
              "        <tr>\n",
              "            <td>2021-11-10 04:58:00</td> <td>66991.5</td> <td>66991.5</td> <td>66935.9</td> <td>66935.9</td> <td>2.06704  </td>\n",
              "        </tr>\n",
              "        <tr>\n",
              "            <td>2021-11-10 04:59:00</td> <td>66937.1</td> <td>66945.7</td> <td>66927.5</td> <td>66945.7</td> <td>0.130802 </td>\n",
              "        </tr>\n",
              "        <tr>\n",
              "            <td>2021-11-10 05:00:00</td> <td>66928.4</td> <td>66988.9</td> <td>66928.4</td> <td>66972.1</td> <td>0.031246 </td>\n",
              "        </tr>\n",
              "        <tr>\n",
              "            <td>2021-11-10 05:01:00</td> <td>66995.5</td> <td>67014.5</td> <td>66995.5</td> <td>67014.5</td> <td>0.0697985</td>\n",
              "        </tr>\n",
              "        <tr>\n",
              "            <td>2021-11-10 05:02:00</td> <td>67018.2</td> <td>67123.4</td> <td>67007.5</td> <td>67123.4</td> <td>1.64906  </td>\n",
              "        </tr>\n",
              "    </tbody>\n",
              "</table>\n",
              "<p>... (1553738 rows omitted)</p>"
            ]
          },
          "metadata": {}
        }
      ]
    },
    {
      "cell_type": "code",
      "source": [],
      "metadata": {
        "id": "r8SKuZrEltIt"
      },
      "execution_count": 426,
      "outputs": []
    },
    {
      "cell_type": "code",
      "source": [
        "data= data.take(np.arange(2,data.num_rows,60))\n",
        "data.show(5)"
      ],
      "metadata": {
        "id": "73UBlD-2k1pk",
        "outputId": "2b0fdf88-5ddc-4cd7-cced-fda75baebfc7",
        "colab": {
          "base_uri": "https://localhost:8080/",
          "height": 235
        }
      },
      "execution_count": 427,
      "outputs": [
        {
          "output_type": "display_data",
          "data": {
            "text/plain": [
              "<IPython.core.display.HTML object>"
            ],
            "text/html": [
              "<table border=\"1\" class=\"dataframe\">\n",
              "    <thead>\n",
              "        <tr>\n",
              "            <th>Timestamp</th> <th>Open</th> <th>High</th> <th>Low</th> <th>Close</th> <th>Volume</th>\n",
              "        </tr>\n",
              "    </thead>\n",
              "    <tbody>\n",
              "        <tr>\n",
              "            <td>2021-11-10 05:00:00</td> <td>66928.4</td> <td>66988.9</td> <td>66928.4</td> <td>66972.1</td> <td>0.031246</td>\n",
              "        </tr>\n",
              "        <tr>\n",
              "            <td>2021-11-10 06:00:00</td> <td>66951.4</td> <td>66951.4</td> <td>66951.4</td> <td>66951.4</td> <td>0.002   </td>\n",
              "        </tr>\n",
              "        <tr>\n",
              "            <td>2021-11-10 07:00:00</td> <td>67047.1</td> <td>67061.3</td> <td>67038.8</td> <td>67038.8</td> <td>0.541149</td>\n",
              "        </tr>\n",
              "        <tr>\n",
              "            <td>2021-11-10 08:00:00</td> <td>66811.9</td> <td>66836.1</td> <td>66734.4</td> <td>66734.4</td> <td>0.337868</td>\n",
              "        </tr>\n",
              "        <tr>\n",
              "            <td>2021-11-10 09:00:00</td> <td>66530.3</td> <td>66541.3</td> <td>66526.9</td> <td>66526.9</td> <td>0.28869 </td>\n",
              "        </tr>\n",
              "    </tbody>\n",
              "</table>\n",
              "<p>... (25891 rows omitted)</p>"
            ]
          },
          "metadata": {}
        }
      ]
    },
    {
      "cell_type": "code",
      "source": [
        "data = data.with_column(\"vol traded\", np.array(volsum_1h))"
      ],
      "metadata": {
        "id": "SNGW0OIOtMoA"
      },
      "execution_count": 428,
      "outputs": []
    },
    {
      "cell_type": "code",
      "source": [
        "data.show(5)"
      ],
      "metadata": {
        "id": "U8Mux1Fot1ax",
        "outputId": "ff3e9425-96eb-437e-c993-5175ddefaffd",
        "colab": {
          "base_uri": "https://localhost:8080/",
          "height": 235
        }
      },
      "execution_count": 429,
      "outputs": [
        {
          "output_type": "display_data",
          "data": {
            "text/plain": [
              "<IPython.core.display.HTML object>"
            ],
            "text/html": [
              "<table border=\"1\" class=\"dataframe\">\n",
              "    <thead>\n",
              "        <tr>\n",
              "            <th>Timestamp</th> <th>Open</th> <th>High</th> <th>Low</th> <th>Close</th> <th>Volume</th> <th>vol traded</th>\n",
              "        </tr>\n",
              "    </thead>\n",
              "    <tbody>\n",
              "        <tr>\n",
              "            <td>2021-11-10 05:00:00</td> <td>66928.4</td> <td>66988.9</td> <td>66928.4</td> <td>66972.1</td> <td>0.031246</td> <td>43.442    </td>\n",
              "        </tr>\n",
              "        <tr>\n",
              "            <td>2021-11-10 06:00:00</td> <td>66951.4</td> <td>66951.4</td> <td>66951.4</td> <td>66951.4</td> <td>0.002   </td> <td>19.4884   </td>\n",
              "        </tr>\n",
              "        <tr>\n",
              "            <td>2021-11-10 07:00:00</td> <td>67047.1</td> <td>67061.3</td> <td>67038.8</td> <td>67038.8</td> <td>0.541149</td> <td>22.8345   </td>\n",
              "        </tr>\n",
              "        <tr>\n",
              "            <td>2021-11-10 08:00:00</td> <td>66811.9</td> <td>66836.1</td> <td>66734.4</td> <td>66734.4</td> <td>0.337868</td> <td>72.4226   </td>\n",
              "        </tr>\n",
              "        <tr>\n",
              "            <td>2021-11-10 09:00:00</td> <td>66530.3</td> <td>66541.3</td> <td>66526.9</td> <td>66526.9</td> <td>0.28869 </td> <td>40.5544   </td>\n",
              "        </tr>\n",
              "    </tbody>\n",
              "</table>\n",
              "<p>... (25891 rows omitted)</p>"
            ]
          },
          "metadata": {}
        }
      ]
    },
    {
      "cell_type": "code",
      "source": [
        "price_change_hourly= ((data.column(\"Close\") - data.column(\"Open\")) / data.column(\"Open\")) *100\n",
        "data = data.with_column(\"price_change_hourly\",price_change_hourly)"
      ],
      "metadata": {
        "id": "zZ0YcKgwuddZ"
      },
      "execution_count": 430,
      "outputs": []
    },
    {
      "cell_type": "code",
      "source": [
        "data.sort(\"Timestamp\",descending=True).show(5)"
      ],
      "metadata": {
        "id": "CxvShUnzw6GE",
        "outputId": "dc0e1d16-3635-4734-aa9c-ac09682f0e46",
        "colab": {
          "base_uri": "https://localhost:8080/",
          "height": 235
        }
      },
      "execution_count": 431,
      "outputs": [
        {
          "output_type": "display_data",
          "data": {
            "text/plain": [
              "<IPython.core.display.HTML object>"
            ],
            "text/html": [
              "<table border=\"1\" class=\"dataframe\">\n",
              "    <thead>\n",
              "        <tr>\n",
              "            <th>Timestamp</th> <th>Open</th> <th>High</th> <th>Low</th> <th>Close</th> <th>Volume</th> <th>vol traded</th> <th>price_change_hourly</th>\n",
              "        </tr>\n",
              "    </thead>\n",
              "    <tbody>\n",
              "        <tr>\n",
              "            <td>2025-01-02 23:20:00</td> <td>96816</td> <td>96819</td> <td>96793</td> <td>96793</td> <td>0.198558  </td> <td>2.97368   </td> <td>-0.0237564         </td>\n",
              "        </tr>\n",
              "        <tr>\n",
              "            <td>2025-01-02 22:20:00</td> <td>96800</td> <td>96800</td> <td>96775</td> <td>96776</td> <td>0.00391808</td> <td>11.3632   </td> <td>-0.0247934         </td>\n",
              "        </tr>\n",
              "        <tr>\n",
              "            <td>2025-01-02 21:20:00</td> <td>97114</td> <td>97114</td> <td>97091</td> <td>97091</td> <td>0.0252511 </td> <td>14.8473   </td> <td>-0.0236835         </td>\n",
              "        </tr>\n",
              "        <tr>\n",
              "            <td>2025-01-02 20:20:00</td> <td>97703</td> <td>97719</td> <td>97676</td> <td>97719</td> <td>0.305568  </td> <td>18.0116   </td> <td>0.0163762          </td>\n",
              "        </tr>\n",
              "        <tr>\n",
              "            <td>2025-01-02 19:20:00</td> <td>97474</td> <td>97499</td> <td>97474</td> <td>97491</td> <td>0.156311  </td> <td>16.3315   </td> <td>0.0174405          </td>\n",
              "        </tr>\n",
              "    </tbody>\n",
              "</table>\n",
              "<p>... (25891 rows omitted)</p>"
            ]
          },
          "metadata": {}
        }
      ]
    },
    {
      "cell_type": "code",
      "source": [
        "volume_change_hourly = data.to_df()['vol traded'].pct_change()*100\n",
        "data = data.with_column(\"volume_change_hourly\",volume_change_hourly)\n"
      ],
      "metadata": {
        "id": "-UNSj6Juxd6Y"
      },
      "execution_count": 432,
      "outputs": []
    },
    {
      "cell_type": "code",
      "source": [
        "data.show(5)"
      ],
      "metadata": {
        "id": "vUIs4Fj63JK7",
        "outputId": "84d23cf7-c96b-4faa-d889-f76bd0b73958",
        "colab": {
          "base_uri": "https://localhost:8080/",
          "height": 235
        }
      },
      "execution_count": 433,
      "outputs": [
        {
          "output_type": "display_data",
          "data": {
            "text/plain": [
              "<IPython.core.display.HTML object>"
            ],
            "text/html": [
              "<table border=\"1\" class=\"dataframe\">\n",
              "    <thead>\n",
              "        <tr>\n",
              "            <th>Timestamp</th> <th>Open</th> <th>High</th> <th>Low</th> <th>Close</th> <th>Volume</th> <th>vol traded</th> <th>price_change_hourly</th> <th>volume_change_hourly</th>\n",
              "        </tr>\n",
              "    </thead>\n",
              "    <tbody>\n",
              "        <tr>\n",
              "            <td>2021-11-10 05:00:00</td> <td>66928.4</td> <td>66988.9</td> <td>66928.4</td> <td>66972.1</td> <td>0.031246</td> <td>43.442    </td> <td>0.065204           </td> <td>nan                 </td>\n",
              "        </tr>\n",
              "        <tr>\n",
              "            <td>2021-11-10 06:00:00</td> <td>66951.4</td> <td>66951.4</td> <td>66951.4</td> <td>66951.4</td> <td>0.002   </td> <td>19.4884   </td> <td>0                  </td> <td>-55.1392            </td>\n",
              "        </tr>\n",
              "        <tr>\n",
              "            <td>2021-11-10 07:00:00</td> <td>67047.1</td> <td>67061.3</td> <td>67038.8</td> <td>67038.8</td> <td>0.541149</td> <td>22.8345   </td> <td>-0.0123943         </td> <td>17.1694             </td>\n",
              "        </tr>\n",
              "        <tr>\n",
              "            <td>2021-11-10 08:00:00</td> <td>66811.9</td> <td>66836.1</td> <td>66734.4</td> <td>66734.4</td> <td>0.337868</td> <td>72.4226   </td> <td>-0.115937          </td> <td>217.163             </td>\n",
              "        </tr>\n",
              "        <tr>\n",
              "            <td>2021-11-10 09:00:00</td> <td>66530.3</td> <td>66541.3</td> <td>66526.9</td> <td>66526.9</td> <td>0.28869 </td> <td>40.5544   </td> <td>-0.00511045        </td> <td>-44.0032            </td>\n",
              "        </tr>\n",
              "    </tbody>\n",
              "</table>\n",
              "<p>... (25891 rows omitted)</p>"
            ]
          },
          "metadata": {}
        }
      ]
    },
    {
      "cell_type": "code",
      "source": [
        "data= data.exclude(0)\n",
        "data.show(5)"
      ],
      "metadata": {
        "id": "7yTsCwU94iEw",
        "outputId": "4e862434-af0e-4aa4-83c4-5f8469f514ec",
        "colab": {
          "base_uri": "https://localhost:8080/",
          "height": 235
        }
      },
      "execution_count": 434,
      "outputs": [
        {
          "output_type": "display_data",
          "data": {
            "text/plain": [
              "<IPython.core.display.HTML object>"
            ],
            "text/html": [
              "<table border=\"1\" class=\"dataframe\">\n",
              "    <thead>\n",
              "        <tr>\n",
              "            <th>Timestamp</th> <th>Open</th> <th>High</th> <th>Low</th> <th>Close</th> <th>Volume</th> <th>vol traded</th> <th>price_change_hourly</th> <th>volume_change_hourly</th>\n",
              "        </tr>\n",
              "    </thead>\n",
              "    <tbody>\n",
              "        <tr>\n",
              "            <td>2021-11-10 06:00:00</td> <td>66951.4</td> <td>66951.4</td> <td>66951.4</td> <td>66951.4</td> <td>0.002   </td> <td>19.4884   </td> <td>0                  </td> <td>-55.1392            </td>\n",
              "        </tr>\n",
              "        <tr>\n",
              "            <td>2021-11-10 07:00:00</td> <td>67047.1</td> <td>67061.3</td> <td>67038.8</td> <td>67038.8</td> <td>0.541149</td> <td>22.8345   </td> <td>-0.0123943         </td> <td>17.1694             </td>\n",
              "        </tr>\n",
              "        <tr>\n",
              "            <td>2021-11-10 08:00:00</td> <td>66811.9</td> <td>66836.1</td> <td>66734.4</td> <td>66734.4</td> <td>0.337868</td> <td>72.4226   </td> <td>-0.115937          </td> <td>217.163             </td>\n",
              "        </tr>\n",
              "        <tr>\n",
              "            <td>2021-11-10 09:00:00</td> <td>66530.3</td> <td>66541.3</td> <td>66526.9</td> <td>66526.9</td> <td>0.28869 </td> <td>40.5544   </td> <td>-0.00511045        </td> <td>-44.0032            </td>\n",
              "        </tr>\n",
              "        <tr>\n",
              "            <td>2021-11-10 10:00:00</td> <td>66649.7</td> <td>66650  </td> <td>66643.5</td> <td>66644.5</td> <td>2.05988 </td> <td>27.0178   </td> <td>-0.00790701        </td> <td>-33.3789            </td>\n",
              "        </tr>\n",
              "    </tbody>\n",
              "</table>\n",
              "<p>... (25890 rows omitted)</p>"
            ]
          },
          "metadata": {}
        }
      ]
    },
    {
      "cell_type": "code",
      "source": [
        "data = data.to_df()"
      ],
      "metadata": {
        "id": "XN0KYyfiIuXx"
      },
      "execution_count": 435,
      "outputs": []
    },
    {
      "cell_type": "code",
      "source": [
        "data['EMA_12h']= data['Close'].ewm(span=12,adjust=False).mean()\n",
        "data['EMA_48h']= data['Close'].ewm(span=48,adjust=False).mean()\n",
        "data.dropna(inplace=True)\n",
        "\n",
        "data= data.iloc[47:]\n",
        "\n"
      ],
      "metadata": {
        "id": "godiprMsI2FV"
      },
      "execution_count": 436,
      "outputs": []
    },
    {
      "cell_type": "code",
      "source": [
        "data['rsi_14']=calc_rsi(data['Close'])\n",
        "data= data.dropna()\n",
        "data['rsi_14'].fillna(0,inplace=True)\n"
      ],
      "metadata": {
        "id": "hfNgWcG1Oxkv",
        "outputId": "a14ed8af-c2ec-479d-a806-6933c90500b9",
        "colab": {
          "base_uri": "https://localhost:8080/"
        }
      },
      "execution_count": 437,
      "outputs": [
        {
          "output_type": "stream",
          "name": "stderr",
          "text": [
            "<ipython-input-437-6b027e2b6d62>:3: FutureWarning: A value is trying to be set on a copy of a DataFrame or Series through chained assignment using an inplace method.\n",
            "The behavior will change in pandas 3.0. This inplace method will never work because the intermediate object on which we are setting values always behaves as a copy.\n",
            "\n",
            "For example, when doing 'df[col].method(value, inplace=True)', try using 'df.method({col: value}, inplace=True)' or df[col] = df[col].method(value) instead, to perform the operation inplace on the original object.\n",
            "\n",
            "\n",
            "  data['rsi_14'].fillna(0,inplace=True)\n"
          ]
        }
      ]
    },
    {
      "cell_type": "code",
      "source": [
        "data= Table().from_df(data)"
      ],
      "metadata": {
        "id": "P5o12OkgOyGu"
      },
      "execution_count": 438,
      "outputs": []
    },
    {
      "cell_type": "code",
      "source": [
        "data.show(5)"
      ],
      "metadata": {
        "id": "ZGTc-kblTJui",
        "outputId": "d97bc60e-59c2-4028-a075-2236e6199faa",
        "colab": {
          "base_uri": "https://localhost:8080/",
          "height": 235
        }
      },
      "execution_count": 439,
      "outputs": [
        {
          "output_type": "display_data",
          "data": {
            "text/plain": [
              "<IPython.core.display.HTML object>"
            ],
            "text/html": [
              "<table border=\"1\" class=\"dataframe\">\n",
              "    <thead>\n",
              "        <tr>\n",
              "            <th>Timestamp</th> <th>Open</th> <th>High</th> <th>Low</th> <th>Close</th> <th>Volume</th> <th>vol traded</th> <th>price_change_hourly</th> <th>volume_change_hourly</th> <th>EMA_12h</th> <th>EMA_48h</th> <th>rsi_14</th>\n",
              "        </tr>\n",
              "    </thead>\n",
              "    <tbody>\n",
              "        <tr>\n",
              "            <td>2021-11-12 18:00:00</td> <td>63837.8</td> <td>63837.8</td> <td>63764.8</td> <td>63775.6</td> <td>0.986303</td> <td>197.648   </td> <td>-0.0974188         </td> <td>115.214             </td> <td>64297.3</td> <td>65135.7</td> <td>33.5866</td>\n",
              "        </tr>\n",
              "        <tr>\n",
              "            <td>2021-11-12 19:00:00</td> <td>64002.8</td> <td>64082.2</td> <td>63985.9</td> <td>64056.3</td> <td>1.64629 </td> <td>152.463   </td> <td>0.0835432          </td> <td>-22.8613            </td> <td>64260.3</td> <td>65091.7</td> <td>39.2037</td>\n",
              "        </tr>\n",
              "        <tr>\n",
              "            <td>2021-11-12 20:00:00</td> <td>63471.8</td> <td>63559.4</td> <td>63463  </td> <td>63468.4</td> <td>2.67954 </td> <td>253.223   </td> <td>-0.00527794        </td> <td>66.0886             </td> <td>64138.4</td> <td>65025.4</td> <td>32.108 </td>\n",
              "        </tr>\n",
              "        <tr>\n",
              "            <td>2021-11-12 21:00:00</td> <td>63198.4</td> <td>63198.4</td> <td>63107.7</td> <td>63131.4</td> <td>0.471377</td> <td>214.01    </td> <td>-0.105984          </td> <td>-15.4857            </td> <td>63983.5</td> <td>64948.1</td> <td>24.2103</td>\n",
              "        </tr>\n",
              "        <tr>\n",
              "            <td>2021-11-12 22:00:00</td> <td>63086.8</td> <td>63086.8</td> <td>63016.2</td> <td>63046.5</td> <td>4.61578 </td> <td>107.546   </td> <td>-0.0638485         </td> <td>-49.7473            </td> <td>63839.4</td> <td>64870.5</td> <td>24.0348</td>\n",
              "        </tr>\n",
              "    </tbody>\n",
              "</table>\n",
              "<p>... (25830 rows omitted)</p>"
            ]
          },
          "metadata": {}
        }
      ]
    },
    {
      "cell_type": "code",
      "source": [
        "rsi_condition=calc_rsi_condition(data.column('rsi_14'))\n",
        "print(rsi_condition)\n",
        "print(not(any(rsi_condition)))\n",
        "print(len(rsi_condition))\n",
        "data=data.with_column(\"rsi_condition\",rsi_condition)"
      ],
      "metadata": {
        "id": "jOse1hDbS3JE",
        "outputId": "16134876-3027-4ce3-d007-0a4c75305954",
        "colab": {
          "base_uri": "https://localhost:8080/"
        }
      },
      "execution_count": 440,
      "outputs": [
        {
          "output_type": "stream",
          "name": "stdout",
          "text": [
            "[0 0 0 ..., 1 0 0]\n",
            "False\n",
            "25835\n"
          ]
        }
      ]
    },
    {
      "cell_type": "code",
      "source": [
        "data.show(10)"
      ],
      "metadata": {
        "id": "Mp3OzjDLJ2ca",
        "outputId": "f2fda2f4-f54b-46ae-9293-e854755f00ef",
        "colab": {
          "base_uri": "https://localhost:8080/",
          "height": 392
        }
      },
      "execution_count": 441,
      "outputs": [
        {
          "output_type": "display_data",
          "data": {
            "text/plain": [
              "<IPython.core.display.HTML object>"
            ],
            "text/html": [
              "<table border=\"1\" class=\"dataframe\">\n",
              "    <thead>\n",
              "        <tr>\n",
              "            <th>Timestamp</th> <th>Open</th> <th>High</th> <th>Low</th> <th>Close</th> <th>Volume</th> <th>vol traded</th> <th>price_change_hourly</th> <th>volume_change_hourly</th> <th>EMA_12h</th> <th>EMA_48h</th> <th>rsi_14</th> <th>rsi_condition</th>\n",
              "        </tr>\n",
              "    </thead>\n",
              "    <tbody>\n",
              "        <tr>\n",
              "            <td>2021-11-12 18:00:00</td> <td>63837.8</td> <td>63837.8</td> <td>63764.8</td> <td>63775.6</td> <td>0.986303 </td> <td>197.648   </td> <td>-0.0974188         </td> <td>115.214             </td> <td>64297.3</td> <td>65135.7</td> <td>33.5866</td> <td>0            </td>\n",
              "        </tr>\n",
              "        <tr>\n",
              "            <td>2021-11-12 19:00:00</td> <td>64002.8</td> <td>64082.2</td> <td>63985.9</td> <td>64056.3</td> <td>1.64629  </td> <td>152.463   </td> <td>0.0835432          </td> <td>-22.8613            </td> <td>64260.3</td> <td>65091.7</td> <td>39.2037</td> <td>0            </td>\n",
              "        </tr>\n",
              "        <tr>\n",
              "            <td>2021-11-12 20:00:00</td> <td>63471.8</td> <td>63559.4</td> <td>63463  </td> <td>63468.4</td> <td>2.67954  </td> <td>253.223   </td> <td>-0.00527794        </td> <td>66.0886             </td> <td>64138.4</td> <td>65025.4</td> <td>32.108 </td> <td>0            </td>\n",
              "        </tr>\n",
              "        <tr>\n",
              "            <td>2021-11-12 21:00:00</td> <td>63198.4</td> <td>63198.4</td> <td>63107.7</td> <td>63131.4</td> <td>0.471377 </td> <td>214.01    </td> <td>-0.105984          </td> <td>-15.4857            </td> <td>63983.5</td> <td>64948.1</td> <td>24.2103</td> <td>-1           </td>\n",
              "        </tr>\n",
              "        <tr>\n",
              "            <td>2021-11-12 22:00:00</td> <td>63086.8</td> <td>63086.8</td> <td>63016.2</td> <td>63046.5</td> <td>4.61578  </td> <td>107.546   </td> <td>-0.0638485         </td> <td>-49.7473            </td> <td>63839.4</td> <td>64870.5</td> <td>24.0348</td> <td>-1           </td>\n",
              "        </tr>\n",
              "        <tr>\n",
              "            <td>2021-11-12 23:00:00</td> <td>63625.4</td> <td>63669.5</td> <td>63618.2</td> <td>63618.2</td> <td>4.81815  </td> <td>199.84    </td> <td>-0.0111905         </td> <td>85.8184             </td> <td>63805.3</td> <td>64819.4</td> <td>35.5609</td> <td>0            </td>\n",
              "        </tr>\n",
              "        <tr>\n",
              "            <td>2021-11-13 00:00:00</td> <td>63908.1</td> <td>63931  </td> <td>63908.1</td> <td>63927.7</td> <td>0.0260882</td> <td>56.9967   </td> <td>0.0305751          </td> <td>-71.4788            </td> <td>63824.2</td> <td>64783  </td> <td>37.9433</td> <td>0            </td>\n",
              "        </tr>\n",
              "        <tr>\n",
              "            <td>2021-11-13 01:00:00</td> <td>63853.7</td> <td>63885.9</td> <td>63853.7</td> <td>63885.9</td> <td>0.125687 </td> <td>121.739   </td> <td>0.0504904          </td> <td>113.59              </td> <td>63833.7</td> <td>64746.4</td> <td>40.5547</td> <td>0            </td>\n",
              "        </tr>\n",
              "        <tr>\n",
              "            <td>2021-11-13 02:00:00</td> <td>64162.9</td> <td>64225.7</td> <td>64157.1</td> <td>64191.7</td> <td>5.23441  </td> <td>95.3941   </td> <td>0.0448858          </td> <td>-21.6407            </td> <td>63888.7</td> <td>64723.7</td> <td>45.6573</td> <td>0            </td>\n",
              "        </tr>\n",
              "        <tr>\n",
              "            <td>2021-11-13 03:00:00</td> <td>64131.2</td> <td>64149.9</td> <td>64115.7</td> <td>64143  </td> <td>0.236951 </td> <td>28.9577   </td> <td>0.0183842          </td> <td>-69.6441            </td> <td>63927.9</td> <td>64700  </td> <td>46.2002</td> <td>0            </td>\n",
              "        </tr>\n",
              "    </tbody>\n",
              "</table>\n",
              "<p>... (25825 rows omitted)</p>"
            ]
          },
          "metadata": {}
        }
      ]
    },
    {
      "cell_type": "code",
      "source": [],
      "metadata": {
        "id": "DYyqqVMRM5yR"
      },
      "execution_count": 441,
      "outputs": []
    },
    {
      "cell_type": "code",
      "source": [
        "'''%matplotlib inline\n",
        "\n",
        "data.plot(\"Date\",\"Price\")\n",
        "\n",
        "data.plot(\"Date\",\"Change %\")\n",
        "\n",
        "data.scatter('Date',\"Price\")'''\n"
      ],
      "metadata": {
        "colab": {
          "base_uri": "https://localhost:8080/",
          "height": 36
        },
        "id": "BvI-WbX4MFph",
        "outputId": "fab8b7fc-4f97-49de-c3d2-4890e5b979ce"
      },
      "execution_count": 442,
      "outputs": [
        {
          "output_type": "execute_result",
          "data": {
            "text/plain": [
              "'%matplotlib inline\\n\\ndata.plot(\"Date\",\"Price\")\\n\\ndata.plot(\"Date\",\"Change %\")\\n\\ndata.scatter(\\'Date\\',\"Price\")'"
            ],
            "application/vnd.google.colaboratory.intrinsic+json": {
              "type": "string"
            }
          },
          "metadata": {},
          "execution_count": 442
        }
      ]
    },
    {
      "cell_type": "markdown",
      "source": [
        "### linear regression test ###"
      ],
      "metadata": {
        "id": "v1Tz1YRUfR_d"
      }
    },
    {
      "cell_type": "code",
      "source": [
        "data= data.to_df()"
      ],
      "metadata": {
        "id": "BoSMtNp7fh5c"
      },
      "execution_count": 443,
      "outputs": []
    },
    {
      "cell_type": "code",
      "source": [
        "data['Price_Change'] = (data['Close'].shift(-1) - data['Close']) / data['Close'] * 100\n",
        "data.dropna(inplace=False)\n",
        "\n",
        "upper_threshold = 0.5\n",
        "lower_threshold = -0.5\n",
        "\n",
        "def classify_change(change):\n",
        "    if change > upper_threshold:\n",
        "        return 1\n",
        "    elif change < lower_threshold:\n",
        "        return -1\n",
        "    else:\n",
        "        return 0\n",
        "\n",
        "data['Target'] = data['Price_Change'].apply(classify_change)\n"
      ],
      "metadata": {
        "id": "sJ3iuClxlirh"
      },
      "execution_count": 444,
      "outputs": []
    },
    {
      "cell_type": "code",
      "source": [
        "data['Timestamp'] = pd.to_datetime(data['Timestamp'])\n",
        "data['Hour'] = data['Timestamp'].dt.hour\n",
        "data['Day'] = data['Timestamp'].dt.day\n",
        "data['Month'] = data['Timestamp'].dt.month\n",
        "data['Year'] = data['Timestamp'].dt.year\n",
        "data['Day_of_Week'] = data['Timestamp'].dt.dayofweek\n",
        "data['Is_Weekend'] = (data['Day_of_Week'] >= 5).astype(int)\n"
      ],
      "metadata": {
        "id": "5eESRTaC7KQz"
      },
      "execution_count": 445,
      "outputs": []
    },
    {
      "cell_type": "code",
      "source": [
        "data = data.drop(columns=['Timestamp'])"
      ],
      "metadata": {
        "id": "j2rhbQQi7jui"
      },
      "execution_count": 446,
      "outputs": []
    },
    {
      "cell_type": "code",
      "source": [
        "data = Table().from_df(data)"
      ],
      "metadata": {
        "id": "0suE52n0jffK"
      },
      "execution_count": 447,
      "outputs": []
    },
    {
      "cell_type": "code",
      "source": [
        "data.show(5)"
      ],
      "metadata": {
        "colab": {
          "base_uri": "https://localhost:8080/",
          "height": 235
        },
        "id": "O3VXOVnZmtg1",
        "outputId": "73d17311-2828-4735-8613-73d825cfa317"
      },
      "execution_count": 448,
      "outputs": [
        {
          "output_type": "display_data",
          "data": {
            "text/plain": [
              "<IPython.core.display.HTML object>"
            ],
            "text/html": [
              "<table border=\"1\" class=\"dataframe\">\n",
              "    <thead>\n",
              "        <tr>\n",
              "            <th>Open</th> <th>High</th> <th>Low</th> <th>Close</th> <th>Volume</th> <th>vol traded</th> <th>price_change_hourly</th> <th>volume_change_hourly</th> <th>EMA_12h</th> <th>EMA_48h</th> <th>rsi_14</th> <th>rsi_condition</th> <th>Price_Change</th> <th>Target</th> <th>Hour</th> <th>Day</th> <th>Month</th> <th>Year</th> <th>Day_of_Week</th> <th>Is_Weekend</th>\n",
              "        </tr>\n",
              "    </thead>\n",
              "    <tbody>\n",
              "        <tr>\n",
              "            <td>63837.8</td> <td>63837.8</td> <td>63764.8</td> <td>63775.6</td> <td>0.986303</td> <td>197.648   </td> <td>-0.0974188         </td> <td>115.214             </td> <td>64297.3</td> <td>65135.7</td> <td>33.5866</td> <td>0            </td> <td>0.440153    </td> <td>0     </td> <td>18  </td> <td>12  </td> <td>11   </td> <td>2021</td> <td>4          </td> <td>0         </td>\n",
              "        </tr>\n",
              "        <tr>\n",
              "            <td>64002.8</td> <td>64082.2</td> <td>63985.9</td> <td>64056.3</td> <td>1.64629 </td> <td>152.463   </td> <td>0.0835432          </td> <td>-22.8613            </td> <td>64260.3</td> <td>65091.7</td> <td>39.2037</td> <td>0            </td> <td>-0.917724   </td> <td>-1    </td> <td>19  </td> <td>12  </td> <td>11   </td> <td>2021</td> <td>4          </td> <td>0         </td>\n",
              "        </tr>\n",
              "        <tr>\n",
              "            <td>63471.8</td> <td>63559.4</td> <td>63463  </td> <td>63468.4</td> <td>2.67954 </td> <td>253.223   </td> <td>-0.00527794        </td> <td>66.0886             </td> <td>64138.4</td> <td>65025.4</td> <td>32.108 </td> <td>0            </td> <td>-0.531036   </td> <td>-1    </td> <td>20  </td> <td>12  </td> <td>11   </td> <td>2021</td> <td>4          </td> <td>0         </td>\n",
              "        </tr>\n",
              "        <tr>\n",
              "            <td>63198.4</td> <td>63198.4</td> <td>63107.7</td> <td>63131.4</td> <td>0.471377</td> <td>214.01    </td> <td>-0.105984          </td> <td>-15.4857            </td> <td>63983.5</td> <td>64948.1</td> <td>24.2103</td> <td>-1           </td> <td>-0.134434   </td> <td>0     </td> <td>21  </td> <td>12  </td> <td>11   </td> <td>2021</td> <td>4          </td> <td>0         </td>\n",
              "        </tr>\n",
              "        <tr>\n",
              "            <td>63086.8</td> <td>63086.8</td> <td>63016.2</td> <td>63046.5</td> <td>4.61578 </td> <td>107.546   </td> <td>-0.0638485         </td> <td>-49.7473            </td> <td>63839.4</td> <td>64870.5</td> <td>24.0348</td> <td>-1           </td> <td>0.906822    </td> <td>1     </td> <td>22  </td> <td>12  </td> <td>11   </td> <td>2021</td> <td>4          </td> <td>0         </td>\n",
              "        </tr>\n",
              "    </tbody>\n",
              "</table>\n",
              "<p>... (25830 rows omitted)</p>"
            ]
          },
          "metadata": {}
        }
      ]
    },
    {
      "cell_type": "code",
      "source": [
        "data.where('Target',are.equal_to(-1))"
      ],
      "metadata": {
        "colab": {
          "base_uri": "https://localhost:8080/",
          "height": 392
        },
        "id": "3ZnUKG0-mwEl",
        "outputId": "1e655765-27ee-4d65-ede5-e5f85aaeeb27"
      },
      "execution_count": 449,
      "outputs": [
        {
          "output_type": "execute_result",
          "data": {
            "text/plain": [
              "Open    | High    | Low     | Close   | Volume     | vol traded | price_change_hourly | volume_change_hourly | EMA_12h | EMA_48h | rsi_14  | rsi_condition | Price_Change | Target | Hour | Day  | Month | Year | Day_of_Week | Is_Weekend\n",
              "64002.8 | 64082.2 | 63985.9 | 64056.3 | 1.64629    | 152.463    | 0.0835432           | -22.8613             | 64260.3 | 65091.7 | 39.2037 | 0             | -0.917724    | -1     | 19   | 12   | 11    | 2021 | 4           | 0\n",
              "63471.8 | 63559.4 | 63463   | 63468.4 | 2.67954    | 253.223    | -0.00527794         | 66.0886              | 64138.4 | 65025.4 | 32.108  | 0             | -0.531036    | -1     | 20   | 12   | 11    | 2021 | 4           | 0\n",
              "64380.9 | 64435.6 | 64380.9 | 64432.6 | 0.0570947  | 64.1142    | 0.0803499           | 101.963              | 64044.7 | 64642   | 61.7158 | 0             | -0.828525    | -1     | 6    | 13   | 11    | 2021 | 5           | 1\n",
              "64693.4 | 64702.3 | 64685.7 | 64694.7 | 0.12232    | 47.0258    | 0.00193219          | 241.242              | 64223.2 | 64336.9 | 63.962  | 0             | -0.909704    | -1     | 23   | 13   | 11    | 2021 | 5           | 1\n",
              "64642.9 | 64642.9 | 64642.9 | 64642.9 | 0          | 102.4      | 0                   | 295.011              | 64648.3 | 64459.4 | 49.1161 | 0             | -0.613076    | -1     | 13   | 14   | 11    | 2021 | 6           | 1\n",
              "64658.6 | 64658.6 | 64634.3 | 64634.3 | 0.00879516 | 31.5395    | -0.0375356          | 237.283              | 64535.8 | 64455   | 52.9835 | 0             | -0.521534    | -1     | 19   | 14   | 11    | 2021 | 6           | 1\n",
              "64112.6 | 64130.5 | 64057.3 | 64057.3 | 0.379794   | 74.2974    | -0.0861142          | 106.243              | 64431.2 | 64432.6 | 31.2886 | 0             | -0.620304    | -1     | 21   | 14   | 11    | 2021 | 6           | 1\n",
              "65502.7 | 65518.9 | 65468.7 | 65478.4 | 1.29068    | 203.092    | -0.0369909          | 200.219              | 65621.4 | 65019.6 | 43.4118 | 0             | -0.96447     | -1     | 19   | 15   | 11    | 2021 | 0           | 0\n",
              "64868.6 | 64881.3 | 64831.2 | 64846.9 | 0.410983   | 99.3883    | -0.0334676          | -51.0624             | 65502.2 | 65012.6 | 24.5823 | -1            | -0.784941    | -1     | 20   | 15   | 11    | 2021 | 0           | 0\n",
              "64273.4 | 64273.4 | 64169.6 | 64186.7 | 1.27139    | 61.4484    | -0.13497            | 13.4498              | 64700.8 | 64841.7 | 25.9694 | -1            | -0.669874    | -1     | 1    | 16   | 11    | 2021 | 1           | 0\n",
              "... (2806 rows omitted)"
            ],
            "text/html": [
              "<table border=\"1\" class=\"dataframe\">\n",
              "    <thead>\n",
              "        <tr>\n",
              "            <th>Open</th> <th>High</th> <th>Low</th> <th>Close</th> <th>Volume</th> <th>vol traded</th> <th>price_change_hourly</th> <th>volume_change_hourly</th> <th>EMA_12h</th> <th>EMA_48h</th> <th>rsi_14</th> <th>rsi_condition</th> <th>Price_Change</th> <th>Target</th> <th>Hour</th> <th>Day</th> <th>Month</th> <th>Year</th> <th>Day_of_Week</th> <th>Is_Weekend</th>\n",
              "        </tr>\n",
              "    </thead>\n",
              "    <tbody>\n",
              "        <tr>\n",
              "            <td>64002.8</td> <td>64082.2</td> <td>63985.9</td> <td>64056.3</td> <td>1.64629   </td> <td>152.463   </td> <td>0.0835432          </td> <td>-22.8613            </td> <td>64260.3</td> <td>65091.7</td> <td>39.2037</td> <td>0            </td> <td>-0.917724   </td> <td>-1    </td> <td>19  </td> <td>12  </td> <td>11   </td> <td>2021</td> <td>4          </td> <td>0         </td>\n",
              "        </tr>\n",
              "        <tr>\n",
              "            <td>63471.8</td> <td>63559.4</td> <td>63463  </td> <td>63468.4</td> <td>2.67954   </td> <td>253.223   </td> <td>-0.00527794        </td> <td>66.0886             </td> <td>64138.4</td> <td>65025.4</td> <td>32.108 </td> <td>0            </td> <td>-0.531036   </td> <td>-1    </td> <td>20  </td> <td>12  </td> <td>11   </td> <td>2021</td> <td>4          </td> <td>0         </td>\n",
              "        </tr>\n",
              "        <tr>\n",
              "            <td>64380.9</td> <td>64435.6</td> <td>64380.9</td> <td>64432.6</td> <td>0.0570947 </td> <td>64.1142   </td> <td>0.0803499          </td> <td>101.963             </td> <td>64044.7</td> <td>64642  </td> <td>61.7158</td> <td>0            </td> <td>-0.828525   </td> <td>-1    </td> <td>6   </td> <td>13  </td> <td>11   </td> <td>2021</td> <td>5          </td> <td>1         </td>\n",
              "        </tr>\n",
              "        <tr>\n",
              "            <td>64693.4</td> <td>64702.3</td> <td>64685.7</td> <td>64694.7</td> <td>0.12232   </td> <td>47.0258   </td> <td>0.00193219         </td> <td>241.242             </td> <td>64223.2</td> <td>64336.9</td> <td>63.962 </td> <td>0            </td> <td>-0.909704   </td> <td>-1    </td> <td>23  </td> <td>13  </td> <td>11   </td> <td>2021</td> <td>5          </td> <td>1         </td>\n",
              "        </tr>\n",
              "        <tr>\n",
              "            <td>64642.9</td> <td>64642.9</td> <td>64642.9</td> <td>64642.9</td> <td>0         </td> <td>102.4     </td> <td>0                  </td> <td>295.011             </td> <td>64648.3</td> <td>64459.4</td> <td>49.1161</td> <td>0            </td> <td>-0.613076   </td> <td>-1    </td> <td>13  </td> <td>14  </td> <td>11   </td> <td>2021</td> <td>6          </td> <td>1         </td>\n",
              "        </tr>\n",
              "        <tr>\n",
              "            <td>64658.6</td> <td>64658.6</td> <td>64634.3</td> <td>64634.3</td> <td>0.00879516</td> <td>31.5395   </td> <td>-0.0375356         </td> <td>237.283             </td> <td>64535.8</td> <td>64455  </td> <td>52.9835</td> <td>0            </td> <td>-0.521534   </td> <td>-1    </td> <td>19  </td> <td>14  </td> <td>11   </td> <td>2021</td> <td>6          </td> <td>1         </td>\n",
              "        </tr>\n",
              "        <tr>\n",
              "            <td>64112.6</td> <td>64130.5</td> <td>64057.3</td> <td>64057.3</td> <td>0.379794  </td> <td>74.2974   </td> <td>-0.0861142         </td> <td>106.243             </td> <td>64431.2</td> <td>64432.6</td> <td>31.2886</td> <td>0            </td> <td>-0.620304   </td> <td>-1    </td> <td>21  </td> <td>14  </td> <td>11   </td> <td>2021</td> <td>6          </td> <td>1         </td>\n",
              "        </tr>\n",
              "        <tr>\n",
              "            <td>65502.7</td> <td>65518.9</td> <td>65468.7</td> <td>65478.4</td> <td>1.29068   </td> <td>203.092   </td> <td>-0.0369909         </td> <td>200.219             </td> <td>65621.4</td> <td>65019.6</td> <td>43.4118</td> <td>0            </td> <td>-0.96447    </td> <td>-1    </td> <td>19  </td> <td>15  </td> <td>11   </td> <td>2021</td> <td>0          </td> <td>0         </td>\n",
              "        </tr>\n",
              "        <tr>\n",
              "            <td>64868.6</td> <td>64881.3</td> <td>64831.2</td> <td>64846.9</td> <td>0.410983  </td> <td>99.3883   </td> <td>-0.0334676         </td> <td>-51.0624            </td> <td>65502.2</td> <td>65012.6</td> <td>24.5823</td> <td>-1           </td> <td>-0.784941   </td> <td>-1    </td> <td>20  </td> <td>15  </td> <td>11   </td> <td>2021</td> <td>0          </td> <td>0         </td>\n",
              "        </tr>\n",
              "        <tr>\n",
              "            <td>64273.4</td> <td>64273.4</td> <td>64169.6</td> <td>64186.7</td> <td>1.27139   </td> <td>61.4484   </td> <td>-0.13497           </td> <td>13.4498             </td> <td>64700.8</td> <td>64841.7</td> <td>25.9694</td> <td>-1           </td> <td>-0.669874   </td> <td>-1    </td> <td>1   </td> <td>16  </td> <td>11   </td> <td>2021</td> <td>1          </td> <td>0         </td>\n",
              "        </tr>\n",
              "    </tbody>\n",
              "</table>\n",
              "<p>... (2806 rows omitted)</p>"
            ]
          },
          "metadata": {},
          "execution_count": 449
        }
      ]
    },
    {
      "cell_type": "markdown",
      "source": [
        "#### data split ####"
      ],
      "metadata": {
        "id": "XPWYI2QX2Lun"
      }
    },
    {
      "cell_type": "code",
      "source": [
        "from sklearn.model_selection import GridSearchCV\n",
        "from sklearn.neural_network import MLPClassifier"
      ],
      "metadata": {
        "id": "6ILBZsmnDKD1"
      },
      "execution_count": 450,
      "outputs": []
    },
    {
      "cell_type": "code",
      "source": [
        "from sklearn.model_selection import train_test_split\n",
        "from sklearn.metrics import accuracy_score, precision_score, recall_score, f1_score\n",
        "from sklearn.linear_model import LinearRegression\n",
        "\n",
        "RANDOM_SEED= 420\n",
        "TRAIN_PERC=0.6\n",
        "\n",
        "np.random.seed(RANDOM_SEED)"
      ],
      "metadata": {
        "id": "QjWbdF402Oce"
      },
      "execution_count": 451,
      "outputs": []
    },
    {
      "cell_type": "code",
      "source": [
        "data = data.to_df()"
      ],
      "metadata": {
        "id": "ZRWk9KHcFA9G"
      },
      "execution_count": 452,
      "outputs": []
    },
    {
      "cell_type": "code",
      "source": [
        "valid_rows= np.isfinite(data).all(axis=1)\n",
        "data= data[valid_rows]\n",
        "data= data.dropna(inplace=False)\n",
        "data= Table().from_df(data)"
      ],
      "metadata": {
        "id": "qInFACF2FKg4"
      },
      "execution_count": 453,
      "outputs": []
    },
    {
      "cell_type": "code",
      "source": [
        "target = data.column(\"Target\")\n",
        "X = data.drop(\"Target\").to_df()\n",
        "\n"
      ],
      "metadata": {
        "id": "jrmKMkrr3UFq"
      },
      "execution_count": 454,
      "outputs": []
    },
    {
      "cell_type": "code",
      "source": [
        "X_train, X_temp, t_train, t_temp = train_test_split(X, target, test_size=(1 - TRAIN_PERC), random_state=RANDOM_SEED,stratify=target)\n",
        "X_val, X_test, t_val, t_test = train_test_split(X_temp, t_temp, test_size=0.5, random_state=RANDOM_SEED, stratify=t_temp)\n",
        "\n",
        "valid_rows = np.isfinite(X_train).all(axis=1)\n",
        "X_train = X_train[valid_rows]\n",
        "t_train = t_train[valid_rows]"
      ],
      "metadata": {
        "id": "iH__mmg23r9a"
      },
      "execution_count": 455,
      "outputs": []
    },
    {
      "cell_type": "markdown",
      "source": [
        "#### train model ####"
      ],
      "metadata": {
        "id": "vKJNP0XH4E4V"
      }
    },
    {
      "cell_type": "code",
      "source": [
        "def sigmoid(z):\n",
        "    return 1 / (1 + np.exp(-np.clip(z, -400, 400)))\n",
        "\n",
        "def train_logistic_regression(X, t):\n",
        "    m,n=X.shape\n",
        "    w=np.zeros(n)\n",
        "    b=0\n",
        "\n",
        "    for i in range(1000):\n",
        "        z=np.dot(X,w)+b\n",
        "        t_hat=sigmoid(z)\n",
        "        dw=(1/m)*np.dot(X.T,(t_hat-t))\n",
        "        db=(1/m)*np.sum(t_hat-t)\n",
        "        w-=0.1*dw\n",
        "        b-=0.1*db\n",
        "    #print(w,b)\n",
        "\n",
        "    return w, b\n",
        "\n",
        "def predict_logistic_regression(X, w, b):\n",
        "    temp=1/(1+np.exp(-(X@w+b)))\n",
        "    t=(temp>=0.5).astype(int)\n",
        "    return t"
      ],
      "metadata": {
        "id": "71Cwenpy4JZD"
      },
      "execution_count": 456,
      "outputs": []
    },
    {
      "cell_type": "code",
      "source": [
        "def get_accuracy(t, t_hat):\n",
        "    \"\"\"\n",
        "    Calculate accuracy,\n",
        "    \"\"\"\n",
        "    #print(t,t_hat)\n",
        "    acc=np.mean(t==t_hat)*100\n",
        "    #print(\"accuracy\",acc)\n",
        "    return acc\n",
        "\n",
        "def generate_report(t_true,t_pred):\n",
        "  return {\n",
        "        'Accuracy': accuracy_score(t_true, t_pred),\n",
        "        'Precision': precision_score(t_true, t_pred),\n",
        "        'Recall': recall_score(t_true, t_pred),\n",
        "        'F1-Score': f1_score(t_true, t_pred)\n",
        "    }"
      ],
      "metadata": {
        "id": "r6aPiJ4q56cv"
      },
      "execution_count": 457,
      "outputs": []
    },
    {
      "cell_type": "code",
      "source": [
        "def train_MLP(X_train,t_train):\n",
        "  mlp=MLPClassifier(hidden_layer_sizes=(64,32),activation='relu', max_iter=300, random_state=42)\n",
        "  mlp.fit(X_train,t_train)\n",
        "  return mlp\n",
        "\n",
        "def predict_MLP(mlp,X_val):\n",
        "  t_hat=mlp.predict(X_val)\n",
        "  return t_hat"
      ],
      "metadata": {
        "id": "DnkSE4M5DNB5"
      },
      "execution_count": 458,
      "outputs": []
    },
    {
      "cell_type": "code",
      "source": [
        "w_log, b_log = train_logistic_regression(X_train, t_train)\n",
        "\n",
        "t_hat_train_log=predict_logistic_regression(X_train, w_log, b_log)\n",
        "t_hat_val_log = predict_logistic_regression(X_val, w_log, b_log)\n",
        "t_hat_test_log = predict_logistic_regression(X_test, w_log, b_log)\n",
        "\n",
        "print(\"Overall Accuracy of logistic regression on validation set: \", get_accuracy(t_hat_val_log, t_val))\n",
        "print(\"Overall Accuracy of logistic regression on test set: \", get_accuracy(t_hat_test_log, t_test))\n"
      ],
      "metadata": {
        "colab": {
          "base_uri": "https://localhost:8080/"
        },
        "id": "K6r0yOlT5Smg",
        "outputId": "85c263ab-10fd-4b7c-a11d-0e4f1c57b669"
      },
      "execution_count": 459,
      "outputs": [
        {
          "output_type": "stream",
          "name": "stdout",
          "text": [
            "Overall Accuracy of logistic regression on validation set:  77.8939217964\n",
            "Overall Accuracy of logistic regression on test set:  77.878846526\n"
          ]
        },
        {
          "output_type": "stream",
          "name": "stderr",
          "text": [
            "/usr/local/lib/python3.10/dist-packages/pandas/core/arraylike.py:399: RuntimeWarning: overflow encountered in exp\n",
            "  result = getattr(ufunc, method)(*inputs, **kwargs)\n",
            "/usr/local/lib/python3.10/dist-packages/pandas/core/arraylike.py:399: RuntimeWarning: overflow encountered in exp\n",
            "  result = getattr(ufunc, method)(*inputs, **kwargs)\n",
            "/usr/local/lib/python3.10/dist-packages/pandas/core/arraylike.py:399: RuntimeWarning: overflow encountered in exp\n",
            "  result = getattr(ufunc, method)(*inputs, **kwargs)\n"
          ]
        }
      ]
    },
    {
      "cell_type": "code",
      "source": [
        "mlp= train_MLP(X_train,t_train)\n",
        "\n",
        "t_hat_mlp_train=predict_MLP(mlp,X_train)\n",
        "t_hat_mlp_val=predict_MLP(mlp,X_val)\n",
        "t_hat_mlp_test= predict_MLP(mlp,X_test)\n",
        "\n",
        "print(\"Overall Accuracy of MLP on validation set: \", get_accuracy(t_hat_mlp_val, t_val))\n",
        "print(\"Overall Accuracy of MLP on test set: \", get_accuracy(t_hat_mlp_test, t_test))"
      ],
      "metadata": {
        "id": "_kwMW75QC8Bz",
        "outputId": "e52c0d46-07ef-4884-d525-2ca3fa86f6db",
        "colab": {
          "base_uri": "https://localhost:8080/"
        }
      },
      "execution_count": 460,
      "outputs": [
        {
          "output_type": "stream",
          "name": "stdout",
          "text": [
            "Overall Accuracy of MLP on validation set:  78.1262098335\n",
            "Overall Accuracy of MLP on test set:  77.8014321657\n"
          ]
        }
      ]
    },
    {
      "cell_type": "markdown",
      "source": [
        "# new source #"
      ],
      "metadata": {
        "id": "7pwxpksMcS1s"
      }
    },
    {
      "cell_type": "code",
      "source": [
        "news= Table.read_table(path+'cryptonews.csv').drop('url','source','title')\n",
        "news = news.where(\"subject\",are.equal_to(\"bitcoin\"))\n",
        "news.show(10)\n"
      ],
      "metadata": {
        "colab": {
          "base_uri": "https://localhost:8080/",
          "height": 392
        },
        "id": "33L0l0CzS5kq",
        "outputId": "0d3bc039-6c99-4b19-b110-01ae026d76cb"
      },
      "execution_count": 461,
      "outputs": [
        {
          "output_type": "display_data",
          "data": {
            "text/plain": [
              "<IPython.core.display.HTML object>"
            ],
            "text/html": [
              "<table border=\"1\" class=\"dataframe\">\n",
              "    <thead>\n",
              "        <tr>\n",
              "            <th>date</th> <th>sentiment</th> <th>subject</th> <th>text</th>\n",
              "        </tr>\n",
              "    </thead>\n",
              "    <tbody>\n",
              "        <tr>\n",
              "            <td>2023-12-19 05:25:00</td> <td>{'class': 'negative', 'polarity': -0.01, 'subjectivity': ...</td> <td>bitcoin</td> <td>Yonsei found that during BTC’s rally in early December,  ...</td>\n",
              "        </tr>\n",
              "        <tr>\n",
              "            <td>2023-12-19 04:50:11</td> <td>{'class': 'positive', 'polarity': 0.3, 'subjectivity': 0.1} </td> <td>bitcoin</td> <td>Cathie Wood led ARK Invest fund sold around 809, 441 Gra ...</td>\n",
              "        </tr>\n",
              "        <tr>\n",
              "            <td>2023-12-19 04:10:00</td> <td>{'class': 'neutral', 'polarity': 0.0, 'subjectivity': 0.0}  </td> <td>bitcoin</td> <td>Bitcoin's 150% surge pales in comparison to the staggeri ...</td>\n",
              "        </tr>\n",
              "        <tr>\n",
              "            <td>2023-12-19 02:59:59</td> <td>{'class': 'negative', 'polarity': -0.08, 'subjectivity': ...</td> <td>bitcoin</td> <td>The SEC has pushed back its decision on a roster of Ethe ...</td>\n",
              "        </tr>\n",
              "        <tr>\n",
              "            <td>2023-12-18 18:33:34</td> <td>{'class': 'negative', 'polarity': -0.27, 'subjectivity': ...</td> <td>bitcoin</td> <td>Bitcoin may remain under pressure for a few days, but a  ...</td>\n",
              "        </tr>\n",
              "        <tr>\n",
              "            <td>2023-12-18 18:15:45</td> <td>{'class': 'neutral', 'polarity': 0.0, 'subjectivity': 0.0}  </td> <td>bitcoin</td> <td>The ad spot came as the U.S. Securities and Exchange Com ...</td>\n",
              "        </tr>\n",
              "        <tr>\n",
              "            <td>2023-12-18 18:11:43</td> <td>{'class': 'positive', 'polarity': 0.3, 'subjectivity': 0.45}</td> <td>bitcoin</td> <td>Bitcoin (BTC), the world's most valuable cryptocurrency, ...</td>\n",
              "        </tr>\n",
              "        <tr>\n",
              "            <td>2023-12-18 17:55:00</td> <td>{'class': 'positive', 'polarity': 0.2, 'subjectivity': 0.7} </td> <td>bitcoin</td> <td>Since the famous meme post to BitcoinTalk, Bitcoin (BTC) ...</td>\n",
              "        </tr>\n",
              "        <tr>\n",
              "            <td>2023-12-18 17:01:00</td> <td>{'class': 'positive', 'polarity': 0.05, 'subjectivity':  ...</td> <td>bitcoin</td> <td>CoinShares said the \"mixed regional flows\" are more indi ...</td>\n",
              "        </tr>\n",
              "        <tr>\n",
              "            <td>2023-12-18 15:42:27</td> <td>{'class': 'negative', 'polarity': -0.1, 'subjectivity': 0.2}</td> <td>bitcoin</td> <td>Digital asset mining firm Hut 8 signed an interim agreem ...</td>\n",
              "        </tr>\n",
              "    </tbody>\n",
              "</table>\n",
              "<p>... (9958 rows omitted)</p>"
            ]
          },
          "metadata": {}
        }
      ]
    },
    {
      "cell_type": "code",
      "source": [
        "#test cell for sentiment\n",
        "print(news.take(0).column(\"text\")[0])\n",
        "\n",
        "news.sort(\"date\",descending=False).show(3)"
      ],
      "metadata": {
        "colab": {
          "base_uri": "https://localhost:8080/",
          "height": 191
        },
        "id": "NHZ-1V1GgawS",
        "outputId": "6f92ddfd-c307-45dc-91b0-f703be204ada"
      },
      "execution_count": 462,
      "outputs": [
        {
          "output_type": "stream",
          "name": "stdout",
          "text": [
            "Yonsei found that during BTC’s rally in early December, the Binary CDD was also active, signaling recent activity by short-term holders.\n"
          ]
        },
        {
          "output_type": "display_data",
          "data": {
            "text/plain": [
              "<IPython.core.display.HTML object>"
            ],
            "text/html": [
              "<table border=\"1\" class=\"dataframe\">\n",
              "    <thead>\n",
              "        <tr>\n",
              "            <th>date</th> <th>sentiment</th> <th>subject</th> <th>text</th>\n",
              "        </tr>\n",
              "    </thead>\n",
              "    <tbody>\n",
              "        <tr>\n",
              "            <td>2021-11-10 04:58:00</td> <td>{'class': 'neutral', 'polarity': 0.0, 'subjectivity': 0.0}  </td> <td>bitcoin</td> <td>Bitcoin price is correcting gains below USD 67,000. Ethe ...</td>\n",
              "        </tr>\n",
              "        <tr>\n",
              "            <td>2021-11-10 11:09:00</td> <td>{'class': 'negative', 'polarity': -0.02, 'subjectivity': ...</td> <td>bitcoin</td> <td>The much-awaited wallet is scheduled to be launched late ...</td>\n",
              "        </tr>\n",
              "        <tr>\n",
              "            <td>2021-11-10 13:10:00</td> <td>{'class': 'neutral', 'polarity': 0.0, 'subjectivity': 0.0}  </td> <td>bitcoin</td> <td>Bitcoin price is struggling to gain momentum for a move  ...</td>\n",
              "        </tr>\n",
              "    </tbody>\n",
              "</table>\n",
              "<p>... (9965 rows omitted)</p>"
            ]
          },
          "metadata": {}
        }
      ]
    },
    {
      "cell_type": "code",
      "source": [
        "print(type(news.column(\"date\").take(0)))"
      ],
      "metadata": {
        "colab": {
          "base_uri": "https://localhost:8080/"
        },
        "id": "Q7vHGh2r1GM8",
        "outputId": "017eb00b-9433-457e-b52f-24d8023d4d0b"
      },
      "execution_count": 463,
      "outputs": [
        {
          "output_type": "stream",
          "name": "stdout",
          "text": [
            "<class 'numpy.str_'>\n"
          ]
        }
      ]
    },
    {
      "cell_type": "code",
      "source": [
        "def date_fix(date):\n",
        "  return date[:-2]+'00'"
      ],
      "metadata": {
        "id": "l0BN1h7Vzzv0"
      },
      "execution_count": 464,
      "outputs": []
    },
    {
      "cell_type": "code",
      "source": [
        "#test date_fix\n",
        "print(date_fix('2021-11-10 13:10:11'))"
      ],
      "metadata": {
        "colab": {
          "base_uri": "https://localhost:8080/"
        },
        "id": "Gl72WIQf3l_0",
        "outputId": "f17b4cdb-766d-4ced-e935-6ad1a0ed710e"
      },
      "execution_count": 465,
      "outputs": [
        {
          "output_type": "stream",
          "name": "stdout",
          "text": [
            "2021-11-10 13:10:00\n"
          ]
        }
      ]
    },
    {
      "cell_type": "code",
      "source": [
        "class_ = []\n",
        "polarity_ = []\n",
        "subjectivity_ = []\n",
        "\n",
        "for row in news.column(\"sentiment\"):\n",
        "  row=eval(row)\n",
        "  if row['class']=='neutral':\n",
        "    class_.append(0)\n",
        "  elif row['class']=='negative':\n",
        "    class_.append(-1)\n",
        "  elif row['class']=='positive':\n",
        "    class_.append(1)\n",
        "\n",
        "\n",
        "  polarity_.append(row['polarity'])\n",
        "  subjectivity_.append(row['subjectivity'])\n",
        "\n",
        "class_,polarity_,subjectivity_=map(np.array,(class_,polarity_,subjectivity_))\n",
        "print(class_,polarity_,subjectivity_)\n",
        "\n",
        "fixed_date = news.apply(date_fix,'date')\n",
        "\n",
        "\n",
        "news = news.with_columns(\"class\",class_,\"polarity\",polarity_,\"subjectivity\",subjectivity_,\"date\",fixed_date).drop('sentiment')\n",
        "\n",
        "news.sort(\"date\",descending=True).show(5)\n",
        "\n"
      ],
      "metadata": {
        "colab": {
          "base_uri": "https://localhost:8080/",
          "height": 254
        },
        "id": "2SCv3RFDitV1",
        "outputId": "6bc1d1a6-5af6-4599-d814-bf8dfe66ec85"
      },
      "execution_count": 466,
      "outputs": [
        {
          "output_type": "stream",
          "name": "stdout",
          "text": [
            "[-1  1  0 ...,  0 -1  0] [-0.01  0.3   0.   ...,  0.   -0.02  0.  ] [ 0.38  0.1   0.   ...,  0.    0.47  0.  ]\n"
          ]
        },
        {
          "output_type": "display_data",
          "data": {
            "text/plain": [
              "<IPython.core.display.HTML object>"
            ],
            "text/html": [
              "<table border=\"1\" class=\"dataframe\">\n",
              "    <thead>\n",
              "        <tr>\n",
              "            <th>date</th> <th>subject</th> <th>text</th> <th>class</th> <th>polarity</th> <th>subjectivity</th>\n",
              "        </tr>\n",
              "    </thead>\n",
              "    <tbody>\n",
              "        <tr>\n",
              "            <td>2023-12-19 05:25:00</td> <td>bitcoin</td> <td>Yonsei found that during BTC’s rally in early December,  ...</td> <td>-1   </td> <td>-0.01   </td> <td>0.38        </td>\n",
              "        </tr>\n",
              "        <tr>\n",
              "            <td>2023-12-19 04:50:00</td> <td>bitcoin</td> <td>Cathie Wood led ARK Invest fund sold around 809, 441 Gra ...</td> <td>1    </td> <td>0.3     </td> <td>0.1         </td>\n",
              "        </tr>\n",
              "        <tr>\n",
              "            <td>2023-12-19 04:10:00</td> <td>bitcoin</td> <td>Bitcoin's 150% surge pales in comparison to the staggeri ...</td> <td>0    </td> <td>0       </td> <td>0           </td>\n",
              "        </tr>\n",
              "        <tr>\n",
              "            <td>2023-12-19 02:59:00</td> <td>bitcoin</td> <td>The SEC has pushed back its decision on a roster of Ethe ...</td> <td>-1   </td> <td>-0.08   </td> <td>0.64        </td>\n",
              "        </tr>\n",
              "        <tr>\n",
              "            <td>2023-12-18 18:33:00</td> <td>bitcoin</td> <td>Bitcoin may remain under pressure for a few days, but a  ...</td> <td>-1   </td> <td>-0.27   </td> <td>0.33        </td>\n",
              "        </tr>\n",
              "    </tbody>\n",
              "</table>\n",
              "<p>... (9963 rows omitted)</p>"
            ]
          },
          "metadata": {}
        }
      ]
    },
    {
      "cell_type": "code",
      "source": [
        "news= news.to_df()"
      ],
      "metadata": {
        "id": "v7wsgCel8mQw"
      },
      "execution_count": 467,
      "outputs": []
    },
    {
      "cell_type": "code",
      "source": [
        "news['date'] = pd.to_datetime(news['date'])\n",
        "news['Hour'] = news['date'].dt.hour\n",
        "news['Day'] = news['date'].dt.day\n",
        "news['Month'] = news['date'].dt.month\n",
        "news['Year'] = news['date'].dt.year\n",
        "news['Day_of_Week'] = news['date'].dt.dayofweek\n",
        "news['Is_Weekend'] = (news['Day_of_Week'] >= 5).astype(int)\n"
      ],
      "metadata": {
        "id": "5ObFpTGR8qpv"
      },
      "execution_count": 468,
      "outputs": []
    },
    {
      "cell_type": "code",
      "source": [
        "news= Table().from_df(news)\n",
        "news = news.drop(\"date\")"
      ],
      "metadata": {
        "id": "FjT6E-GR8yUa"
      },
      "execution_count": 469,
      "outputs": []
    },
    {
      "cell_type": "code",
      "source": [
        "news=news.drop(\"subject\")"
      ],
      "metadata": {
        "id": "S-Y_3mlBbTD9"
      },
      "execution_count": 470,
      "outputs": []
    },
    {
      "cell_type": "markdown",
      "source": [
        "# Dataset created (news) #\n"
      ],
      "metadata": {
        "id": "YamDLziWaHZP"
      }
    },
    {
      "cell_type": "code",
      "source": [
        "created_sentiment= Table().read_table(path+'news_sent_analysis.csv')\n",
        "created_sentiment.show(1)"
      ],
      "metadata": {
        "colab": {
          "base_uri": "https://localhost:8080/",
          "height": 110
        },
        "id": "62tHAYwYaOH7",
        "outputId": "84f2a450-e310-47bd-da95-12d4de29283f"
      },
      "execution_count": 471,
      "outputs": [
        {
          "output_type": "display_data",
          "data": {
            "text/plain": [
              "<IPython.core.display.HTML object>"
            ],
            "text/html": [
              "<table border=\"1\" class=\"dataframe\">\n",
              "    <thead>\n",
              "        <tr>\n",
              "            <th>title</th> <th>newsDatetime</th> <th>sentiment</th> <th>polarity</th> <th>subjectivity</th>\n",
              "        </tr>\n",
              "    </thead>\n",
              "    <tbody>\n",
              "        <tr>\n",
              "            <td>Bitcoin Gold Defies Gravity, But Price Rally Looks Weak</td> <td>2017-11-12 15:00:00</td> <td>1        </td> <td>-0.38   </td> <td>0.62        </td>\n",
              "        </tr>\n",
              "    </tbody>\n",
              "</table>\n",
              "<p>... (11024 rows omitted)</p>"
            ]
          },
          "metadata": {}
        }
      ]
    },
    {
      "cell_type": "code",
      "source": [
        "created_sentiment= created_sentiment.relabel(\"title\",\"text\")\n",
        "created_sentiment= created_sentiment.relabel(\"newsDatetime\",\"date\")\n",
        "created_sentiment= created_sentiment.relabel(\"sentiment\",\"class\")\n",
        "created_sentiment= created_sentiment.move_to_start(\"date\")\n",
        "created_sentiment.show(1)"
      ],
      "metadata": {
        "colab": {
          "base_uri": "https://localhost:8080/",
          "height": 110
        },
        "id": "i3XlyrmSavgb",
        "outputId": "811b68c5-92c3-4f1b-acbc-9c4d71a68053"
      },
      "execution_count": 472,
      "outputs": [
        {
          "output_type": "display_data",
          "data": {
            "text/plain": [
              "<IPython.core.display.HTML object>"
            ],
            "text/html": [
              "<table border=\"1\" class=\"dataframe\">\n",
              "    <thead>\n",
              "        <tr>\n",
              "            <th>date</th> <th>text</th> <th>class</th> <th>polarity</th> <th>subjectivity</th>\n",
              "        </tr>\n",
              "    </thead>\n",
              "    <tbody>\n",
              "        <tr>\n",
              "            <td>2017-11-12 15:00:00</td> <td>Bitcoin Gold Defies Gravity, But Price Rally Looks Weak</td> <td>1    </td> <td>-0.38   </td> <td>0.62        </td>\n",
              "        </tr>\n",
              "    </tbody>\n",
              "</table>\n",
              "<p>... (11024 rows omitted)</p>"
            ]
          },
          "metadata": {}
        }
      ]
    },
    {
      "cell_type": "code",
      "source": [
        "created_sentiment= created_sentiment.to_df()"
      ],
      "metadata": {
        "id": "6oN4W_7y-D_8"
      },
      "execution_count": 473,
      "outputs": []
    },
    {
      "cell_type": "code",
      "source": [
        "created_sentiment['date'] = pd.to_datetime(created_sentiment['date'],format='%Y-%d-%m %H:%M:%S')\n",
        "created_sentiment['Hour'] = created_sentiment['date'].dt.hour\n",
        "created_sentiment['Day'] = created_sentiment['date'].dt.day\n",
        "created_sentiment['Month'] = created_sentiment['date'].dt.month\n",
        "created_sentiment['Year'] = created_sentiment['date'].dt.year\n",
        "created_sentiment['Day_of_Week'] = created_sentiment['date'].dt.dayofweek\n",
        "created_sentiment['Is_Weekend'] = (created_sentiment['Day_of_Week'] >= 5).astype(int)\n"
      ],
      "metadata": {
        "id": "BFXbgkwA97jm"
      },
      "execution_count": 474,
      "outputs": []
    },
    {
      "cell_type": "code",
      "source": [
        "created_sentiment= Table().from_df(created_sentiment)\n",
        "created_sentiment = created_sentiment.drop(\"date\")"
      ],
      "metadata": {
        "id": "1uitY_Ho-KWD"
      },
      "execution_count": 475,
      "outputs": []
    },
    {
      "cell_type": "markdown",
      "source": [
        "# append news #"
      ],
      "metadata": {
        "id": "N7vFru3xcbyE"
      }
    },
    {
      "cell_type": "code",
      "source": [
        "news= news.append(created_sentiment)\n",
        "news.show(5)"
      ],
      "metadata": {
        "colab": {
          "base_uri": "https://localhost:8080/",
          "height": 235
        },
        "id": "5MOGnbhhceld",
        "outputId": "d5a40a46-700b-4c08-d898-e8d825a03606"
      },
      "execution_count": 476,
      "outputs": [
        {
          "output_type": "display_data",
          "data": {
            "text/plain": [
              "<IPython.core.display.HTML object>"
            ],
            "text/html": [
              "<table border=\"1\" class=\"dataframe\">\n",
              "    <thead>\n",
              "        <tr>\n",
              "            <th>text</th> <th>class</th> <th>polarity</th> <th>subjectivity</th> <th>Hour</th> <th>Day</th> <th>Month</th> <th>Year</th> <th>Day_of_Week</th> <th>Is_Weekend</th>\n",
              "        </tr>\n",
              "    </thead>\n",
              "    <tbody>\n",
              "        <tr>\n",
              "            <td>Yonsei found that during BTC’s rally in early December,  ...</td> <td>-1   </td> <td>-0.01   </td> <td>0.38        </td> <td>5   </td> <td>19  </td> <td>12   </td> <td>2023</td> <td>1          </td> <td>0         </td>\n",
              "        </tr>\n",
              "        <tr>\n",
              "            <td>Cathie Wood led ARK Invest fund sold around 809, 441 Gra ...</td> <td>1    </td> <td>0.3     </td> <td>0.1         </td> <td>4   </td> <td>19  </td> <td>12   </td> <td>2023</td> <td>1          </td> <td>0         </td>\n",
              "        </tr>\n",
              "        <tr>\n",
              "            <td>Bitcoin's 150% surge pales in comparison to the staggeri ...</td> <td>0    </td> <td>0       </td> <td>0           </td> <td>4   </td> <td>19  </td> <td>12   </td> <td>2023</td> <td>1          </td> <td>0         </td>\n",
              "        </tr>\n",
              "        <tr>\n",
              "            <td>The SEC has pushed back its decision on a roster of Ethe ...</td> <td>-1   </td> <td>-0.08   </td> <td>0.64        </td> <td>2   </td> <td>19  </td> <td>12   </td> <td>2023</td> <td>1          </td> <td>0         </td>\n",
              "        </tr>\n",
              "        <tr>\n",
              "            <td>Bitcoin may remain under pressure for a few days, but a  ...</td> <td>-1   </td> <td>-0.27   </td> <td>0.33        </td> <td>18  </td> <td>18  </td> <td>12   </td> <td>2023</td> <td>0          </td> <td>0         </td>\n",
              "        </tr>\n",
              "    </tbody>\n",
              "</table>\n",
              "<p>... (20988 rows omitted)</p>"
            ]
          },
          "metadata": {}
        }
      ]
    },
    {
      "cell_type": "code",
      "source": [
        "#group test\n",
        "\n",
        "news.group(\"text\").sort(\"count\",descending=True)"
      ],
      "metadata": {
        "colab": {
          "base_uri": "https://localhost:8080/",
          "height": 392
        },
        "id": "4O_OKjDwcwP6",
        "outputId": "650e7705-2e00-4c60-af36-6b38f8baf18b"
      },
      "execution_count": 477,
      "outputs": [
        {
          "output_type": "execute_result",
          "data": {
            "text/plain": [
              "text                                                         | count\n",
              "Get your daily, bite-sized digest of cryptoasset and blo ... | 165\n",
              "Your daily, bite-sized digest of cryptoasset and blockch ... | 3\n",
              "A tale of two types of Bitcoin investor emerges, as BTC  ... | 2\n",
              "According to a crypto-focused entrepreneur, bitcoin coul ... | 2\n",
              "BTC price dips to six-week lows, but worse could be to c ... | 2\n",
              "BTC price support is yet to reappear, with Bitcoin bulls ... | 2\n",
              "Bitcoin (BTC) and Ethereum (ETH) are now slightly less v ... | 2\n",
              "Bitcoin exchanges see the largest one-day exchange BTC i ... | 2\n",
              "Bitcoin is giving plenty of longtime market participants ... | 2\n",
              "Founded during the major market slump of 2018, 21Shares  ... | 2\n",
              "... (20804 rows omitted)"
            ],
            "text/html": [
              "<table border=\"1\" class=\"dataframe\">\n",
              "    <thead>\n",
              "        <tr>\n",
              "            <th>text</th> <th>count</th>\n",
              "        </tr>\n",
              "    </thead>\n",
              "    <tbody>\n",
              "        <tr>\n",
              "            <td>Get your daily, bite-sized digest of cryptoasset and blo ...</td> <td>165  </td>\n",
              "        </tr>\n",
              "        <tr>\n",
              "            <td>Your daily, bite-sized digest of cryptoasset and blockch ...</td> <td>3    </td>\n",
              "        </tr>\n",
              "        <tr>\n",
              "            <td>A tale of two types of Bitcoin investor emerges, as BTC  ...</td> <td>2    </td>\n",
              "        </tr>\n",
              "        <tr>\n",
              "            <td>According to a crypto-focused entrepreneur, bitcoin coul ...</td> <td>2    </td>\n",
              "        </tr>\n",
              "        <tr>\n",
              "            <td>BTC price dips to six-week lows, but worse could be to c ...</td> <td>2    </td>\n",
              "        </tr>\n",
              "        <tr>\n",
              "            <td>BTC price support is yet to reappear, with Bitcoin bulls ...</td> <td>2    </td>\n",
              "        </tr>\n",
              "        <tr>\n",
              "            <td>Bitcoin (BTC) and Ethereum (ETH) are now slightly less v ...</td> <td>2    </td>\n",
              "        </tr>\n",
              "        <tr>\n",
              "            <td>Bitcoin exchanges see the largest one-day exchange BTC i ...</td> <td>2    </td>\n",
              "        </tr>\n",
              "        <tr>\n",
              "            <td>Bitcoin is giving plenty of longtime market participants ...</td> <td>2    </td>\n",
              "        </tr>\n",
              "        <tr>\n",
              "            <td>Founded during the major market slump of 2018, 21Shares  ...</td> <td>2    </td>\n",
              "        </tr>\n",
              "    </tbody>\n",
              "</table>\n",
              "<p>... (20804 rows omitted)</p>"
            ]
          },
          "metadata": {},
          "execution_count": 477
        }
      ]
    },
    {
      "cell_type": "code",
      "source": [
        "news=news.where(\"text\",are.not_containing(\"Get your daily, bite-sized digest of cryptoasset and blo\"))\n",
        "news.group(\"text\").sort(\"count\",descending=True)"
      ],
      "metadata": {
        "colab": {
          "base_uri": "https://localhost:8080/",
          "height": 392
        },
        "id": "QLAarKrRdXLH",
        "outputId": "89b70d98-b305-44e8-ca4d-908e8ad55a41"
      },
      "execution_count": 478,
      "outputs": [
        {
          "output_type": "execute_result",
          "data": {
            "text/plain": [
              "text                                                         | count\n",
              "Your daily, bite-sized digest of cryptoasset and blockch ... | 3\n",
              "A tale of two types of Bitcoin investor emerges, as BTC  ... | 2\n",
              "According to a crypto-focused entrepreneur, bitcoin coul ... | 2\n",
              "BTC price dips to six-week lows, but worse could be to c ... | 2\n",
              "BTC price support is yet to reappear, with Bitcoin bulls ... | 2\n",
              "Bitcoin (BTC) and Ethereum (ETH) are now slightly less v ... | 2\n",
              "Bitcoin exchanges see the largest one-day exchange BTC i ... | 2\n",
              "Bitcoin is giving plenty of longtime market participants ... | 2\n",
              "Founded during the major market slump of 2018, 21Shares  ... | 2\n",
              "Since Jerome Powell's last appearance, the economic outl ... | 2\n",
              "... (20798 rows omitted)"
            ],
            "text/html": [
              "<table border=\"1\" class=\"dataframe\">\n",
              "    <thead>\n",
              "        <tr>\n",
              "            <th>text</th> <th>count</th>\n",
              "        </tr>\n",
              "    </thead>\n",
              "    <tbody>\n",
              "        <tr>\n",
              "            <td>Your daily, bite-sized digest of cryptoasset and blockch ...</td> <td>3    </td>\n",
              "        </tr>\n",
              "        <tr>\n",
              "            <td>A tale of two types of Bitcoin investor emerges, as BTC  ...</td> <td>2    </td>\n",
              "        </tr>\n",
              "        <tr>\n",
              "            <td>According to a crypto-focused entrepreneur, bitcoin coul ...</td> <td>2    </td>\n",
              "        </tr>\n",
              "        <tr>\n",
              "            <td>BTC price dips to six-week lows, but worse could be to c ...</td> <td>2    </td>\n",
              "        </tr>\n",
              "        <tr>\n",
              "            <td>BTC price support is yet to reappear, with Bitcoin bulls ...</td> <td>2    </td>\n",
              "        </tr>\n",
              "        <tr>\n",
              "            <td>Bitcoin (BTC) and Ethereum (ETH) are now slightly less v ...</td> <td>2    </td>\n",
              "        </tr>\n",
              "        <tr>\n",
              "            <td>Bitcoin exchanges see the largest one-day exchange BTC i ...</td> <td>2    </td>\n",
              "        </tr>\n",
              "        <tr>\n",
              "            <td>Bitcoin is giving plenty of longtime market participants ...</td> <td>2    </td>\n",
              "        </tr>\n",
              "        <tr>\n",
              "            <td>Founded during the major market slump of 2018, 21Shares  ...</td> <td>2    </td>\n",
              "        </tr>\n",
              "        <tr>\n",
              "            <td>Since Jerome Powell's last appearance, the economic outl ...</td> <td>2    </td>\n",
              "        </tr>\n",
              "    </tbody>\n",
              "</table>\n",
              "<p>... (20798 rows omitted)</p>"
            ]
          },
          "metadata": {},
          "execution_count": 478
        }
      ]
    },
    {
      "cell_type": "code",
      "source": [
        "temp_news = news.to_df()\n",
        "temp_news = temp_news.drop_duplicates(subset=['text'])\n",
        "news= Table().from_df(temp_news)\n",
        "\n",
        "news.group(\"text\").sort(\"count\",descending=True)"
      ],
      "metadata": {
        "colab": {
          "base_uri": "https://localhost:8080/",
          "height": 392
        },
        "id": "-4BpjobJd9D3",
        "outputId": "29bde49d-40be-48c8-bd2f-85f831dbadef"
      },
      "execution_count": 479,
      "outputs": [
        {
          "output_type": "execute_result",
          "data": {
            "text/plain": [
              "text                                                         | count\n",
              "\n",
              "\n",
              "An automated, on-chain arbitrage strategy for Wrapped  ... | 1\n",
              " #BTC4ALL drops next month!\n",
              "\n",
              " Read up on #MXC's game-cha ... | 1\n",
              " #BTCB - #τBitcoin Vault: Stake $BTCB, Earn τBitcoin.\n",
              "\n",
              "⏳ ... | 1\n",
              " #Bitcoin Cash @Utoday_en $BCH\n",
              "   Potential to be legal  ... | 1\n",
              " #Bitcoin Liquidations Lead $400M in Futures Losses Afte ... | 1\n",
              " #Bitcoin Transactions Surpass Visa according to new ana ... | 1\n",
              " #Bitcoin swaps are available in Klever Wallet \n",
              "\n",
              " Swap # ... | 1\n",
              " #CounosBit (#Cbits) is a new #hard_fork of the #Bitcoin ... | 1\n",
              " #CryptoTwitter\n",
              "\n",
              "What’s your #Bitcoin story?                 | 1\n",
              " #Flux is at its heart about decentralization, it’s buil ... | 1\n",
              "... (20798 rows omitted)"
            ],
            "text/html": [
              "<table border=\"1\" class=\"dataframe\">\n",
              "    <thead>\n",
              "        <tr>\n",
              "            <th>text</th> <th>count</th>\n",
              "        </tr>\n",
              "    </thead>\n",
              "    <tbody>\n",
              "        <tr>\n",
              "            <td>\n",
              "\n",
              "An automated, on-chain arbitrage strategy for Wrapped  ...</td> <td>1    </td>\n",
              "        </tr>\n",
              "        <tr>\n",
              "            <td> #BTC4ALL drops next month!\n",
              "\n",
              " Read up on #MXC's game-cha ...</td> <td>1    </td>\n",
              "        </tr>\n",
              "        <tr>\n",
              "            <td> #BTCB - #τBitcoin Vault: Stake $BTCB, Earn τBitcoin.\n",
              "\n",
              "⏳ ...</td> <td>1    </td>\n",
              "        </tr>\n",
              "        <tr>\n",
              "            <td> #Bitcoin Cash @Utoday_en $BCH\n",
              "   Potential to be legal  ...</td> <td>1    </td>\n",
              "        </tr>\n",
              "        <tr>\n",
              "            <td> #Bitcoin Liquidations Lead $400M in Futures Losses Afte ...</td> <td>1    </td>\n",
              "        </tr>\n",
              "        <tr>\n",
              "            <td> #Bitcoin Transactions Surpass Visa according to new ana ...</td> <td>1    </td>\n",
              "        </tr>\n",
              "        <tr>\n",
              "            <td> #Bitcoin swaps are available in Klever Wallet \n",
              "\n",
              " Swap # ...</td> <td>1    </td>\n",
              "        </tr>\n",
              "        <tr>\n",
              "            <td> #CounosBit (#Cbits) is a new #hard_fork of the #Bitcoin ...</td> <td>1    </td>\n",
              "        </tr>\n",
              "        <tr>\n",
              "            <td> #CryptoTwitter\n",
              "\n",
              "What’s your #Bitcoin story?                </td> <td>1    </td>\n",
              "        </tr>\n",
              "        <tr>\n",
              "            <td> #Flux is at its heart about decentralization, it’s buil ...</td> <td>1    </td>\n",
              "        </tr>\n",
              "    </tbody>\n",
              "</table>\n",
              "<p>... (20798 rows omitted)</p>"
            ]
          },
          "metadata": {},
          "execution_count": 479
        }
      ]
    },
    {
      "cell_type": "code",
      "source": [
        "news.show(3)"
      ],
      "metadata": {
        "colab": {
          "base_uri": "https://localhost:8080/",
          "height": 173
        },
        "id": "16fjxKI1evRR",
        "outputId": "b41a61f0-8447-47ca-c2a1-3cd49011966d"
      },
      "execution_count": 480,
      "outputs": [
        {
          "output_type": "display_data",
          "data": {
            "text/plain": [
              "<IPython.core.display.HTML object>"
            ],
            "text/html": [
              "<table border=\"1\" class=\"dataframe\">\n",
              "    <thead>\n",
              "        <tr>\n",
              "            <th>text</th> <th>class</th> <th>polarity</th> <th>subjectivity</th> <th>Hour</th> <th>Day</th> <th>Month</th> <th>Year</th> <th>Day_of_Week</th> <th>Is_Weekend</th>\n",
              "        </tr>\n",
              "    </thead>\n",
              "    <tbody>\n",
              "        <tr>\n",
              "            <td>Yonsei found that during BTC’s rally in early December,  ...</td> <td>-1   </td> <td>-0.01   </td> <td>0.38        </td> <td>5   </td> <td>19  </td> <td>12   </td> <td>2023</td> <td>1          </td> <td>0         </td>\n",
              "        </tr>\n",
              "        <tr>\n",
              "            <td>Cathie Wood led ARK Invest fund sold around 809, 441 Gra ...</td> <td>1    </td> <td>0.3     </td> <td>0.1         </td> <td>4   </td> <td>19  </td> <td>12   </td> <td>2023</td> <td>1          </td> <td>0         </td>\n",
              "        </tr>\n",
              "        <tr>\n",
              "            <td>Bitcoin's 150% surge pales in comparison to the staggeri ...</td> <td>0    </td> <td>0       </td> <td>0           </td> <td>4   </td> <td>19  </td> <td>12   </td> <td>2023</td> <td>1          </td> <td>0         </td>\n",
              "        </tr>\n",
              "    </tbody>\n",
              "</table>\n",
              "<p>... (20805 rows omitted)</p>"
            ]
          },
          "metadata": {}
        }
      ]
    },
    {
      "cell_type": "markdown",
      "source": [
        "# merge #"
      ],
      "metadata": {
        "id": "BekWiNYBbGj2"
      }
    },
    {
      "cell_type": "code",
      "source": [
        "merged_table = news.join(['Hour','Day','Month','Year','Day_of_Week','Is_Weekend'],data,['Hour','Day','Month','Year','Day_of_Week','Is_Weekend'])\n",
        "merged_table.show(5)"
      ],
      "metadata": {
        "colab": {
          "base_uri": "https://localhost:8080/",
          "height": 426
        },
        "id": "rrwvGkCI4OQ2",
        "outputId": "4f90ed94-d688-4e54-d4ff-c6ad332446bb"
      },
      "execution_count": 481,
      "outputs": [
        {
          "output_type": "display_data",
          "data": {
            "text/plain": [
              "<IPython.core.display.HTML object>"
            ],
            "text/html": [
              "<table border=\"1\" class=\"dataframe\">\n",
              "    <thead>\n",
              "        <tr>\n",
              "            <th>Hour</th> <th>Day</th> <th>Month</th> <th>Year</th> <th>Day_of_Week</th> <th>Is_Weekend</th> <th>text</th> <th>class</th> <th>polarity</th> <th>subjectivity</th> <th>Open</th> <th>High</th> <th>Low</th> <th>Close</th> <th>Volume</th> <th>vol traded</th> <th>price_change_hourly</th> <th>volume_change_hourly</th> <th>EMA_12h</th> <th>EMA_48h</th> <th>rsi_14</th> <th>rsi_condition</th> <th>Price_Change</th> <th>Target</th>\n",
              "        </tr>\n",
              "    </thead>\n",
              "    <tbody>\n",
              "        <tr>\n",
              "            <td>0   </td> <td>1   </td> <td>3    </td> <td>2024</td> <td>4          </td> <td>0         </td> <td>Bitcoin Volatility Induces $700 Million Carnage In Crypt ...</td> <td>0    </td> <td>0       </td> <td>0           </td> <td>60791  </td> <td>60848  </td> <td>60736  </td> <td>60823  </td> <td>0.293772</td> <td>164.827   </td> <td>0.0526394          </td> <td>-30.2719            </td> <td>62089.6</td> <td>60409  </td> <td>32.6573</td> <td>0            </td> <td>1.32022     </td> <td>1     </td>\n",
              "        </tr>\n",
              "        <tr>\n",
              "            <td>0   </td> <td>1   </td> <td>4    </td> <td>2022</td> <td>4          </td> <td>0         </td> <td>Woori Fund Service will team up with the domestic crypto ...</td> <td>0    </td> <td>0       </td> <td>0.1         </td> <td>45617.1</td> <td>45652  </td> <td>45609.6</td> <td>45614.3</td> <td>1.21785 </td> <td>70.0267   </td> <td>-0.00611613        </td> <td>-24.3125            </td> <td>46416.8</td> <td>46943.5</td> <td>26.7811</td> <td>-1           </td> <td>0.349627    </td> <td>0     </td>\n",
              "        </tr>\n",
              "        <tr>\n",
              "            <td>0   </td> <td>1   </td> <td>6    </td> <td>2023</td> <td>3          </td> <td>0         </td> <td>The Federal Reserve might “skip” a rate hike this June a ...</td> <td>0    </td> <td>0       </td> <td>0           </td> <td>27024  </td> <td>27024  </td> <td>27013  </td> <td>27021  </td> <td>2.09812 </td> <td>107.449   </td> <td>-0.0111012         </td> <td>74.1776             </td> <td>27088.7</td> <td>27393  </td> <td>47.619 </td> <td>0            </td> <td>0.381185    </td> <td>0     </td>\n",
              "        </tr>\n",
              "        <tr>\n",
              "            <td>0   </td> <td>1   </td> <td>7    </td> <td>2022</td> <td>4          </td> <td>0         </td> <td>South Korean courts have created a \\x9cworking rule\\x9d  ...</td> <td>-1   </td> <td>-0.5    </td> <td>0.9         </td> <td>18893  </td> <td>18919.2</td> <td>18883.9</td> <td>18919.2</td> <td>5.31325 </td> <td>286.242   </td> <td>0.139152           </td> <td>101.559             </td> <td>19151.5</td> <td>19769.1</td> <td>20.6845</td> <td>-1           </td> <td>-0.98265    </td> <td>-1    </td>\n",
              "        </tr>\n",
              "        <tr>\n",
              "            <td>0   </td> <td>1   </td> <td>7    </td> <td>2023</td> <td>5          </td> <td>1         </td> <td>RT @PatrickXDai: Qtum AAL design can enable Qtum become  ...</td> <td>0    </td> <td>0.21    </td> <td>0.64        </td> <td>30364  </td> <td>30408  </td> <td>30364  </td> <td>30379  </td> <td>4.05976 </td> <td>50.9545   </td> <td>0.0494006          </td> <td>21.6876             </td> <td>30449.9</td> <td>30482.5</td> <td>41.1348</td> <td>0            </td> <td>0.0460845   </td> <td>0     </td>\n",
              "        </tr>\n",
              "    </tbody>\n",
              "</table>\n",
              "<p>... (19068 rows omitted)</p>"
            ]
          },
          "metadata": {}
        }
      ]
    },
    {
      "cell_type": "code",
      "source": [
        "merged_table = merged_table.drop('bitcoin','text','title','subject')\n"
      ],
      "metadata": {
        "id": "HFpi6ujv5ZHb"
      },
      "execution_count": 482,
      "outputs": []
    },
    {
      "cell_type": "code",
      "source": [
        "merged_table.show(5)"
      ],
      "metadata": {
        "colab": {
          "base_uri": "https://localhost:8080/",
          "height": 235
        },
        "id": "HpsDAsI4Z50q",
        "outputId": "ac438edc-2eeb-47ad-e870-fd25539b7a16"
      },
      "execution_count": 483,
      "outputs": [
        {
          "output_type": "display_data",
          "data": {
            "text/plain": [
              "<IPython.core.display.HTML object>"
            ],
            "text/html": [
              "<table border=\"1\" class=\"dataframe\">\n",
              "    <thead>\n",
              "        <tr>\n",
              "            <th>Hour</th> <th>Day</th> <th>Month</th> <th>Year</th> <th>Day_of_Week</th> <th>Is_Weekend</th> <th>class</th> <th>polarity</th> <th>subjectivity</th> <th>Open</th> <th>High</th> <th>Low</th> <th>Close</th> <th>Volume</th> <th>vol traded</th> <th>price_change_hourly</th> <th>volume_change_hourly</th> <th>EMA_12h</th> <th>EMA_48h</th> <th>rsi_14</th> <th>rsi_condition</th> <th>Price_Change</th> <th>Target</th>\n",
              "        </tr>\n",
              "    </thead>\n",
              "    <tbody>\n",
              "        <tr>\n",
              "            <td>0   </td> <td>1   </td> <td>3    </td> <td>2024</td> <td>4          </td> <td>0         </td> <td>0    </td> <td>0       </td> <td>0           </td> <td>60791  </td> <td>60848  </td> <td>60736  </td> <td>60823  </td> <td>0.293772</td> <td>164.827   </td> <td>0.0526394          </td> <td>-30.2719            </td> <td>62089.6</td> <td>60409  </td> <td>32.6573</td> <td>0            </td> <td>1.32022     </td> <td>1     </td>\n",
              "        </tr>\n",
              "        <tr>\n",
              "            <td>0   </td> <td>1   </td> <td>4    </td> <td>2022</td> <td>4          </td> <td>0         </td> <td>0    </td> <td>0       </td> <td>0.1         </td> <td>45617.1</td> <td>45652  </td> <td>45609.6</td> <td>45614.3</td> <td>1.21785 </td> <td>70.0267   </td> <td>-0.00611613        </td> <td>-24.3125            </td> <td>46416.8</td> <td>46943.5</td> <td>26.7811</td> <td>-1           </td> <td>0.349627    </td> <td>0     </td>\n",
              "        </tr>\n",
              "        <tr>\n",
              "            <td>0   </td> <td>1   </td> <td>6    </td> <td>2023</td> <td>3          </td> <td>0         </td> <td>0    </td> <td>0       </td> <td>0           </td> <td>27024  </td> <td>27024  </td> <td>27013  </td> <td>27021  </td> <td>2.09812 </td> <td>107.449   </td> <td>-0.0111012         </td> <td>74.1776             </td> <td>27088.7</td> <td>27393  </td> <td>47.619 </td> <td>0            </td> <td>0.381185    </td> <td>0     </td>\n",
              "        </tr>\n",
              "        <tr>\n",
              "            <td>0   </td> <td>1   </td> <td>7    </td> <td>2022</td> <td>4          </td> <td>0         </td> <td>-1   </td> <td>-0.5    </td> <td>0.9         </td> <td>18893  </td> <td>18919.2</td> <td>18883.9</td> <td>18919.2</td> <td>5.31325 </td> <td>286.242   </td> <td>0.139152           </td> <td>101.559             </td> <td>19151.5</td> <td>19769.1</td> <td>20.6845</td> <td>-1           </td> <td>-0.98265    </td> <td>-1    </td>\n",
              "        </tr>\n",
              "        <tr>\n",
              "            <td>0   </td> <td>1   </td> <td>7    </td> <td>2023</td> <td>5          </td> <td>1         </td> <td>0    </td> <td>0.21    </td> <td>0.64        </td> <td>30364  </td> <td>30408  </td> <td>30364  </td> <td>30379  </td> <td>4.05976 </td> <td>50.9545   </td> <td>0.0494006          </td> <td>21.6876             </td> <td>30449.9</td> <td>30482.5</td> <td>41.1348</td> <td>0            </td> <td>0.0460845   </td> <td>0     </td>\n",
              "        </tr>\n",
              "    </tbody>\n",
              "</table>\n",
              "<p>... (19068 rows omitted)</p>"
            ]
          },
          "metadata": {}
        }
      ]
    },
    {
      "cell_type": "markdown",
      "source": [
        "#### model fit ####"
      ],
      "metadata": {
        "id": "yL8nNKPTBX6A"
      }
    },
    {
      "cell_type": "code",
      "source": [
        "target_new= merged_table.column(\"Target\")\n",
        "X_new = merged_table.drop(\"Target\").to_df()"
      ],
      "metadata": {
        "id": "3HY74goxB_4Y"
      },
      "execution_count": 484,
      "outputs": []
    },
    {
      "cell_type": "code",
      "source": [
        "X_train_new , X_temp_new , t_train_new , t_temp_new = train_test_split(X_new, target_new, test_size=(1 - TRAIN_PERC), random_state=RANDOM_SEED,stratify=target_new)\n",
        "X_val_new, X_test_new, t_val_new, t_test_new = train_test_split(X_temp_new , t_temp_new , test_size=0.5, random_state=RANDOM_SEED, stratify=t_temp_new )"
      ],
      "metadata": {
        "id": "VdJ42EZYBXAs"
      },
      "execution_count": 485,
      "outputs": []
    },
    {
      "cell_type": "code",
      "source": [
        "w_log_new, b_log_new = train_logistic_regression(X_train_new, t_train_new)\n",
        "\n",
        "t_hat_train_log_new=predict_logistic_regression(X_train_new, w_log_new, b_log_new)\n",
        "t_hat_val_log_new = predict_logistic_regression(X_val_new, w_log_new, b_log_new)\n",
        "t_hat_test_log_new = predict_logistic_regression(X_test_new, w_log_new, b_log_new)\n",
        "\n",
        "print(\"Overall Accuracy of logistic regression on validation set: \", get_accuracy(t_hat_val_log_new, t_val_new))\n",
        "print(\"Overall Accuracy of logistic regression on test set: \", get_accuracy(t_hat_test_log_new, t_test_new))\n"
      ],
      "metadata": {
        "id": "crIDjkL6CfPQ",
        "outputId": "e64d7d26-c70e-4900-a787-b6098036f293",
        "colab": {
          "base_uri": "https://localhost:8080/"
        }
      },
      "execution_count": 486,
      "outputs": [
        {
          "output_type": "stream",
          "name": "stdout",
          "text": [
            "Overall Accuracy of logistic regression on validation set:  75.7798165138\n",
            "Overall Accuracy of logistic regression on test set:  75.7798165138\n"
          ]
        },
        {
          "output_type": "stream",
          "name": "stderr",
          "text": [
            "/usr/local/lib/python3.10/dist-packages/pandas/core/arraylike.py:399: RuntimeWarning: overflow encountered in exp\n",
            "  result = getattr(ufunc, method)(*inputs, **kwargs)\n",
            "/usr/local/lib/python3.10/dist-packages/pandas/core/arraylike.py:399: RuntimeWarning: overflow encountered in exp\n",
            "  result = getattr(ufunc, method)(*inputs, **kwargs)\n",
            "/usr/local/lib/python3.10/dist-packages/pandas/core/arraylike.py:399: RuntimeWarning: overflow encountered in exp\n",
            "  result = getattr(ufunc, method)(*inputs, **kwargs)\n"
          ]
        }
      ]
    },
    {
      "cell_type": "code",
      "source": [
        "mlp= train_MLP(X_train_new,t_train_new)\n",
        "\n",
        "t_hat_mlp_train_new=predict_MLP(mlp,X_train_new)\n",
        "t_hat_mlp_val_new=predict_MLP(mlp,X_val_new)\n",
        "t_hat_mlp_test_new= predict_MLP(mlp,X_test_new)\n",
        "\n",
        "print(\"Overall Accuracy of MLP on validation set: \", get_accuracy(t_hat_mlp_val_new, t_val_new))\n",
        "print(\"Overall Accuracy of MLP on test set: \", get_accuracy(t_hat_mlp_test_new, t_test_new))"
      ],
      "metadata": {
        "id": "Ru00GV0xGCNW",
        "outputId": "a737845a-a422-4ca6-c1a5-3d1be9f2f4d8",
        "colab": {
          "base_uri": "https://localhost:8080/"
        }
      },
      "execution_count": 490,
      "outputs": [
        {
          "output_type": "stream",
          "name": "stdout",
          "text": [
            "Overall Accuracy of MLP on validation set:  76.8545216252\n",
            "Overall Accuracy of MLP on test set:  76.25163827\n"
          ]
        }
      ]
    },
    {
      "cell_type": "markdown",
      "source": [
        "# Stats #"
      ],
      "metadata": {
        "id": "NowBc9mdajb_"
      }
    },
    {
      "cell_type": "code",
      "source": [
        "%matplotlib inline\n",
        "import seaborn as sns\n",
        "\n",
        "df= merged_table.to_df()\n",
        "sns.boxplot(x='class', y='Close', data=df)\n",
        "plt.title('Close Price Distribution by Sentiment Class')\n",
        "plt.show()"
      ],
      "metadata": {
        "colab": {
          "base_uri": "https://localhost:8080/",
          "height": 472
        },
        "id": "A3xSKQE38y5y",
        "outputId": "3f31d92a-0e7d-4317-eefe-0f621db693a6"
      },
      "execution_count": 487,
      "outputs": [
        {
          "output_type": "display_data",
          "data": {
            "text/plain": [
              "<Figure size 640x480 with 1 Axes>"
            ],
            "image/png": "[encoded data removed]"
          },
          "metadata": {}
        }
      ]
    },
    {
      "cell_type": "code",
      "source": [
        "downsample_rate = 50\n",
        "date=df['date'][::downsample_rate]\n",
        "polarity=df['polarity'][::downsample_rate]\n",
        "close=df['Close'][::downsample_rate]"
      ],
      "metadata": {
        "id": "uq0Wfb7DDH-n",
        "colab": {
          "base_uri": "https://localhost:8080/",
          "height": 578
        },
        "outputId": "eaf57ec5-0aa3-47fc-821f-87cff6b6a103"
      },
      "execution_count": 488,
      "outputs": [
        {
          "output_type": "error",
          "ename": "KeyError",
          "evalue": "'date'",
          "traceback": [
            "\u001b[0;31m---------------------------------------------------------------------------\u001b[0m",
            "\u001b[0;31mKeyError\u001b[0m                                  Traceback (most recent call last)",
            "\u001b[0;32m/usr/local/lib/python3.10/dist-packages/pandas/core/indexes/base.py\u001b[0m in \u001b[0;36mget_loc\u001b[0;34m(self, key)\u001b[0m\n\u001b[1;32m   3804\u001b[0m         \u001b[0;32mtry\u001b[0m\u001b[0;34m:\u001b[0m\u001b[0;34m\u001b[0m\u001b[0;34m\u001b[0m\u001b[0m\n\u001b[0;32m-> 3805\u001b[0;31m             \u001b[0;32mreturn\u001b[0m \u001b[0mself\u001b[0m\u001b[0;34m.\u001b[0m\u001b[0m_engine\u001b[0m\u001b[0;34m.\u001b[0m\u001b[0mget_loc\u001b[0m\u001b[0;34m(\u001b[0m\u001b[0mcasted_key\u001b[0m\u001b[0;34m)\u001b[0m\u001b[0;34m\u001b[0m\u001b[0;34m\u001b[0m\u001b[0m\n\u001b[0m\u001b[1;32m   3806\u001b[0m         \u001b[0;32mexcept\u001b[0m \u001b[0mKeyError\u001b[0m \u001b[0;32mas\u001b[0m \u001b[0merr\u001b[0m\u001b[0;34m:\u001b[0m\u001b[0;34m\u001b[0m\u001b[0;34m\u001b[0m\u001b[0m\n",
            "\u001b[0;32mindex.pyx\u001b[0m in \u001b[0;36mpandas._libs.index.IndexEngine.get_loc\u001b[0;34m()\u001b[0m\n",
            "\u001b[0;32mindex.pyx\u001b[0m in \u001b[0;36mpandas._libs.index.IndexEngine.get_loc\u001b[0;34m()\u001b[0m\n",
            "\u001b[0;32mpandas/_libs/hashtable_class_helper.pxi\u001b[0m in \u001b[0;36mpandas._libs.hashtable.PyObjectHashTable.get_item\u001b[0;34m()\u001b[0m\n",
            "\u001b[0;32mpandas/_libs/hashtable_class_helper.pxi\u001b[0m in \u001b[0;36mpandas._libs.hashtable.PyObjectHashTable.get_item\u001b[0;34m()\u001b[0m\n",
            "\u001b[0;31mKeyError\u001b[0m: 'date'",
            "\nThe above exception was the direct cause of the following exception:\n",
            "\u001b[0;31mKeyError\u001b[0m                                  Traceback (most recent call last)",
            "\u001b[0;32m<ipython-input-488-6a104315a264>\u001b[0m in \u001b[0;36m<cell line: 2>\u001b[0;34m()\u001b[0m\n\u001b[1;32m      1\u001b[0m \u001b[0mdownsample_rate\u001b[0m \u001b[0;34m=\u001b[0m \u001b[0;36m50\u001b[0m\u001b[0;34m\u001b[0m\u001b[0;34m\u001b[0m\u001b[0m\n\u001b[0;32m----> 2\u001b[0;31m \u001b[0mdate\u001b[0m\u001b[0;34m=\u001b[0m\u001b[0mdf\u001b[0m\u001b[0;34m[\u001b[0m\u001b[0;34m'date'\u001b[0m\u001b[0;34m]\u001b[0m\u001b[0;34m[\u001b[0m\u001b[0;34m:\u001b[0m\u001b[0;34m:\u001b[0m\u001b[0mdownsample_rate\u001b[0m\u001b[0;34m]\u001b[0m\u001b[0;34m\u001b[0m\u001b[0;34m\u001b[0m\u001b[0m\n\u001b[0m\u001b[1;32m      3\u001b[0m \u001b[0mpolarity\u001b[0m\u001b[0;34m=\u001b[0m\u001b[0mdf\u001b[0m\u001b[0;34m[\u001b[0m\u001b[0;34m'polarity'\u001b[0m\u001b[0;34m]\u001b[0m\u001b[0;34m[\u001b[0m\u001b[0;34m:\u001b[0m\u001b[0;34m:\u001b[0m\u001b[0mdownsample_rate\u001b[0m\u001b[0;34m]\u001b[0m\u001b[0;34m\u001b[0m\u001b[0;34m\u001b[0m\u001b[0m\n\u001b[1;32m      4\u001b[0m \u001b[0mclose\u001b[0m\u001b[0;34m=\u001b[0m\u001b[0mdf\u001b[0m\u001b[0;34m[\u001b[0m\u001b[0;34m'Close'\u001b[0m\u001b[0;34m]\u001b[0m\u001b[0;34m[\u001b[0m\u001b[0;34m:\u001b[0m\u001b[0;34m:\u001b[0m\u001b[0mdownsample_rate\u001b[0m\u001b[0;34m]\u001b[0m\u001b[0;34m\u001b[0m\u001b[0;34m\u001b[0m\u001b[0m\n",
            "\u001b[0;32m/usr/local/lib/python3.10/dist-packages/pandas/core/frame.py\u001b[0m in \u001b[0;36m__getitem__\u001b[0;34m(self, key)\u001b[0m\n\u001b[1;32m   4100\u001b[0m             \u001b[0;32mif\u001b[0m \u001b[0mself\u001b[0m\u001b[0;34m.\u001b[0m\u001b[0mcolumns\u001b[0m\u001b[0;34m.\u001b[0m\u001b[0mnlevels\u001b[0m \u001b[0;34m>\u001b[0m \u001b[0;36m1\u001b[0m\u001b[0;34m:\u001b[0m\u001b[0;34m\u001b[0m\u001b[0;34m\u001b[0m\u001b[0m\n\u001b[1;32m   4101\u001b[0m                 \u001b[0;32mreturn\u001b[0m \u001b[0mself\u001b[0m\u001b[0;34m.\u001b[0m\u001b[0m_getitem_multilevel\u001b[0m\u001b[0;34m(\u001b[0m\u001b[0mkey\u001b[0m\u001b[0;34m)\u001b[0m\u001b[0;34m\u001b[0m\u001b[0;34m\u001b[0m\u001b[0m\n\u001b[0;32m-> 4102\u001b[0;31m             \u001b[0mindexer\u001b[0m \u001b[0;34m=\u001b[0m \u001b[0mself\u001b[0m\u001b[0;34m.\u001b[0m\u001b[0mcolumns\u001b[0m\u001b[0;34m.\u001b[0m\u001b[0mget_loc\u001b[0m\u001b[0;34m(\u001b[0m\u001b[0mkey\u001b[0m\u001b[0;34m)\u001b[0m\u001b[0;34m\u001b[0m\u001b[0;34m\u001b[0m\u001b[0m\n\u001b[0m\u001b[1;32m   4103\u001b[0m             \u001b[0;32mif\u001b[0m \u001b[0mis_integer\u001b[0m\u001b[0;34m(\u001b[0m\u001b[0mindexer\u001b[0m\u001b[0;34m)\u001b[0m\u001b[0;34m:\u001b[0m\u001b[0;34m\u001b[0m\u001b[0;34m\u001b[0m\u001b[0m\n\u001b[1;32m   4104\u001b[0m                 \u001b[0mindexer\u001b[0m \u001b[0;34m=\u001b[0m \u001b[0;34m[\u001b[0m\u001b[0mindexer\u001b[0m\u001b[0;34m]\u001b[0m\u001b[0;34m\u001b[0m\u001b[0;34m\u001b[0m\u001b[0m\n",
            "\u001b[0;32m/usr/local/lib/python3.10/dist-packages/pandas/core/indexes/base.py\u001b[0m in \u001b[0;36mget_loc\u001b[0;34m(self, key)\u001b[0m\n\u001b[1;32m   3810\u001b[0m             ):\n\u001b[1;32m   3811\u001b[0m                 \u001b[0;32mraise\u001b[0m \u001b[0mInvalidIndexError\u001b[0m\u001b[0;34m(\u001b[0m\u001b[0mkey\u001b[0m\u001b[0;34m)\u001b[0m\u001b[0;34m\u001b[0m\u001b[0;34m\u001b[0m\u001b[0m\n\u001b[0;32m-> 3812\u001b[0;31m             \u001b[0;32mraise\u001b[0m \u001b[0mKeyError\u001b[0m\u001b[0;34m(\u001b[0m\u001b[0mkey\u001b[0m\u001b[0;34m)\u001b[0m \u001b[0;32mfrom\u001b[0m \u001b[0merr\u001b[0m\u001b[0;34m\u001b[0m\u001b[0;34m\u001b[0m\u001b[0m\n\u001b[0m\u001b[1;32m   3813\u001b[0m         \u001b[0;32mexcept\u001b[0m \u001b[0mTypeError\u001b[0m\u001b[0;34m:\u001b[0m\u001b[0;34m\u001b[0m\u001b[0;34m\u001b[0m\u001b[0m\n\u001b[1;32m   3814\u001b[0m             \u001b[0;31m# If we have a listlike key, _check_indexing_error will raise\u001b[0m\u001b[0;34m\u001b[0m\u001b[0;34m\u001b[0m\u001b[0m\n",
            "\u001b[0;31mKeyError\u001b[0m: 'date'"
          ]
        }
      ]
    },
    {
      "cell_type": "code",
      "source": [
        "plt.figure()\n",
        "plt.plot(date,close,'k',label = 'Bitcoin price (USD)')\n",
        "plt.plot(date,7000*polarity,'r',label = 'polarity')\n",
        "plt.plot(date,np.zeros(len(date)))\n",
        "plt.ylabel('USD')\n",
        "plt.xticks(date[::100],rotation='vertical')\n",
        "plt.legend()\n",
        "plt.show"
      ],
      "metadata": {
        "id": "YGUf3jbVFPN2"
      },
      "execution_count": null,
      "outputs": []
    },
    {
      "cell_type": "code",
      "source": [],
      "metadata": {
        "id": "zqx5b_obDbHo"
      },
      "execution_count": null,
      "outputs": []
    },
    {
      "cell_type": "code",
      "source": [
        "from scipy.stats import f_oneway\n",
        "\n",
        "negative = df[df['class'] == -1]['Close']\n",
        "neutral = df[df['class'] == 0]['Close']\n",
        "positive = df[df['class'] == 1]['Close']\n",
        "\n",
        "stat, p_value = f_oneway(negative, neutral, positive)\n",
        "\n",
        "print(f\"ANOVA Statistic: {stat}, p-value: {p_value}\")\n",
        "if p_value < 0.05:\n",
        "    print(\"Significant difference in Close Price across sentiment classes.\")\n",
        "else:\n",
        "    print(\"No significant difference in Close Price across sentiment classes.\")"
      ],
      "metadata": {
        "id": "zNf_tjhQ-jAh"
      },
      "execution_count": null,
      "outputs": []
    }
  ]
}