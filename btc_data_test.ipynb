{
  "nbformat": 4,
  "nbformat_minor": 0,
  "metadata": {
    "colab": {
      "provenance": [],
      "gpuType": "T4",
      "include_colab_link": true
    },
    "kernelspec": {
      "name": "python3",
      "display_name": "Python 3"
    },
    "language_info": {
      "name": "python"
    },
    "accelerator": "GPU"
  },
  "cells": [
    {
      "cell_type": "markdown",
      "metadata": {
        "id": "view-in-github",
        "colab_type": "text"
      },
      "source": [
        "<a href=\"https://colab.research.google.com/github/shivaansh81001/btc-prediction/blob/main/btc_data_test.ipynb\" target=\"_parent\"><img src=\"https://colab.research.google.com/assets/colab-badge.svg\" alt=\"Open In Colab\"/></a>"
      ]
    },
    {
      "cell_type": "code",
      "execution_count": 115,
      "metadata": {
        "id": "42fy9cdPu76b"
      },
      "outputs": [],
      "source": [
        "from datascience import *\n",
        "import numpy as np\n",
        "import matplotlib.pyplot as plt\n",
        "import pandas as pd\n",
        "from datetime import datetime"
      ]
    },
    {
      "cell_type": "code",
      "source": [
        "from google.colab import drive\n",
        "drive.mount('/content/drive')"
      ],
      "metadata": {
        "colab": {
          "base_uri": "https://localhost:8080/"
        },
        "id": "300acEozXm5x",
        "outputId": "c95132ad-43ea-40de-aa68-2c9a7ac4e423"
      },
      "execution_count": 116,
      "outputs": [
        {
          "output_type": "stream",
          "name": "stdout",
          "text": [
            "Drive already mounted at /content/drive; to attempt to forcibly remount, call drive.mount(\"/content/drive\", force_remount=True).\n"
          ]
        }
      ]
    },
    {
      "cell_type": "code",
      "source": [
        "path='/content/drive/MyDrive/btc predict/'"
      ],
      "metadata": {
        "id": "1pZ9hm_k1PHB"
      },
      "execution_count": 117,
      "outputs": []
    },
    {
      "cell_type": "code",
      "source": [
        "TABLE_NAME='btcusd_1-min_data.csv'\n",
        "data=Table().read_table(path+TABLE_NAME)\n",
        "data.show(5)"
      ],
      "metadata": {
        "colab": {
          "base_uri": "https://localhost:8080/",
          "height": 235
        },
        "id": "4EUnoPwC0vl0",
        "outputId": "f3b7e932-59f4-4563-e849-a5fae13960e5"
      },
      "execution_count": 118,
      "outputs": [
        {
          "output_type": "display_data",
          "data": {
            "text/plain": [
              "<IPython.core.display.HTML object>"
            ],
            "text/html": [
              "<table border=\"1\" class=\"dataframe\">\n",
              "    <thead>\n",
              "        <tr>\n",
              "            <th>Timestamp</th> <th>Open</th> <th>High</th> <th>Low</th> <th>Close</th> <th>Volume</th>\n",
              "        </tr>\n",
              "    </thead>\n",
              "    <tbody>\n",
              "        <tr>\n",
              "            <td>1.32541e+09</td> <td>4.58</td> <td>4.58</td> <td>4.58</td> <td>4.58 </td> <td>0     </td>\n",
              "        </tr>\n",
              "        <tr>\n",
              "            <td>1.32541e+09</td> <td>4.58</td> <td>4.58</td> <td>4.58</td> <td>4.58 </td> <td>0     </td>\n",
              "        </tr>\n",
              "        <tr>\n",
              "            <td>1.32541e+09</td> <td>4.58</td> <td>4.58</td> <td>4.58</td> <td>4.58 </td> <td>0     </td>\n",
              "        </tr>\n",
              "        <tr>\n",
              "            <td>1.32541e+09</td> <td>4.58</td> <td>4.58</td> <td>4.58</td> <td>4.58 </td> <td>0     </td>\n",
              "        </tr>\n",
              "        <tr>\n",
              "            <td>1.32541e+09</td> <td>4.58</td> <td>4.58</td> <td>4.58</td> <td>4.58 </td> <td>0     </td>\n",
              "        </tr>\n",
              "    </tbody>\n",
              "</table>\n",
              "<p>... (6738276 rows omitted)</p>"
            ]
          },
          "metadata": {}
        }
      ]
    },
    {
      "cell_type": "code",
      "source": [
        "data= data.where(\"Timestamp\",are.above_or_equal_to(1636520280))\n",
        "data.show(5)"
      ],
      "metadata": {
        "colab": {
          "base_uri": "https://localhost:8080/",
          "height": 235
        },
        "id": "uhBhEWdEJLGs",
        "outputId": "b4317ed7-ff30-4e7e-8b69-4f9c595588a0"
      },
      "execution_count": 119,
      "outputs": [
        {
          "output_type": "display_data",
          "data": {
            "text/plain": [
              "<IPython.core.display.HTML object>"
            ],
            "text/html": [
              "<table border=\"1\" class=\"dataframe\">\n",
              "    <thead>\n",
              "        <tr>\n",
              "            <th>Timestamp</th> <th>Open</th> <th>High</th> <th>Low</th> <th>Close</th> <th>Volume</th>\n",
              "        </tr>\n",
              "    </thead>\n",
              "    <tbody>\n",
              "        <tr>\n",
              "            <td>1.63652e+09</td> <td>66991.5</td> <td>66991.5</td> <td>66935.9</td> <td>66935.9</td> <td>2.06704  </td>\n",
              "        </tr>\n",
              "        <tr>\n",
              "            <td>1.63652e+09</td> <td>66937.1</td> <td>66945.7</td> <td>66927.5</td> <td>66945.7</td> <td>0.130802 </td>\n",
              "        </tr>\n",
              "        <tr>\n",
              "            <td>1.63652e+09</td> <td>66928.4</td> <td>66988.9</td> <td>66928.4</td> <td>66972.1</td> <td>0.031246 </td>\n",
              "        </tr>\n",
              "        <tr>\n",
              "            <td>1.63652e+09</td> <td>66995.5</td> <td>67014.5</td> <td>66995.5</td> <td>67014.5</td> <td>0.0697985</td>\n",
              "        </tr>\n",
              "        <tr>\n",
              "            <td>1.63652e+09</td> <td>67018.2</td> <td>67123.4</td> <td>67007.5</td> <td>67123.4</td> <td>1.64906  </td>\n",
              "        </tr>\n",
              "    </tbody>\n",
              "</table>\n",
              "<p>... (1553738 rows omitted)</p>"
            ]
          },
          "metadata": {}
        }
      ]
    },
    {
      "cell_type": "code",
      "source": [
        "def format_price(price):\n",
        "  split_=price.split(',')\n",
        "  return float(split_[0]+split_[1])\n",
        "\n",
        "def format_vol(vol):\n",
        "  split_=float(vol[:-1])*1000\n",
        "  return split_\n",
        "\n",
        "def format_change(change):\n",
        "  return float(change[:-1])\n",
        "\n",
        "def format_time(time):\n",
        "  time=int(time)\n",
        "  return str(datetime.utcfromtimestamp(time).strftime('%Y-%m-%d %H:%M:%S'))\n",
        "\n",
        "def sum_volume(vol):\n",
        "  return [sum(vol[i:i+60]) for i in range(2, len(vol), 60)]"
      ],
      "metadata": {
        "id": "rbubMzwx1eEW"
      },
      "execution_count": 120,
      "outputs": []
    },
    {
      "cell_type": "code",
      "source": [
        "volsum= sum_volume(list(data.column(\"Volume\")))"
      ],
      "metadata": {
        "id": "ulkO5oAvrLoi"
      },
      "execution_count": 121,
      "outputs": []
    },
    {
      "cell_type": "code",
      "source": [
        "#volsum len\n",
        "print(len(volsum))"
      ],
      "metadata": {
        "id": "BnzkDgdOtEe2",
        "outputId": "1416cdf3-1b92-4c6e-cc3a-455f1c092268",
        "colab": {
          "base_uri": "https://localhost:8080/"
        }
      },
      "execution_count": 122,
      "outputs": [
        {
          "output_type": "stream",
          "name": "stdout",
          "text": [
            "25896\n"
          ]
        }
      ]
    },
    {
      "cell_type": "code",
      "source": [
        "#test format_price\n",
        "print(format_price('95,284.5'))\n",
        "\n",
        "#test format_vol\n",
        "print(format_vol('61.62K'))\n",
        "\n",
        "#test format_time\n",
        "print(format_time(1734447660))\n",
        "\n",
        "#vol sum\n",
        "print(sum_volume([x for x in range(1,361)]))"
      ],
      "metadata": {
        "colab": {
          "base_uri": "https://localhost:8080/"
        },
        "id": "ObyVDOgPCXrN",
        "outputId": "1bfeed6a-c85a-400f-ef43-f914904f96f9"
      },
      "execution_count": 123,
      "outputs": [
        {
          "output_type": "stream",
          "name": "stdout",
          "text": [
            "95284.5\n",
            "61620.0\n",
            "2024-12-17 15:01:00\n",
            "[1950, 5550, 9150, 12750, 16350, 19227]\n"
          ]
        }
      ]
    },
    {
      "cell_type": "code",
      "source": [
        "formatted_time = data.apply(format_time,\"Timestamp\")\n",
        "data = data.with_column(\"Timestamp\",formatted_time)\n",
        "\n",
        "data.show(5)"
      ],
      "metadata": {
        "colab": {
          "base_uri": "https://localhost:8080/",
          "height": 235
        },
        "id": "PmaAOPXDCo9w",
        "outputId": "3b45a98b-e07e-48d8-eb7f-81d6b31cb0d3"
      },
      "execution_count": 124,
      "outputs": [
        {
          "output_type": "display_data",
          "data": {
            "text/plain": [
              "<IPython.core.display.HTML object>"
            ],
            "text/html": [
              "<table border=\"1\" class=\"dataframe\">\n",
              "    <thead>\n",
              "        <tr>\n",
              "            <th>Timestamp</th> <th>Open</th> <th>High</th> <th>Low</th> <th>Close</th> <th>Volume</th>\n",
              "        </tr>\n",
              "    </thead>\n",
              "    <tbody>\n",
              "        <tr>\n",
              "            <td>2021-11-10 04:58:00</td> <td>66991.5</td> <td>66991.5</td> <td>66935.9</td> <td>66935.9</td> <td>2.06704  </td>\n",
              "        </tr>\n",
              "        <tr>\n",
              "            <td>2021-11-10 04:59:00</td> <td>66937.1</td> <td>66945.7</td> <td>66927.5</td> <td>66945.7</td> <td>0.130802 </td>\n",
              "        </tr>\n",
              "        <tr>\n",
              "            <td>2021-11-10 05:00:00</td> <td>66928.4</td> <td>66988.9</td> <td>66928.4</td> <td>66972.1</td> <td>0.031246 </td>\n",
              "        </tr>\n",
              "        <tr>\n",
              "            <td>2021-11-10 05:01:00</td> <td>66995.5</td> <td>67014.5</td> <td>66995.5</td> <td>67014.5</td> <td>0.0697985</td>\n",
              "        </tr>\n",
              "        <tr>\n",
              "            <td>2021-11-10 05:02:00</td> <td>67018.2</td> <td>67123.4</td> <td>67007.5</td> <td>67123.4</td> <td>1.64906  </td>\n",
              "        </tr>\n",
              "    </tbody>\n",
              "</table>\n",
              "<p>... (1553738 rows omitted)</p>"
            ]
          },
          "metadata": {}
        }
      ]
    },
    {
      "cell_type": "code",
      "source": [],
      "metadata": {
        "id": "r8SKuZrEltIt"
      },
      "execution_count": null,
      "outputs": []
    },
    {
      "cell_type": "code",
      "source": [
        "data= data.take(np.arange(2,data.num_rows,60))\n",
        "data.show(5)"
      ],
      "metadata": {
        "id": "73UBlD-2k1pk",
        "outputId": "5ca87d91-a8e6-4bc5-9ca0-671a523ec1a8",
        "colab": {
          "base_uri": "https://localhost:8080/",
          "height": 235
        }
      },
      "execution_count": 126,
      "outputs": [
        {
          "output_type": "display_data",
          "data": {
            "text/plain": [
              "<IPython.core.display.HTML object>"
            ],
            "text/html": [
              "<table border=\"1\" class=\"dataframe\">\n",
              "    <thead>\n",
              "        <tr>\n",
              "            <th>Timestamp</th> <th>Open</th> <th>High</th> <th>Low</th> <th>Close</th> <th>Volume</th>\n",
              "        </tr>\n",
              "    </thead>\n",
              "    <tbody>\n",
              "        <tr>\n",
              "            <td>2021-11-10 05:00:00</td> <td>66928.4</td> <td>66988.9</td> <td>66928.4</td> <td>66972.1</td> <td>0.031246</td>\n",
              "        </tr>\n",
              "        <tr>\n",
              "            <td>2021-11-10 06:00:00</td> <td>66951.4</td> <td>66951.4</td> <td>66951.4</td> <td>66951.4</td> <td>0.002   </td>\n",
              "        </tr>\n",
              "        <tr>\n",
              "            <td>2021-11-10 07:00:00</td> <td>67047.1</td> <td>67061.3</td> <td>67038.8</td> <td>67038.8</td> <td>0.541149</td>\n",
              "        </tr>\n",
              "        <tr>\n",
              "            <td>2021-11-10 08:00:00</td> <td>66811.9</td> <td>66836.1</td> <td>66734.4</td> <td>66734.4</td> <td>0.337868</td>\n",
              "        </tr>\n",
              "        <tr>\n",
              "            <td>2021-11-10 09:00:00</td> <td>66530.3</td> <td>66541.3</td> <td>66526.9</td> <td>66526.9</td> <td>0.28869 </td>\n",
              "        </tr>\n",
              "    </tbody>\n",
              "</table>\n",
              "<p>... (25891 rows omitted)</p>"
            ]
          },
          "metadata": {}
        }
      ]
    },
    {
      "cell_type": "code",
      "source": [
        "data = data.with_column(\"vol traded\", np.array(volsum))"
      ],
      "metadata": {
        "id": "SNGW0OIOtMoA"
      },
      "execution_count": 127,
      "outputs": []
    },
    {
      "cell_type": "code",
      "source": [
        "data.show(5)"
      ],
      "metadata": {
        "id": "U8Mux1Fot1ax",
        "outputId": "36887bb9-28f1-48e1-d7c9-a7410f5a538d",
        "colab": {
          "base_uri": "https://localhost:8080/",
          "height": 235
        }
      },
      "execution_count": 129,
      "outputs": [
        {
          "output_type": "display_data",
          "data": {
            "text/plain": [
              "<IPython.core.display.HTML object>"
            ],
            "text/html": [
              "<table border=\"1\" class=\"dataframe\">\n",
              "    <thead>\n",
              "        <tr>\n",
              "            <th>Timestamp</th> <th>Open</th> <th>High</th> <th>Low</th> <th>Close</th> <th>Volume</th> <th>vol traded</th>\n",
              "        </tr>\n",
              "    </thead>\n",
              "    <tbody>\n",
              "        <tr>\n",
              "            <td>2021-11-10 05:00:00</td> <td>66928.4</td> <td>66988.9</td> <td>66928.4</td> <td>66972.1</td> <td>0.031246</td> <td>43.442    </td>\n",
              "        </tr>\n",
              "        <tr>\n",
              "            <td>2021-11-10 06:00:00</td> <td>66951.4</td> <td>66951.4</td> <td>66951.4</td> <td>66951.4</td> <td>0.002   </td> <td>19.4884   </td>\n",
              "        </tr>\n",
              "        <tr>\n",
              "            <td>2021-11-10 07:00:00</td> <td>67047.1</td> <td>67061.3</td> <td>67038.8</td> <td>67038.8</td> <td>0.541149</td> <td>22.8345   </td>\n",
              "        </tr>\n",
              "        <tr>\n",
              "            <td>2021-11-10 08:00:00</td> <td>66811.9</td> <td>66836.1</td> <td>66734.4</td> <td>66734.4</td> <td>0.337868</td> <td>72.4226   </td>\n",
              "        </tr>\n",
              "        <tr>\n",
              "            <td>2021-11-10 09:00:00</td> <td>66530.3</td> <td>66541.3</td> <td>66526.9</td> <td>66526.9</td> <td>0.28869 </td> <td>40.5544   </td>\n",
              "        </tr>\n",
              "    </tbody>\n",
              "</table>\n",
              "<p>... (25891 rows omitted)</p>"
            ]
          },
          "metadata": {}
        }
      ]
    },
    {
      "cell_type": "code",
      "source": [
        "price_change_hourly= ((data.column(\"Close\") - data.column(\"Open\")) / data.column(\"Open\")) *100\n",
        "data = data.with_column(\"price_change_hourly\",price_change_hourly)"
      ],
      "metadata": {
        "id": "zZ0YcKgwuddZ"
      },
      "execution_count": 152,
      "outputs": []
    },
    {
      "cell_type": "code",
      "source": [
        "data.sort(\"Timestamp\",descending=True).show(5)"
      ],
      "metadata": {
        "id": "CxvShUnzw6GE",
        "outputId": "de0f4a46-5324-4d14-9624-767b6e274e4d",
        "colab": {
          "base_uri": "https://localhost:8080/",
          "height": 235
        }
      },
      "execution_count": 157,
      "outputs": [
        {
          "output_type": "display_data",
          "data": {
            "text/plain": [
              "<IPython.core.display.HTML object>"
            ],
            "text/html": [
              "<table border=\"1\" class=\"dataframe\">\n",
              "    <thead>\n",
              "        <tr>\n",
              "            <th>Timestamp</th> <th>Open</th> <th>High</th> <th>Low</th> <th>Close</th> <th>Volume</th> <th>vol traded</th> <th>price_change_hourly</th>\n",
              "        </tr>\n",
              "    </thead>\n",
              "    <tbody>\n",
              "        <tr>\n",
              "            <td>2025-01-02 23:20:00</td> <td>96816</td> <td>96819</td> <td>96793</td> <td>96793</td> <td>0.198558  </td> <td>2.97368   </td> <td>-0.0237564         </td>\n",
              "        </tr>\n",
              "        <tr>\n",
              "            <td>2025-01-02 22:20:00</td> <td>96800</td> <td>96800</td> <td>96775</td> <td>96776</td> <td>0.00391808</td> <td>11.3632   </td> <td>-0.0247934         </td>\n",
              "        </tr>\n",
              "        <tr>\n",
              "            <td>2025-01-02 21:20:00</td> <td>97114</td> <td>97114</td> <td>97091</td> <td>97091</td> <td>0.0252511 </td> <td>14.8473   </td> <td>-0.0236835         </td>\n",
              "        </tr>\n",
              "        <tr>\n",
              "            <td>2025-01-02 20:20:00</td> <td>97703</td> <td>97719</td> <td>97676</td> <td>97719</td> <td>0.305568  </td> <td>18.0116   </td> <td>0.0163762          </td>\n",
              "        </tr>\n",
              "        <tr>\n",
              "            <td>2025-01-02 19:20:00</td> <td>97474</td> <td>97499</td> <td>97474</td> <td>97491</td> <td>0.156311  </td> <td>16.3315   </td> <td>0.0174405          </td>\n",
              "        </tr>\n",
              "    </tbody>\n",
              "</table>\n",
              "<p>... (25891 rows omitted)</p>"
            ]
          },
          "metadata": {}
        }
      ]
    },
    {
      "cell_type": "code",
      "source": [
        "volume_change_hourly = data.to_df()['vol traded'].pct_change()*100\n",
        "data = data.with_column(\"volume_change_hourly\",volume_change_hourly)\n"
      ],
      "metadata": {
        "id": "-UNSj6Juxd6Y",
        "outputId": "89ca2a3c-c724-4a28-ea81-c3994a2115ef",
        "colab": {
          "base_uri": "https://localhost:8080/",
          "height": 143
        }
      },
      "execution_count": 180,
      "outputs": [
        {
          "output_type": "display_data",
          "data": {
            "text/plain": [
              "<Figure size 400x100 with 1 Axes>"
            ],
            "image/png": "[encoded data removed]"
          },
          "metadata": {}
        }
      ]
    },
    {
      "cell_type": "code",
      "source": [
        "data.show(5)"
      ],
      "metadata": {
        "id": "vUIs4Fj63JK7",
        "outputId": "156d9c7b-052a-4c89-dd28-7ba5e40fc1ab",
        "colab": {
          "base_uri": "https://localhost:8080/",
          "height": 235
        }
      },
      "execution_count": 181,
      "outputs": [
        {
          "output_type": "display_data",
          "data": {
            "text/plain": [
              "<IPython.core.display.HTML object>"
            ],
            "text/html": [
              "<table border=\"1\" class=\"dataframe\">\n",
              "    <thead>\n",
              "        <tr>\n",
              "            <th>Timestamp</th> <th>Open</th> <th>High</th> <th>Low</th> <th>Close</th> <th>Volume</th> <th>vol traded</th> <th>price_change_hourly</th> <th>volume_change_hourly</th>\n",
              "        </tr>\n",
              "    </thead>\n",
              "    <tbody>\n",
              "        <tr>\n",
              "            <td>2021-11-10 05:00:00</td> <td>66928.4</td> <td>66988.9</td> <td>66928.4</td> <td>66972.1</td> <td>0.031246</td> <td>43.442    </td> <td>0.065204           </td> <td>nan                 </td>\n",
              "        </tr>\n",
              "        <tr>\n",
              "            <td>2021-11-10 06:00:00</td> <td>66951.4</td> <td>66951.4</td> <td>66951.4</td> <td>66951.4</td> <td>0.002   </td> <td>19.4884   </td> <td>0                  </td> <td>-55.1392            </td>\n",
              "        </tr>\n",
              "        <tr>\n",
              "            <td>2021-11-10 07:00:00</td> <td>67047.1</td> <td>67061.3</td> <td>67038.8</td> <td>67038.8</td> <td>0.541149</td> <td>22.8345   </td> <td>-0.0123943         </td> <td>17.1694             </td>\n",
              "        </tr>\n",
              "        <tr>\n",
              "            <td>2021-11-10 08:00:00</td> <td>66811.9</td> <td>66836.1</td> <td>66734.4</td> <td>66734.4</td> <td>0.337868</td> <td>72.4226   </td> <td>-0.115937          </td> <td>217.163             </td>\n",
              "        </tr>\n",
              "        <tr>\n",
              "            <td>2021-11-10 09:00:00</td> <td>66530.3</td> <td>66541.3</td> <td>66526.9</td> <td>66526.9</td> <td>0.28869 </td> <td>40.5544   </td> <td>-0.00511045        </td> <td>-44.0032            </td>\n",
              "        </tr>\n",
              "    </tbody>\n",
              "</table>\n",
              "<p>... (25891 rows omitted)</p>"
            ]
          },
          "metadata": {}
        }
      ]
    },
    {
      "cell_type": "code",
      "source": [
        "data= data.exclude(0)\n",
        "data.show(5)"
      ],
      "metadata": {
        "id": "7yTsCwU94iEw",
        "outputId": "c0a7ffec-b341-4f20-a471-644cd1747e73",
        "colab": {
          "base_uri": "https://localhost:8080/",
          "height": 235
        }
      },
      "execution_count": 185,
      "outputs": [
        {
          "output_type": "display_data",
          "data": {
            "text/plain": [
              "<IPython.core.display.HTML object>"
            ],
            "text/html": [
              "<table border=\"1\" class=\"dataframe\">\n",
              "    <thead>\n",
              "        <tr>\n",
              "            <th>Timestamp</th> <th>Open</th> <th>High</th> <th>Low</th> <th>Close</th> <th>Volume</th> <th>vol traded</th> <th>price_change_hourly</th> <th>volume_change_hourly</th>\n",
              "        </tr>\n",
              "    </thead>\n",
              "    <tbody>\n",
              "        <tr>\n",
              "            <td>2021-11-10 06:00:00</td> <td>66951.4</td> <td>66951.4</td> <td>66951.4</td> <td>66951.4</td> <td>0.002   </td> <td>19.4884   </td> <td>0                  </td> <td>-55.1392            </td>\n",
              "        </tr>\n",
              "        <tr>\n",
              "            <td>2021-11-10 07:00:00</td> <td>67047.1</td> <td>67061.3</td> <td>67038.8</td> <td>67038.8</td> <td>0.541149</td> <td>22.8345   </td> <td>-0.0123943         </td> <td>17.1694             </td>\n",
              "        </tr>\n",
              "        <tr>\n",
              "            <td>2021-11-10 08:00:00</td> <td>66811.9</td> <td>66836.1</td> <td>66734.4</td> <td>66734.4</td> <td>0.337868</td> <td>72.4226   </td> <td>-0.115937          </td> <td>217.163             </td>\n",
              "        </tr>\n",
              "        <tr>\n",
              "            <td>2021-11-10 09:00:00</td> <td>66530.3</td> <td>66541.3</td> <td>66526.9</td> <td>66526.9</td> <td>0.28869 </td> <td>40.5544   </td> <td>-0.00511045        </td> <td>-44.0032            </td>\n",
              "        </tr>\n",
              "        <tr>\n",
              "            <td>2021-11-10 10:00:00</td> <td>66649.7</td> <td>66650  </td> <td>66643.5</td> <td>66644.5</td> <td>2.05988 </td> <td>27.0178   </td> <td>-0.00790701        </td> <td>-33.3789            </td>\n",
              "        </tr>\n",
              "    </tbody>\n",
              "</table>\n",
              "<p>... (25890 rows omitted)</p>"
            ]
          },
          "metadata": {}
        }
      ]
    },
    {
      "cell_type": "code",
      "source": [
        "'''%matplotlib inline\n",
        "\n",
        "data.plot(\"Date\",\"Price\")\n",
        "\n",
        "data.plot(\"Date\",\"Change %\")\n",
        "\n",
        "data.scatter('Date',\"Price\")'''\n"
      ],
      "metadata": {
        "colab": {
          "base_uri": "https://localhost:8080/",
          "height": 36
        },
        "id": "BvI-WbX4MFph",
        "outputId": "f6c31f96-cb4e-44a4-f1e3-9b767116ad53"
      },
      "execution_count": 130,
      "outputs": [
        {
          "output_type": "execute_result",
          "data": {
            "text/plain": [
              "'%matplotlib inline\\n\\ndata.plot(\"Date\",\"Price\")\\n\\ndata.plot(\"Date\",\"Change %\")\\n\\ndata.scatter(\\'Date\\',\"Price\")'"
            ],
            "application/vnd.google.colaboratory.intrinsic+json": {
              "type": "string"
            }
          },
          "metadata": {},
          "execution_count": 130
        }
      ]
    },
    {
      "cell_type": "markdown",
      "source": [
        "# new source #"
      ],
      "metadata": {
        "id": "7pwxpksMcS1s"
      }
    },
    {
      "cell_type": "code",
      "source": [
        "news= Table.read_table(path+'cryptonews.csv').drop('url','source','title')\n",
        "news = news.where(\"subject\",are.equal_to(\"bitcoin\"))\n",
        "news.show(10)\n"
      ],
      "metadata": {
        "colab": {
          "base_uri": "https://localhost:8080/",
          "height": 0
        },
        "id": "33L0l0CzS5kq",
        "outputId": "99a905d8-436a-4878-8625-71560e6b97af"
      },
      "execution_count": 131,
      "outputs": [
        {
          "output_type": "display_data",
          "data": {
            "text/plain": [
              "<IPython.core.display.HTML object>"
            ],
            "text/html": [
              "<table border=\"1\" class=\"dataframe\">\n",
              "    <thead>\n",
              "        <tr>\n",
              "            <th>date</th> <th>sentiment</th> <th>subject</th> <th>text</th>\n",
              "        </tr>\n",
              "    </thead>\n",
              "    <tbody>\n",
              "        <tr>\n",
              "            <td>2023-12-19 05:25:00</td> <td>{'class': 'negative', 'polarity': -0.01, 'subjectivity': ...</td> <td>bitcoin</td> <td>Yonsei found that during BTC’s rally in early December,  ...</td>\n",
              "        </tr>\n",
              "        <tr>\n",
              "            <td>2023-12-19 04:50:11</td> <td>{'class': 'positive', 'polarity': 0.3, 'subjectivity': 0.1} </td> <td>bitcoin</td> <td>Cathie Wood led ARK Invest fund sold around 809, 441 Gra ...</td>\n",
              "        </tr>\n",
              "        <tr>\n",
              "            <td>2023-12-19 04:10:00</td> <td>{'class': 'neutral', 'polarity': 0.0, 'subjectivity': 0.0}  </td> <td>bitcoin</td> <td>Bitcoin's 150% surge pales in comparison to the staggeri ...</td>\n",
              "        </tr>\n",
              "        <tr>\n",
              "            <td>2023-12-19 02:59:59</td> <td>{'class': 'negative', 'polarity': -0.08, 'subjectivity': ...</td> <td>bitcoin</td> <td>The SEC has pushed back its decision on a roster of Ethe ...</td>\n",
              "        </tr>\n",
              "        <tr>\n",
              "            <td>2023-12-18 18:33:34</td> <td>{'class': 'negative', 'polarity': -0.27, 'subjectivity': ...</td> <td>bitcoin</td> <td>Bitcoin may remain under pressure for a few days, but a  ...</td>\n",
              "        </tr>\n",
              "        <tr>\n",
              "            <td>2023-12-18 18:15:45</td> <td>{'class': 'neutral', 'polarity': 0.0, 'subjectivity': 0.0}  </td> <td>bitcoin</td> <td>The ad spot came as the U.S. Securities and Exchange Com ...</td>\n",
              "        </tr>\n",
              "        <tr>\n",
              "            <td>2023-12-18 18:11:43</td> <td>{'class': 'positive', 'polarity': 0.3, 'subjectivity': 0.45}</td> <td>bitcoin</td> <td>Bitcoin (BTC), the world's most valuable cryptocurrency, ...</td>\n",
              "        </tr>\n",
              "        <tr>\n",
              "            <td>2023-12-18 17:55:00</td> <td>{'class': 'positive', 'polarity': 0.2, 'subjectivity': 0.7} </td> <td>bitcoin</td> <td>Since the famous meme post to BitcoinTalk, Bitcoin (BTC) ...</td>\n",
              "        </tr>\n",
              "        <tr>\n",
              "            <td>2023-12-18 17:01:00</td> <td>{'class': 'positive', 'polarity': 0.05, 'subjectivity':  ...</td> <td>bitcoin</td> <td>CoinShares said the \"mixed regional flows\" are more indi ...</td>\n",
              "        </tr>\n",
              "        <tr>\n",
              "            <td>2023-12-18 15:42:27</td> <td>{'class': 'negative', 'polarity': -0.1, 'subjectivity': 0.2}</td> <td>bitcoin</td> <td>Digital asset mining firm Hut 8 signed an interim agreem ...</td>\n",
              "        </tr>\n",
              "    </tbody>\n",
              "</table>\n",
              "<p>... (9958 rows omitted)</p>"
            ]
          },
          "metadata": {}
        }
      ]
    },
    {
      "cell_type": "code",
      "source": [
        "#test cell for sentiment\n",
        "print(news.take(0).column(\"text\")[0])\n",
        "\n",
        "news.sort(\"date\",descending=False).show(3)"
      ],
      "metadata": {
        "colab": {
          "base_uri": "https://localhost:8080/",
          "height": 0
        },
        "id": "NHZ-1V1GgawS",
        "outputId": "3b70aca9-06da-43b9-92c1-4bb178f93d8d"
      },
      "execution_count": 132,
      "outputs": [
        {
          "output_type": "stream",
          "name": "stdout",
          "text": [
            "Yonsei found that during BTC’s rally in early December, the Binary CDD was also active, signaling recent activity by short-term holders.\n"
          ]
        },
        {
          "output_type": "display_data",
          "data": {
            "text/plain": [
              "<IPython.core.display.HTML object>"
            ],
            "text/html": [
              "<table border=\"1\" class=\"dataframe\">\n",
              "    <thead>\n",
              "        <tr>\n",
              "            <th>date</th> <th>sentiment</th> <th>subject</th> <th>text</th>\n",
              "        </tr>\n",
              "    </thead>\n",
              "    <tbody>\n",
              "        <tr>\n",
              "            <td>2021-11-10 04:58:00</td> <td>{'class': 'neutral', 'polarity': 0.0, 'subjectivity': 0.0}  </td> <td>bitcoin</td> <td>Bitcoin price is correcting gains below USD 67,000. Ethe ...</td>\n",
              "        </tr>\n",
              "        <tr>\n",
              "            <td>2021-11-10 11:09:00</td> <td>{'class': 'negative', 'polarity': -0.02, 'subjectivity': ...</td> <td>bitcoin</td> <td>The much-awaited wallet is scheduled to be launched late ...</td>\n",
              "        </tr>\n",
              "        <tr>\n",
              "            <td>2021-11-10 13:10:00</td> <td>{'class': 'neutral', 'polarity': 0.0, 'subjectivity': 0.0}  </td> <td>bitcoin</td> <td>Bitcoin price is struggling to gain momentum for a move  ...</td>\n",
              "        </tr>\n",
              "    </tbody>\n",
              "</table>\n",
              "<p>... (9965 rows omitted)</p>"
            ]
          },
          "metadata": {}
        }
      ]
    },
    {
      "cell_type": "code",
      "source": [
        "print(type(news.column(\"date\").take(0)))"
      ],
      "metadata": {
        "colab": {
          "base_uri": "https://localhost:8080/"
        },
        "id": "Q7vHGh2r1GM8",
        "outputId": "98c748fc-b783-4dc6-ffe4-27ee5a7d6070"
      },
      "execution_count": 133,
      "outputs": [
        {
          "output_type": "stream",
          "name": "stdout",
          "text": [
            "<class 'numpy.str_'>\n"
          ]
        }
      ]
    },
    {
      "cell_type": "code",
      "source": [
        "def date_fix(date):\n",
        "  return date[:-2]+'00'"
      ],
      "metadata": {
        "id": "l0BN1h7Vzzv0"
      },
      "execution_count": 134,
      "outputs": []
    },
    {
      "cell_type": "code",
      "source": [
        "#test date_fix\n",
        "print(date_fix('2021-11-10 13:10:11'))"
      ],
      "metadata": {
        "colab": {
          "base_uri": "https://localhost:8080/"
        },
        "id": "Gl72WIQf3l_0",
        "outputId": "89f633eb-9d46-4e75-b316-e00bf5568cb6"
      },
      "execution_count": 135,
      "outputs": [
        {
          "output_type": "stream",
          "name": "stdout",
          "text": [
            "2021-11-10 13:10:00\n"
          ]
        }
      ]
    },
    {
      "cell_type": "code",
      "source": [
        "class_ = []\n",
        "polarity_ = []\n",
        "subjectivity_ = []\n",
        "\n",
        "for row in news.column(\"sentiment\"):\n",
        "  row=eval(row)\n",
        "  if row['class']=='neutral':\n",
        "    class_.append(0)\n",
        "  elif row['class']=='negative':\n",
        "    class_.append(-1)\n",
        "  elif row['class']=='positive':\n",
        "    class_.append(1)\n",
        "\n",
        "\n",
        "  polarity_.append(row['polarity'])\n",
        "  subjectivity_.append(row['subjectivity'])\n",
        "\n",
        "class_,polarity_,subjectivity_=map(np.array,(class_,polarity_,subjectivity_))\n",
        "print(class_,polarity_,subjectivity_)\n",
        "\n",
        "fixed_date = news.apply(date_fix,'date')\n",
        "\n",
        "\n",
        "news = news.with_columns(\"class\",class_,\"polarity\",polarity_,\"subjectivity\",subjectivity_,\"date\",fixed_date).drop('sentiment')\n",
        "\n",
        "news.sort(\"date\",descending=True).show(5)\n",
        "\n"
      ],
      "metadata": {
        "colab": {
          "base_uri": "https://localhost:8080/",
          "height": 0
        },
        "id": "2SCv3RFDitV1",
        "outputId": "3e1f692a-bb7a-4826-e4a2-0d586b69649f"
      },
      "execution_count": 136,
      "outputs": [
        {
          "output_type": "stream",
          "name": "stdout",
          "text": [
            "[-1  1  0 ...,  0 -1  0] [-0.01  0.3   0.   ...,  0.   -0.02  0.  ] [ 0.38  0.1   0.   ...,  0.    0.47  0.  ]\n"
          ]
        },
        {
          "output_type": "display_data",
          "data": {
            "text/plain": [
              "<IPython.core.display.HTML object>"
            ],
            "text/html": [
              "<table border=\"1\" class=\"dataframe\">\n",
              "    <thead>\n",
              "        <tr>\n",
              "            <th>date</th> <th>subject</th> <th>text</th> <th>class</th> <th>polarity</th> <th>subjectivity</th>\n",
              "        </tr>\n",
              "    </thead>\n",
              "    <tbody>\n",
              "        <tr>\n",
              "            <td>2023-12-19 05:25:00</td> <td>bitcoin</td> <td>Yonsei found that during BTC’s rally in early December,  ...</td> <td>-1   </td> <td>-0.01   </td> <td>0.38        </td>\n",
              "        </tr>\n",
              "        <tr>\n",
              "            <td>2023-12-19 04:50:00</td> <td>bitcoin</td> <td>Cathie Wood led ARK Invest fund sold around 809, 441 Gra ...</td> <td>1    </td> <td>0.3     </td> <td>0.1         </td>\n",
              "        </tr>\n",
              "        <tr>\n",
              "            <td>2023-12-19 04:10:00</td> <td>bitcoin</td> <td>Bitcoin's 150% surge pales in comparison to the staggeri ...</td> <td>0    </td> <td>0       </td> <td>0           </td>\n",
              "        </tr>\n",
              "        <tr>\n",
              "            <td>2023-12-19 02:59:00</td> <td>bitcoin</td> <td>The SEC has pushed back its decision on a roster of Ethe ...</td> <td>-1   </td> <td>-0.08   </td> <td>0.64        </td>\n",
              "        </tr>\n",
              "        <tr>\n",
              "            <td>2023-12-18 18:33:00</td> <td>bitcoin</td> <td>Bitcoin may remain under pressure for a few days, but a  ...</td> <td>-1   </td> <td>-0.27   </td> <td>0.33        </td>\n",
              "        </tr>\n",
              "    </tbody>\n",
              "</table>\n",
              "<p>... (9963 rows omitted)</p>"
            ]
          },
          "metadata": {}
        }
      ]
    },
    {
      "cell_type": "code",
      "source": [
        "news=news.drop(\"subject\")"
      ],
      "metadata": {
        "id": "S-Y_3mlBbTD9"
      },
      "execution_count": 137,
      "outputs": []
    },
    {
      "cell_type": "markdown",
      "source": [
        "# Dataset created (news) #\n"
      ],
      "metadata": {
        "id": "YamDLziWaHZP"
      }
    },
    {
      "cell_type": "code",
      "source": [
        "created_sentiment= Table().read_table(path+'news_sent_analysis.csv')\n",
        "created_sentiment.show(1)"
      ],
      "metadata": {
        "colab": {
          "base_uri": "https://localhost:8080/",
          "height": 110
        },
        "id": "62tHAYwYaOH7",
        "outputId": "f945692e-0417-4809-8f0d-c918bd5c141d"
      },
      "execution_count": 138,
      "outputs": [
        {
          "output_type": "display_data",
          "data": {
            "text/plain": [
              "<IPython.core.display.HTML object>"
            ],
            "text/html": [
              "<table border=\"1\" class=\"dataframe\">\n",
              "    <thead>\n",
              "        <tr>\n",
              "            <th>title</th> <th>newsDatetime</th> <th>sentiment</th> <th>polarity</th> <th>subjectivity</th>\n",
              "        </tr>\n",
              "    </thead>\n",
              "    <tbody>\n",
              "        <tr>\n",
              "            <td>Bitcoin Gold Defies Gravity, But Price Rally Looks Weak</td> <td>2017-11-12 15:00:00</td> <td>1        </td> <td>-0.38   </td> <td>0.62        </td>\n",
              "        </tr>\n",
              "    </tbody>\n",
              "</table>\n",
              "<p>... (11024 rows omitted)</p>"
            ]
          },
          "metadata": {}
        }
      ]
    },
    {
      "cell_type": "code",
      "source": [
        "created_sentiment= created_sentiment.relabel(\"title\",\"text\")\n",
        "created_sentiment= created_sentiment.relabel(\"newsDatetime\",\"date\")\n",
        "created_sentiment= created_sentiment.relabel(\"sentiment\",\"class\")\n",
        "created_sentiment= created_sentiment.move_to_start(\"date\")\n",
        "created_sentiment.show(1)"
      ],
      "metadata": {
        "colab": {
          "base_uri": "https://localhost:8080/",
          "height": 110
        },
        "id": "i3XlyrmSavgb",
        "outputId": "03abf55b-364d-4952-b8fd-b0e8e6fcdaf7"
      },
      "execution_count": 139,
      "outputs": [
        {
          "output_type": "display_data",
          "data": {
            "text/plain": [
              "<IPython.core.display.HTML object>"
            ],
            "text/html": [
              "<table border=\"1\" class=\"dataframe\">\n",
              "    <thead>\n",
              "        <tr>\n",
              "            <th>date</th> <th>text</th> <th>class</th> <th>polarity</th> <th>subjectivity</th>\n",
              "        </tr>\n",
              "    </thead>\n",
              "    <tbody>\n",
              "        <tr>\n",
              "            <td>2017-11-12 15:00:00</td> <td>Bitcoin Gold Defies Gravity, But Price Rally Looks Weak</td> <td>1    </td> <td>-0.38   </td> <td>0.62        </td>\n",
              "        </tr>\n",
              "    </tbody>\n",
              "</table>\n",
              "<p>... (11024 rows omitted)</p>"
            ]
          },
          "metadata": {}
        }
      ]
    },
    {
      "cell_type": "markdown",
      "source": [
        "# append news #"
      ],
      "metadata": {
        "id": "N7vFru3xcbyE"
      }
    },
    {
      "cell_type": "code",
      "source": [
        "news= news.append(created_sentiment)\n",
        "news.show(5)"
      ],
      "metadata": {
        "colab": {
          "base_uri": "https://localhost:8080/",
          "height": 0
        },
        "id": "5MOGnbhhceld",
        "outputId": "7a1e076e-be6d-49ad-ccaf-36f54b2f8372"
      },
      "execution_count": 140,
      "outputs": [
        {
          "output_type": "display_data",
          "data": {
            "text/plain": [
              "<IPython.core.display.HTML object>"
            ],
            "text/html": [
              "<table border=\"1\" class=\"dataframe\">\n",
              "    <thead>\n",
              "        <tr>\n",
              "            <th>date</th> <th>text</th> <th>class</th> <th>polarity</th> <th>subjectivity</th>\n",
              "        </tr>\n",
              "    </thead>\n",
              "    <tbody>\n",
              "        <tr>\n",
              "            <td>2023-12-19 05:25:00</td> <td>Yonsei found that during BTC’s rally in early December,  ...</td> <td>-1   </td> <td>-0.01   </td> <td>0.38        </td>\n",
              "        </tr>\n",
              "        <tr>\n",
              "            <td>2023-12-19 04:50:00</td> <td>Cathie Wood led ARK Invest fund sold around 809, 441 Gra ...</td> <td>1    </td> <td>0.3     </td> <td>0.1         </td>\n",
              "        </tr>\n",
              "        <tr>\n",
              "            <td>2023-12-19 04:10:00</td> <td>Bitcoin's 150% surge pales in comparison to the staggeri ...</td> <td>0    </td> <td>0       </td> <td>0           </td>\n",
              "        </tr>\n",
              "        <tr>\n",
              "            <td>2023-12-19 02:59:00</td> <td>The SEC has pushed back its decision on a roster of Ethe ...</td> <td>-1   </td> <td>-0.08   </td> <td>0.64        </td>\n",
              "        </tr>\n",
              "        <tr>\n",
              "            <td>2023-12-18 18:33:00</td> <td>Bitcoin may remain under pressure for a few days, but a  ...</td> <td>-1   </td> <td>-0.27   </td> <td>0.33        </td>\n",
              "        </tr>\n",
              "    </tbody>\n",
              "</table>\n",
              "<p>... (20988 rows omitted)</p>"
            ]
          },
          "metadata": {}
        }
      ]
    },
    {
      "cell_type": "code",
      "source": [
        "#group test\n",
        "\n",
        "news.group(\"text\").sort(\"count\",descending=True)"
      ],
      "metadata": {
        "colab": {
          "base_uri": "https://localhost:8080/",
          "height": 0
        },
        "id": "4O_OKjDwcwP6",
        "outputId": "989e13cd-e400-468c-d429-b69ed720274d"
      },
      "execution_count": 141,
      "outputs": [
        {
          "output_type": "execute_result",
          "data": {
            "text/plain": [
              "text                                                         | count\n",
              "Get your daily, bite-sized digest of cryptoasset and blo ... | 165\n",
              "Your daily, bite-sized digest of cryptoasset and blockch ... | 3\n",
              "A tale of two types of Bitcoin investor emerges, as BTC  ... | 2\n",
              "According to a crypto-focused entrepreneur, bitcoin coul ... | 2\n",
              "BTC price dips to six-week lows, but worse could be to c ... | 2\n",
              "BTC price support is yet to reappear, with Bitcoin bulls ... | 2\n",
              "Bitcoin (BTC) and Ethereum (ETH) are now slightly less v ... | 2\n",
              "Bitcoin exchanges see the largest one-day exchange BTC i ... | 2\n",
              "Bitcoin is giving plenty of longtime market participants ... | 2\n",
              "Founded during the major market slump of 2018, 21Shares  ... | 2\n",
              "... (20804 rows omitted)"
            ],
            "text/html": [
              "<table border=\"1\" class=\"dataframe\">\n",
              "    <thead>\n",
              "        <tr>\n",
              "            <th>text</th> <th>count</th>\n",
              "        </tr>\n",
              "    </thead>\n",
              "    <tbody>\n",
              "        <tr>\n",
              "            <td>Get your daily, bite-sized digest of cryptoasset and blo ...</td> <td>165  </td>\n",
              "        </tr>\n",
              "        <tr>\n",
              "            <td>Your daily, bite-sized digest of cryptoasset and blockch ...</td> <td>3    </td>\n",
              "        </tr>\n",
              "        <tr>\n",
              "            <td>A tale of two types of Bitcoin investor emerges, as BTC  ...</td> <td>2    </td>\n",
              "        </tr>\n",
              "        <tr>\n",
              "            <td>According to a crypto-focused entrepreneur, bitcoin coul ...</td> <td>2    </td>\n",
              "        </tr>\n",
              "        <tr>\n",
              "            <td>BTC price dips to six-week lows, but worse could be to c ...</td> <td>2    </td>\n",
              "        </tr>\n",
              "        <tr>\n",
              "            <td>BTC price support is yet to reappear, with Bitcoin bulls ...</td> <td>2    </td>\n",
              "        </tr>\n",
              "        <tr>\n",
              "            <td>Bitcoin (BTC) and Ethereum (ETH) are now slightly less v ...</td> <td>2    </td>\n",
              "        </tr>\n",
              "        <tr>\n",
              "            <td>Bitcoin exchanges see the largest one-day exchange BTC i ...</td> <td>2    </td>\n",
              "        </tr>\n",
              "        <tr>\n",
              "            <td>Bitcoin is giving plenty of longtime market participants ...</td> <td>2    </td>\n",
              "        </tr>\n",
              "        <tr>\n",
              "            <td>Founded during the major market slump of 2018, 21Shares  ...</td> <td>2    </td>\n",
              "        </tr>\n",
              "    </tbody>\n",
              "</table>\n",
              "<p>... (20804 rows omitted)</p>"
            ]
          },
          "metadata": {},
          "execution_count": 141
        }
      ]
    },
    {
      "cell_type": "code",
      "source": [
        "news=news.where(\"text\",are.not_containing(\"Get your daily, bite-sized digest of cryptoasset and blo\"))\n",
        "news.group(\"text\").sort(\"count\",descending=True)"
      ],
      "metadata": {
        "colab": {
          "base_uri": "https://localhost:8080/",
          "height": 0
        },
        "id": "QLAarKrRdXLH",
        "outputId": "8390105c-9379-47a7-d92f-d148063eefc1"
      },
      "execution_count": 142,
      "outputs": [
        {
          "output_type": "execute_result",
          "data": {
            "text/plain": [
              "text                                                         | count\n",
              "Your daily, bite-sized digest of cryptoasset and blockch ... | 3\n",
              "A tale of two types of Bitcoin investor emerges, as BTC  ... | 2\n",
              "According to a crypto-focused entrepreneur, bitcoin coul ... | 2\n",
              "BTC price dips to six-week lows, but worse could be to c ... | 2\n",
              "BTC price support is yet to reappear, with Bitcoin bulls ... | 2\n",
              "Bitcoin (BTC) and Ethereum (ETH) are now slightly less v ... | 2\n",
              "Bitcoin exchanges see the largest one-day exchange BTC i ... | 2\n",
              "Bitcoin is giving plenty of longtime market participants ... | 2\n",
              "Founded during the major market slump of 2018, 21Shares  ... | 2\n",
              "Since Jerome Powell's last appearance, the economic outl ... | 2\n",
              "... (20798 rows omitted)"
            ],
            "text/html": [
              "<table border=\"1\" class=\"dataframe\">\n",
              "    <thead>\n",
              "        <tr>\n",
              "            <th>text</th> <th>count</th>\n",
              "        </tr>\n",
              "    </thead>\n",
              "    <tbody>\n",
              "        <tr>\n",
              "            <td>Your daily, bite-sized digest of cryptoasset and blockch ...</td> <td>3    </td>\n",
              "        </tr>\n",
              "        <tr>\n",
              "            <td>A tale of two types of Bitcoin investor emerges, as BTC  ...</td> <td>2    </td>\n",
              "        </tr>\n",
              "        <tr>\n",
              "            <td>According to a crypto-focused entrepreneur, bitcoin coul ...</td> <td>2    </td>\n",
              "        </tr>\n",
              "        <tr>\n",
              "            <td>BTC price dips to six-week lows, but worse could be to c ...</td> <td>2    </td>\n",
              "        </tr>\n",
              "        <tr>\n",
              "            <td>BTC price support is yet to reappear, with Bitcoin bulls ...</td> <td>2    </td>\n",
              "        </tr>\n",
              "        <tr>\n",
              "            <td>Bitcoin (BTC) and Ethereum (ETH) are now slightly less v ...</td> <td>2    </td>\n",
              "        </tr>\n",
              "        <tr>\n",
              "            <td>Bitcoin exchanges see the largest one-day exchange BTC i ...</td> <td>2    </td>\n",
              "        </tr>\n",
              "        <tr>\n",
              "            <td>Bitcoin is giving plenty of longtime market participants ...</td> <td>2    </td>\n",
              "        </tr>\n",
              "        <tr>\n",
              "            <td>Founded during the major market slump of 2018, 21Shares  ...</td> <td>2    </td>\n",
              "        </tr>\n",
              "        <tr>\n",
              "            <td>Since Jerome Powell's last appearance, the economic outl ...</td> <td>2    </td>\n",
              "        </tr>\n",
              "    </tbody>\n",
              "</table>\n",
              "<p>... (20798 rows omitted)</p>"
            ]
          },
          "metadata": {},
          "execution_count": 142
        }
      ]
    },
    {
      "cell_type": "code",
      "source": [
        "temp_news = news.to_df()\n",
        "temp_news = temp_news.drop_duplicates(subset=['text'])\n",
        "news= Table().from_df(temp_news)\n",
        "\n",
        "news.group(\"text\").sort(\"count\",descending=True)"
      ],
      "metadata": {
        "colab": {
          "base_uri": "https://localhost:8080/",
          "height": 0
        },
        "id": "-4BpjobJd9D3",
        "outputId": "ede3a821-42be-4589-b879-95548b0d16ea"
      },
      "execution_count": 143,
      "outputs": [
        {
          "output_type": "execute_result",
          "data": {
            "text/plain": [
              "text                                                         | count\n",
              "\n",
              "\n",
              "An automated, on-chain arbitrage strategy for Wrapped  ... | 1\n",
              " #BTC4ALL drops next month!\n",
              "\n",
              " Read up on #MXC's game-cha ... | 1\n",
              " #BTCB - #τBitcoin Vault: Stake $BTCB, Earn τBitcoin.\n",
              "\n",
              "⏳ ... | 1\n",
              " #Bitcoin Cash @Utoday_en $BCH\n",
              "   Potential to be legal  ... | 1\n",
              " #Bitcoin Liquidations Lead $400M in Futures Losses Afte ... | 1\n",
              " #Bitcoin Transactions Surpass Visa according to new ana ... | 1\n",
              " #Bitcoin swaps are available in Klever Wallet \n",
              "\n",
              " Swap # ... | 1\n",
              " #CounosBit (#Cbits) is a new #hard_fork of the #Bitcoin ... | 1\n",
              " #CryptoTwitter\n",
              "\n",
              "What’s your #Bitcoin story?                 | 1\n",
              " #Flux is at its heart about decentralization, it’s buil ... | 1\n",
              "... (20798 rows omitted)"
            ],
            "text/html": [
              "<table border=\"1\" class=\"dataframe\">\n",
              "    <thead>\n",
              "        <tr>\n",
              "            <th>text</th> <th>count</th>\n",
              "        </tr>\n",
              "    </thead>\n",
              "    <tbody>\n",
              "        <tr>\n",
              "            <td>\n",
              "\n",
              "An automated, on-chain arbitrage strategy for Wrapped  ...</td> <td>1    </td>\n",
              "        </tr>\n",
              "        <tr>\n",
              "            <td> #BTC4ALL drops next month!\n",
              "\n",
              " Read up on #MXC's game-cha ...</td> <td>1    </td>\n",
              "        </tr>\n",
              "        <tr>\n",
              "            <td> #BTCB - #τBitcoin Vault: Stake $BTCB, Earn τBitcoin.\n",
              "\n",
              "⏳ ...</td> <td>1    </td>\n",
              "        </tr>\n",
              "        <tr>\n",
              "            <td> #Bitcoin Cash @Utoday_en $BCH\n",
              "   Potential to be legal  ...</td> <td>1    </td>\n",
              "        </tr>\n",
              "        <tr>\n",
              "            <td> #Bitcoin Liquidations Lead $400M in Futures Losses Afte ...</td> <td>1    </td>\n",
              "        </tr>\n",
              "        <tr>\n",
              "            <td> #Bitcoin Transactions Surpass Visa according to new ana ...</td> <td>1    </td>\n",
              "        </tr>\n",
              "        <tr>\n",
              "            <td> #Bitcoin swaps are available in Klever Wallet \n",
              "\n",
              " Swap # ...</td> <td>1    </td>\n",
              "        </tr>\n",
              "        <tr>\n",
              "            <td> #CounosBit (#Cbits) is a new #hard_fork of the #Bitcoin ...</td> <td>1    </td>\n",
              "        </tr>\n",
              "        <tr>\n",
              "            <td> #CryptoTwitter\n",
              "\n",
              "What’s your #Bitcoin story?                </td> <td>1    </td>\n",
              "        </tr>\n",
              "        <tr>\n",
              "            <td> #Flux is at its heart about decentralization, it’s buil ...</td> <td>1    </td>\n",
              "        </tr>\n",
              "    </tbody>\n",
              "</table>\n",
              "<p>... (20798 rows omitted)</p>"
            ]
          },
          "metadata": {},
          "execution_count": 143
        }
      ]
    },
    {
      "cell_type": "code",
      "source": [
        "news.show(3)"
      ],
      "metadata": {
        "colab": {
          "base_uri": "https://localhost:8080/",
          "height": 0
        },
        "id": "16fjxKI1evRR",
        "outputId": "ea6073b6-b76b-48ca-e7c4-7030c266edf4"
      },
      "execution_count": 144,
      "outputs": [
        {
          "output_type": "display_data",
          "data": {
            "text/plain": [
              "<IPython.core.display.HTML object>"
            ],
            "text/html": [
              "<table border=\"1\" class=\"dataframe\">\n",
              "    <thead>\n",
              "        <tr>\n",
              "            <th>date</th> <th>text</th> <th>class</th> <th>polarity</th> <th>subjectivity</th>\n",
              "        </tr>\n",
              "    </thead>\n",
              "    <tbody>\n",
              "        <tr>\n",
              "            <td>2023-12-19 05:25:00</td> <td>Yonsei found that during BTC’s rally in early December,  ...</td> <td>-1   </td> <td>-0.01   </td> <td>0.38        </td>\n",
              "        </tr>\n",
              "        <tr>\n",
              "            <td>2023-12-19 04:50:00</td> <td>Cathie Wood led ARK Invest fund sold around 809, 441 Gra ...</td> <td>1    </td> <td>0.3     </td> <td>0.1         </td>\n",
              "        </tr>\n",
              "        <tr>\n",
              "            <td>2023-12-19 04:10:00</td> <td>Bitcoin's 150% surge pales in comparison to the staggeri ...</td> <td>0    </td> <td>0       </td> <td>0           </td>\n",
              "        </tr>\n",
              "    </tbody>\n",
              "</table>\n",
              "<p>... (20805 rows omitted)</p>"
            ]
          },
          "metadata": {}
        }
      ]
    },
    {
      "cell_type": "markdown",
      "source": [
        "# merge #"
      ],
      "metadata": {
        "id": "BekWiNYBbGj2"
      }
    },
    {
      "cell_type": "code",
      "source": [
        "merged_table = news.join(\"date\",data,\"Timestamp\")\n",
        "merged_table.show(5)"
      ],
      "metadata": {
        "colab": {
          "base_uri": "https://localhost:8080/",
          "height": 235
        },
        "id": "rrwvGkCI4OQ2",
        "outputId": "0702de24-9355-4596-a961-0771428b1303"
      },
      "execution_count": 145,
      "outputs": [
        {
          "output_type": "display_data",
          "data": {
            "text/plain": [
              "<IPython.core.display.HTML object>"
            ],
            "text/html": [
              "<table border=\"1\" class=\"dataframe\">\n",
              "    <thead>\n",
              "        <tr>\n",
              "            <th>date</th> <th>text</th> <th>class</th> <th>polarity</th> <th>subjectivity</th> <th>Open</th> <th>High</th> <th>Low</th> <th>Close</th> <th>Volume</th> <th>vol traded</th>\n",
              "        </tr>\n",
              "    </thead>\n",
              "    <tbody>\n",
              "        <tr>\n",
              "            <td>2021-11-11 20:00:00</td> <td>An Unrealized Capital Gains Tax Would Wallop Big Stock A ...</td> <td>-1   </td> <td>0       </td> <td>0.1         </td> <td>65165.6</td> <td>65194.9</td> <td>65123  </td> <td>65194.9</td> <td>0.226378</td> <td>43.7905   </td>\n",
              "        </tr>\n",
              "        <tr>\n",
              "            <td>2021-11-11 21:00:00</td> <td>The watchdog says it believes there is a USD 9,347 discr ...</td> <td>0    </td> <td>0       </td> <td>0           </td> <td>64840  </td> <td>64870.1</td> <td>64821.8</td> <td>64870.1</td> <td>0.569077</td> <td>82.3354   </td>\n",
              "        </tr>\n",
              "        <tr>\n",
              "            <td>2021-11-12 18:00:00</td> <td>The think tank says its latest survey shows that certain ...</td> <td>1    </td> <td>0.24    </td> <td>0.82        </td> <td>63837.8</td> <td>63837.8</td> <td>63764.8</td> <td>63775.6</td> <td>0.986303</td> <td>197.648   </td>\n",
              "        </tr>\n",
              "        <tr>\n",
              "            <td>2021-11-15 22:00:00</td> <td>The official, the investigators stated, \\x9caccepted gif ...</td> <td>0    </td> <td>0       </td> <td>0           </td> <td>64186.3</td> <td>64273.5</td> <td>64131.1</td> <td>64251.5</td> <td>0.764056</td> <td>32.5564   </td>\n",
              "        </tr>\n",
              "        <tr>\n",
              "            <td>2021-11-16 17:00:00</td> <td>Russian lawmakers and regulators are pressing for crypto ...</td> <td>0    </td> <td>0       </td> <td>0           </td> <td>60590.8</td> <td>60590.8</td> <td>60545.9</td> <td>60565.4</td> <td>3.43147 </td> <td>169.433   </td>\n",
              "        </tr>\n",
              "    </tbody>\n",
              "</table>\n",
              "<p>... (1074 rows omitted)</p>"
            ]
          },
          "metadata": {}
        }
      ]
    },
    {
      "cell_type": "code",
      "source": [
        "merged_table = merged_table.drop('bitcoin','text','title','subject')\n"
      ],
      "metadata": {
        "id": "HFpi6ujv5ZHb"
      },
      "execution_count": 146,
      "outputs": []
    },
    {
      "cell_type": "code",
      "source": [
        "merged_table.show(5)"
      ],
      "metadata": {
        "colab": {
          "base_uri": "https://localhost:8080/",
          "height": 235
        },
        "id": "HpsDAsI4Z50q",
        "outputId": "244c1d1a-3036-43e5-c00a-f47a79d31176"
      },
      "execution_count": 147,
      "outputs": [
        {
          "output_type": "display_data",
          "data": {
            "text/plain": [
              "<IPython.core.display.HTML object>"
            ],
            "text/html": [
              "<table border=\"1\" class=\"dataframe\">\n",
              "    <thead>\n",
              "        <tr>\n",
              "            <th>date</th> <th>class</th> <th>polarity</th> <th>subjectivity</th> <th>Open</th> <th>High</th> <th>Low</th> <th>Close</th> <th>Volume</th> <th>vol traded</th>\n",
              "        </tr>\n",
              "    </thead>\n",
              "    <tbody>\n",
              "        <tr>\n",
              "            <td>2021-11-11 20:00:00</td> <td>-1   </td> <td>0       </td> <td>0.1         </td> <td>65165.6</td> <td>65194.9</td> <td>65123  </td> <td>65194.9</td> <td>0.226378</td> <td>43.7905   </td>\n",
              "        </tr>\n",
              "        <tr>\n",
              "            <td>2021-11-11 21:00:00</td> <td>0    </td> <td>0       </td> <td>0           </td> <td>64840  </td> <td>64870.1</td> <td>64821.8</td> <td>64870.1</td> <td>0.569077</td> <td>82.3354   </td>\n",
              "        </tr>\n",
              "        <tr>\n",
              "            <td>2021-11-12 18:00:00</td> <td>1    </td> <td>0.24    </td> <td>0.82        </td> <td>63837.8</td> <td>63837.8</td> <td>63764.8</td> <td>63775.6</td> <td>0.986303</td> <td>197.648   </td>\n",
              "        </tr>\n",
              "        <tr>\n",
              "            <td>2021-11-15 22:00:00</td> <td>0    </td> <td>0       </td> <td>0           </td> <td>64186.3</td> <td>64273.5</td> <td>64131.1</td> <td>64251.5</td> <td>0.764056</td> <td>32.5564   </td>\n",
              "        </tr>\n",
              "        <tr>\n",
              "            <td>2021-11-16 17:00:00</td> <td>0    </td> <td>0       </td> <td>0           </td> <td>60590.8</td> <td>60590.8</td> <td>60545.9</td> <td>60565.4</td> <td>3.43147 </td> <td>169.433   </td>\n",
              "        </tr>\n",
              "    </tbody>\n",
              "</table>\n",
              "<p>... (1074 rows omitted)</p>"
            ]
          },
          "metadata": {}
        }
      ]
    },
    {
      "cell_type": "markdown",
      "source": [
        "# Stats #"
      ],
      "metadata": {
        "id": "NowBc9mdajb_"
      }
    },
    {
      "cell_type": "code",
      "source": [
        "%matplotlib inline\n",
        "import seaborn as sns\n",
        "\n",
        "df= merged_table.to_df()\n",
        "sns.boxplot(x='class', y='Close', data=df)\n",
        "plt.title('Close Price Distribution by Sentiment Class')\n",
        "plt.show()"
      ],
      "metadata": {
        "colab": {
          "base_uri": "https://localhost:8080/",
          "height": 472
        },
        "id": "A3xSKQE38y5y",
        "outputId": "ce7953d6-99dd-4cc2-edd5-4b1a42b71740"
      },
      "execution_count": 148,
      "outputs": [
        {
          "output_type": "display_data",
          "data": {
            "text/plain": [
              "<Figure size 640x480 with 1 Axes>"
            ],
            "image/png": "[encoded data removed]"
          },
          "metadata": {}
        }
      ]
    },
    {
      "cell_type": "code",
      "source": [
        "downsample_rate = 50\n",
        "date=df['date'][::downsample_rate]\n",
        "polarity=df['polarity'][::downsample_rate]\n",
        "close=df['Close'][::downsample_rate]"
      ],
      "metadata": {
        "id": "uq0Wfb7DDH-n"
      },
      "execution_count": 149,
      "outputs": []
    },
    {
      "cell_type": "code",
      "source": [
        "plt.figure()\n",
        "plt.plot(date,close,'k',label = 'Bitcoin price (USD)')\n",
        "plt.plot(date,7000*polarity,'r',label = 'polarity')\n",
        "plt.plot(date,np.zeros(len(date)))\n",
        "plt.ylabel('USD')\n",
        "plt.xticks(date[::100],rotation='vertical')\n",
        "plt.legend()\n",
        "plt.show"
      ],
      "metadata": {
        "colab": {
          "base_uri": "https://localhost:8080/",
          "height": 732
        },
        "id": "YGUf3jbVFPN2",
        "outputId": "67793576-a91c-4bb5-a86b-4951dd3f7c74"
      },
      "execution_count": 150,
      "outputs": [
        {
          "output_type": "execute_result",
          "data": {
            "text/plain": [
              "<function matplotlib.pyplot.show(close=None, block=None)>"
            ],
            "text/html": [
              "<div style=\"max-width:800px; border: 1px solid var(--colab-border-color);\"><style>\n",
              "      pre.function-repr-contents {\n",
              "        overflow-x: auto;\n",
              "        padding: 8px 12px;\n",
              "        max-height: 500px;\n",
              "      }\n",
              "\n",
              "      pre.function-repr-contents.function-repr-contents-collapsed {\n",
              "        cursor: pointer;\n",
              "        max-height: 100px;\n",
              "      }\n",
              "    </style>\n",
              "    <pre style=\"white-space: initial; background:\n",
              "         var(--colab-secondary-surface-color); padding: 8px 12px;\n",
              "         border-bottom: 1px solid var(--colab-border-color);\"><b>matplotlib.pyplot.show</b><br/>def show(*args, **kwargs)</pre><pre class=\"function-repr-contents function-repr-contents-collapsed\" style=\"\"><a class=\"filepath\" style=\"display:none\" href=\"#\">/usr/local/lib/python3.10/dist-packages/matplotlib/pyplot.py</a>Display all open figures.\n",
              "\n",
              "Parameters\n",
              "----------\n",
              "block : bool, optional\n",
              "    Whether to wait for all figures to be closed before returning.\n",
              "\n",
              "    If `True` block and run the GUI main loop until all figure windows\n",
              "    are closed.\n",
              "\n",
              "    If `False` ensure that all figure windows are displayed and return\n",
              "    immediately.  In this case, you are responsible for ensuring\n",
              "    that the event loop is running to have responsive figures.\n",
              "\n",
              "    Defaults to True in non-interactive mode and to False in interactive\n",
              "    mode (see `.pyplot.isinteractive`).\n",
              "\n",
              "See Also\n",
              "--------\n",
              "ion : Enable interactive mode, which shows / updates the figure after\n",
              "      every plotting command, so that calling ``show()`` is not necessary.\n",
              "ioff : Disable interactive mode.\n",
              "savefig : Save the figure to an image file instead of showing it on screen.\n",
              "\n",
              "Notes\n",
              "-----\n",
              "**Saving figures to file and showing a window at the same time**\n",
              "\n",
              "If you want an image file as well as a user interface window, use\n",
              "`.pyplot.savefig` before `.pyplot.show`. At the end of (a blocking)\n",
              "``show()`` the figure is closed and thus unregistered from pyplot. Calling\n",
              "`.pyplot.savefig` afterwards would save a new and thus empty figure. This\n",
              "limitation of command order does not apply if the show is non-blocking or\n",
              "if you keep a reference to the figure and use `.Figure.savefig`.\n",
              "\n",
              "**Auto-show in jupyter notebooks**\n",
              "\n",
              "The jupyter backends (activated via ``%matplotlib inline``,\n",
              "``%matplotlib notebook``, or ``%matplotlib widget``), call ``show()`` at\n",
              "the end of every cell by default. Thus, you usually don&#x27;t have to call it\n",
              "explicitly there.</pre>\n",
              "      <script>\n",
              "      if (google.colab.kernel.accessAllowed && google.colab.files && google.colab.files.view) {\n",
              "        for (const element of document.querySelectorAll('.filepath')) {\n",
              "          element.style.display = 'block'\n",
              "          element.onclick = (event) => {\n",
              "            event.preventDefault();\n",
              "            event.stopPropagation();\n",
              "            google.colab.files.view(element.textContent, 482);\n",
              "          };\n",
              "        }\n",
              "      }\n",
              "      for (const element of document.querySelectorAll('.function-repr-contents')) {\n",
              "        element.onclick = (event) => {\n",
              "          event.preventDefault();\n",
              "          event.stopPropagation();\n",
              "          element.classList.toggle('function-repr-contents-collapsed');\n",
              "        };\n",
              "      }\n",
              "      </script>\n",
              "      </div>"
            ]
          },
          "metadata": {},
          "execution_count": 150
        },
        {
          "output_type": "display_data",
          "data": {
            "text/plain": [
              "<Figure size 640x480 with 1 Axes>"
            ],
            "image/png": "[encoded data removed]"
          },
          "metadata": {}
        }
      ]
    },
    {
      "cell_type": "code",
      "source": [],
      "metadata": {
        "id": "zqx5b_obDbHo"
      },
      "execution_count": 150,
      "outputs": []
    },
    {
      "cell_type": "code",
      "source": [
        "from scipy.stats import f_oneway\n",
        "\n",
        "negative = df[df['class'] == -1]['Close']\n",
        "neutral = df[df['class'] == 0]['Close']\n",
        "positive = df[df['class'] == 1]['Close']\n",
        "\n",
        "stat, p_value = f_oneway(negative, neutral, positive)\n",
        "\n",
        "print(f\"ANOVA Statistic: {stat}, p-value: {p_value}\")\n",
        "if p_value < 0.05:\n",
        "    print(\"Significant difference in Close Price across sentiment classes.\")\n",
        "else:\n",
        "    print(\"No significant difference in Close Price across sentiment classes.\")"
      ],
      "metadata": {
        "colab": {
          "base_uri": "https://localhost:8080/"
        },
        "id": "zNf_tjhQ-jAh",
        "outputId": "9148dd19-7e83-4562-8e2c-99288c519dd9"
      },
      "execution_count": 151,
      "outputs": [
        {
          "output_type": "stream",
          "name": "stdout",
          "text": [
            "ANOVA Statistic: 3.4356155264119446, p-value: 0.03255929949933639\n",
            "Significant difference in Close Price across sentiment classes.\n"
          ]
        }
      ]
    }
  ]
}